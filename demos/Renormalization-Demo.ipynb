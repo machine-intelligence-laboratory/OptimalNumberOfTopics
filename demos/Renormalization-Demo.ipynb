{
 "cells": [
  {
   "cell_type": "markdown",
   "metadata": {},
   "source": [
    "# Renormalization Demo\n",
    "\n",
    "Here is a demonstration of the renormalization-based method for finding an appropriate number of topics.\n",
    "Several datasets are used:\n",
    "\n",
    "* [20 Newsgroups](http://qwone.com/~jason/20Newsgroups/)\n",
    "* Some other (TODO)\n",
    "* Maybe another one (TODO)"
   ]
  },
  {
   "cell_type": "code",
   "execution_count": null,
   "metadata": {},
   "outputs": [],
   "source": [
    "# General imports\n",
    "\n",
    "import os\n",
    "\n",
    "from matplotlib import pyplot as plt\n",
    "\n",
    "%matplotlib inline"
   ]
  },
  {
   "cell_type": "code",
   "execution_count": null,
   "metadata": {},
   "outputs": [],
   "source": [
    "# Making `topnum` module visible for Python\n",
    "\n",
    "import sys\n",
    "\n",
    "sys.path.insert(0, '..')"
   ]
  },
  {
   "cell_type": "code",
   "execution_count": null,
   "metadata": {},
   "outputs": [],
   "source": [
    "# Optimal number of topics\n",
    "\n",
    "from topnum.data.vowpal_wabbit_text_collection import VowpalWabbitTextCollection\n",
    "from topnum.search_methods import RenormalizationMethod\n",
    "from topnum.search_methods.renormalization_method import (\n",
    "    ENTROPY_MERGE_METHOD,\n",
    "    PHI_RENORMALIZATION_MATRIX,\n",
    ")"
   ]
  },
  {
   "cell_type": "markdown",
   "metadata": {},
   "source": [
    "## Data\n",
    "\n",
    "In the folder below must reside necessary data files in Vowpal Wabbit format.\n",
    "The example presented in [Making-Decorrelation-and-Topic-Selection-Friends.ipynb](https://github.com/machine-intelligence-laboratory/TopicNet/blob/master/topicnet/demos/Making-Decorrelation-and-Topic-Selection-Friends.ipynb) (i.e. the first part about data exploration till writing vw.txt / dataset.csv files) was used as a preprocessing pipeline."
   ]
  },
  {
   "cell_type": "code",
   "execution_count": null,
   "metadata": {},
   "outputs": [],
   "source": [
    "DATA_FOLDER_PATH = 'data'"
   ]
  },
  {
   "cell_type": "code",
   "execution_count": null,
   "metadata": {},
   "outputs": [
    {
     "data": {
      "text/plain": [
       "['_dataset_9_075hcj',\n",
       " '_dataset_soax33u6',\n",
       " '_dataset__vihf9m4',\n",
       " '_dataset_1tmbxnbt',\n",
       " 'twenty_newsgroups__natural_order.csv',\n",
       " 'twenty_newsgroups__vw__natural_order.txt']"
      ]
     },
     "execution_count": null,
     "metadata": {},
     "output_type": "execute_result"
    }
   ],
   "source": [
    "os.listdir(DATA_FOLDER_PATH)"
   ]
  },
  {
   "cell_type": "code",
   "execution_count": null,
   "metadata": {},
   "outputs": [],
   "source": [
    "vw_file_path = os.path.join(\n",
    "    DATA_FOLDER_PATH,\n",
    "    'twenty_newsgroups__vw__natural_order.txt'\n",
    ")"
   ]
  },
  {
   "cell_type": "markdown",
   "metadata": {},
   "source": [
    "Checking if all OK with data, what modalities does the collection have."
   ]
  },
  {
   "cell_type": "code",
   "execution_count": null,
   "metadata": {},
   "outputs": [
    {
     "name": "stdout",
     "output_type": "stream",
     "text": [
      "102994 |@text enlighten bricklin bumper funky\r\n",
      "51861 |@text upgraded oscillator poll detailing attained sink summarizing poll\r\n",
      "51879 |@text ghost sooo sooner picking powerbook dirt powerbook appearence macleak powerbook swing yea solicit subjective breifly hellcat premium willis ecn purdue purdue\r\n",
      "60880 |@text std std baker suchlike introduce liftoff\r\n",
      "54525 |@text rigidly allegedly presenting evidently\r\n",
      "58080 |@text bouncing probs sean debra sharon accidentally delete\r\n",
      "60249 |@text controler burst burst burst burst esdi sumex aim txt salesperson burst synchronous\r\n"
     ]
    }
   ],
   "source": [
    "! head -n 7 $vw_file_path"
   ]
  },
  {
   "cell_type": "markdown",
   "metadata": {},
   "source": [
    "Defining a text collection entity, which is to be passed to topic number search method later:"
   ]
  },
  {
   "cell_type": "code",
   "execution_count": null,
   "metadata": {},
   "outputs": [],
   "source": [
    "text_collection = VowpalWabbitTextCollection(\n",
    "    vw_file_path,\n",
    "    main_modality='@text',\n",
    "    modalities=['@text']\n",
    ")"
   ]
  },
  {
   "cell_type": "markdown",
   "metadata": {},
   "source": [
    "The searching method itself.\n",
    "It has several parameters: some are specific for the renormalization approach, some are common for all the search methods presented in `topnum` module."
   ]
  },
  {
   "cell_type": "code",
   "execution_count": null,
   "metadata": {},
   "outputs": [],
   "source": [
    "optimizer = RenormalizationMethod(\n",
    "    merge_method = ENTROPY_MERGE_METHOD,\n",
    "    matrix_for_renormalization = PHI_RENORMALIZATION_MATRIX,\n",
    "    threshold_factor = 2.0,\n",
    "    max_num_topics = 100,       # number of topics in one model\n",
    "    num_fit_iterations = 100,   # 100 or 200 surely might be enough\n",
    "    num_restarts = 3            # number of models for averaging\n",
    ")"
   ]
  },
  {
   "cell_type": "markdown",
   "metadata": {},
   "source": [
    "Fulfilling the search:"
   ]
  },
  {
   "cell_type": "code",
   "execution_count": null,
   "metadata": {},
   "outputs": [
    {
     "name": "stdout",
     "output_type": "stream",
     "text": [
      "\r",
      "  0%|          | 0/3 [00:00<?, ?it/s]"
     ]
    },
    {
     "name": "stderr",
     "output_type": "stream",
     "text": [
      "/home/vasiliyalekseev/miniconda/lib/python3.7/site-packages/topicnet/cooking_machine/dataset.py:371: UserWarning: Attempted to use batches for different dataset.Overwriting batches in data/_dataset_copuy17i/dataset_batches\n",
      "  warnings.warn(W_DIFF_BATCHES_1 + W_DIFF_BATCHES_2.format(batch_vectorizer_path))\n"
     ]
    },
    {
     "name": "stdout",
     "output_type": "stream",
     "text": [
      "100%|██████████| 3/3 [11:34<00:00, 231.43s/it]\n",
      "CPU times: user 15min 17s, sys: 5.68 s, total: 15min 23s\n",
      "Wall time: 11min 34s\n"
     ]
    }
   ],
   "source": [
    "%%time\n",
    "\n",
    "optimizer.search_for_optimum(text_collection)"
   ]
  },
  {
   "cell_type": "markdown",
   "metadata": {},
   "source": [
    "The search method's result may be accessed as `optimizer._result`.\n",
    "Let's see what is available here:"
   ]
  },
  {
   "cell_type": "code",
   "execution_count": null,
   "metadata": {},
   "outputs": [
    {
     "data": {
      "text/plain": [
       "['optimum',\n",
       " 'optimum_std',\n",
       " 'num_topics_values',\n",
       " 'energy_values',\n",
       " 'snannon_entropy_values',\n",
       " 'renyi_entropy_values',\n",
       " 'num_topics_values_std',\n",
       " 'energy_values_std',\n",
       " 'snannon_entropy_values_std',\n",
       " 'renyi_entropy_values_std']"
      ]
     },
     "execution_count": null,
     "metadata": {},
     "output_type": "execute_result"
    }
   ],
   "source": [
    "list(optimizer._result.keys())"
   ]
  },
  {
   "cell_type": "markdown",
   "metadata": {},
   "source": [
    "Point estimate of the number of topics and standard deviation (std) over the restarts (`num_restarts`):"
   ]
  },
  {
   "cell_type": "code",
   "execution_count": null,
   "metadata": {},
   "outputs": [
    {
     "name": "stdout",
     "output_type": "stream",
     "text": [
      "Optimum: 11.0 topics. Std: 0.0\n"
     ]
    }
   ],
   "source": [
    "result_key_optimum = 'optimum'\n",
    "result_key_optimum_std = 'optimum_std'\n",
    "\n",
    "optimum = optimizer._result['optimum']\n",
    "optimum_std = optimizer._result['optimum_std']\n",
    "\n",
    "print(\n",
    "    f'Optimum: {optimizer._result[result_key_optimum]} topics.' +\n",
    "    f' Std: {optimizer._result[result_key_optimum_std]}'\n",
    ")"
   ]
  },
  {
   "cell_type": "markdown",
   "metadata": {},
   "source": [
    "There are also some metrics calculated for each model.\n",
    "Let's look at `renyi_entropy_values`: by assumption which were made in the papers referenced in the [repository](https://github.com/machine-intelligence-laboratory/OptimalNumberOfTopics/tree/master), the lower the entropy, the more stable the model.\n",
    "Thus, looking at entropy values for different number of topics, one may find the best such number, which makes the model the most stable."
   ]
  },
  {
   "cell_type": "code",
   "execution_count": null,
   "metadata": {},
   "outputs": [
    {
     "data": {
      "image/png": "[encoded data removed]",
      "text/plain": [
       "<Figure size 1080x864 with 1 Axes>"
      ]
     },
     "metadata": {
      "needs_background": "light"
     },
     "output_type": "display_data"
    }
   ],
   "source": [
    "result_key_number_of_topics = 'num_topics_values'\n",
    "result_key_mertic = 'renyi_entropy_values'\n",
    "result_key_metric_std = 'renyi_entropy_values_std'\n",
    "\n",
    "\n",
    "fig, ax = plt.subplots(1, 1, figsize=(15, 12))\n",
    "\n",
    "\n",
    "ax.errorbar(\n",
    "    x=optimizer._result[result_key_number_of_topics],\n",
    "    y=optimizer._result[result_key_mertic],\n",
    "    yerr=optimizer._result[result_key_metric_std],\n",
    "    linestyle='None',\n",
    "    marker='^',\n",
    "    markersize=10,\n",
    "    capsize=5\n",
    ")\n",
    "\n",
    "# Also making the optimal number visible on X axis\n",
    "\n",
    "xlim = ax.get_xlim()\n",
    "ax.set_xticks(list(ax.get_xticks()) + [optimizer._result[result_key_optimum]])\n",
    "ax.set_xlim(xlim)\n",
    "\n",
    "ax.grid(True)\n",
    "\n",
    "plt.show()"
   ]
  },
  {
   "cell_type": "markdown",
   "metadata": {},
   "source": [
    "So, the number of topics appeared to be $11$.\n",
    "Worth admitting that this is a bit far from the expected number $20$, although, in order of magnitude, the values coincide."
   ]
  }
 ],
 "metadata": {
  "kernelspec": {
   "display_name": "Python 3",
   "language": "python",
   "name": "python3"
  },
  "language_info": {
   "codemirror_mode": {
    "name": "ipython",
    "version": 3
   },
   "file_extension": ".py",
   "mimetype": "text/x-python",
   "name": "python",
   "nbconvert_exporter": "python",
   "pygments_lexer": "ipython3",
   "version": "3.7.6"
  }
 },
 "nbformat": 4,
 "nbformat_minor": 2
}
