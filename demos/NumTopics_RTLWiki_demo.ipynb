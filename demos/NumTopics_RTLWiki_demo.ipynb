{
 "cells": [
  {
   "cell_type": "markdown",
   "metadata": {},
   "source": [
    "# NumTopics: RTLWiki"
   ]
  },
  {
   "cell_type": "code",
   "execution_count": 21,
   "metadata": {},
   "outputs": [],
   "source": [
    "import gc\n",
    "import pickle\n",
    "import time\n",
    "\n",
    "from topicnet.cooking_machine.dataset import Dataset\n",
    "from topicnet.cooking_machine.models import TopicModel\n",
    "from topicnet.cooking_machine.model_constructor import init_simple_default_model"
   ]
  },
  {
   "cell_type": "code",
   "execution_count": 2,
   "metadata": {},
   "outputs": [],
   "source": [
    "import matplotlib.pyplot as plt\n",
    "%matplotlib inline"
   ]
  },
  {
   "cell_type": "code",
   "execution_count": 3,
   "metadata": {},
   "outputs": [],
   "source": [
    "import sys\n",
    "\n",
    "sys.path.insert(0, '..')\n",
    "\n",
    "from run_search import (\n",
    "    _optimize_scores,\n",
    ")\n",
    "\n",
    "from topnum.data.vowpal_wabbit_text_collection import VowpalWabbitTextCollection\n",
    "from topnum.scores import (\n",
    "    PerplexityScore,\n",
    "    EntropyScore,\n",
    "    DiversityScore\n",
    ")\n",
    "from topnum.search_methods.optimize_scores_method import OptimizeScoresMethod"
   ]
  },
  {
   "cell_type": "code",
   "execution_count": null,
   "metadata": {},
   "outputs": [],
   "source": [
    "\n",
    "\n"
   ]
  },
  {
   "cell_type": "code",
   "execution_count": null,
   "metadata": {},
   "outputs": [],
   "source": []
  },
  {
   "cell_type": "code",
   "execution_count": 4,
   "metadata": {},
   "outputs": [],
   "source": [
    "from topnum.model_constructor import init_bcg_sparse_model, init_decorrelated_PLSA, init_LDA, init_PLSA\n"
   ]
  },
  {
   "cell_type": "markdown",
   "metadata": {},
   "source": [
    "## Data"
   ]
  },
  {
   "cell_type": "code",
   "execution_count": 5,
   "metadata": {},
   "outputs": [
    {
     "data": {
      "text/plain": [
       "{'@letter', '@ngram', '@text'}"
      ]
     },
     "execution_count": 5,
     "metadata": {},
     "output_type": "execute_result"
    }
   ],
   "source": [
    "PATH = '/home/vbulatov/Projects/tmp_notebooks/MKB10.csv'\n",
    "BATCHES = './MKB_batches'\n",
    "\n",
    "dataset = Dataset(PATH, batch_vectorizer_path=BATCHES)\n",
    "dataset.get_possible_modalities()"
   ]
  },
  {
   "cell_type": "code",
   "execution_count": null,
   "metadata": {},
   "outputs": [],
   "source": []
  },
  {
   "cell_type": "code",
   "execution_count": 6,
   "metadata": {},
   "outputs": [],
   "source": [
    "modalities = {\n",
    "    \"@text\": 1.0,\n",
    "}"
   ]
  },
  {
   "cell_type": "code",
   "execution_count": 7,
   "metadata": {},
   "outputs": [],
   "source": [
    "vw_file_path = \"MKB_vw.txt\"\n",
    "\n",
    "dataset.write_vw(vw_file_path)"
   ]
  },
  {
   "cell_type": "code",
   "execution_count": 8,
   "metadata": {},
   "outputs": [],
   "source": [
    "# TODO: instead of modalities let's use predefined model families\n",
    "# TODO: output_file_path"
   ]
  },
  {
   "cell_type": "markdown",
   "metadata": {},
   "source": [
    "## Experiments"
   ]
  },
  {
   "cell_type": "code",
   "execution_count": 9,
   "metadata": {},
   "outputs": [],
   "source": [
    "main_modality_name = next(iter(modalities.keys()))"
   ]
  },
  {
   "cell_type": "code",
   "execution_count": 10,
   "metadata": {},
   "outputs": [],
   "source": [
    "\n",
    "main_modality_name, modalities = main_modality_name, modalities\n",
    "\n",
    "modality_names = list(modalities.keys())\n",
    "\n",
    "# vw_file_path = args.vw_file_path\n",
    "\n",
    "output_file_path = \"output.json\"\n",
    "\n",
    "min_num_topics = 5\n",
    "max_num_topics = 30\n",
    "\n",
    "num_topics_interval = 5\n",
    "\n",
    "\n",
    "#num_topics_interval = 1\n",
    "num_fit_iterations = 10\n",
    "num_restarts = 1"
   ]
  },
  {
   "cell_type": "code",
   "execution_count": 11,
   "metadata": {},
   "outputs": [],
   "source": [
    "\n",
    "scores = [\n",
    "    EntropyScore('res', threshold_factor=1, class_ids=modality_names),\n",
    "    EntropyScore('res2', threshold_factor=2, class_ids=modality_names),\n",
    "    EntropyScore('res3', threshold_factor=3, class_ids=modality_names),\n",
    "\n",
    "    DiversityScore('ds_l2'),\n",
    "    DiversityScore('ds_cosine', metric=\"cosine\"),\n",
    "    DiversityScore('ds_js', metric=\"jensenshannon\"),\n",
    "    DiversityScore('ds_h', metric=\"hellinger\"),\n",
    "]"
   ]
  },
  {
   "cell_type": "code",
   "execution_count": 12,
   "metadata": {},
   "outputs": [],
   "source": [
    "text_collection = VowpalWabbitTextCollection(\n",
    "    vw_file_path,\n",
    "    main_modality=main_modality_name,\n",
    "    modalities=modalities\n",
    ")\n",
    "\n",
    "optimizer = OptimizeScoresMethod(\n",
    "    model_family=\"PLSA\",\n",
    "    scores=scores,\n",
    "    min_num_topics=min_num_topics,\n",
    "    max_num_topics=max_num_topics,\n",
    "    num_topics_interval=num_topics_interval,\n",
    "    num_fit_iterations=num_fit_iterations,\n",
    "    num_restarts=num_restarts,\n",
    "    experiment_name=\"__TEST3__\"\n",
    ")"
   ]
  },
  {
   "cell_type": "code",
   "execution_count": null,
   "metadata": {},
   "outputs": [],
   "source": []
  },
  {
   "cell_type": "code",
   "execution_count": 32,
   "metadata": {},
   "outputs": [
    {
     "data": {
      "text/plain": [
       "1583173833.7538145"
      ]
     },
     "execution_count": 32,
     "metadata": {},
     "output_type": "execute_result"
    }
   ],
   "source": [
    "t_start"
   ]
  },
  {
   "cell_type": "code",
   "execution_count": 13,
   "metadata": {},
   "outputs": [
    {
     "name": "stderr",
     "output_type": "stream",
     "text": [
      "/home/vbulatov/Projects/topicnet/cooking_machine/dataset.py:364: UserWarning: Attempted to use batches for different dataset.Overwriting batches in _dataset_prdpf8zp/dataset_batches\n",
      "  warnings.warn(W_DIFF_BATCHES_1 + W_DIFF_BATCHES_2.format(batch_vectorizer_path))\n",
      "100%|██████████| 1/1 [31:58<00:00, 1918.50s/it]\n",
      "/home/vbulatov/miniconda3/envs/py36/lib/python3.6/site-packages/numpy/lib/nanfunctions.py:1018: RuntimeWarning: Mean of empty slice\n",
      "  return np.nanmean(a, axis, out=out, keepdims=keepdims)\n"
     ]
    }
   ],
   "source": [
    "t_start = time.time()\n",
    "\n",
    "optimizer.search_for_optimum(text_collection)"
   ]
  },
  {
   "cell_type": "markdown",
   "metadata": {},
   "source": [
    "! ls 'num_topics_experiments/__TEST2___-1/##20h14m04s_02d03m2020y###/model'"
   ]
  },
  {
   "cell_type": "markdown",
   "metadata": {},
   "source": [
    "tm = TopicModel.load('num_topics_experiments/__TEST2___-1/##20h14m04s_02d03m2020y###')\n",
    "tm2 = TopicModel.load('num_topics_experiments/__TEST2___-1/##19h55m00s_02d03m2020y###')\n"
   ]
  },
  {
   "cell_type": "markdown",
   "metadata": {},
   "source": [
    "import pickle\n",
    "\n",
    "with open('num_topics_experiments/__TEST2___-1/##20h14m04s_02d03m2020y###/ds_js.p', \"rb\") as f:\n",
    "    js = pickle.load(f)\n",
    "\n",
    "js.call(tm), js.call(tm2)"
   ]
  },
  {
   "cell_type": "markdown",
   "metadata": {},
   "source": [
    "tm.scores[\"ds_js\"]"
   ]
  },
  {
   "cell_type": "markdown",
   "metadata": {},
   "source": [
    "tm2.scores[\"ds_js\"]"
   ]
  },
  {
   "cell_type": "markdown",
   "metadata": {},
   "source": [
    "import sys\n",
    "del sys.modules['topnum.search_methods.optimize_scores_method']"
   ]
  },
  {
   "cell_type": "markdown",
   "metadata": {},
   "source": [
    "from topnum.search_methods.optimize_scores_method import _summarize_models, restore_failed_experiment"
   ]
  },
  {
   "cell_type": "markdown",
   "metadata": {},
   "source": [
    "result, detailed_result = restore_failed_experiment('num_topics_experiments', '__TEST2__')"
   ]
  },
  {
   "cell_type": "markdown",
   "metadata": {},
   "source": [
    "detailed_result['ds_h']"
   ]
  },
  {
   "cell_type": "code",
   "execution_count": 14,
   "metadata": {},
   "outputs": [
    {
     "data": {
      "text/plain": [
       "1925.3941342830658"
      ]
     },
     "execution_count": 14,
     "metadata": {},
     "output_type": "execute_result"
    }
   ],
   "source": [
    "t_end = time.time()\n",
    "\n",
    "t_end - t_start"
   ]
  },
  {
   "cell_type": "code",
   "execution_count": 15,
   "metadata": {},
   "outputs": [],
   "source": [
    "detailed_result = optimizer._detailed_result"
   ]
  },
  {
   "cell_type": "code",
   "execution_count": 16,
   "metadata": {},
   "outputs": [
    {
     "data": {
      "text/plain": [
       "{'PerplexityScore@all':                      5            6            7            8           9   \\\n",
       " restart_id                                                                   \n",
       " seed=-1     2772.889893  2666.563232  2563.676514  2523.168701  2441.22168   \n",
       " \n",
       "                      10           11           12           13           14  \\\n",
       " restart_id                                                                    \n",
       " seed=-1     2371.936523  2305.332275  2259.731201  2206.596924  2161.208496   \n",
       " \n",
       "                ...                21           22          23           24  \\\n",
       " restart_id     ...                                                           \n",
       " seed=-1        ...       1955.002075  1939.811401  1906.21228  1884.029175   \n",
       " \n",
       "                      25           26          27           28           29  \\\n",
       " restart_id                                                                   \n",
       " seed=-1     1867.286987  1845.679443  1826.96521  1811.072754  1796.473755   \n",
       " \n",
       "                      30  \n",
       " restart_id               \n",
       " seed=-1     1782.942993  \n",
       " \n",
       " [1 rows x 26 columns],\n",
       " 'SparsityThetaScore':              5    6    7    8    9    10   11   12   13   14 ...    21   22  \\\n",
       " restart_id                                                   ...              \n",
       " seed=-1     0.0  0.0  0.0  0.0  0.0  0.0  0.0  0.0  0.0  0.0 ...   0.0  0.0   \n",
       " \n",
       "              23   24   25   26   27   28   29   30  \n",
       " restart_id                                          \n",
       " seed=-1     0.0  0.0  0.0  0.0  0.0  0.0  0.0  0.0  \n",
       " \n",
       " [1 rows x 26 columns],\n",
       " 'SparsityPhiScore@text':                   5         6       7         8         9         10  \\\n",
       " restart_id                                                             \n",
       " seed=-1     0.200785  0.256374  0.2965  0.319872  0.359134  0.387473   \n",
       " \n",
       "                   11        12        13        14    ...           21  \\\n",
       " restart_id                                            ...                \n",
       " seed=-1     0.419175  0.439942  0.462924  0.482418    ...     0.576943   \n",
       " \n",
       "                   22        23       24        25        26        27  \\\n",
       " restart_id                                                              \n",
       " seed=-1     0.585834  0.595606  0.60571  0.612281  0.617884  0.627115   \n",
       " \n",
       "                  28        29        30  \n",
       " restart_id                               \n",
       " seed=-1     0.63143  0.636829  0.642883  \n",
       " \n",
       " [1 rows x 26 columns],\n",
       " 'PerplexityScore@text':                      5            6            7            8           9   \\\n",
       " restart_id                                                                   \n",
       " seed=-1     2772.889893  2666.563232  2563.676514  2523.168701  2441.22168   \n",
       " \n",
       "                      10           11           12           13           14  \\\n",
       " restart_id                                                                    \n",
       " seed=-1     2371.936523  2305.332275  2259.731201  2206.596924  2161.208496   \n",
       " \n",
       "                ...                21           22          23           24  \\\n",
       " restart_id     ...                                                           \n",
       " seed=-1        ...       1955.002075  1939.811401  1906.21228  1884.029175   \n",
       " \n",
       "                      25           26          27           28           29  \\\n",
       " restart_id                                                                   \n",
       " seed=-1     1867.286987  1845.679443  1826.96521  1811.072754  1796.473755   \n",
       " \n",
       "                      30  \n",
       " restart_id               \n",
       " seed=-1     1782.942993  \n",
       " \n",
       " [1 rows x 26 columns],\n",
       " 'TopicKernel@text.average_coherence':              5    6    7    8    9    10   11   12   13   14 ...    21   22  \\\n",
       " restart_id                                                   ...              \n",
       " seed=-1     0.0  0.0  0.0  0.0  0.0  0.0  0.0  0.0  0.0  0.0 ...   0.0  0.0   \n",
       " \n",
       "              23   24   25   26   27   28   29   30  \n",
       " restart_id                                          \n",
       " seed=-1     0.0  0.0  0.0  0.0  0.0  0.0  0.0  0.0  \n",
       " \n",
       " [1 rows x 26 columns],\n",
       " 'TopicKernel@text.average_contrast':                   5         6         7         8         9         10  \\\n",
       " restart_id                                                               \n",
       " seed=-1     0.776486  0.773079  0.769456  0.763239  0.763923  0.762825   \n",
       " \n",
       "                   11        12        13        14    ...           21  \\\n",
       " restart_id                                            ...                \n",
       " seed=-1     0.763619  0.759773  0.763081  0.760313    ...     0.755888   \n",
       " \n",
       "                  22        23       24        25        26        27  \\\n",
       " restart_id                                                             \n",
       " seed=-1     0.75687  0.756867  0.75698  0.755422  0.754625  0.754942   \n",
       " \n",
       "                   28        29        30  \n",
       " restart_id                                \n",
       " seed=-1     0.752803  0.752081  0.751152  \n",
       " \n",
       " [1 rows x 26 columns],\n",
       " 'TopicKernel@text.average_purity':                  5         6         7         8         9         10  \\\n",
       " restart_id                                                              \n",
       " seed=-1     0.50322  0.446653  0.393038  0.361499  0.338985  0.323299   \n",
       " \n",
       "                   11        12        13        14   ...          21  \\\n",
       " restart_id                                           ...               \n",
       " seed=-1     0.307672  0.295613  0.285937  0.279987   ...     0.23208   \n",
       " \n",
       "                   22      23        24        25        26        27  \\\n",
       " restart_id                                                             \n",
       " seed=-1     0.226715  0.2259  0.221574  0.220618  0.220107  0.214871   \n",
       " \n",
       "                   28        29       30  \n",
       " restart_id                               \n",
       " seed=-1     0.211672  0.210065  0.20613  \n",
       " \n",
       " [1 rows x 26 columns],\n",
       " 'TopicKernel@text.average_size':                       5            6            7         8            9   \\\n",
       " restart_id                                                                  \n",
       " seed=-1     10849.799805  8963.333008  7602.428711  6632.125  5842.333496   \n",
       " \n",
       "                      10          11           12           13           14  \\\n",
       " restart_id                                                                   \n",
       " seed=-1     5226.899902  4717.90918  4313.916504  3951.307617  3667.142822   \n",
       " \n",
       "                ...                21           22           23      24  \\\n",
       " restart_id     ...                                                       \n",
       " seed=-1        ...       2394.857178  2277.772705  2175.739014  2080.5   \n",
       " \n",
       "                      25           26           27           28           29  \\\n",
       " restart_id                                                                    \n",
       " seed=-1     1997.400024  1920.269287  1840.814819  1776.357178  1712.620728   \n",
       " \n",
       "                      30  \n",
       " restart_id               \n",
       " seed=-1     1653.333374  \n",
       " \n",
       " [1 rows x 26 columns],\n",
       " 'TopicKernel@text.coherence':             5   6   7   8   9   10  11  12  13  14 ...  21  22  23  24  25  \\\n",
       " restart_id                                         ...                       \n",
       " seed=-1    NaN NaN NaN NaN NaN NaN NaN NaN NaN NaN ... NaN NaN NaN NaN NaN   \n",
       " \n",
       "             26  27  28  29  30  \n",
       " restart_id                      \n",
       " seed=-1    NaN NaN NaN NaN NaN  \n",
       " \n",
       " [1 rows x 26 columns],\n",
       " 'TopicKernel@text.contrast':             5   6   7   8   9   10  11  12  13  14 ...  21  22  23  24  25  \\\n",
       " restart_id                                         ...                       \n",
       " seed=-1    NaN NaN NaN NaN NaN NaN NaN NaN NaN NaN ... NaN NaN NaN NaN NaN   \n",
       " \n",
       "             26  27  28  29  30  \n",
       " restart_id                      \n",
       " seed=-1    NaN NaN NaN NaN NaN  \n",
       " \n",
       " [1 rows x 26 columns],\n",
       " 'TopicKernel@text.purity':             5   6   7   8   9   10  11  12  13  14 ...  21  22  23  24  25  \\\n",
       " restart_id                                         ...                       \n",
       " seed=-1    NaN NaN NaN NaN NaN NaN NaN NaN NaN NaN ... NaN NaN NaN NaN NaN   \n",
       " \n",
       "             26  27  28  29  30  \n",
       " restart_id                      \n",
       " seed=-1    NaN NaN NaN NaN NaN  \n",
       " \n",
       " [1 rows x 26 columns],\n",
       " 'TopicKernel@text.size':             5   6   7   8   9   10  11  12  13  14 ...  21  22  23  24  25  \\\n",
       " restart_id                                         ...                       \n",
       " seed=-1    NaN NaN NaN NaN NaN NaN NaN NaN NaN NaN ... NaN NaN NaN NaN NaN   \n",
       " \n",
       "             26  27  28  29  30  \n",
       " restart_id                      \n",
       " seed=-1    NaN NaN NaN NaN NaN  \n",
       " \n",
       " [1 rows x 26 columns],\n",
       " 'TopicKernel@text.tokens':             5   6   7   8   9   10  11  12  13  14 ...  21  22  23  24  25  \\\n",
       " restart_id                                         ...                       \n",
       " seed=-1    NaN NaN NaN NaN NaN NaN NaN NaN NaN NaN ... NaN NaN NaN NaN NaN   \n",
       " \n",
       "             26  27  28  29  30  \n",
       " restart_id                      \n",
       " seed=-1    NaN NaN NaN NaN NaN  \n",
       " \n",
       " [1 rows x 26 columns],\n",
       " 'res':                   5         6         7         8         9         10  \\\n",
       " restart_id                                                               \n",
       " seed=-1     2.333889  2.333889  2.333889  2.333889  2.333889  2.333889   \n",
       " \n",
       "                   11        12        13        14    ...           21  \\\n",
       " restart_id                                            ...                \n",
       " seed=-1     2.333889  2.333889  2.333889  2.333889    ...     2.333889   \n",
       " \n",
       "                   22        23        24        25        26        27  \\\n",
       " restart_id                                                               \n",
       " seed=-1     2.333889  2.333889  2.333889  2.333889  2.333889  2.333889   \n",
       " \n",
       "                   28        29        30  \n",
       " restart_id                                \n",
       " seed=-1     2.333889  2.333889  2.333889  \n",
       " \n",
       " [1 rows x 26 columns],\n",
       " 'res2':                   5         6         7         8         9         10  \\\n",
       " restart_id                                                               \n",
       " seed=-1     2.893075  2.893075  2.893075  2.893075  2.893075  2.893075   \n",
       " \n",
       "                   11        12        13        14    ...           21  \\\n",
       " restart_id                                            ...                \n",
       " seed=-1     2.893075  2.893075  2.893075  2.893075    ...     2.893075   \n",
       " \n",
       "                   22        23        24        25        26        27  \\\n",
       " restart_id                                                               \n",
       " seed=-1     2.893075  2.893075  2.893075  2.893075  2.893075  2.893075   \n",
       " \n",
       "                   28        29        30  \n",
       " restart_id                                \n",
       " seed=-1     2.893075  2.893075  2.893075  \n",
       " \n",
       " [1 rows x 26 columns],\n",
       " 'res3':                   5         6         7         8         9         10  \\\n",
       " restart_id                                                               \n",
       " seed=-1     3.166173  3.166173  3.166173  3.166173  3.166173  3.166173   \n",
       " \n",
       "                   11        12        13        14    ...           21  \\\n",
       " restart_id                                            ...                \n",
       " seed=-1     3.166173  3.166173  3.166173  3.166173    ...     3.166173   \n",
       " \n",
       "                   22        23        24        25        26        27  \\\n",
       " restart_id                                                               \n",
       " seed=-1     3.166173  3.166173  3.166173  3.166173  3.166173  3.166173   \n",
       " \n",
       "                   28        29        30  \n",
       " restart_id                                \n",
       " seed=-1     3.166173  3.166173  3.166173  \n",
       " \n",
       " [1 rows x 26 columns],\n",
       " 'ds_l2':                   5         6         7         8         9         10  \\\n",
       " restart_id                                                               \n",
       " seed=-1     0.050277  0.050277  0.050277  0.050277  0.050277  0.050277   \n",
       " \n",
       "                   11        12        13        14    ...           21  \\\n",
       " restart_id                                            ...                \n",
       " seed=-1     0.050277  0.050277  0.050277  0.050277    ...     0.050277   \n",
       " \n",
       "                   22        23        24        25        26        27  \\\n",
       " restart_id                                                               \n",
       " seed=-1     0.050277  0.050277  0.050277  0.050277  0.050277  0.050277   \n",
       " \n",
       "                   28        29        30  \n",
       " restart_id                                \n",
       " seed=-1     0.050277  0.050277  0.050277  \n",
       " \n",
       " [1 rows x 26 columns],\n",
       " 'ds_cosine':                   5         6         7         8         9         10  \\\n",
       " restart_id                                                               \n",
       " seed=-1     0.289042  0.289042  0.289042  0.289042  0.289042  0.289042   \n",
       " \n",
       "                   11        12        13        14    ...           21  \\\n",
       " restart_id                                            ...                \n",
       " seed=-1     0.289042  0.289042  0.289042  0.289042    ...     0.289042   \n",
       " \n",
       "                   22        23        24        25        26        27  \\\n",
       " restart_id                                                               \n",
       " seed=-1     0.289042  0.289042  0.289042  0.289042  0.289042  0.289042   \n",
       " \n",
       "                   28        29        30  \n",
       " restart_id                                \n",
       " seed=-1     0.289042  0.289042  0.289042  \n",
       " \n",
       " [1 rows x 26 columns],\n",
       " 'ds_js':                   5         6         7         8         9         10  \\\n",
       " restart_id                                                               \n",
       " seed=-1     0.573137  0.573137  0.573137  0.573137  0.573137  0.573137   \n",
       " \n",
       "                   11        12        13        14    ...           21  \\\n",
       " restart_id                                            ...                \n",
       " seed=-1     0.573137  0.573137  0.573137  0.573137    ...     0.573137   \n",
       " \n",
       "                   22        23        24        25        26        27  \\\n",
       " restart_id                                                               \n",
       " seed=-1     0.573137  0.573137  0.573137  0.573137  0.573137  0.573137   \n",
       " \n",
       "                   28        29        30  \n",
       " restart_id                                \n",
       " seed=-1     0.573137  0.573137  0.573137  \n",
       " \n",
       " [1 rows x 26 columns],\n",
       " 'ds_h':                   5         6         7         8         9         10  \\\n",
       " restart_id                                                               \n",
       " seed=-1     0.657011  0.657011  0.657011  0.657011  0.657011  0.657011   \n",
       " \n",
       "                   11        12        13        14    ...           21  \\\n",
       " restart_id                                            ...                \n",
       " seed=-1     0.657011  0.657011  0.657011  0.657011    ...     0.657011   \n",
       " \n",
       "                   22        23        24        25        26        27  \\\n",
       " restart_id                                                               \n",
       " seed=-1     0.657011  0.657011  0.657011  0.657011  0.657011  0.657011   \n",
       " \n",
       "                   28        29        30  \n",
       " restart_id                                \n",
       " seed=-1     0.657011  0.657011  0.657011  \n",
       " \n",
       " [1 rows x 26 columns]}"
      ]
     },
     "execution_count": 16,
     "metadata": {},
     "output_type": "execute_result"
    }
   ],
   "source": [
    "optimizer._detailed_result"
   ]
  },
  {
   "cell_type": "code",
   "execution_count": 17,
   "metadata": {},
   "outputs": [
    {
     "data": {
      "text/plain": [
       "dict_keys(['PerplexityScore@all', 'SparsityThetaScore', 'SparsityPhiScore@text', 'PerplexityScore@text', 'TopicKernel@text.average_coherence', 'TopicKernel@text.average_contrast', 'TopicKernel@text.average_purity', 'TopicKernel@text.average_size', 'TopicKernel@text.coherence', 'TopicKernel@text.contrast', 'TopicKernel@text.purity', 'TopicKernel@text.size', 'TopicKernel@text.tokens', 'res', 'res2', 'res3', 'ds_l2', 'ds_cosine', 'ds_js', 'ds_h'])"
      ]
     },
     "execution_count": 17,
     "metadata": {},
     "output_type": "execute_result"
    }
   ],
   "source": [
    "optimizer._result['score_results'].keys()"
   ]
  },
  {
   "cell_type": "code",
   "execution_count": 18,
   "metadata": {},
   "outputs": [
    {
     "data": {
      "text/plain": [
       "{'optimum': 5.0,\n",
       " 'optimum_std': nan,\n",
       " 'num_topics_values': [5,\n",
       "  6,\n",
       "  7,\n",
       "  8,\n",
       "  9,\n",
       "  10,\n",
       "  11,\n",
       "  12,\n",
       "  13,\n",
       "  14,\n",
       "  15,\n",
       "  16,\n",
       "  17,\n",
       "  18,\n",
       "  19,\n",
       "  20,\n",
       "  21,\n",
       "  22,\n",
       "  23,\n",
       "  24,\n",
       "  25,\n",
       "  26,\n",
       "  27,\n",
       "  28,\n",
       "  29,\n",
       "  30],\n",
       " 'score_values': [0.6570112908203356,\n",
       "  0.6570112908203356,\n",
       "  0.6570112908203356,\n",
       "  0.6570112908203356,\n",
       "  0.6570112908203356,\n",
       "  0.6570112908203356,\n",
       "  0.6570112908203356,\n",
       "  0.6570112908203356,\n",
       "  0.6570112908203356,\n",
       "  0.6570112908203356,\n",
       "  0.6570112908203356,\n",
       "  0.6570112908203356,\n",
       "  0.6570112908203356,\n",
       "  0.6570112908203356,\n",
       "  0.6570112908203356,\n",
       "  0.6570112908203356,\n",
       "  0.6570112908203356,\n",
       "  0.6570112908203356,\n",
       "  0.6570112908203356,\n",
       "  0.6570112908203356,\n",
       "  0.6570112908203356,\n",
       "  0.6570112908203356,\n",
       "  0.6570112908203356,\n",
       "  0.6570112908203356,\n",
       "  0.6570112908203356,\n",
       "  0.6570112908203356],\n",
       " 'score_values_std': [nan,\n",
       "  nan,\n",
       "  nan,\n",
       "  nan,\n",
       "  nan,\n",
       "  nan,\n",
       "  nan,\n",
       "  nan,\n",
       "  nan,\n",
       "  nan,\n",
       "  nan,\n",
       "  nan,\n",
       "  nan,\n",
       "  nan,\n",
       "  nan,\n",
       "  nan,\n",
       "  nan,\n",
       "  nan,\n",
       "  nan,\n",
       "  nan,\n",
       "  nan,\n",
       "  nan,\n",
       "  nan,\n",
       "  nan,\n",
       "  nan,\n",
       "  nan]}"
      ]
     },
     "execution_count": 18,
     "metadata": {},
     "output_type": "execute_result"
    }
   ],
   "source": [
    "optimizer._result['score_results']['ds_h']"
   ]
  },
  {
   "cell_type": "code",
   "execution_count": null,
   "metadata": {},
   "outputs": [],
   "source": []
  },
  {
   "cell_type": "markdown",
   "metadata": {},
   "source": [
    "The lower the entropy, the better is supposed to be the result model.\n",
    "On X axis is the number of topics, on Y axis — the score."
   ]
  },
  {
   "cell_type": "code",
   "execution_count": 19,
   "metadata": {},
   "outputs": [
    {
     "data": {
      "image/png": "[encoded data removed]",
      "text/plain": [
       "<Figure size 432x288 with 1 Axes>"
      ]
     },
     "metadata": {
      "needs_background": "light"
     },
     "output_type": "display_data"
    }
   ],
   "source": [
    "plt.plot(detailed_result['TopicKernel@text.average_contrast'].T)\n",
    "\n",
    "plt.show()"
   ]
  },
  {
   "cell_type": "code",
   "execution_count": 20,
   "metadata": {},
   "outputs": [
    {
     "data": {
      "image/png": "[encoded data removed]",
      "text/plain": [
       "<Figure size 432x288 with 1 Axes>"
      ]
     },
     "metadata": {
      "needs_background": "light"
     },
     "output_type": "display_data"
    }
   ],
   "source": [
    "plt.plot(detailed_result['TopicKernel@text.average_purity'].T)\n",
    "\n",
    "plt.show()"
   ]
  },
  {
   "cell_type": "code",
   "execution_count": 21,
   "metadata": {},
   "outputs": [
    {
     "data": {
      "image/png": "[encoded data removed]",
      "text/plain": [
       "<Figure size 432x288 with 1 Axes>"
      ]
     },
     "metadata": {
      "needs_background": "light"
     },
     "output_type": "display_data"
    }
   ],
   "source": [
    "plt.plot(detailed_result['TopicKernel@text.average_size'].T)\n",
    "\n",
    "plt.show()"
   ]
  },
  {
   "cell_type": "code",
   "execution_count": 22,
   "metadata": {},
   "outputs": [
    {
     "data": {
      "image/png": "[encoded data removed]",
      "text/plain": [
       "<Figure size 432x288 with 1 Axes>"
      ]
     },
     "metadata": {
      "needs_background": "light"
     },
     "output_type": "display_data"
    }
   ],
   "source": [
    "plt.plot(detailed_result['res'].T)\n",
    "\n",
    "plt.show()"
   ]
  },
  {
   "cell_type": "code",
   "execution_count": 23,
   "metadata": {},
   "outputs": [
    {
     "data": {
      "image/png": "[encoded data removed]",
      "text/plain": [
       "<Figure size 432x288 with 1 Axes>"
      ]
     },
     "metadata": {
      "needs_background": "light"
     },
     "output_type": "display_data"
    }
   ],
   "source": [
    "plt.plot(detailed_result['ds_js'].T)\n",
    "\n",
    "plt.show()"
   ]
  },
  {
   "cell_type": "code",
   "execution_count": 24,
   "metadata": {},
   "outputs": [
    {
     "data": {
      "image/png": "[encoded data removed]",
      "text/plain": [
       "<Figure size 432x288 with 1 Axes>"
      ]
     },
     "metadata": {
      "needs_background": "light"
     },
     "output_type": "display_data"
    }
   ],
   "source": [
    "plt.plot(detailed_result['res2'].T.mean(axis=1))\n",
    "plt.show()"
   ]
  },
  {
   "cell_type": "code",
   "execution_count": null,
   "metadata": {},
   "outputs": [],
   "source": []
  },
  {
   "cell_type": "code",
   "execution_count": 25,
   "metadata": {},
   "outputs": [
    {
     "data": {
      "image/png": "[encoded data removed]",
      "text/plain": [
       "<Figure size 432x288 with 1 Axes>"
      ]
     },
     "metadata": {
      "needs_background": "light"
     },
     "output_type": "display_data"
    }
   ],
   "source": [
    "plt.plot(detailed_result['ds_h'].T)\n",
    "plt.show()"
   ]
  },
  {
   "cell_type": "code",
   "execution_count": 26,
   "metadata": {},
   "outputs": [
    {
     "data": {
      "image/png": "[encoded data removed]",
      "text/plain": [
       "<Figure size 432x288 with 1 Axes>"
      ]
     },
     "metadata": {
      "needs_background": "light"
     },
     "output_type": "display_data"
    }
   ],
   "source": [
    "plt.plot(detailed_result['ds_l2'].T.mean(axis=1))\n",
    "plt.show()"
   ]
  },
  {
   "cell_type": "code",
   "execution_count": 27,
   "metadata": {},
   "outputs": [],
   "source": [
    "with open(\"detailed_result_rtl.p\", \"wb\") as f:\n",
    "    pickle.dump(detailed_result, f)"
   ]
  },
  {
   "cell_type": "markdown",
   "metadata": {},
   "source": [
    "All models are saved and can be restored"
   ]
  },
  {
   "cell_type": "code",
   "execution_count": 29,
   "metadata": {},
   "outputs": [
    {
     "ename": "FileNotFoundError",
     "evalue": "[Errno 2] No such file or directory: './num_topics_experiments/e68cc1ff_experiment_-1/##13h32m50s_20d02m2020y###'",
     "output_type": "error",
     "traceback": [
      "\u001b[0;31m---------------------------------------------------------------------------\u001b[0m",
      "\u001b[0;31mFileNotFoundError\u001b[0m                         Traceback (most recent call last)",
      "\u001b[0;32m<ipython-input-29-16c3ace43f2b>\u001b[0m in \u001b[0;36m<module>\u001b[0;34m\u001b[0m\n\u001b[1;32m      1\u001b[0m tm = TopicModel.load(\n\u001b[0;32m----> 2\u001b[0;31m     \u001b[0;34m\"./num_topics_experiments/e68cc1ff_experiment_-1/##13h32m50s_20d02m2020y###\"\u001b[0m\u001b[0;34m\u001b[0m\u001b[0;34m\u001b[0m\u001b[0m\n\u001b[0m\u001b[1;32m      3\u001b[0m )\n",
      "\u001b[0;32m~/Projects/topicnet/cooking_machine/models/topic_model.py\u001b[0m in \u001b[0;36mload\u001b[0;34m(path, experiment)\u001b[0m\n\u001b[1;32m    375\u001b[0m \u001b[0;34m\u001b[0m\u001b[0m\n\u001b[1;32m    376\u001b[0m         \"\"\"\n\u001b[0;32m--> 377\u001b[0;31m         \u001b[0;32mif\u001b[0m \u001b[0;34m\"model\"\u001b[0m \u001b[0;32min\u001b[0m \u001b[0mos\u001b[0m\u001b[0;34m.\u001b[0m\u001b[0mlistdir\u001b[0m\u001b[0;34m(\u001b[0m\u001b[0;34mf\"{path}\"\u001b[0m\u001b[0;34m)\u001b[0m\u001b[0;34m:\u001b[0m\u001b[0;34m\u001b[0m\u001b[0;34m\u001b[0m\u001b[0m\n\u001b[0m\u001b[1;32m    378\u001b[0m             \u001b[0mmodel\u001b[0m \u001b[0;34m=\u001b[0m \u001b[0martm\u001b[0m\u001b[0;34m.\u001b[0m\u001b[0mload_artm_model\u001b[0m\u001b[0;34m(\u001b[0m\u001b[0;34mf\"{path}/model\"\u001b[0m\u001b[0;34m)\u001b[0m\u001b[0;34m\u001b[0m\u001b[0;34m\u001b[0m\u001b[0m\n\u001b[1;32m    379\u001b[0m         \u001b[0;32melse\u001b[0m\u001b[0;34m:\u001b[0m\u001b[0;34m\u001b[0m\u001b[0;34m\u001b[0m\u001b[0m\n",
      "\u001b[0;31mFileNotFoundError\u001b[0m: [Errno 2] No such file or directory: './num_topics_experiments/e68cc1ff_experiment_-1/##13h32m50s_20d02m2020y###'"
     ]
    }
   ],
   "source": [
    "tm = TopicModel.load(\n",
    "    \"./num_topics_experiments/e68cc1ff_experiment_-1/##13h32m50s_20d02m2020y###\"\n",
    ")"
   ]
  },
  {
   "cell_type": "code",
   "execution_count": null,
   "metadata": {},
   "outputs": [],
   "source": [
    "df.sum().sum() / "
   ]
  },
  {
   "cell_type": "code",
   "execution_count": null,
   "metadata": {},
   "outputs": [],
   "source": [
    "df.mean().mean() * 25/24"
   ]
  },
  {
   "cell_type": "code",
   "execution_count": null,
   "metadata": {},
   "outputs": [],
   "source": [
    "T = 25\n",
    "2/(T * (T - 1)) * sum(condensed_distances)"
   ]
  },
  {
   "cell_type": "code",
   "execution_count": null,
   "metadata": {},
   "outputs": [],
   "source": [
    "phi.shape"
   ]
  }
 ],
 "metadata": {
  "kernelspec": {
   "display_name": "Python 3",
   "language": "python",
   "name": "python3"
  },
  "language_info": {
   "codemirror_mode": {
    "name": "ipython",
    "version": 3
   },
   "file_extension": ".py",
   "mimetype": "text/x-python",
   "name": "python",
   "nbconvert_exporter": "python",
   "pygments_lexer": "ipython3",
   "version": "3.6.7"
  }
 },
 "nbformat": 4,
 "nbformat_minor": 2
}
