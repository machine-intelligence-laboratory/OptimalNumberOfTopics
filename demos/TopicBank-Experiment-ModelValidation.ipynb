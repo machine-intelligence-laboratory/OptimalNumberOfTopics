{
 "cells": [
  {
   "cell_type": "markdown",
   "metadata": {},
   "source": [
    "# TopicBank: Model Validation Experiment\n",
    "\n",
    "Dataset: [PostNauka](https://postnauka.ru/) articles."
   ]
  },
  {
   "cell_type": "code",
   "execution_count": null,
   "metadata": {},
   "outputs": [],
   "source": [
    "# General imports\n",
    "\n",
    "import dill\n",
    "import itertools\n",
    "import json\n",
    "import numpy as np\n",
    "import os\n",
    "import pandas as pd\n",
    "\n",
    "from scipy.stats import gaussian_kde\n",
    "from matplotlib import pyplot as plt\n",
    "\n",
    "%matplotlib inline"
   ]
  },
  {
   "cell_type": "code",
   "execution_count": null,
   "metadata": {},
   "outputs": [],
   "source": [
    "# Specific\n",
    "\n",
    "from lapsolver import solve_dense"
   ]
  },
  {
   "cell_type": "code",
   "execution_count": null,
   "metadata": {},
   "outputs": [],
   "source": [
    "# Making `topnum` module visible for Python\n",
    "\n",
    "import sys\n",
    "\n",
    "sys.path.insert(0, '..')"
   ]
  },
  {
   "cell_type": "code",
   "execution_count": null,
   "metadata": {},
   "outputs": [],
   "source": [
    "# Optimal number of topics\n",
    "\n",
    "from topicnet.cooking_machine import Dataset\n",
    "\n",
    "from topnum.data.vowpal_wabbit_text_collection import VowpalWabbitTextCollection\n",
    "from topnum.scores import (\n",
    "    IntratextCoherenceScore,\n",
    "    SparsityPhiScore,\n",
    "    SparsityThetaScore,\n",
    "    SimpleTopTokensCoherenceScore,\n",
    "    SophisticatedTopTokensCoherenceScore,\n",
    ")\n",
    "from topnum.scores._base_coherence_score import (\n",
    "    SpecificityEstimationMethod,\n",
    "    TextType,\n",
    "    WordTopicRelatednessType\n",
    ")\n",
    "from topnum.scores.intratext_coherence_score import ComputationMethod\n",
    "from topnum.search_methods import TopicBankMethod\n",
    "from topnum.search_methods.topic_bank.one_model_train_funcs import (\n",
    "    default_train_func,\n",
    "    regularization_train_func,\n",
    "    specific_initial_phi_train_func,\n",
    "    background_topics_train_func,\n",
    ")\n"
   ]
  },
  {
   "cell_type": "markdown",
   "metadata": {},
   "source": [
    "## Data\n",
    "\n",
    "In the folder below must reside the necessary data file in .csv format."
   ]
  },
  {
   "cell_type": "code",
   "execution_count": null,
   "metadata": {},
   "outputs": [],
   "source": [
    "DATA_FOLDER_PATH = 'data'"
   ]
  },
  {
   "cell_type": "code",
   "execution_count": null,
   "metadata": {},
   "outputs": [
    {
     "data": {
      "text/plain": [
       "['bigartm.miptai.vasiliyalekseev.log.INFO.20200322-195518.20211',\n",
       " '_dataset_rxg0krms',\n",
       " 'bigartm.miptai.vasiliyalekseev.log.INFO.20200322-200334.22948',\n",
       " 'postnauka__dataset__natural_order_batches',\n",
       " 'postnauka__vw__natural_order.txt',\n",
       " 'bigartm.miptai.vasiliyalekseev.log.INFO.20200322-195026.19312',\n",
       " 'bigartm.miptai.vasiliyalekseev.log.INFO.20200322-195237.19407',\n",
       " 'bigartm.miptai.vasiliyalekseev.log.INFO.20200322-200237.21203',\n",
       " '_dataset_lthzj9qc',\n",
       " '_dataset_ux1_6tj1',\n",
       " '_dataset_hvteto6c',\n",
       " '_dataset_1fzjutvk',\n",
       " 'bigartm.miptai.vasiliyalekseev.log.INFO.20200322-195348.19573',\n",
       " '_dataset_0o0fiiqo',\n",
       " 'postnauka__vocab.txt',\n",
       " '_dataset_a00ok3up',\n",
       " '_dataset_lh9rv2te',\n",
       " '_dataset_0jpn3owo',\n",
       " 'cooc',\n",
       " '_dataset_m9qhqs6p',\n",
       " '_dataset_5qy6w9hv',\n",
       " 'bigartm.INFO',\n",
       " 'twenty_newsgroups__vw__natural_order.txt',\n",
       " 'postnauka__dataset__natural_order.csv']"
      ]
     },
     "execution_count": null,
     "metadata": {},
     "output_type": "execute_result"
    }
   ],
   "source": [
    "os.listdir(DATA_FOLDER_PATH)"
   ]
  },
  {
   "cell_type": "code",
   "execution_count": null,
   "metadata": {},
   "outputs": [],
   "source": [
    "dataset_file_name = 'postnauka__dataset__natural_order.csv'"
   ]
  },
  {
   "cell_type": "code",
   "execution_count": null,
   "metadata": {},
   "outputs": [],
   "source": [
    "dataset_file_path = os.path.join(\n",
    "    DATA_FOLDER_PATH,\n",
    "    dataset_file_name\n",
    ")"
   ]
  },
  {
   "cell_type": "code",
   "execution_count": null,
   "metadata": {},
   "outputs": [],
   "source": [
    "dataset = Dataset(dataset_file_path)"
   ]
  },
  {
   "cell_type": "code",
   "execution_count": null,
   "metadata": {},
   "outputs": [
    {
     "data": {
      "text/plain": [
       "(3446, 2)"
      ]
     },
     "execution_count": null,
     "metadata": {},
     "output_type": "execute_result"
    }
   ],
   "source": [
    "dataset._data.shape"
   ]
  },
  {
   "cell_type": "code",
   "execution_count": null,
   "metadata": {},
   "outputs": [
    {
     "data": {
      "text/html": [
       "<div>\n",
       "<style scoped>\n",
       "    .dataframe tbody tr th:only-of-type {\n",
       "        vertical-align: middle;\n",
       "    }\n",
       "\n",
       "    .dataframe tbody tr th {\n",
       "        vertical-align: top;\n",
       "    }\n",
       "\n",
       "    .dataframe thead th {\n",
       "        text-align: right;\n",
       "    }\n",
       "</style>\n",
       "<table border=\"1\" class=\"dataframe\">\n",
       "  <thead>\n",
       "    <tr style=\"text-align: right;\">\n",
       "      <th></th>\n",
       "      <th>raw_text</th>\n",
       "      <th>vw_text</th>\n",
       "    </tr>\n",
       "    <tr>\n",
       "      <th>id</th>\n",
       "      <th></th>\n",
       "      <th></th>\n",
       "    </tr>\n",
       "  </thead>\n",
       "  <tbody>\n",
       "    <tr>\n",
       "      <th>29998.txt</th>\n",
       "      <td>материал отрицательный показатель преломление ...</td>\n",
       "      <td>29998.txt |@text материал отрицательный показа...</td>\n",
       "    </tr>\n",
       "    <tr>\n",
       "      <th>7770.txt</th>\n",
       "      <td>культурный код экономика экономист александр а...</td>\n",
       "      <td>7770.txt |@text культурный код экономика эконо...</td>\n",
       "    </tr>\n",
       "    <tr>\n",
       "      <th>32230.txt</th>\n",
       "      <td>faq наука третий класс факт эксперимент резуль...</td>\n",
       "      <td>32230.txt |@text faq наука третий класс факт э...</td>\n",
       "    </tr>\n",
       "    <tr>\n",
       "      <th>27293.txt</th>\n",
       "      <td>обрушение волна поверхность жидкость математик...</td>\n",
       "      <td>27293.txt |@text обрушение волна поверхность ж...</td>\n",
       "    </tr>\n",
       "    <tr>\n",
       "      <th>481.txt</th>\n",
       "      <td>существовать ли суперсимметрия мир элементарны...</td>\n",
       "      <td>481.txt |@text существовать ли суперсимметрия ...</td>\n",
       "    </tr>\n",
       "  </tbody>\n",
       "</table>\n",
       "</div>"
      ],
      "text/plain": [
       "                                                    raw_text  \\\n",
       "id                                                             \n",
       "29998.txt  материал отрицательный показатель преломление ...   \n",
       "7770.txt   культурный код экономика экономист александр а...   \n",
       "32230.txt  faq наука третий класс факт эксперимент резуль...   \n",
       "27293.txt  обрушение волна поверхность жидкость математик...   \n",
       "481.txt    существовать ли суперсимметрия мир элементарны...   \n",
       "\n",
       "                                                     vw_text  \n",
       "id                                                            \n",
       "29998.txt  29998.txt |@text материал отрицательный показа...  \n",
       "7770.txt   7770.txt |@text культурный код экономика эконо...  \n",
       "32230.txt  32230.txt |@text faq наука третий класс факт э...  \n",
       "27293.txt  27293.txt |@text обрушение волна поверхность ж...  \n",
       "481.txt    481.txt |@text существовать ли суперсимметрия ...  "
      ]
     },
     "execution_count": null,
     "metadata": {},
     "output_type": "execute_result"
    }
   ],
   "source": [
    "dataset._data.head()"
   ]
  },
  {
   "cell_type": "markdown",
   "metadata": {},
   "source": [
    "## Bank Creation"
   ]
  },
  {
   "cell_type": "code",
   "execution_count": null,
   "metadata": {},
   "outputs": [],
   "source": [
    "dummy_topic_score = IntratextCoherenceScore(\n",
    "    name='intratext_coherence_score',\n",
    "    data=dataset,\n",
    "    documents=list(dataset.get_dataset().index)[:1],\n",
    ")"
   ]
  },
  {
   "cell_type": "code",
   "execution_count": null,
   "metadata": {},
   "outputs": [],
   "source": [
    "# Default train func\n",
    "\n",
    "train_funcs = default_train_func"
   ]
  },
  {
   "cell_type": "code",
   "execution_count": null,
   "metadata": {},
   "outputs": [],
   "source": [
    "# TODO: use Holdout Perplexity as Stop score\n",
    "\n",
    "optimizer = TopicBankMethod(\n",
    "    data = dataset,\n",
    "    min_df_rate = 0.025,\n",
    "    max_df_rate = 0.8,\n",
    "    \n",
    "    main_topic_score = dummy_topic_score,\n",
    "    other_topic_scores = list(),\n",
    "    other_scores = list(),\n",
    "    \n",
    "    max_num_models = 20,\n",
    "    one_model_num_topics = 100,\n",
    "    num_fit_iterations = 100,\n",
    "    topic_score_threshold_percentile = 90,\n",
    "    \n",
    "    save_bank = True,\n",
    "    save_model_topics = True,\n",
    "    \n",
    "    train_funcs = train_funcs,\n",
    ")"
   ]
  },
  {
   "cell_type": "markdown",
   "metadata": {},
   "source": [
    "Fulfilling the search:"
   ]
  },
  {
   "cell_type": "code",
   "execution_count": null,
   "metadata": {},
   "outputs": [
    {
     "name": "stdout",
     "output_type": "stream",
     "text": [
      "100%|██████████| 10/10 [04:48<00:00, 28.85s/it]\n",
      "CPU times: user 7min 18s, sys: 44.7 s, total: 8min 3s\n",
      "Wall time: 4min 48s\n"
     ]
    }
   ],
   "source": [
    "%%time\n",
    "\n",
    "optimizer.search_for_optimum(dataset)"
   ]
  },
  {
   "cell_type": "code",
   "execution_count": null,
   "metadata": {},
   "outputs": [],
   "source": [
    "topic_bank_path = '/tmp/tmpyz_4fwmqTopicBank_'"
   ]
  },
  {
   "cell_type": "code",
   "execution_count": null,
   "metadata": {},
   "outputs": [
    {
     "name": "stdout",
     "output_type": "stream",
     "text": [
      "model_0__phi.bin\t   model_4__phi.bin\t      model_8__phi.bin\r\n",
      "model_0__topic_scores.bin  model_4__topic_scores.bin  model_8__topic_scores.bin\r\n",
      "model_1__phi.bin\t   model_5__phi.bin\t      model_9__phi.bin\r\n",
      "model_1__topic_scores.bin  model_5__topic_scores.bin  model_9__topic_scores.bin\r\n",
      "model_2__phi.bin\t   model_6__phi.bin\t      topics.bin\r\n",
      "model_2__topic_scores.bin  model_6__topic_scores.bin  topic_scores.bin\r\n",
      "model_3__phi.bin\t   model_7__phi.bin\r\n",
      "model_3__topic_scores.bin  model_7__topic_scores.bin\r\n"
     ]
    }
   ],
   "source": [
    "! ls $topic_bank_path"
   ]
  },
  {
   "cell_type": "code",
   "execution_count": null,
   "metadata": {},
   "outputs": [],
   "source": [
    "bank_phi = pd.DataFrame.from_dict(\n",
    "    {\n",
    "        f'topic_{i}': word_probs\n",
    "        for i, word_probs in enumerate(\n",
    "            dill.loads(open(os.path.join(topic_bank_path, 'topics.bin'), 'rb').read())\n",
    "        )\n",
    "    }\n",
    ")"
   ]
  },
  {
   "cell_type": "code",
   "execution_count": null,
   "metadata": {},
   "outputs": [
    {
     "data": {
      "text/html": [
       "<div>\n",
       "<style scoped>\n",
       "    .dataframe tbody tr th:only-of-type {\n",
       "        vertical-align: middle;\n",
       "    }\n",
       "\n",
       "    .dataframe tbody tr th {\n",
       "        vertical-align: top;\n",
       "    }\n",
       "\n",
       "    .dataframe thead th {\n",
       "        text-align: right;\n",
       "    }\n",
       "</style>\n",
       "<table border=\"1\" class=\"dataframe\">\n",
       "  <thead>\n",
       "    <tr style=\"text-align: right;\">\n",
       "      <th></th>\n",
       "      <th></th>\n",
       "      <th>topic_0</th>\n",
       "      <th>topic_1</th>\n",
       "    </tr>\n",
       "  </thead>\n",
       "  <tbody>\n",
       "    <tr>\n",
       "      <th rowspan=\"5\" valign=\"top\">@text</th>\n",
       "      <th>политический</th>\n",
       "      <td>0.001096</td>\n",
       "      <td>0.003082</td>\n",
       "    </tr>\n",
       "    <tr>\n",
       "      <th>специалист</th>\n",
       "      <td>0.000430</td>\n",
       "      <td>0.000479</td>\n",
       "    </tr>\n",
       "    <tr>\n",
       "      <th>летний</th>\n",
       "      <td>0.000114</td>\n",
       "      <td>0.000039</td>\n",
       "    </tr>\n",
       "    <tr>\n",
       "      <th>каждый</th>\n",
       "      <td>0.001458</td>\n",
       "      <td>0.002008</td>\n",
       "    </tr>\n",
       "    <tr>\n",
       "      <th>реформа</th>\n",
       "      <td>0.000343</td>\n",
       "      <td>0.000496</td>\n",
       "    </tr>\n",
       "  </tbody>\n",
       "</table>\n",
       "</div>"
      ],
      "text/plain": [
       "                     topic_0   topic_1\n",
       "@text политический  0.001096  0.003082\n",
       "      специалист    0.000430  0.000479\n",
       "      летний        0.000114  0.000039\n",
       "      каждый        0.001458  0.002008\n",
       "      реформа       0.000343  0.000496"
      ]
     },
     "execution_count": null,
     "metadata": {},
     "output_type": "execute_result"
    }
   ],
   "source": [
    "bank_phi.head()"
   ]
  },
  {
   "cell_type": "code",
   "execution_count": null,
   "metadata": {},
   "outputs": [],
   "source": [
    "model_phi = dill.loads(\n",
    "    open(os.path.join(topic_bank_path, 'model_0__phi.bin'), 'rb').read()\n",
    ")"
   ]
  },
  {
   "cell_type": "code",
   "execution_count": null,
   "metadata": {},
   "outputs": [
    {
     "data": {
      "text/html": [
       "<div>\n",
       "<style scoped>\n",
       "    .dataframe tbody tr th:only-of-type {\n",
       "        vertical-align: middle;\n",
       "    }\n",
       "\n",
       "    .dataframe tbody tr th {\n",
       "        vertical-align: top;\n",
       "    }\n",
       "\n",
       "    .dataframe thead th {\n",
       "        text-align: right;\n",
       "    }\n",
       "</style>\n",
       "<table border=\"1\" class=\"dataframe\">\n",
       "  <thead>\n",
       "    <tr style=\"text-align: right;\">\n",
       "      <th></th>\n",
       "      <th></th>\n",
       "      <th>topic_0</th>\n",
       "      <th>topic_1</th>\n",
       "      <th>topic_2</th>\n",
       "      <th>topic_3</th>\n",
       "      <th>topic_4</th>\n",
       "    </tr>\n",
       "    <tr>\n",
       "      <th>modality</th>\n",
       "      <th>token</th>\n",
       "      <th></th>\n",
       "      <th></th>\n",
       "      <th></th>\n",
       "      <th></th>\n",
       "      <th></th>\n",
       "    </tr>\n",
       "  </thead>\n",
       "  <tbody>\n",
       "    <tr>\n",
       "      <th rowspan=\"5\" valign=\"top\">@text</th>\n",
       "      <th>политический</th>\n",
       "      <td>0.001096</td>\n",
       "      <td>0.001584</td>\n",
       "      <td>0.002181</td>\n",
       "      <td>0.003269</td>\n",
       "      <td>0.000774</td>\n",
       "    </tr>\n",
       "    <tr>\n",
       "      <th>специалист</th>\n",
       "      <td>0.000430</td>\n",
       "      <td>0.000626</td>\n",
       "      <td>0.000578</td>\n",
       "      <td>0.000762</td>\n",
       "      <td>0.000007</td>\n",
       "    </tr>\n",
       "    <tr>\n",
       "      <th>летний</th>\n",
       "      <td>0.000114</td>\n",
       "      <td>0.000057</td>\n",
       "      <td>0.000137</td>\n",
       "      <td>0.000080</td>\n",
       "      <td>0.000049</td>\n",
       "    </tr>\n",
       "    <tr>\n",
       "      <th>каждый</th>\n",
       "      <td>0.001458</td>\n",
       "      <td>0.003052</td>\n",
       "      <td>0.002140</td>\n",
       "      <td>0.003442</td>\n",
       "      <td>0.000251</td>\n",
       "    </tr>\n",
       "    <tr>\n",
       "      <th>реформа</th>\n",
       "      <td>0.000343</td>\n",
       "      <td>0.000336</td>\n",
       "      <td>0.000399</td>\n",
       "      <td>0.000042</td>\n",
       "      <td>0.000126</td>\n",
       "    </tr>\n",
       "  </tbody>\n",
       "</table>\n",
       "</div>"
      ],
      "text/plain": [
       "                        topic_0   topic_1   topic_2   topic_3   topic_4\n",
       "modality token                                                         \n",
       "@text    политический  0.001096  0.001584  0.002181  0.003269  0.000774\n",
       "         специалист    0.000430  0.000626  0.000578  0.000762  0.000007\n",
       "         летний        0.000114  0.000057  0.000137  0.000080  0.000049\n",
       "         каждый        0.001458  0.003052  0.002140  0.003442  0.000251\n",
       "         реформа       0.000343  0.000336  0.000399  0.000042  0.000126"
      ]
     },
     "execution_count": null,
     "metadata": {},
     "output_type": "execute_result"
    }
   ],
   "source": [
    "model_phi.head()"
   ]
  },
  {
   "cell_type": "code",
   "execution_count": null,
   "metadata": {},
   "outputs": [],
   "source": [
    "costs = [\n",
    "    [\n",
    "        TopicBankMethod._jaccard_distance(\n",
    "            model_phi.loc[:, model_topic].to_dict(),\n",
    "            bank_phi.loc[:, bank_topic].to_dict()\n",
    "        )\n",
    "        for bank_topic in bank_phi.columns\n",
    "    ]\n",
    "    for model_topic in model_phi.columns\n",
    "]\n",
    "\n",
    "costs = np.array(costs, dtype=np.float32)"
   ]
  },
  {
   "cell_type": "code",
   "execution_count": null,
   "metadata": {},
   "outputs": [
    {
     "data": {
      "text/plain": [
       "array([[0.        , 0.61513114],\n",
       "       [0.66375315, 0.6192726 ],\n",
       "       [0.64335763, 0.5763088 ],\n",
       "       [0.6515412 , 0.5998365 ],\n",
       "       [0.66883266, 0.60312873]], dtype=float32)"
      ]
     },
     "execution_count": null,
     "metadata": {},
     "output_type": "execute_result"
    }
   ],
   "source": [
    "costs"
   ]
  },
  {
   "cell_type": "code",
   "execution_count": null,
   "metadata": {},
   "outputs": [],
   "source": [
    "rids, cids = solve_dense(costs)"
   ]
  },
  {
   "cell_type": "code",
   "execution_count": null,
   "metadata": {},
   "outputs": [],
   "source": [
    "num_good_topics = 0\n",
    "num_found_topics = 0\n",
    "\n",
    "DISTANCE_THRESHOLD = 0.5\n",
    "\n",
    "for r, c in zip(rids, cids):\n",
    "    if np.min(costs[r,:]) < DISTANCE_THRESHOLD:\n",
    "        num_good_topics += 1\n",
    "    \n",
    "    if costs[r, c] < DISTANCE_THRESHOLD:\n",
    "        num_found_topics += 1"
   ]
  },
  {
   "cell_type": "code",
   "execution_count": null,
   "metadata": {},
   "outputs": [
    {
     "name": "stdout",
     "output_type": "stream",
     "text": [
      "Precision: 0.200\n"
     ]
    }
   ],
   "source": [
    "print(f'Precision: {num_good_topics / model_phi.shape[1]:.3f}')"
   ]
  },
  {
   "cell_type": "code",
   "execution_count": null,
   "metadata": {},
   "outputs": [
    {
     "name": "stdout",
     "output_type": "stream",
     "text": [
      "Recall: 0.200\n"
     ]
    }
   ],
   "source": [
    "print(f'Recall: {num_found_topics / model_phi.shape[1]:.3f}')"
   ]
  },
  {
   "cell_type": "code",
   "execution_count": null,
   "metadata": {},
   "outputs": [
    {
     "name": "stdout",
     "output_type": "stream",
     "text": [
      "Recall (relative): 0.500\n"
     ]
    }
   ],
   "source": [
    "print(f'Recall (relative): {num_found_topics / bank_phi.shape[1]:.3f}')"
   ]
  }
 ],
 "metadata": {
  "kernelspec": {
   "display_name": "Python 3",
   "language": "python",
   "name": "python3"
  },
  "language_info": {
   "codemirror_mode": {
    "name": "ipython",
    "version": 3
   },
   "file_extension": ".py",
   "mimetype": "text/x-python",
   "name": "python",
   "nbconvert_exporter": "python",
   "pygments_lexer": "ipython3",
   "version": "3.7.6"
  }
 },
 "nbformat": 4,
 "nbformat_minor": 2
}
