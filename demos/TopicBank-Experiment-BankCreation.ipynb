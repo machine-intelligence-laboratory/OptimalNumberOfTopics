{
 "cells": [
  {
   "cell_type": "markdown",
   "metadata": {},
   "source": [
    "# TopicBank: Bank Creation Experiment\n",
    "\n",
    "Dataset: [PostNauka](https://postnauka.ru/) articles."
   ]
  },
  {
   "cell_type": "code",
   "execution_count": 2,
   "metadata": {},
   "outputs": [],
   "source": [
    "# General imports\n",
    "\n",
    "import itertools\n",
    "import json\n",
    "import numpy as np\n",
    "import os\n",
    "import pandas as pd\n",
    "\n",
    "from scipy.stats import gaussian_kde\n",
    "from matplotlib import pyplot as plt\n",
    "\n",
    "%matplotlib inline"
   ]
  },
  {
   "cell_type": "code",
   "execution_count": null,
   "metadata": {},
   "outputs": [],
   "source": []
  },
  {
   "cell_type": "code",
   "execution_count": 3,
   "metadata": {},
   "outputs": [],
   "source": [
    "import sys"
   ]
  },
  {
   "cell_type": "code",
   "execution_count": 4,
   "metadata": {},
   "outputs": [],
   "source": [
    "# Making `topnum` module visible for Python\n",
    "\n",
    "# TODO\n",
    "# import sys\n",
    "\n",
    "sys.path.insert(0, '..')\n",
    "sys.path.insert(0, '../..')"
   ]
  },
  {
   "cell_type": "code",
   "execution_count": null,
   "metadata": {},
   "outputs": [],
   "source": []
  },
  {
   "cell_type": "code",
   "execution_count": 5,
   "metadata": {},
   "outputs": [],
   "source": [
    "# Optimal number of topics\n",
    "\n",
    "from topicnet.cooking_machine import Dataset\n",
    "\n",
    "from topnum.data.vowpal_wabbit_text_collection import VowpalWabbitTextCollection\n",
    "from topnum.scores import (\n",
    "    IntratextCoherenceScore,\n",
    "    SparsityPhiScore,\n",
    "    SparsityThetaScore,\n",
    "    SimpleTopTokensCoherenceScore,\n",
    "    SophisticatedTopTokensCoherenceScore,\n",
    ")\n",
    "from topnum.scores._base_coherence_score import (\n",
    "    SpecificityEstimationMethod,\n",
    "    TextType,\n",
    "    WordTopicRelatednessType\n",
    ")\n",
    "from topnum.scores.intratext_coherence_score import ComputationMethod\n",
    "from topnum.search_methods import TopicBankMethod\n",
    "from topnum.search_methods.topic_bank.one_model_train_funcs import (\n",
    "    default_train_func,\n",
    "    regularization_train_func,\n",
    "    specific_initial_phi_train_func,\n",
    "    background_topics_train_func,\n",
    ")\n"
   ]
  },
  {
   "cell_type": "markdown",
   "metadata": {},
   "source": [
    "## Data\n",
    "\n",
    "In the folder below must reside the necessary data file in .csv format."
   ]
  },
  {
   "cell_type": "code",
   "execution_count": 6,
   "metadata": {},
   "outputs": [],
   "source": [
    "DATA_FOLDER_PATH = './data'  # TODO  '/data/datasets'"
   ]
  },
  {
   "cell_type": "code",
   "execution_count": 7,
   "metadata": {},
   "outputs": [
    {
     "data": {
      "text/plain": [
       "['AG_News.csv',\n",
       " 'PostNauka_natural_order.csv',\n",
       " 'Brown.csv',\n",
       " 'PScience.csv',\n",
       " 'Post_Science',\n",
       " 'Reuters.csv',\n",
       " '.ipynb_checkpoints',\n",
       " '20NG_natural_order.csv',\n",
       " 'Watan2004.csv']"
      ]
     },
     "execution_count": 7,
     "metadata": {},
     "output_type": "execute_result"
    }
   ],
   "source": [
    "os.listdir(DATA_FOLDER_PATH)"
   ]
  },
  {
   "cell_type": "code",
   "execution_count": 8,
   "metadata": {},
   "outputs": [],
   "source": [
    "DATASET_FOLDER_NAME = 'Watan2004' # 'AG_News' # '20NG_natural_order' # 'Brown' # 'Reuters' # 'Post_Science'"
   ]
  },
  {
   "cell_type": "code",
   "execution_count": 9,
   "metadata": {},
   "outputs": [
    {
     "ename": "FileNotFoundError",
     "evalue": "[Errno 2] No such file or directory: './data/Watan2004'",
     "output_type": "error",
     "traceback": [
      "\u001b[0;31m---------------------------------------------------------------------------\u001b[0m",
      "\u001b[0;31mFileNotFoundError\u001b[0m                         Traceback (most recent call last)",
      "\u001b[0;32m<ipython-input-9-6ee3f9e93c94>\u001b[0m in \u001b[0;36m<module>\u001b[0;34m\u001b[0m\n\u001b[0;32m----> 1\u001b[0;31m \u001b[0mos\u001b[0m\u001b[0;34m.\u001b[0m\u001b[0mlistdir\u001b[0m\u001b[0;34m(\u001b[0m\u001b[0mos\u001b[0m\u001b[0;34m.\u001b[0m\u001b[0mpath\u001b[0m\u001b[0;34m.\u001b[0m\u001b[0mjoin\u001b[0m\u001b[0;34m(\u001b[0m\u001b[0mDATA_FOLDER_PATH\u001b[0m\u001b[0;34m,\u001b[0m \u001b[0mDATASET_FOLDER_NAME\u001b[0m\u001b[0;34m)\u001b[0m\u001b[0;34m)\u001b[0m\u001b[0;34m\u001b[0m\u001b[0;34m\u001b[0m\u001b[0m\n\u001b[0m",
      "\u001b[0;31mFileNotFoundError\u001b[0m: [Errno 2] No such file or directory: './data/Watan2004'"
     ]
    }
   ],
   "source": [
    "os.listdir(os.path.join(DATA_FOLDER_PATH, DATASET_FOLDER_NAME))"
   ]
  },
  {
   "cell_type": "code",
   "execution_count": 10,
   "metadata": {},
   "outputs": [],
   "source": [
    "DATASET_FILE_NAME = 'Watan2004.csv' # 'AG_News.csv' # '20NG_natural_order.csv' # 'Brown.csv' # 'Reuters.csv' # 'PScience.csv'"
   ]
  },
  {
   "cell_type": "code",
   "execution_count": 11,
   "metadata": {},
   "outputs": [],
   "source": [
    "DATASET_FILE_PATH = os.path.join(\n",
    "    DATA_FOLDER_PATH,\n",
    "    # DATASET_FOLDER_NAME,\n",
    "    DATASET_FILE_NAME,\n",
    ")"
   ]
  },
  {
   "cell_type": "markdown",
   "metadata": {},
   "source": [
    "Checking if all OK with data, what modalities does the collection have."
   ]
  },
  {
   "cell_type": "code",
   "execution_count": 12,
   "metadata": {},
   "outputs": [
    {
     "name": "stdout",
     "output_type": "stream",
     "text": [
      "id,vw_text,raw_text\r\n",
      "\"doc_0_00000\",\"doc_0_00000 |@word بكي ا ش ا اعلن صين رسمي كتمل طول قدم ملحم شعري علي مستوي عالم معروف باسم ملحم ملك قصار اثر عثور علي جزئ ناقص وهي عبار الف كلم منقوش علي حجر تماثيل كائن بمعبد جين لونغ سمك ذهبي بمحافظ دانب بمقاطع سيتشو جنوب غرب صين عتبر ملحم قصار طول ملحم شعبي ثقافي عرف عالم تقع 36 مجلد تضم قراب مليوني بيت شعر ضاهي قيم ادبي شهر ملاحم غربي حتي انه طلق علي الياذ شرقي علي غرار ملحم يوناني خالد الياذ اوديسا شاعر هوميروس كتب ملحم قبل الف عام تناول قصة حيا ملك اسطوري قصار لذي هزم قبائل غزو عدو حافظ علي هوي مقاطع تبت جنوب غرب صين طمس تشوي وقد ترجم لغت اصلي لتي كتب وهي منغولي الي عديد لغ عالمي انجليزي فرنسي الماني روسي هندي صيني ياباني ،وتدرس قسم ادب معاهد كلي جامع كثر اربع دول وقد صدر بشا قراب ثلاث الف بحث دراس عديد دوائر اكديمية عالمي كان منظم يونسكو ادرج ضمن مناسب عالمي لتي شار حتفل جميع دول عضء منظم خلال عام ماضي تخليد لتل ملحم فريد باعتبار اثر ثقافي وحيد متبقي حتي يوم رغم مرور كثر الف عام علي صدور\",\"   بكين أ ش أ أعلنت الصين رسميا عن                    اكتمال اطول واقدم ملحمة شعرية على مستوى العالم والمعروفة باسم                    (ملحمة الملك قصار) اثر العثور على اجزائها الناقصة وهى عبارة                    عن ألف كلمة منقوشة على الاحجار والتماثيل الكائنة بمعبد جين لونغ                    السمكة الذهبية بمحافظة دانبا بمقاطعة سيتشوان جنوب غرب الصين                    وتعتبر ملحمة قصار هى اطول ملحمة شعبية ثقافية عرفها العالم حيث                    تقع فى 36 مجلدا وتضم قرابة مليونى بيت شعر وتضاهي فى قيمتها الادبية                    اشهر الملاحم الغربية حتى انه يطلق عليها الالياذة الشرقية على                    غرار الملحمة اليونانية الخالدة الالياذة والاوديسا للشاعر هوميروس                    كتبت الملحمة قبل ألف عام وتتناول قصة حياة الملك الاسطورى قصار                    الذى هزم قبائل الغزو والعدوان وحافظ على هوية مقاطعة التبت جنوب                    غرب الصين من الطمس والتشويه وقد ترجمت من لغتها الاصلية التي                    كتبت بها وهى المنغولية إلى العديد من اللغات العالمية من بينها                    الانجليزية والفرنسية والالمانية والروسية والهندية والصينية واليابانية                    ،وتدرس فى اقسام الادب فى معاهد وكليات وجامعات اكثر من اربعين                    دولة وقد صدر بشأنها قرابة ثلاثة آلاف بحث ودراسة من العديد من                    الدوائر الاكاديمية العالمية.                   وكانت منظمة اليونسكو قد ادرجتها ضمن المناسبات العالمية التى                    شارك فى الاحتفال بها جميع الدول الاعضاء بالمنظمة خلال العام                    الماضى تخليدا لتلك الملحمة الفريدة وباعتبارها الاثر الثقافي                    الوحيد المتبقى حتى اليوم رغم مرور اكثر من الف عام على صدوره                    \r\n"
     ]
    }
   ],
   "source": [
    "! head -n 2 $DATASET_FILE_PATH"
   ]
  },
  {
   "cell_type": "code",
   "execution_count": 13,
   "metadata": {},
   "outputs": [],
   "source": [
    "DATASET_INTERNALS_FOLDER_PATH = os.path.join('.', DATASET_FOLDER_NAME + '__internals')"
   ]
  },
  {
   "cell_type": "code",
   "execution_count": 14,
   "metadata": {},
   "outputs": [
    {
     "data": {
      "text/plain": [
       "'./Watan2004__internals'"
      ]
     },
     "execution_count": 14,
     "metadata": {},
     "output_type": "execute_result"
    }
   ],
   "source": [
    "DATASET_INTERNALS_FOLDER_PATH"
   ]
  },
  {
   "cell_type": "code",
   "execution_count": 15,
   "metadata": {},
   "outputs": [],
   "source": [
    "dataset = Dataset(\n",
    "    DATASET_FILE_PATH,\n",
    "    internals_folder_path=DATASET_INTERNALS_FOLDER_PATH\n",
    ")"
   ]
  },
  {
   "cell_type": "code",
   "execution_count": 16,
   "metadata": {},
   "outputs": [
    {
     "data": {
      "text/plain": [
       "['dict.dict',\n",
       " 'new_ppmi_tf_',\n",
       " 'vocab.txt',\n",
       " 'cooc_values.json',\n",
       " 'batches',\n",
       " 'ppmi_tf_',\n",
       " 'vw.txt',\n",
       " 'result']"
      ]
     },
     "execution_count": 16,
     "metadata": {},
     "output_type": "execute_result"
    }
   ],
   "source": [
    "os.listdir(DATASET_INTERNALS_FOLDER_PATH)"
   ]
  },
  {
   "cell_type": "code",
   "execution_count": 138,
   "metadata": {},
   "outputs": [
    {
     "data": {
      "text/plain": [
       "artm.BatchVectorizer(data_path=\"./Watan2004__internals/batches\", num_batches=21)"
      ]
     },
     "execution_count": 138,
     "metadata": {},
     "output_type": "execute_result"
    }
   ],
   "source": [
    "dataset.get_batch_vectorizer()"
   ]
  },
  {
   "cell_type": "code",
   "execution_count": 139,
   "metadata": {},
   "outputs": [
    {
     "data": {
      "text/plain": [
       "['batches', 'vw.txt']"
      ]
     },
     "execution_count": 139,
     "metadata": {},
     "output_type": "execute_result"
    }
   ],
   "source": [
    "os.listdir(DATASET_INTERNALS_FOLDER_PATH)"
   ]
  },
  {
   "cell_type": "code",
   "execution_count": 140,
   "metadata": {},
   "outputs": [
    {
     "data": {
      "text/plain": [
       "(20291, 3)"
      ]
     },
     "execution_count": 140,
     "metadata": {},
     "output_type": "execute_result"
    }
   ],
   "source": [
    "dataset._data.shape"
   ]
  },
  {
   "cell_type": "code",
   "execution_count": 141,
   "metadata": {},
   "outputs": [
    {
     "data": {
      "text/html": [
       "<div>\n",
       "<style scoped>\n",
       "    .dataframe tbody tr th:only-of-type {\n",
       "        vertical-align: middle;\n",
       "    }\n",
       "\n",
       "    .dataframe tbody tr th {\n",
       "        vertical-align: top;\n",
       "    }\n",
       "\n",
       "    .dataframe thead th {\n",
       "        text-align: right;\n",
       "    }\n",
       "</style>\n",
       "<table border=\"1\" class=\"dataframe\">\n",
       "  <thead>\n",
       "    <tr style=\"text-align: right;\">\n",
       "      <th></th>\n",
       "      <th>id</th>\n",
       "      <th>vw_text</th>\n",
       "      <th>raw_text</th>\n",
       "    </tr>\n",
       "    <tr>\n",
       "      <th>id</th>\n",
       "      <th></th>\n",
       "      <th></th>\n",
       "      <th></th>\n",
       "    </tr>\n",
       "  </thead>\n",
       "  <tbody>\n",
       "    <tr>\n",
       "      <th>doc_0_00000</th>\n",
       "      <td>doc_0_00000</td>\n",
       "      <td>doc_0_00000 |@word بكي ا ش ا اعلن صين رسمي كتم...</td>\n",
       "      <td>بكين أ ش أ أعلنت الصين رسميا عن            ...</td>\n",
       "    </tr>\n",
       "    <tr>\n",
       "      <th>doc_0_00001</th>\n",
       "      <td>doc_0_00001</td>\n",
       "      <td>doc_0_00001 |@word حاور دمشق حيد تاج ادب روائي...</td>\n",
       "      <td>حاوره في دمشق وحيد تاجا: الأدب الروائي..    ...</td>\n",
       "    </tr>\n",
       "    <tr>\n",
       "      <th>doc_0_00002</th>\n",
       "      <td>doc_0_00002</td>\n",
       "      <td>doc_0_00002 |@word كتب سالم رحبي رعي معالي دكت...</td>\n",
       "      <td>كتب  سالم الرحبي: ترعى معالي الدكتورة       ...</td>\n",
       "    </tr>\n",
       "    <tr>\n",
       "      <th>doc_0_00003</th>\n",
       "      <td>doc_0_00003</td>\n",
       "      <td>doc_0_00003 |@word صلال سعيد شاطر رعي سعاد شيخ...</td>\n",
       "      <td>صلالة  من سعيد الشاطر: رعى سعادة            ...</td>\n",
       "    </tr>\n",
       "    <tr>\n",
       "      <th>doc_0_00004</th>\n",
       "      <td>doc_0_00004</td>\n",
       "      <td>doc_0_00004 |@word باريس كون وقت لذي عالج ابن ...</td>\n",
       "      <td>باريس  كونا: في الوقت الذي يعالج فيه ابنه   ...</td>\n",
       "    </tr>\n",
       "  </tbody>\n",
       "</table>\n",
       "</div>"
      ],
      "text/plain": [
       "                      id                                            vw_text  \\\n",
       "id                                                                            \n",
       "doc_0_00000  doc_0_00000  doc_0_00000 |@word بكي ا ش ا اعلن صين رسمي كتم...   \n",
       "doc_0_00001  doc_0_00001  doc_0_00001 |@word حاور دمشق حيد تاج ادب روائي...   \n",
       "doc_0_00002  doc_0_00002  doc_0_00002 |@word كتب سالم رحبي رعي معالي دكت...   \n",
       "doc_0_00003  doc_0_00003  doc_0_00003 |@word صلال سعيد شاطر رعي سعاد شيخ...   \n",
       "doc_0_00004  doc_0_00004  doc_0_00004 |@word باريس كون وقت لذي عالج ابن ...   \n",
       "\n",
       "                                                      raw_text  \n",
       "id                                                              \n",
       "doc_0_00000     بكين أ ش أ أعلنت الصين رسميا عن            ...  \n",
       "doc_0_00001    حاوره في دمشق وحيد تاجا: الأدب الروائي..    ...  \n",
       "doc_0_00002    كتب  سالم الرحبي: ترعى معالي الدكتورة       ...  \n",
       "doc_0_00003    صلالة  من سعيد الشاطر: رعى سعادة            ...  \n",
       "doc_0_00004    باريس  كونا: في الوقت الذي يعالج فيه ابنه   ...  "
      ]
     },
     "execution_count": 141,
     "metadata": {},
     "output_type": "execute_result"
    }
   ],
   "source": [
    "dataset._data.head()"
   ]
  },
  {
   "cell_type": "code",
   "execution_count": null,
   "metadata": {},
   "outputs": [],
   "source": []
  },
  {
   "cell_type": "code",
   "execution_count": null,
   "metadata": {},
   "outputs": [],
   "source": []
  },
  {
   "cell_type": "code",
   "execution_count": 20,
   "metadata": {},
   "outputs": [
    {
     "data": {
      "text/plain": [
       "710"
      ]
     },
     "execution_count": 20,
     "metadata": {},
     "output_type": "execute_result"
    }
   ],
   "source": [
    "len(dataset.get_vw_document('32230.txt').loc['32230.txt', 'vw_text'].split())"
   ]
  },
  {
   "cell_type": "code",
   "execution_count": 21,
   "metadata": {},
   "outputs": [
    {
     "data": {
      "text/plain": [
       "'|@text faq наука третий класс факт эксперимент результат полностью предсказывать теория начало известно со школьный скамья задача любой естественный наука число физика открытие новый знание природа разработка принципиально новый технология число первый относиться работа ньютон максвелл эйнштейн фейнман пример второй являться изобретение транзистор лазер технология являться результат целенаправленный научный изыскание входить каждый дом перевертывать мир последний год мировой научный мода входить совершенно другой класс работа исследование известный явление открывать дорога новый неожиданный интерпретация ломать общепринятый стереотип иллюстрировать новый научный идея траектория фотон post idв конец авторитетный научнопопулярный английский издание physics world опубликовывать рейтинг самый выдающийся достижение физика первый место список стоять работа проводить канадский университет торонто руководство профессор эфраим стайнберг суть работа согласно принцип неопределенность гейзенберг краеугольный камень здание современный квантовый механика невозможно одновременно измерять позиция импульс скорость квантовый частица нельзя узнавать траектория вычисление траектория частица находиться двигаться фундаментальный отличие квантовый физика классический траектория футбольный мяч баллистический ракета измеримый предсказуемый принцип неопределенность верный лишь однократный измерение приготавливать множество одинаковый частица координата импульс измерять вполне точно значит квантовый мир траектория частица предсказывать измерять сделать коллега торонто впервые история экспериментально измерять траектория элементарный частица свет фотон роль эксперимент наука остроумный интересный работа заставлять физик взглядывать поновый устаиваться принцип квантовый механика задумываться говорить эксперимент подразумевать результат известный заранее эксперимент правило ставиться проверка некий гипотеза являться абсолютный критерий верность роль эксперимент лежать основа эмпирический подход получение знание универсальный наука брать начало аристотель эксперимент стайнберг никакой гипотеза проверять результат полностью предсказуемый рамка общепринятый квантовый физика роль скоро сродни демонстрационный опыт лекция задача новый слово наука помогать студент понимать формула писать доска профессор читатель далекий физика приводить грубый аналогия общеизвестно корова летать простой сельский пилот валико мизандари прозвище мимино опровергать стереотип прицеплять корова днище вертолет подымать воздух эксперимент доказывать определенный условие корова летать жаль догадываться опубликовывать достижение журнал science многий маститый биолог приходиться съедать борода останавливаться долго работа рисковать испортить отношение любимый канадский коллега дело весьма показательный смысл тенденция иметь место физика протяжение последний десять год рейтинг physics world top ten насчитывать два три работа собственный опыт достаточно точно отражать доля подобный исследование современный физика крайний мера область квантовый оптика наука третий класс социальный заказ заставлять физик отказываться вековой принцип заниматься эксперимент результат заранее известный кажется причина несколько последний место интерес общественность наука точно образ наука создавать средство массовый информация научный фантастика прочно занимать место современный культура голос прекрасный далекий звать чудесный край манящий дорога кружить голова дорога вымащивать достижение физика считать мыслящий обыватель ибо знать обусловливать технологический бум современность сторона наличие общественность понимание важность физический исследование отрадно позволять брат помирать голод другой появляться давление ученый со сторона общество давать мол открывать снова чтонибудь эдакий post idведущие научный журнал nature science коммерческий предприятие стремиться увеличение тираж социальный заказ учитывать учитывать рейтинговый издание наподобие упоминать высоко physics world результат критерий оценка научный работа годность публикация престижный журнал становиться популяризуемость способность пробуждать интерес масса спрос рождать предложение казаться помимо редактор рукопись присылать журнал проходить анонимный экспертиза участие профессиональный физик давать зеленый свет публикация очевидно процесс идти постепенно начинаться признанный корифей работа приниматься публикация почти автоматически начинаться цепной реакция петька нельзя итог теперь вырастать целый поколение научный сотрудник убежденный наука должный вопрос этика наличие публикация хороший журнал легко оказываться определять фактор карьера молодой физик вопрос получать ли пожизненный профессура отправляться водить такси дело затрагивать личный благосостояние моральный планка резко снижаться ведь речь идти смертный грех точка зрение научный этика подделка результат плагиат добиваться признание необходимо лишь выгодно продавать работа убеждать редакция рецензент содержаться месседж интересный широкий круг читатель вопрос являться ли эксперимент мерило истина лишь транспортный средство доставка месседж отходить второй план смертный грех этический план эксперимент третий класс конечно коррумпировать наука способствовать размывание получаться утруждать сложный исследование сделать чтото интересно красиво достаточно получать признание построить карьера исследование первый второй класс наоборот оказываться загон ибо публикация давать мало финансирование требовать наоборот больший потенциальный кризис физика великий пл капица говорить приоритет принадлежать первый упоминать чемто первый оценивать важность поставлять восклицательный знак едва ли предполагать здоровый научный конкуренция сводиться вопрос восклицательный знак крупный сейчас физика существовать целый раздел дело обстоять появление физик третий класс кажется являться симптом масштабный процесс физик выдыхаться явление иметь место доступный масштаб пространство время объяснять понимать получать доступ неизведанный либо наблюдать космос либо ставить эксперимент стоимость сравнимый бюджет небольшой страна адронный коллайдер публика требовать хлеб зрелище новый физический открытие итог истинный открытие замещаться мнимый корова продолжать летать'"
      ]
     },
     "execution_count": 21,
     "metadata": {},
     "output_type": "execute_result"
    }
   ],
   "source": [
    "dataset.get_vw_document('32230.txt').loc['32230.txt', 'vw_text']"
   ]
  },
  {
   "cell_type": "markdown",
   "metadata": {},
   "source": [
    "## Coocs\n",
    "\n",
    "The notebook [Making-Decorrelation-and-Topic-Selection-Friends.ipynb](https://github.com/machine-intelligence-laboratory/TopicNet/blob/master/topicnet/demos/Making-Decorrelation-and-Topic-Selection-Friends.ipynb) contains a bit more explanation and references concerning cooccurrences computation in ARTM library."
   ]
  },
  {
   "cell_type": "code",
   "execution_count": 22,
   "metadata": {},
   "outputs": [],
   "source": [
    "COOC_DATA_FOLDER_PATH = os.path.join(DATASET_INTERNALS_FOLDER_PATH, 'cooc')"
   ]
  },
  {
   "cell_type": "code",
   "execution_count": 23,
   "metadata": {},
   "outputs": [],
   "source": [
    "if os.path.isdir(COOC_DATA_FOLDER_PATH):\n",
    "    print(os.listdir(COOC_DATA_FOLDER_PATH))"
   ]
  },
  {
   "cell_type": "code",
   "execution_count": null,
   "metadata": {},
   "outputs": [],
   "source": []
  },
  {
   "cell_type": "code",
   "execution_count": 18,
   "metadata": {},
   "outputs": [],
   "source": [
    "cooc_values_file_path = os.path.join(\n",
    "    DATASET_INTERNALS_FOLDER_PATH,\n",
    "    'cooc_values.json',\n",
    ")"
   ]
  },
  {
   "cell_type": "code",
   "execution_count": 19,
   "metadata": {},
   "outputs": [
    {
     "name": "stdout",
     "output_type": "stream",
     "text": [
      "[[['هرير', 'تمني'], 1.82768], [['تمني', 'هرير'], 1.82768], [['هرير', 'كبر'], 0.581746], [['كبر', 'هرير'], 0.581746], [['هرير', 'داود'], 2.47035], [['داود', 'هرير'], 2.47035], [['هرير', 'تلق'], 2.12148], [['تلق', 'هرير'], 2.12148], [['هرير', 'بدو'], 0.443265], [['بدو', 'هرير'], 0.443265], [['هرير', 'سعيد'], 0.706545], [['سعيد', 'هرير'], 0.706545], [['هرير', 'ملائك'], 2.00346], [['ملائك', 'هرير'], 2.00346], [['هرير', 'اني'], 1.07549], [['اني', 'هرير'], 1.07549], [['هرير', 'تفتيش'], 2.54284], [['تفتيش', 'هرير'], 2.54284], [['هرير', 'مر'], 1.10353], [['مر', 'هرير'], 1.10353]]\n"
     ]
    }
   ],
   "source": [
    "if os.path.isfile(cooc_values_file_path):\n",
    "    print(\n",
    "        json.loads(open(cooc_values_file_path, 'r').read())[:20]\n",
    "    )"
   ]
  },
  {
   "cell_type": "code",
   "execution_count": 20,
   "metadata": {},
   "outputs": [],
   "source": [
    "if not os.path.isfile(cooc_values_file_path):\n",
    "    cooc_values = dict()\n",
    "else:\n",
    "    raw_cooc_values = json.loads(open(cooc_values_file_path, 'r').read())\n",
    "\n",
    "    cooc_values = {\n",
    "        tuple(d[0]): d[1] for d in raw_cooc_values\n",
    "    }"
   ]
  },
  {
   "cell_type": "code",
   "execution_count": 21,
   "metadata": {},
   "outputs": [
    {
     "data": {
      "text/plain": [
       "3514220"
      ]
     },
     "execution_count": 21,
     "metadata": {},
     "output_type": "execute_result"
    }
   ],
   "source": [
    "len(list(cooc_values.items()))"
   ]
  },
  {
   "cell_type": "code",
   "execution_count": 22,
   "metadata": {},
   "outputs": [
    {
     "name": "stdout",
     "output_type": "stream",
     "text": [
      "[(('هرير', 'تمني'), 1.82768), (('تمني', 'هرير'), 1.82768), (('هرير', 'كبر'), 0.581746), (('كبر', 'هرير'), 0.581746), (('هرير', 'داود'), 2.47035), (('داود', 'هرير'), 2.47035), (('هرير', 'تلق'), 2.12148), (('تلق', 'هرير'), 2.12148), (('هرير', 'بدو'), 0.443265), (('بدو', 'هرير'), 0.443265)]\n"
     ]
    }
   ],
   "source": [
    "print(list(cooc_values.items())[:10])"
   ]
  },
  {
   "cell_type": "code",
   "execution_count": 23,
   "metadata": {},
   "outputs": [],
   "source": [
    "COOC_VALUES = cooc_values"
   ]
  },
  {
   "cell_type": "code",
   "execution_count": 24,
   "metadata": {},
   "outputs": [
    {
     "data": {
      "text/plain": [
       "3514220"
      ]
     },
     "execution_count": 24,
     "metadata": {},
     "output_type": "execute_result"
    }
   ],
   "source": [
    "len(COOC_VALUES)"
   ]
  },
  {
   "cell_type": "code",
   "execution_count": 25,
   "metadata": {},
   "outputs": [],
   "source": [
    "COOC_VALUES = {\n",
    "    k: v for i, (k, v) in enumerate(COOC_VALUES.items()) if i % 2 == 0\n",
    "}"
   ]
  },
  {
   "cell_type": "code",
   "execution_count": 26,
   "metadata": {},
   "outputs": [
    {
     "data": {
      "text/plain": [
       "1757110"
      ]
     },
     "execution_count": 26,
     "metadata": {},
     "output_type": "execute_result"
    }
   ],
   "source": [
    "len(COOC_VALUES)"
   ]
  },
  {
   "cell_type": "code",
   "execution_count": 24,
   "metadata": {},
   "outputs": [],
   "source": [
    "del cooc_values"
   ]
  },
  {
   "cell_type": "code",
   "execution_count": 27,
   "metadata": {},
   "outputs": [],
   "source": [
    "median_cooc = np.percentile(list(COOC_VALUES.values()), 60)"
   ]
  },
  {
   "cell_type": "code",
   "execution_count": 28,
   "metadata": {},
   "outputs": [
    {
     "data": {
      "text/plain": [
       "0.9181784"
      ]
     },
     "execution_count": 28,
     "metadata": {},
     "output_type": "execute_result"
    }
   ],
   "source": [
    "median_cooc"
   ]
  },
  {
   "cell_type": "code",
   "execution_count": 29,
   "metadata": {},
   "outputs": [],
   "source": [
    "COOC_VALUES = {\n",
    "    k: v for i, (k, v) in enumerate(COOC_VALUES.items()) if v >= median_cooc\n",
    "}"
   ]
  },
  {
   "cell_type": "code",
   "execution_count": 30,
   "metadata": {},
   "outputs": [
    {
     "data": {
      "text/plain": [
       "702844"
      ]
     },
     "execution_count": 30,
     "metadata": {},
     "output_type": "execute_result"
    }
   ],
   "source": [
    "len(COOC_VALUES)"
   ]
  },
  {
   "cell_type": "code",
   "execution_count": null,
   "metadata": {},
   "outputs": [],
   "source": []
  },
  {
   "cell_type": "code",
   "execution_count": null,
   "metadata": {},
   "outputs": [],
   "source": []
  },
  {
   "cell_type": "raw",
   "metadata": {},
   "source": [
    "COOC_VALUES2 = dict()\n",
    "\n",
    "for k, v in COOC_VALUES.items():\n",
    "    new_k = (('@default_class', k[0]), ('@default_class', k[1]))\n",
    "    COOC_VALUES2[new_k] = v"
   ]
  },
  {
   "cell_type": "code",
   "execution_count": null,
   "metadata": {},
   "outputs": [],
   "source": []
  },
  {
   "cell_type": "code",
   "execution_count": null,
   "metadata": {},
   "outputs": [],
   "source": []
  },
  {
   "cell_type": "code",
   "execution_count": 158,
   "metadata": {},
   "outputs": [
    {
     "name": "stdout",
     "output_type": "stream",
     "text": [
      "[(('states', 'section'), 0.960109), (('states', 'basis'), 0.329515), (('states', 'defend'), 1.82707), (('states', 'existence'), 0.0594168), (('states', 'force'), 1.10638), (('states', 'express'), 1.33526), (('states', 'west'), 0.530156), (('states', 'learn'), 0.0611878), (('states', 'additional'), 0.428594), (('states', 'proper'), 1.72512)]\n"
     ]
    }
   ],
   "source": [
    "print(list(COOC_VALUES.items())[:10])"
   ]
  },
  {
   "cell_type": "raw",
   "metadata": {},
   "source": [
    "print(list(COOC_VALUES2.items())[:1])"
   ]
  },
  {
   "cell_type": "code",
   "execution_count": null,
   "metadata": {},
   "outputs": [],
   "source": []
  },
  {
   "cell_type": "code",
   "execution_count": null,
   "metadata": {},
   "outputs": [],
   "source": []
  },
  {
   "cell_type": "code",
   "execution_count": 180,
   "metadata": {},
   "outputs": [],
   "source": [
    "from topicnet.cooking_machine.models import TopicModel\n",
    "import artm"
   ]
  },
  {
   "cell_type": "code",
   "execution_count": 183,
   "metadata": {},
   "outputs": [],
   "source": [
    "a = artm.ARTM(10)\n",
    "a.initialize(dataset.get_dictionary())"
   ]
  },
  {
   "cell_type": "code",
   "execution_count": 184,
   "metadata": {},
   "outputs": [],
   "source": [
    "tm = TopicModel(a)"
   ]
  },
  {
   "cell_type": "code",
   "execution_count": 185,
   "metadata": {},
   "outputs": [],
   "source": [
    "tm._fit(dataset.get_batch_vectorizer(), 1)"
   ]
  },
  {
   "cell_type": "code",
   "execution_count": 186,
   "metadata": {},
   "outputs": [
    {
     "data": {
      "text/html": [
       "<div>\n",
       "<style scoped>\n",
       "    .dataframe tbody tr th:only-of-type {\n",
       "        vertical-align: middle;\n",
       "    }\n",
       "\n",
       "    .dataframe tbody tr th {\n",
       "        vertical-align: top;\n",
       "    }\n",
       "\n",
       "    .dataframe thead th {\n",
       "        text-align: right;\n",
       "    }\n",
       "</style>\n",
       "<table border=\"1\" class=\"dataframe\">\n",
       "  <thead>\n",
       "    <tr style=\"text-align: right;\">\n",
       "      <th></th>\n",
       "      <th></th>\n",
       "      <th>topic_0</th>\n",
       "      <th>topic_1</th>\n",
       "      <th>topic_2</th>\n",
       "      <th>topic_3</th>\n",
       "      <th>topic_4</th>\n",
       "      <th>topic_5</th>\n",
       "      <th>topic_6</th>\n",
       "      <th>topic_7</th>\n",
       "      <th>topic_8</th>\n",
       "      <th>topic_9</th>\n",
       "    </tr>\n",
       "    <tr>\n",
       "      <th>modality</th>\n",
       "      <th>token</th>\n",
       "      <th></th>\n",
       "      <th></th>\n",
       "      <th></th>\n",
       "      <th></th>\n",
       "      <th></th>\n",
       "      <th></th>\n",
       "      <th></th>\n",
       "      <th></th>\n",
       "      <th></th>\n",
       "      <th></th>\n",
       "    </tr>\n",
       "  </thead>\n",
       "  <tbody>\n",
       "    <tr>\n",
       "      <th rowspan=\"5\" valign=\"top\">@word</th>\n",
       "      <th>كرديو</th>\n",
       "      <td>7.634554e-08</td>\n",
       "      <td>1.435572e-08</td>\n",
       "      <td>3.222526e-07</td>\n",
       "      <td>3.305830e-08</td>\n",
       "      <td>7.221951e-08</td>\n",
       "      <td>9.443286e-08</td>\n",
       "      <td>1.186938e-07</td>\n",
       "      <td>1.482633e-07</td>\n",
       "      <td>5.519292e-08</td>\n",
       "      <td>1.494534e-07</td>\n",
       "    </tr>\n",
       "    <tr>\n",
       "      <th>سيانيد</th>\n",
       "      <td>1.079096e-08</td>\n",
       "      <td>1.201125e-07</td>\n",
       "      <td>5.929413e-09</td>\n",
       "      <td>2.212184e-07</td>\n",
       "      <td>1.473765e-07</td>\n",
       "      <td>1.852361e-08</td>\n",
       "      <td>7.600426e-08</td>\n",
       "      <td>1.382410e-07</td>\n",
       "      <td>1.181957e-07</td>\n",
       "      <td>3.563748e-07</td>\n",
       "    </tr>\n",
       "    <tr>\n",
       "      <th>اتفاي</th>\n",
       "      <td>2.399903e-07</td>\n",
       "      <td>2.337123e-07</td>\n",
       "      <td>4.510908e-07</td>\n",
       "      <td>1.028343e-07</td>\n",
       "      <td>2.932988e-07</td>\n",
       "      <td>1.215687e-08</td>\n",
       "      <td>1.628408e-07</td>\n",
       "      <td>1.515525e-07</td>\n",
       "      <td>5.858392e-07</td>\n",
       "      <td>2.536662e-08</td>\n",
       "    </tr>\n",
       "    <tr>\n",
       "      <th>اختيارالكلم</th>\n",
       "      <td>4.796336e-08</td>\n",
       "      <td>1.434721e-07</td>\n",
       "      <td>1.377251e-07</td>\n",
       "      <td>5.181442e-08</td>\n",
       "      <td>2.077898e-07</td>\n",
       "      <td>2.645868e-07</td>\n",
       "      <td>2.835146e-09</td>\n",
       "      <td>4.897009e-08</td>\n",
       "      <td>1.278964e-07</td>\n",
       "      <td>8.651309e-08</td>\n",
       "    </tr>\n",
       "    <tr>\n",
       "      <th>لنساهل</th>\n",
       "      <td>3.547773e-08</td>\n",
       "      <td>4.450235e-08</td>\n",
       "      <td>1.222880e-07</td>\n",
       "      <td>5.289273e-08</td>\n",
       "      <td>1.177817e-07</td>\n",
       "      <td>3.532562e-07</td>\n",
       "      <td>2.064689e-09</td>\n",
       "      <td>1.368329e-08</td>\n",
       "      <td>2.581789e-07</td>\n",
       "      <td>1.469993e-07</td>\n",
       "    </tr>\n",
       "  </tbody>\n",
       "</table>\n",
       "</div>"
      ],
      "text/plain": [
       "                           topic_0       topic_1       topic_2       topic_3  \\\n",
       "modality token                                                                 \n",
       "@word    كرديو        7.634554e-08  1.435572e-08  3.222526e-07  3.305830e-08   \n",
       "         سيانيد       1.079096e-08  1.201125e-07  5.929413e-09  2.212184e-07   \n",
       "         اتفاي        2.399903e-07  2.337123e-07  4.510908e-07  1.028343e-07   \n",
       "         اختيارالكلم  4.796336e-08  1.434721e-07  1.377251e-07  5.181442e-08   \n",
       "         لنساهل       3.547773e-08  4.450235e-08  1.222880e-07  5.289273e-08   \n",
       "\n",
       "                           topic_4       topic_5       topic_6       topic_7  \\\n",
       "modality token                                                                 \n",
       "@word    كرديو        7.221951e-08  9.443286e-08  1.186938e-07  1.482633e-07   \n",
       "         سيانيد       1.473765e-07  1.852361e-08  7.600426e-08  1.382410e-07   \n",
       "         اتفاي        2.932988e-07  1.215687e-08  1.628408e-07  1.515525e-07   \n",
       "         اختيارالكلم  2.077898e-07  2.645868e-07  2.835146e-09  4.897009e-08   \n",
       "         لنساهل       1.177817e-07  3.532562e-07  2.064689e-09  1.368329e-08   \n",
       "\n",
       "                           topic_8       topic_9  \n",
       "modality token                                    \n",
       "@word    كرديو        5.519292e-08  1.494534e-07  \n",
       "         سيانيد       1.181957e-07  3.563748e-07  \n",
       "         اتفاي        5.858392e-07  2.536662e-08  \n",
       "         اختيارالكلم  1.278964e-07  8.651309e-08  \n",
       "         لنساهل       2.581789e-07  1.469993e-07  "
      ]
     },
     "execution_count": 186,
     "metadata": {},
     "output_type": "execute_result"
    }
   ],
   "source": [
    "tm.get_phi().head()"
   ]
  },
  {
   "cell_type": "code",
   "execution_count": 187,
   "metadata": {},
   "outputs": [],
   "source": [
    "del tm\n",
    "del a"
   ]
  },
  {
   "cell_type": "code",
   "execution_count": null,
   "metadata": {},
   "outputs": [],
   "source": []
  },
  {
   "cell_type": "code",
   "execution_count": 188,
   "metadata": {},
   "outputs": [],
   "source": [
    "import tqdm"
   ]
  },
  {
   "cell_type": "code",
   "execution_count": 335,
   "metadata": {},
   "outputs": [
    {
     "name": "stdout",
     "output_type": "stream",
     "text": [
      "  0%|          | 486/127600 [00:13<56:51, 37.26it/s]  \n"
     ]
    },
    {
     "ename": "KeyboardInterrupt",
     "evalue": "",
     "output_type": "error",
     "traceback": [
      "\u001b[0;31m---------------------------------------------------------------------------\u001b[0m",
      "\u001b[0;31mKeyboardInterrupt\u001b[0m                         Traceback (most recent call last)",
      "\u001b[0;32m<ipython-input-335-3f6f33b9bb9d>\u001b[0m in \u001b[0;36m<module>\u001b[0;34m\u001b[0m\n\u001b[1;32m      3\u001b[0m \u001b[0;32mfor\u001b[0m \u001b[0md\u001b[0m \u001b[0;32min\u001b[0m \u001b[0mtqdm\u001b[0m\u001b[0;34m.\u001b[0m\u001b[0mtqdm\u001b[0m\u001b[0;34m(\u001b[0m\u001b[0mdataset\u001b[0m\u001b[0;34m.\u001b[0m\u001b[0m_data\u001b[0m\u001b[0;34m.\u001b[0m\u001b[0mindex\u001b[0m\u001b[0;34m,\u001b[0m \u001b[0mtotal\u001b[0m\u001b[0;34m=\u001b[0m\u001b[0mlen\u001b[0m\u001b[0;34m(\u001b[0m\u001b[0mdataset\u001b[0m\u001b[0;34m.\u001b[0m\u001b[0m_data\u001b[0m\u001b[0;34m.\u001b[0m\u001b[0mindex\u001b[0m\u001b[0;34m)\u001b[0m\u001b[0;34m,\u001b[0m \u001b[0mfile\u001b[0m\u001b[0;34m=\u001b[0m\u001b[0msys\u001b[0m\u001b[0;34m.\u001b[0m\u001b[0mstdout\u001b[0m\u001b[0;34m)\u001b[0m\u001b[0;34m:\u001b[0m\u001b[0;34m\u001b[0m\u001b[0;34m\u001b[0m\u001b[0m\n\u001b[1;32m      4\u001b[0m     lengths.append(\n\u001b[0;32m----> 5\u001b[0;31m         \u001b[0mlen\u001b[0m\u001b[0;34m(\u001b[0m\u001b[0mdataset\u001b[0m\u001b[0;34m.\u001b[0m\u001b[0mget_vw_document\u001b[0m\u001b[0;34m(\u001b[0m\u001b[0md\u001b[0m\u001b[0;34m)\u001b[0m\u001b[0;34m.\u001b[0m\u001b[0mloc\u001b[0m\u001b[0;34m[\u001b[0m\u001b[0md\u001b[0m\u001b[0;34m,\u001b[0m \u001b[0;34m'vw_text'\u001b[0m\u001b[0;34m]\u001b[0m\u001b[0;34m.\u001b[0m\u001b[0msplit\u001b[0m\u001b[0;34m(\u001b[0m\u001b[0;34m)\u001b[0m\u001b[0;34m)\u001b[0m\u001b[0;34m\u001b[0m\u001b[0;34m\u001b[0m\u001b[0m\n\u001b[0m\u001b[1;32m      6\u001b[0m     )\n",
      "\u001b[0;32m~/topicnet/cooking_machine/dataset.py\u001b[0m in \u001b[0;36mget_vw_document\u001b[0;34m(self, document_id)\u001b[0m\n\u001b[1;32m    357\u001b[0m             return pd.DataFrame(\n\u001b[1;32m    358\u001b[0m                 \u001b[0mself\u001b[0m\u001b[0;34m.\u001b[0m\u001b[0m_data\u001b[0m\u001b[0;34m.\u001b[0m\u001b[0mloc\u001b[0m\u001b[0;34m[\u001b[0m\u001b[0min_index\u001b[0m\u001b[0;34m,\u001b[0m \u001b[0mVW_TEXT_COL\u001b[0m\u001b[0;34m]\u001b[0m\u001b[0;34m\u001b[0m\u001b[0;34m\u001b[0m\u001b[0m\n\u001b[0;32m--> 359\u001b[0;31m                 \u001b[0;34m.\u001b[0m\u001b[0mreindex\u001b[0m\u001b[0;34m(\u001b[0m\u001b[0mdocument_id\u001b[0m\u001b[0;34m)\u001b[0m\u001b[0;34m\u001b[0m\u001b[0;34m\u001b[0m\u001b[0m\n\u001b[0m\u001b[1;32m    360\u001b[0m             )\n\u001b[1;32m    361\u001b[0m \u001b[0;34m\u001b[0m\u001b[0m\n",
      "\u001b[0;32m/data/topicnet/lib/python3.6/site-packages/pandas/core/frame.py\u001b[0m in \u001b[0;36m__init__\u001b[0;34m(self, data, index, columns, dtype, copy)\u001b[0m\n\u001b[1;32m    509\u001b[0m                 \u001b[0;32mraise\u001b[0m \u001b[0mValueError\u001b[0m\u001b[0;34m(\u001b[0m\u001b[0;34m\"DataFrame constructor not properly called!\"\u001b[0m\u001b[0;34m)\u001b[0m\u001b[0;34m\u001b[0m\u001b[0;34m\u001b[0m\u001b[0m\n\u001b[1;32m    510\u001b[0m \u001b[0;34m\u001b[0m\u001b[0m\n\u001b[0;32m--> 511\u001b[0;31m         \u001b[0mNDFrame\u001b[0m\u001b[0;34m.\u001b[0m\u001b[0m__init__\u001b[0m\u001b[0;34m(\u001b[0m\u001b[0mself\u001b[0m\u001b[0;34m,\u001b[0m \u001b[0mmgr\u001b[0m\u001b[0;34m,\u001b[0m \u001b[0mfastpath\u001b[0m\u001b[0;34m=\u001b[0m\u001b[0;32mTrue\u001b[0m\u001b[0;34m)\u001b[0m\u001b[0;34m\u001b[0m\u001b[0;34m\u001b[0m\u001b[0m\n\u001b[0m\u001b[1;32m    512\u001b[0m \u001b[0;34m\u001b[0m\u001b[0m\n\u001b[1;32m    513\u001b[0m     \u001b[0;31m# ----------------------------------------------------------------------\u001b[0m\u001b[0;34m\u001b[0m\u001b[0;34m\u001b[0m\u001b[0;34m\u001b[0m\u001b[0m\n",
      "\u001b[0;32m/data/topicnet/lib/python3.6/site-packages/pandas/core/generic.py\u001b[0m in \u001b[0;36m__init__\u001b[0;34m(self, data, axes, copy, dtype, attrs, fastpath)\u001b[0m\n\u001b[1;32m    209\u001b[0m \u001b[0;34m\u001b[0m\u001b[0m\n\u001b[1;32m    210\u001b[0m         \u001b[0mobject\u001b[0m\u001b[0;34m.\u001b[0m\u001b[0m__setattr__\u001b[0m\u001b[0;34m(\u001b[0m\u001b[0mself\u001b[0m\u001b[0;34m,\u001b[0m \u001b[0;34m\"_is_copy\"\u001b[0m\u001b[0;34m,\u001b[0m \u001b[0;32mNone\u001b[0m\u001b[0;34m)\u001b[0m\u001b[0;34m\u001b[0m\u001b[0;34m\u001b[0m\u001b[0m\n\u001b[0;32m--> 211\u001b[0;31m         \u001b[0mobject\u001b[0m\u001b[0;34m.\u001b[0m\u001b[0m__setattr__\u001b[0m\u001b[0;34m(\u001b[0m\u001b[0mself\u001b[0m\u001b[0;34m,\u001b[0m \u001b[0;34m\"_data\"\u001b[0m\u001b[0;34m,\u001b[0m \u001b[0mdata\u001b[0m\u001b[0;34m)\u001b[0m\u001b[0;34m\u001b[0m\u001b[0;34m\u001b[0m\u001b[0m\n\u001b[0m\u001b[1;32m    212\u001b[0m         \u001b[0mobject\u001b[0m\u001b[0;34m.\u001b[0m\u001b[0m__setattr__\u001b[0m\u001b[0;34m(\u001b[0m\u001b[0mself\u001b[0m\u001b[0;34m,\u001b[0m \u001b[0;34m\"_item_cache\"\u001b[0m\u001b[0;34m,\u001b[0m \u001b[0;34m{\u001b[0m\u001b[0;34m}\u001b[0m\u001b[0;34m)\u001b[0m\u001b[0;34m\u001b[0m\u001b[0;34m\u001b[0m\u001b[0m\n\u001b[1;32m    213\u001b[0m         \u001b[0;32mif\u001b[0m \u001b[0mattrs\u001b[0m \u001b[0;32mis\u001b[0m \u001b[0;32mNone\u001b[0m\u001b[0;34m:\u001b[0m\u001b[0;34m\u001b[0m\u001b[0;34m\u001b[0m\u001b[0m\n",
      "\u001b[0;31mKeyboardInterrupt\u001b[0m: "
     ]
    }
   ],
   "source": [
    "lengths = []\n",
    "\n",
    "for d in tqdm.tqdm(dataset._data.index, total=len(dataset._data.index), file=sys.stdout):\n",
    "    lengths.append(\n",
    "        len(dataset.get_vw_document(d).loc[d, 'vw_text'].split())\n",
    "    )"
   ]
  },
  {
   "cell_type": "code",
   "execution_count": 31,
   "metadata": {},
   "outputs": [],
   "source": [
    "lengths = dataset._data['vw_text'].apply(lambda text: len(text.split()))"
   ]
  },
  {
   "cell_type": "code",
   "execution_count": 32,
   "metadata": {},
   "outputs": [],
   "source": [
    "mean_length = sum(lengths) / dataset._data.shape[0]"
   ]
  },
  {
   "cell_type": "code",
   "execution_count": 33,
   "metadata": {},
   "outputs": [],
   "source": [
    "median_length = np.median(lengths)"
   ]
  },
  {
   "cell_type": "code",
   "execution_count": null,
   "metadata": {},
   "outputs": [],
   "source": []
  },
  {
   "cell_type": "code",
   "execution_count": null,
   "metadata": {},
   "outputs": [],
   "source": []
  },
  {
   "cell_type": "code",
   "execution_count": null,
   "metadata": {},
   "outputs": [],
   "source": [
    "# PN\n",
    "\n",
    "mean_length"
   ]
  },
  {
   "cell_type": "code",
   "execution_count": 101,
   "metadata": {},
   "outputs": [
    {
     "data": {
      "text/plain": [
       "461.5"
      ]
     },
     "execution_count": 101,
     "metadata": {},
     "output_type": "execute_result"
    }
   ],
   "source": [
    "median_length"
   ]
  },
  {
   "cell_type": "code",
   "execution_count": 154,
   "metadata": {},
   "outputs": [
    {
     "data": {
      "text/plain": [
       "23075.0"
      ]
     },
     "execution_count": 154,
     "metadata": {},
     "output_type": "execute_result"
    }
   ],
   "source": [
    "461.5 * 50"
   ]
  },
  {
   "cell_type": "code",
   "execution_count": null,
   "metadata": {},
   "outputs": [],
   "source": []
  },
  {
   "cell_type": "code",
   "execution_count": 108,
   "metadata": {},
   "outputs": [
    {
     "data": {
      "text/plain": [
       "96.72923618835743"
      ]
     },
     "execution_count": 108,
     "metadata": {},
     "output_type": "execute_result"
    }
   ],
   "source": [
    "# Reuters\n",
    "\n",
    "mean_length"
   ]
  },
  {
   "cell_type": "code",
   "execution_count": 109,
   "metadata": {},
   "outputs": [
    {
     "data": {
      "text/plain": [
       "70.0"
      ]
     },
     "execution_count": 109,
     "metadata": {},
     "output_type": "execute_result"
    }
   ],
   "source": [
    "median_length"
   ]
  },
  {
   "cell_type": "code",
   "execution_count": 155,
   "metadata": {},
   "outputs": [
    {
     "data": {
      "text/plain": [
       "21000"
      ]
     },
     "execution_count": 155,
     "metadata": {},
     "output_type": "execute_result"
    }
   ],
   "source": [
    "300 * 70"
   ]
  },
  {
   "cell_type": "code",
   "execution_count": null,
   "metadata": {},
   "outputs": [],
   "source": []
  },
  {
   "cell_type": "code",
   "execution_count": 33,
   "metadata": {},
   "outputs": [
    {
     "data": {
      "text/plain": [
       "1077.038"
      ]
     },
     "execution_count": 33,
     "metadata": {},
     "output_type": "execute_result"
    }
   ],
   "source": [
    "# Brown\n",
    "\n",
    "mean_length"
   ]
  },
  {
   "cell_type": "code",
   "execution_count": 34,
   "metadata": {},
   "outputs": [
    {
     "data": {
      "text/plain": [
       "1073.0"
      ]
     },
     "execution_count": 34,
     "metadata": {},
     "output_type": "execute_result"
    }
   ],
   "source": [
    "median_length"
   ]
  },
  {
   "cell_type": "code",
   "execution_count": 35,
   "metadata": {},
   "outputs": [
    {
     "data": {
      "text/plain": [
       "21460.0"
      ]
     },
     "execution_count": 35,
     "metadata": {},
     "output_type": "execute_result"
    }
   ],
   "source": [
    "1073.0 * 20"
   ]
  },
  {
   "cell_type": "code",
   "execution_count": null,
   "metadata": {},
   "outputs": [],
   "source": []
  },
  {
   "cell_type": "code",
   "execution_count": 162,
   "metadata": {},
   "outputs": [
    {
     "data": {
      "text/plain": [
       "139.84532526796136"
      ]
     },
     "execution_count": 162,
     "metadata": {},
     "output_type": "execute_result"
    }
   ],
   "source": [
    "# 20 NG\n",
    "\n",
    "mean_length"
   ]
  },
  {
   "cell_type": "code",
   "execution_count": 163,
   "metadata": {},
   "outputs": [
    {
     "data": {
      "text/plain": [
       "75.0"
      ]
     },
     "execution_count": 163,
     "metadata": {},
     "output_type": "execute_result"
    }
   ],
   "source": [
    "median_length"
   ]
  },
  {
   "cell_type": "code",
   "execution_count": 164,
   "metadata": {},
   "outputs": [
    {
     "data": {
      "text/plain": [
       "22500"
      ]
     },
     "execution_count": 164,
     "metadata": {},
     "output_type": "execute_result"
    }
   ],
   "source": [
    "300 * 75"
   ]
  },
  {
   "cell_type": "code",
   "execution_count": null,
   "metadata": {},
   "outputs": [],
   "source": []
  },
  {
   "cell_type": "code",
   "execution_count": null,
   "metadata": {},
   "outputs": [],
   "source": []
  },
  {
   "cell_type": "code",
   "execution_count": 30,
   "metadata": {},
   "outputs": [
    {
     "data": {
      "text/plain": [
       "29.167257053291536"
      ]
     },
     "execution_count": 30,
     "metadata": {},
     "output_type": "execute_result"
    }
   ],
   "source": [
    "# AG News\n",
    "\n",
    "mean_length"
   ]
  },
  {
   "cell_type": "code",
   "execution_count": 31,
   "metadata": {},
   "outputs": [
    {
     "data": {
      "text/plain": [
       "29.0"
      ]
     },
     "execution_count": 31,
     "metadata": {},
     "output_type": "execute_result"
    }
   ],
   "source": [
    "median_length"
   ]
  },
  {
   "cell_type": "code",
   "execution_count": 34,
   "metadata": {},
   "outputs": [
    {
     "data": {
      "text/plain": [
       "23200"
      ]
     },
     "execution_count": 34,
     "metadata": {},
     "output_type": "execute_result"
    }
   ],
   "source": [
    "800 * 29"
   ]
  },
  {
   "cell_type": "code",
   "execution_count": 32,
   "metadata": {},
   "outputs": [
    {
     "data": {
      "text/plain": [
       "793.1034482758621"
      ]
     },
     "execution_count": 32,
     "metadata": {},
     "output_type": "execute_result"
    }
   ],
   "source": [
    "23000 / 29"
   ]
  },
  {
   "cell_type": "code",
   "execution_count": null,
   "metadata": {},
   "outputs": [],
   "source": []
  },
  {
   "cell_type": "code",
   "execution_count": null,
   "metadata": {},
   "outputs": [],
   "source": []
  },
  {
   "cell_type": "code",
   "execution_count": null,
   "metadata": {},
   "outputs": [],
   "source": []
  },
  {
   "cell_type": "code",
   "execution_count": 32,
   "metadata": {},
   "outputs": [
    {
     "data": {
      "text/plain": [
       "422.5294958355921"
      ]
     },
     "execution_count": 32,
     "metadata": {},
     "output_type": "execute_result"
    }
   ],
   "source": [
    "# Watan\n",
    "\n",
    "mean_length"
   ]
  },
  {
   "cell_type": "code",
   "execution_count": 33,
   "metadata": {},
   "outputs": [
    {
     "data": {
      "text/plain": [
       "292.0"
      ]
     },
     "execution_count": 33,
     "metadata": {},
     "output_type": "execute_result"
    }
   ],
   "source": [
    "median_length"
   ]
  },
  {
   "cell_type": "code",
   "execution_count": 34,
   "metadata": {},
   "outputs": [
    {
     "data": {
      "text/plain": [
       "78.76712328767124"
      ]
     },
     "execution_count": 34,
     "metadata": {},
     "output_type": "execute_result"
    }
   ],
   "source": [
    "23000 / median_length"
   ]
  },
  {
   "cell_type": "code",
   "execution_count": null,
   "metadata": {},
   "outputs": [],
   "source": []
  },
  {
   "cell_type": "code",
   "execution_count": null,
   "metadata": {},
   "outputs": [],
   "source": []
  },
  {
   "cell_type": "code",
   "execution_count": 38,
   "metadata": {},
   "outputs": [],
   "source": [
    "p_25 = np.percentile(lengths, 25)\n",
    "p_75 = np.percentile(lengths, 75)"
   ]
  },
  {
   "cell_type": "raw",
   "metadata": {},
   "source": [
    "del lengths"
   ]
  },
  {
   "cell_type": "code",
   "execution_count": 197,
   "metadata": {},
   "outputs": [
    {
     "data": {
      "text/plain": [
       "524.0"
      ]
     },
     "execution_count": 197,
     "metadata": {},
     "output_type": "execute_result"
    }
   ],
   "source": [
    "p_75"
   ]
  },
  {
   "cell_type": "code",
   "execution_count": 198,
   "metadata": {},
   "outputs": [
    {
     "data": {
      "text/plain": [
       "174.0"
      ]
     },
     "execution_count": 198,
     "metadata": {},
     "output_type": "execute_result"
    }
   ],
   "source": [
    "p_25"
   ]
  },
  {
   "cell_type": "code",
   "execution_count": 199,
   "metadata": {},
   "outputs": [
    {
     "data": {
      "text/plain": [
       "5840.0"
      ]
     },
     "execution_count": 199,
     "metadata": {},
     "output_type": "execute_result"
    }
   ],
   "source": [
    "median_length * 20"
   ]
  },
  {
   "cell_type": "code",
   "execution_count": null,
   "metadata": {},
   "outputs": [],
   "source": []
  },
  {
   "cell_type": "code",
   "execution_count": null,
   "metadata": {},
   "outputs": [],
   "source": []
  },
  {
   "cell_type": "code",
   "execution_count": 39,
   "metadata": {},
   "outputs": [],
   "source": [
    "all_documents = [\n",
    "    d for i, d in enumerate(dataset._data.index)\n",
    "    if (\n",
    "        lengths[i] <= p_75\n",
    "        and\n",
    "        lengths[i] >= p_25\n",
    "    )\n",
    "]"
   ]
  },
  {
   "cell_type": "code",
   "execution_count": 40,
   "metadata": {},
   "outputs": [],
   "source": [
    "del lengths"
   ]
  },
  {
   "cell_type": "code",
   "execution_count": 41,
   "metadata": {},
   "outputs": [
    {
     "data": {
      "text/plain": [
       "10202"
      ]
     },
     "execution_count": 41,
     "metadata": {},
     "output_type": "execute_result"
    }
   ],
   "source": [
    "len(all_documents)"
   ]
  },
  {
   "cell_type": "code",
   "execution_count": null,
   "metadata": {},
   "outputs": [],
   "source": []
  },
  {
   "cell_type": "code",
   "execution_count": 210,
   "metadata": {},
   "outputs": [
    {
     "data": {
      "text/plain": [
       "(20291, (20291, 3))"
      ]
     },
     "execution_count": 210,
     "metadata": {},
     "output_type": "execute_result"
    }
   ],
   "source": [
    "dataset._data.index.nunique(), dataset._data.shape"
   ]
  },
  {
   "cell_type": "code",
   "execution_count": null,
   "metadata": {},
   "outputs": [],
   "source": []
  },
  {
   "cell_type": "code",
   "execution_count": 88,
   "metadata": {},
   "outputs": [],
   "source": [
    "seed = 42 # 0 # 42 # 11221963\n",
    "random = np.random.RandomState(seed)"
   ]
  },
  {
   "cell_type": "code",
   "execution_count": 89,
   "metadata": {},
   "outputs": [],
   "source": [
    "old_test_documents = test_documents"
   ]
  },
  {
   "cell_type": "code",
   "execution_count": 90,
   "metadata": {},
   "outputs": [],
   "source": [
    "num_test_documents = 80 # 800 # 300 # 20 # 300 # 50\n",
    "test_documents = random.choice(all_documents, size=num_test_documents, replace=False)"
   ]
  },
  {
   "cell_type": "code",
   "execution_count": 91,
   "metadata": {},
   "outputs": [
    {
     "data": {
      "text/plain": [
       "23360.0"
      ]
     },
     "execution_count": 91,
     "metadata": {},
     "output_type": "execute_result"
    }
   ],
   "source": [
    "median_length * num_test_documents"
   ]
  },
  {
   "cell_type": "code",
   "execution_count": 92,
   "metadata": {},
   "outputs": [
    {
     "data": {
      "text/plain": [
       "80"
      ]
     },
     "execution_count": 92,
     "metadata": {},
     "output_type": "execute_result"
    }
   ],
   "source": [
    "len(test_documents)"
   ]
  },
  {
   "cell_type": "code",
   "execution_count": 93,
   "metadata": {},
   "outputs": [
    {
     "data": {
      "text/plain": [
       "80"
      ]
     },
     "execution_count": 93,
     "metadata": {},
     "output_type": "execute_result"
    }
   ],
   "source": [
    "len(set(test_documents))"
   ]
  },
  {
   "cell_type": "code",
   "execution_count": 94,
   "metadata": {},
   "outputs": [
    {
     "data": {
      "text/plain": [
       "array(['doc_4_00214', 'doc_5_02707', 'doc_0_02199', 'doc_2_01677',\n",
       "       'doc_6_03308', 'doc_6_01353', 'doc_1_03270', 'doc_6_03218',\n",
       "       'doc_1_04240', 'doc_1_03776'], dtype='<U11')"
      ]
     },
     "execution_count": 94,
     "metadata": {},
     "output_type": "execute_result"
    }
   ],
   "source": [
    "test_documents[:10]"
   ]
  },
  {
   "cell_type": "code",
   "execution_count": 95,
   "metadata": {},
   "outputs": [],
   "source": [
    "test_documents = list(test_documents)"
   ]
  },
  {
   "cell_type": "code",
   "execution_count": null,
   "metadata": {},
   "outputs": [],
   "source": []
  },
  {
   "cell_type": "code",
   "execution_count": 96,
   "metadata": {},
   "outputs": [
    {
     "data": {
      "text/plain": [
       "1"
      ]
     },
     "execution_count": 96,
     "metadata": {},
     "output_type": "execute_result"
    }
   ],
   "source": [
    "len(set(old_test_documents).intersection(set(test_documents)))"
   ]
  },
  {
   "cell_type": "code",
   "execution_count": 97,
   "metadata": {},
   "outputs": [
    {
     "data": {
      "text/plain": [
       "{'doc_2_01908'}"
      ]
     },
     "execution_count": 97,
     "metadata": {},
     "output_type": "execute_result"
    }
   ],
   "source": [
    "set(old_test_documents).intersection(set(test_documents))"
   ]
  },
  {
   "cell_type": "markdown",
   "metadata": {},
   "source": [
    "## Scores (for Topics and Models)"
   ]
  },
  {
   "cell_type": "code",
   "execution_count": 98,
   "metadata": {},
   "outputs": [],
   "source": [
    "WINDOW = 20\n",
    "NUM_TOP_WORDS = 20\n",
    "MAX_NUM_OUT_WORDS = 5\n",
    "\n",
    "VERBOSE = False"
   ]
  },
  {
   "cell_type": "code",
   "execution_count": 99,
   "metadata": {},
   "outputs": [],
   "source": [
    "# Default scores in Topic Bank\n",
    "\n",
    "main_topic_score = IntratextCoherenceScore(\n",
    "    name='intratext_coherence_score__tt_vw__cm_seg_weight__wtrt_pwt__sem_none',\n",
    "    data=dataset,\n",
    "    documents=test_documents,\n",
    "    text_type=TextType.VW_TEXT,\n",
    "    computation_method=ComputationMethod.SEGMENT_WEIGHT,\n",
    "    word_topic_relatedness=WordTopicRelatednessType.PWT,\n",
    "    specificity_estimation=SpecificityEstimationMethod.NONE,\n",
    "    max_num_out_of_topic_words=MAX_NUM_OUT_WORDS,\n",
    "    window=WINDOW,\n",
    "    verbose=VERBOSE,\n",
    ")\n",
    "\n",
    "other_topic_scores = [\n",
    "    SophisticatedTopTokensCoherenceScore(\n",
    "        name='top_tokens_coherence_score__tt_vw__wtrt_pwt__sem_none',\n",
    "        data=dataset,\n",
    "        documents=test_documents,\n",
    "        text_type=TextType.VW_TEXT,\n",
    "        word_topic_relatedness=WordTopicRelatednessType.PWT,\n",
    "        specificity_estimation=SpecificityEstimationMethod.NONE,\n",
    "        num_top_words=NUM_TOP_WORDS,\n",
    "        window=WINDOW,\n",
    "        verbose=VERBOSE,\n",
    "    )\n",
    "]"
   ]
  },
  {
   "cell_type": "code",
   "execution_count": 100,
   "metadata": {},
   "outputs": [],
   "source": [
    "# Other coherence scores variations\n",
    "\n",
    "text_type_ids = {\n",
    "    TextType.VW_TEXT: 'vw',\n",
    "}\n",
    "computation_method_ids = {\n",
    "    ComputationMethod.SEGMENT_WEIGHT: 'seg_weight',\n",
    "    ComputationMethod.SEGMENT_LENGTH: 'seg_length',\n",
    "    ComputationMethod.SUM_OVER_WINDOW: 'sow',\n",
    "}\n",
    "word_topic_relatedness_type_ids = {\n",
    "    WordTopicRelatednessType.PWT: 'pwt',\n",
    "    WordTopicRelatednessType.PTW: 'ptw',\n",
    "}\n",
    "specificity_estimation_method_ids = {\n",
    "    SpecificityEstimationMethod.NONE: 'none',\n",
    "    SpecificityEstimationMethod.AVERAGE: 'av',\n",
    "    SpecificityEstimationMethod.MAXIMUM: 'max',\n",
    "}\n",
    "\n",
    "\n",
    "param_combinations_intratext = list(\n",
    "    itertools.product(\n",
    "        text_type_ids,\n",
    "        computation_method_ids,\n",
    "        word_topic_relatedness_type_ids,\n",
    "        specificity_estimation_method_ids,\n",
    "    )\n",
    ")\n",
    "param_combinations_intratext.remove(\n",
    "    (\n",
    "        TextType.VW_TEXT,\n",
    "        ComputationMethod.SEGMENT_WEIGHT,\n",
    "        WordTopicRelatednessType.PWT,\n",
    "        SpecificityEstimationMethod.NONE\n",
    "    )\n",
    ")\n",
    "\n",
    "param_combinations_top_tokens = list(\n",
    "    itertools.product(\n",
    "        text_type_ids,\n",
    "        word_topic_relatedness_type_ids,\n",
    "        specificity_estimation_method_ids,\n",
    "    )\n",
    ")\n",
    "param_combinations_top_tokens.remove(\n",
    "    (\n",
    "        TextType.VW_TEXT,\n",
    "        WordTopicRelatednessType.PWT,\n",
    "        SpecificityEstimationMethod.NONE\n",
    "    )\n",
    ")\n",
    "\n",
    "\n",
    "for param_combination in param_combinations_intratext:\n",
    "    (text_type,\n",
    "     computation_method,\n",
    "     word_topic_relatedness,\n",
    "     specificity_estimation) = param_combination\n",
    "\n",
    "    name = (\n",
    "        f'intratext_coherence_score'\n",
    "        f'__tt_{text_type_ids[text_type]}'\n",
    "        f'__cm_{computation_method_ids[computation_method]}'\n",
    "        f'__wtrt_{word_topic_relatedness_type_ids[word_topic_relatedness]}'\n",
    "        f'__sem_{specificity_estimation_method_ids[specificity_estimation]}'\n",
    "    )\n",
    "\n",
    "    other_topic_scores.append(\n",
    "        IntratextCoherenceScore(\n",
    "            name=name,\n",
    "            data=dataset,\n",
    "            documents=test_documents,\n",
    "            text_type=text_type,\n",
    "            computation_method=computation_method,\n",
    "            word_topic_relatedness=word_topic_relatedness,\n",
    "            specificity_estimation=specificity_estimation,\n",
    "            max_num_out_of_topic_words=MAX_NUM_OUT_WORDS,\n",
    "            window=WINDOW,\n",
    "            verbose=VERBOSE,\n",
    "        )\n",
    "    )\n",
    "\n",
    "\n",
    "for param_combination in param_combinations_top_tokens:\n",
    "    (text_type,\n",
    "     word_topic_relatedness,\n",
    "     specificity_estimation) = param_combination\n",
    "\n",
    "    name = (\n",
    "        f'top_tokens_coherence_score'\n",
    "        f'__tt_{text_type_ids[text_type]}'\n",
    "        f'__wtrt_{word_topic_relatedness_type_ids[word_topic_relatedness]}'\n",
    "        f'__sem_{specificity_estimation_method_ids[specificity_estimation]}'\n",
    "    )\n",
    "\n",
    "    other_topic_scores.append(\n",
    "        SophisticatedTopTokensCoherenceScore(\n",
    "            name=name,\n",
    "            data=dataset,\n",
    "            documents=test_documents,\n",
    "            text_type=text_type,\n",
    "            word_topic_relatedness=word_topic_relatedness,\n",
    "            specificity_estimation=specificity_estimation,\n",
    "            #word_cooccurrences=COOC_VALUES2,  # TODO!\n",
    "            num_top_words=NUM_TOP_WORDS,\n",
    "            window=WINDOW,\n",
    "            verbose=VERBOSE,\n",
    "        )\n",
    "    )"
   ]
  },
  {
   "cell_type": "code",
   "execution_count": 101,
   "metadata": {},
   "outputs": [
    {
     "data": {
      "text/plain": [
       "23"
      ]
     },
     "execution_count": 101,
     "metadata": {},
     "output_type": "execute_result"
    }
   ],
   "source": [
    "len(other_topic_scores)"
   ]
  },
  {
   "cell_type": "code",
   "execution_count": 102,
   "metadata": {},
   "outputs": [
    {
     "data": {
      "text/plain": [
       "702844"
      ]
     },
     "execution_count": 102,
     "metadata": {},
     "output_type": "execute_result"
    }
   ],
   "source": [
    "len(COOC_VALUES)"
   ]
  },
  {
   "cell_type": "code",
   "execution_count": 103,
   "metadata": {},
   "outputs": [],
   "source": [
    "# Another implementation of top-tokens-based coherence\n",
    "\n",
    "# param_combinations_other_top_tokens = list(\n",
    "#     itertools.product([True, False], ['median', 'mean'], [None, 1e-7])\n",
    "# )\n",
    "\n",
    "param_combinations_other_top_tokens = list(\n",
    "    itertools.product([True], ['median'], [1e-7])\n",
    ")\n",
    "\n",
    "if len(COOC_VALUES) > 0:  # with pre-computed coocs\n",
    "    for param_combination in param_combinations_other_top_tokens:\n",
    "        (kernel,\n",
    "         average,\n",
    "         active_topic_threshold) = param_combination\n",
    "\n",
    "        name = (\n",
    "            f'top_tokens_coherence_other_implementation_score'\n",
    "            f'__ker_{kernel}'\n",
    "            f'__av_{average}'\n",
    "            f'__att_{active_topic_threshold}'\n",
    "        )\n",
    "\n",
    "        other_topic_scores.append(\n",
    "            SimpleTopTokensCoherenceScore(\n",
    "                name=name,\n",
    "                data=dataset,\n",
    "                cooccurrence_values=COOC_VALUES,\n",
    "                num_top_tokens=20,\n",
    "                kernel=kernel,\n",
    "                average=average,\n",
    "                active_topic_threshold=active_topic_threshold,\n",
    "            )\n",
    "        )"
   ]
  },
  {
   "cell_type": "code",
   "execution_count": 104,
   "metadata": {},
   "outputs": [
    {
     "data": {
      "text/plain": [
       "24"
      ]
     },
     "execution_count": 104,
     "metadata": {},
     "output_type": "execute_result"
    }
   ],
   "source": [
    "len(other_topic_scores)"
   ]
  },
  {
   "cell_type": "code",
   "execution_count": 105,
   "metadata": {},
   "outputs": [],
   "source": [
    "# Default scores in Topic Bank\n",
    "\n",
    "other_scores = [\n",
    "    SparsityPhiScore(\n",
    "        name='sparsity_phi_score'\n",
    "    ),\n",
    "    SparsityThetaScore(\n",
    "        name='sparsity_theta_score'\n",
    "    ),\n",
    "]"
   ]
  },
  {
   "cell_type": "markdown",
   "metadata": {},
   "source": [
    "## Bank Creation"
   ]
  },
  {
   "cell_type": "code",
   "execution_count": 106,
   "metadata": {},
   "outputs": [],
   "source": [
    "# Default train func\n",
    "\n",
    "TRAIN_FUNCS = default_train_func"
   ]
  },
  {
   "cell_type": "raw",
   "metadata": {},
   "source": [
    "! rm -r ./Post_Science__internals/result"
   ]
  },
  {
   "cell_type": "code",
   "execution_count": 221,
   "metadata": {},
   "outputs": [],
   "source": [
    "os.makedirs(os.path.join(DATASET_INTERNALS_FOLDER_PATH, 'result'))"
   ]
  },
  {
   "cell_type": "raw",
   "metadata": {},
   "source": [
    "! rm Post_Science__internals/dict.dict  # TODO !!!"
   ]
  },
  {
   "cell_type": "code",
   "execution_count": 107,
   "metadata": {},
   "outputs": [
    {
     "data": {
      "text/plain": [
       "False"
      ]
     },
     "execution_count": 107,
     "metadata": {},
     "output_type": "execute_result"
    }
   ],
   "source": [
    "os.path.isdir(os.path.join(DATASET_INTERNALS_FOLDER_PATH, 'result', f'bank__{seed}'))"
   ]
  },
  {
   "cell_type": "raw",
   "metadata": {},
   "source": [
    "! rm -r './Watan2004__internals/result/bank__11221963'"
   ]
  },
  {
   "cell_type": "code",
   "execution_count": 108,
   "metadata": {},
   "outputs": [
    {
     "data": {
      "text/plain": [
       "'./Watan2004__internals/result/bank__42'"
      ]
     },
     "execution_count": 108,
     "metadata": {},
     "output_type": "execute_result"
    }
   ],
   "source": [
    "os.path.join(DATASET_INTERNALS_FOLDER_PATH, 'result', f'bank__{seed}')"
   ]
  },
  {
   "cell_type": "code",
   "execution_count": 109,
   "metadata": {},
   "outputs": [],
   "source": [
    "os.makedirs(os.path.join(DATASET_INTERNALS_FOLDER_PATH, 'result', f'bank__{seed}'))"
   ]
  },
  {
   "cell_type": "code",
   "execution_count": 110,
   "metadata": {},
   "outputs": [
    {
     "data": {
      "text/plain": [
       "42"
      ]
     },
     "execution_count": 110,
     "metadata": {},
     "output_type": "execute_result"
    }
   ],
   "source": [
    "seed"
   ]
  },
  {
   "cell_type": "code",
   "execution_count": 115,
   "metadata": {},
   "outputs": [
    {
     "name": "stderr",
     "output_type": "stream",
     "text": [
      "../topnum/search_methods/topic_bank/topic_bank_method.py:257: UserWarning: File \"./Watan2004__internals/result/search_result__42.json\" already exists. Loading\n",
      "  warnings.warn(f'File \"{save_file_path}\" already exists. Loading')\n"
     ]
    }
   ],
   "source": [
    "# TODO: use Holdout Perplexity as Stop score\n",
    "\n",
    "start_model_number = 1  # TODO\n",
    "\n",
    "optimizer = TopicBankMethod(\n",
    "    data = dataset,\n",
    "    min_df_rate = 0.025,\n",
    "    max_df_rate = 0.8,\n",
    "\n",
    "    main_topic_score = main_topic_score,\n",
    "    other_topic_scores = other_topic_scores,\n",
    "    other_scores = other_scores,\n",
    "    \n",
    "    documents = test_documents,\n",
    "\n",
    "    start_model_number = start_model_number,\n",
    "    max_num_models = 20,\n",
    "    one_model_num_topics = 100,\n",
    "    num_fit_iterations = 100,\n",
    "    topic_score_threshold_percentile = 90,\n",
    "\n",
    "    save_bank = True,\n",
    "    save_model_topics = True,\n",
    "    \n",
    "    save_file_path = os.path.join(\n",
    "        DATASET_INTERNALS_FOLDER_PATH, 'result', f'search_result__{seed}.json'),\n",
    "    bank_folder_path = os.path.join(\n",
    "        DATASET_INTERNALS_FOLDER_PATH, 'result', f'bank__{seed}'),\n",
    "\n",
    "    train_funcs = TRAIN_FUNCS,\n",
    "    \n",
    "    verbose = True,\n",
    ")"
   ]
  },
  {
   "cell_type": "code",
   "execution_count": 116,
   "metadata": {},
   "outputs": [
    {
     "data": {
      "text/plain": [
       "dict_keys(['optimum', 'optimum_std', 'bank_scores', 'bank_topic_scores', 'model_scores', 'model_topic_scores', 'num_bank_topics', 'num_model_topics'])"
      ]
     },
     "execution_count": 116,
     "metadata": {},
     "output_type": "execute_result"
    }
   ],
   "source": [
    "optimizer._result.keys()"
   ]
  },
  {
   "cell_type": "code",
   "execution_count": 117,
   "metadata": {},
   "outputs": [
    {
     "data": {
      "text/plain": [
       "[10]"
      ]
     },
     "execution_count": 117,
     "metadata": {},
     "output_type": "execute_result"
    }
   ],
   "source": [
    "optimizer._result['num_bank_topics']"
   ]
  },
  {
   "cell_type": "code",
   "execution_count": 118,
   "metadata": {},
   "outputs": [
    {
     "data": {
      "text/plain": [
       "1"
      ]
     },
     "execution_count": 118,
     "metadata": {},
     "output_type": "execute_result"
    }
   ],
   "source": [
    "len(optimizer._result['num_bank_topics'])"
   ]
  },
  {
   "cell_type": "code",
   "execution_count": 76,
   "metadata": {},
   "outputs": [
    {
     "data": {
      "text/plain": [
       "'./Watan2004__internals/result/search_result__11221963.json'"
      ]
     },
     "execution_count": 76,
     "metadata": {},
     "output_type": "execute_result"
    }
   ],
   "source": [
    "optimizer._save_file_path"
   ]
  },
  {
   "cell_type": "raw",
   "metadata": {},
   "source": [
    "! rm './Watan2004__internals/result/search_result__11221963.json'"
   ]
  },
  {
   "cell_type": "code",
   "execution_count": 87,
   "metadata": {},
   "outputs": [
    {
     "data": {
      "text/plain": [
       "20"
      ]
     },
     "execution_count": 87,
     "metadata": {},
     "output_type": "execute_result"
    }
   ],
   "source": [
    "len(optimizer._result['num_bank_topics'])"
   ]
  },
  {
   "cell_type": "code",
   "execution_count": 127,
   "metadata": {},
   "outputs": [
    {
     "data": {
      "text/plain": [
       "'./AG_News__internals/result/bank__0'"
      ]
     },
     "execution_count": 127,
     "metadata": {},
     "output_type": "execute_result"
    }
   ],
   "source": [
    "optimizer._topic_bank._path"
   ]
  },
  {
   "cell_type": "code",
   "execution_count": 84,
   "metadata": {},
   "outputs": [
    {
     "data": {
      "text/html": [
       "<div>\n",
       "<style scoped>\n",
       "    .dataframe tbody tr th:only-of-type {\n",
       "        vertical-align: middle;\n",
       "    }\n",
       "\n",
       "    .dataframe tbody tr th {\n",
       "        vertical-align: top;\n",
       "    }\n",
       "\n",
       "    .dataframe thead th {\n",
       "        text-align: right;\n",
       "    }\n",
       "</style>\n",
       "<table border=\"1\" class=\"dataframe\">\n",
       "  <thead>\n",
       "    <tr style=\"text-align: right;\">\n",
       "      <th></th>\n",
       "      <th></th>\n",
       "      <th>topic_0</th>\n",
       "      <th>topic_1</th>\n",
       "      <th>topic_2</th>\n",
       "      <th>topic_3</th>\n",
       "      <th>topic_4</th>\n",
       "      <th>topic_5</th>\n",
       "      <th>topic_6</th>\n",
       "      <th>topic_7</th>\n",
       "      <th>topic_8</th>\n",
       "      <th>topic_9</th>\n",
       "    </tr>\n",
       "  </thead>\n",
       "  <tbody>\n",
       "    <tr>\n",
       "      <th rowspan=\"5\" valign=\"top\">@word</th>\n",
       "      <th>تمني</th>\n",
       "      <td>0.000000e+00</td>\n",
       "      <td>0.000000</td>\n",
       "      <td>0.0</td>\n",
       "      <td>0.000000</td>\n",
       "      <td>0.000000e+00</td>\n",
       "      <td>0.000000e+00</td>\n",
       "      <td>0.000000e+00</td>\n",
       "      <td>6.471352e-14</td>\n",
       "      <td>0.000000e+00</td>\n",
       "      <td>5.845980e-05</td>\n",
       "    </tr>\n",
       "    <tr>\n",
       "      <th>جوز</th>\n",
       "      <td>0.000000e+00</td>\n",
       "      <td>0.000000</td>\n",
       "      <td>0.0</td>\n",
       "      <td>0.000000</td>\n",
       "      <td>0.000000e+00</td>\n",
       "      <td>0.000000e+00</td>\n",
       "      <td>4.923269e-04</td>\n",
       "      <td>0.000000e+00</td>\n",
       "      <td>0.000000e+00</td>\n",
       "      <td>0.000000e+00</td>\n",
       "    </tr>\n",
       "    <tr>\n",
       "      <th>ربط</th>\n",
       "      <td>7.607563e-07</td>\n",
       "      <td>0.000000</td>\n",
       "      <td>0.0</td>\n",
       "      <td>0.000007</td>\n",
       "      <td>0.000000e+00</td>\n",
       "      <td>1.301171e-07</td>\n",
       "      <td>4.888294e-14</td>\n",
       "      <td>0.000000e+00</td>\n",
       "      <td>3.320361e-10</td>\n",
       "      <td>0.000000e+00</td>\n",
       "    </tr>\n",
       "    <tr>\n",
       "      <th>خط</th>\n",
       "      <td>7.317736e-13</td>\n",
       "      <td>0.000000</td>\n",
       "      <td>0.0</td>\n",
       "      <td>0.000000</td>\n",
       "      <td>0.000000e+00</td>\n",
       "      <td>0.000000e+00</td>\n",
       "      <td>0.000000e+00</td>\n",
       "      <td>0.000000e+00</td>\n",
       "      <td>3.579498e-10</td>\n",
       "      <td>0.000000e+00</td>\n",
       "    </tr>\n",
       "    <tr>\n",
       "      <th>كبر</th>\n",
       "      <td>3.088602e-11</td>\n",
       "      <td>0.000006</td>\n",
       "      <td>0.0</td>\n",
       "      <td>0.002187</td>\n",
       "      <td>7.476166e-13</td>\n",
       "      <td>3.381091e-08</td>\n",
       "      <td>2.038143e-10</td>\n",
       "      <td>7.529581e-04</td>\n",
       "      <td>9.068673e-07</td>\n",
       "      <td>1.399392e-10</td>\n",
       "    </tr>\n",
       "  </tbody>\n",
       "</table>\n",
       "</div>"
      ],
      "text/plain": [
       "                 topic_0   topic_1  topic_2   topic_3       topic_4  \\\n",
       "@word تمني  0.000000e+00  0.000000      0.0  0.000000  0.000000e+00   \n",
       "      جوز   0.000000e+00  0.000000      0.0  0.000000  0.000000e+00   \n",
       "      ربط   7.607563e-07  0.000000      0.0  0.000007  0.000000e+00   \n",
       "      خط    7.317736e-13  0.000000      0.0  0.000000  0.000000e+00   \n",
       "      كبر   3.088602e-11  0.000006      0.0  0.002187  7.476166e-13   \n",
       "\n",
       "                 topic_5       topic_6       topic_7       topic_8  \\\n",
       "@word تمني  0.000000e+00  0.000000e+00  6.471352e-14  0.000000e+00   \n",
       "      جوز   0.000000e+00  4.923269e-04  0.000000e+00  0.000000e+00   \n",
       "      ربط   1.301171e-07  4.888294e-14  0.000000e+00  3.320361e-10   \n",
       "      خط    0.000000e+00  0.000000e+00  0.000000e+00  3.579498e-10   \n",
       "      كبر   3.381091e-08  2.038143e-10  7.529581e-04  9.068673e-07   \n",
       "\n",
       "                 topic_9  \n",
       "@word تمني  5.845980e-05  \n",
       "      جوز   0.000000e+00  \n",
       "      ربط   0.000000e+00  \n",
       "      خط    0.000000e+00  \n",
       "      كبر   1.399392e-10  "
      ]
     },
     "execution_count": 84,
     "metadata": {},
     "output_type": "execute_result"
    }
   ],
   "source": [
    "optimizer._topic_bank.view_topics().head()"
   ]
  },
  {
   "cell_type": "code",
   "execution_count": 63,
   "metadata": {},
   "outputs": [
    {
     "data": {
      "text/plain": [
       "(1913, 10)"
      ]
     },
     "execution_count": 63,
     "metadata": {},
     "output_type": "execute_result"
    }
   ],
   "source": [
    "optimizer._topic_bank.view_topics().shape"
   ]
  },
  {
   "cell_type": "code",
   "execution_count": 85,
   "metadata": {},
   "outputs": [
    {
     "data": {
      "text/plain": [
       "@word  و       0.550311\n",
       "       لذي     0.023649\n",
       "       شيخ     0.019949\n",
       "       فقد     0.006017\n",
       "       صدر     0.006008\n",
       "       قائم    0.005285\n",
       "       رحم     0.005047\n",
       "       حكم     0.004551\n",
       "       وفي     0.004416\n",
       "       سعيد    0.004405\n",
       "Name: topic_2, dtype: float64"
      ]
     },
     "execution_count": 85,
     "metadata": {},
     "output_type": "execute_result"
    }
   ],
   "source": [
    "optimizer._topic_bank.view_topics()['topic_2'].sort_values(ascending=False)[:10]"
   ]
  },
  {
   "cell_type": "markdown",
   "metadata": {},
   "source": [
    "Fulfilling the search:"
   ]
  },
  {
   "cell_type": "code",
   "execution_count": 66,
   "metadata": {},
   "outputs": [],
   "source": [
    "all_scores = [main_topic_score] + other_topic_scores"
   ]
  },
  {
   "cell_type": "code",
   "execution_count": 73,
   "metadata": {},
   "outputs": [
    {
     "data": {
      "text/plain": [
       "25"
      ]
     },
     "execution_count": 73,
     "metadata": {},
     "output_type": "execute_result"
    }
   ],
   "source": [
    "len(all_scores)"
   ]
  },
  {
   "cell_type": "code",
   "execution_count": 74,
   "metadata": {},
   "outputs": [
    {
     "name": "stdout",
     "output_type": "stream",
     "text": [
      " 1 intratext_coherence_score__tt_vw__cm_seg_weight__wtrt_pwt__sem_none\n",
      " 2 top_tokens_coherence_score__tt_vw__wtrt_pwt__sem_none\n",
      " 3 intratext_coherence_score__tt_vw__cm_seg_weight__wtrt_pwt__sem_av\n",
      " 4 intratext_coherence_score__tt_vw__cm_seg_weight__wtrt_pwt__sem_max\n",
      " 5 intratext_coherence_score__tt_vw__cm_seg_weight__wtrt_ptw__sem_none\n",
      " 6 intratext_coherence_score__tt_vw__cm_seg_weight__wtrt_ptw__sem_av\n",
      " 7 intratext_coherence_score__tt_vw__cm_seg_weight__wtrt_ptw__sem_max\n",
      " 8 intratext_coherence_score__tt_vw__cm_seg_length__wtrt_pwt__sem_none\n",
      " 9 intratext_coherence_score__tt_vw__cm_seg_length__wtrt_pwt__sem_av\n",
      "10 intratext_coherence_score__tt_vw__cm_seg_length__wtrt_pwt__sem_max\n",
      "11 intratext_coherence_score__tt_vw__cm_seg_length__wtrt_ptw__sem_none\n",
      "12 intratext_coherence_score__tt_vw__cm_seg_length__wtrt_ptw__sem_av\n",
      "13 intratext_coherence_score__tt_vw__cm_seg_length__wtrt_ptw__sem_max\n",
      "14 intratext_coherence_score__tt_vw__cm_sow__wtrt_pwt__sem_none\n",
      "15 intratext_coherence_score__tt_vw__cm_sow__wtrt_pwt__sem_av\n",
      "16 intratext_coherence_score__tt_vw__cm_sow__wtrt_pwt__sem_max\n",
      "17 intratext_coherence_score__tt_vw__cm_sow__wtrt_ptw__sem_none\n",
      "18 intratext_coherence_score__tt_vw__cm_sow__wtrt_ptw__sem_av\n",
      "19 intratext_coherence_score__tt_vw__cm_sow__wtrt_ptw__sem_max\n",
      "20 top_tokens_coherence_score__tt_vw__wtrt_pwt__sem_av\n",
      "21 top_tokens_coherence_score__tt_vw__wtrt_pwt__sem_max\n",
      "22 top_tokens_coherence_score__tt_vw__wtrt_ptw__sem_none\n",
      "23 top_tokens_coherence_score__tt_vw__wtrt_ptw__sem_av\n",
      "24 top_tokens_coherence_score__tt_vw__wtrt_ptw__sem_max\n",
      "25 top_tokens_coherence_other_implementation_score__ker_True__av_median__att_1e-07\n"
     ]
    }
   ],
   "source": [
    "for i, s in enumerate(all_scores):\n",
    "    print(f'{i + 1:2} {s._name}')"
   ]
  },
  {
   "cell_type": "code",
   "execution_count": 71,
   "metadata": {},
   "outputs": [
    {
     "data": {
      "text/plain": [
       "465882"
      ]
     },
     "execution_count": 71,
     "metadata": {},
     "output_type": "execute_result"
    }
   ],
   "source": [
    "len(all_scores[2]._word_cooccurrences)"
   ]
  },
  {
   "cell_type": "code",
   "execution_count": 80,
   "metadata": {},
   "outputs": [
    {
     "data": {
      "text/plain": [
       "466196"
      ]
     },
     "execution_count": 80,
     "metadata": {},
     "output_type": "execute_result"
    }
   ],
   "source": [
    "len(COOC_VALUES2)"
   ]
  },
  {
   "cell_type": "code",
   "execution_count": null,
   "metadata": {},
   "outputs": [
    {
     "name": "stdout",
     "output_type": "stream",
     "text": [
      "  0%|          | 0/19 [00:00<?, ?it/s]\n",
      "  0%|          | 0/25 [00:00<?, ?it/s]\u001b[A\n",
      "  4%|▍         | 1/25 [00:50<20:02, 50.11s/it]\u001b[A\n",
      "  8%|▊         | 2/25 [02:58<28:09, 73.47s/it]\u001b[A\n",
      " 12%|█▏        | 3/25 [03:43<23:52, 65.14s/it]\u001b[A\n",
      " 16%|█▌        | 4/25 [04:30<20:52, 59.63s/it]\u001b[A\n",
      " 20%|██        | 5/25 [05:18<18:40, 56.03s/it]\u001b[A\n",
      " 24%|██▍       | 6/25 [06:03<16:45, 52.90s/it]\u001b[A\n",
      " 28%|██▊       | 7/25 [06:49<15:13, 50.74s/it]\u001b[A\n",
      " 32%|███▏      | 8/25 [07:35<13:56, 49.19s/it]\u001b[A\n",
      " 36%|███▌      | 9/25 [08:20<12:49, 48.09s/it]\u001b[A\n",
      " 40%|████      | 10/25 [09:06<11:50, 47.36s/it]\u001b[A\n",
      " 44%|████▍     | 11/25 [09:51<10:54, 46.78s/it]\u001b[A\n",
      " 48%|████▊     | 12/25 [10:37<10:03, 46.39s/it]\u001b[A\n",
      " 52%|█████▏    | 13/25 [11:23<09:15, 46.25s/it]\u001b[A\n",
      " 56%|█████▌    | 14/25 [12:58<11:11, 61.09s/it]\u001b[A\n",
      " 60%|██████    | 15/25 [14:34<11:55, 71.54s/it]\u001b[A\n",
      " 64%|██████▍   | 16/25 [16:11<11:50, 79.00s/it]\u001b[A\n",
      " 68%|██████▊   | 17/25 [17:47<11:13, 84.15s/it]\u001b[A\n",
      " 72%|███████▏  | 18/25 [19:23<10:14, 87.77s/it]\u001b[A\n",
      " 76%|███████▌  | 19/25 [20:59<09:01, 90.22s/it]\u001b[A\n",
      " 80%|████████  | 20/25 [23:07<08:27, 101.46s/it]\u001b[A\n",
      " 84%|████████▍ | 21/25 [25:14<07:16, 109.09s/it]\u001b[A\n",
      " 88%|████████▊ | 22/25 [27:20<05:42, 114.32s/it]\u001b[A\n",
      " 92%|█████████▏| 23/25 [29:27<03:55, 118.00s/it]\u001b[A\n",
      " 96%|█████████▌| 24/25 [31:34<02:00, 120.68s/it]\u001b[A"
     ]
    },
    {
     "name": "stderr",
     "output_type": "stream",
     "text": [
      "../topnum/scores/simple_toptok_coherence_score.py:120: UserWarning: The parameter `documents` is not used by SimpleTopTokensCoherenceScore (it is kept for compatibility purposes)\n",
      "  'The parameter `documents` is not used by SimpleTopTokensCoherenceScore'\n"
     ]
    },
    {
     "name": "stdout",
     "output_type": "stream",
     "text": [
      "\n",
      "100%|██████████| 25/25 [31:39<00:00, 75.97s/it] \u001b[A\n",
      "  5%|▌         | 1/19 [40:20<12:06:11, 2420.65s/it]\n",
      "  0%|          | 0/25 [00:00<?, ?it/s]\u001b[A\n",
      "  4%|▍         | 1/25 [00:50<20:03, 50.14s/it]\u001b[A\n",
      "  8%|▊         | 2/25 [02:58<28:10, 73.51s/it]\u001b[A\n",
      " 12%|█▏        | 3/25 [03:43<23:53, 65.15s/it]\u001b[A\n",
      " 16%|█▌        | 4/25 [04:29<20:46, 59.36s/it]\u001b[A\n",
      " 20%|██        | 5/25 [05:15<18:24, 55.22s/it]\u001b[A\n",
      " 24%|██▍       | 6/25 [06:00<16:33, 52.31s/it]\u001b[A\n",
      " 28%|██▊       | 7/25 [06:46<15:05, 50.33s/it]\u001b[A\n",
      " 32%|███▏      | 8/25 [07:32<13:51, 48.90s/it]\u001b[A\n",
      " 36%|███▌      | 9/25 [08:17<12:45, 47.87s/it]\u001b[A\n",
      " 40%|████      | 10/25 [09:03<11:48, 47.23s/it]\u001b[A\n",
      " 44%|████▍     | 11/25 [09:48<10:54, 46.77s/it]\u001b[A\n",
      " 48%|████▊     | 12/25 [10:34<10:03, 46.42s/it]\u001b[A\n",
      " 52%|█████▏    | 13/25 [11:20<09:16, 46.36s/it]\u001b[A\n",
      " 56%|█████▌    | 14/25 [12:57<11:15, 61.38s/it]\u001b[A\n",
      " 60%|██████    | 15/25 [14:33<11:57, 71.80s/it]\u001b[A\n",
      " 64%|██████▍   | 16/25 [16:10<11:54, 79.38s/it]\u001b[A\n",
      " 68%|██████▊   | 17/25 [17:47<11:17, 84.66s/it]\u001b[A\n",
      " 72%|███████▏  | 18/25 [19:23<10:16, 88.12s/it]\u001b[A\n",
      " 76%|███████▌  | 19/25 [20:59<09:03, 90.50s/it]\u001b[A\n",
      " 80%|████████  | 20/25 [23:07<08:28, 101.72s/it]\u001b[A\n",
      " 84%|████████▍ | 21/25 [25:14<07:16, 109.19s/it]\u001b[A\n",
      " 88%|████████▊ | 22/25 [27:20<05:42, 114.30s/it]\u001b[A\n",
      " 92%|█████████▏| 23/25 [29:26<03:55, 117.82s/it]\u001b[A\n",
      " 96%|█████████▌| 24/25 [31:33<02:00, 120.57s/it]\u001b[A"
     ]
    },
    {
     "name": "stderr",
     "output_type": "stream",
     "text": [
      "../topnum/scores/simple_toptok_coherence_score.py:120: UserWarning: The parameter `documents` is not used by SimpleTopTokensCoherenceScore (it is kept for compatibility purposes)\n",
      "  'The parameter `documents` is not used by SimpleTopTokensCoherenceScore'\n"
     ]
    },
    {
     "name": "stdout",
     "output_type": "stream",
     "text": [
      "\n",
      "100%|██████████| 25/25 [31:38<00:00, 75.95s/it] \u001b[A\n",
      " 11%|█         | 2/19 [1:21:15<11:28:47, 2431.00s/it]\n",
      "  0%|          | 0/25 [00:00<?, ?it/s]\u001b[A\n",
      "  4%|▍         | 1/25 [00:45<18:10, 45.45s/it]\u001b[A\n",
      "  8%|▊         | 2/25 [02:53<26:56, 70.28s/it]\u001b[A\n",
      " 12%|█▏        | 3/25 [03:39<23:04, 62.93s/it]\u001b[A\n",
      " 16%|█▌        | 4/25 [04:25<20:13, 57.79s/it]\u001b[A\n",
      " 20%|██        | 5/25 [05:10<18:02, 54.11s/it]\u001b[A\n",
      " 24%|██▍       | 6/25 [05:56<16:19, 51.57s/it]\u001b[A\n",
      " 28%|██▊       | 7/25 [06:42<14:56, 49.80s/it]\u001b[A\n",
      " 32%|███▏      | 8/25 [07:27<13:44, 48.49s/it]\u001b[A\n",
      " 36%|███▌      | 9/25 [08:12<12:41, 47.57s/it]\u001b[A\n",
      " 40%|████      | 10/25 [08:58<11:45, 47.04s/it]\u001b[A\n",
      " 44%|████▍     | 11/25 [09:44<10:53, 46.67s/it]\u001b[A\n",
      " 48%|████▊     | 12/25 [10:30<10:03, 46.39s/it]\u001b[A\n",
      " 52%|█████▏    | 13/25 [11:16<09:14, 46.22s/it]\u001b[A\n",
      " 56%|█████▌    | 14/25 [12:52<11:13, 61.25s/it]\u001b[A\n",
      " 60%|██████    | 15/25 [14:28<11:56, 71.63s/it]\u001b[A\n",
      " 64%|██████▍   | 16/25 [16:04<11:51, 79.04s/it]\u001b[A\n",
      " 68%|██████▊   | 17/25 [17:40<11:12, 84.11s/it]\u001b[A\n",
      " 72%|███████▏  | 18/25 [19:16<10:13, 87.61s/it]\u001b[A\n",
      " 76%|███████▌  | 19/25 [21:00<09:15, 92.58s/it]\u001b[A\n",
      " 80%|████████  | 20/25 [23:10<08:39, 103.87s/it]\u001b[A\n",
      " 84%|████████▍ | 21/25 [25:19<07:25, 111.47s/it]\u001b[A\n",
      " 88%|████████▊ | 22/25 [27:27<05:49, 116.37s/it]\u001b[A\n",
      " 92%|█████████▏| 23/25 [29:34<03:59, 119.62s/it]\u001b[A\n",
      " 96%|█████████▌| 24/25 [31:42<02:01, 121.86s/it]\u001b[A"
     ]
    },
    {
     "name": "stderr",
     "output_type": "stream",
     "text": [
      "../topnum/scores/simple_toptok_coherence_score.py:120: UserWarning: The parameter `documents` is not used by SimpleTopTokensCoherenceScore (it is kept for compatibility purposes)\n",
      "  'The parameter `documents` is not used by SimpleTopTokensCoherenceScore'\n"
     ]
    },
    {
     "name": "stdout",
     "output_type": "stream",
     "text": [
      "\n",
      "100%|██████████| 25/25 [31:47<00:00, 76.29s/it] \u001b[A\n",
      " 16%|█▌        | 3/19 [2:02:19<10:50:50, 2440.67s/it]\n",
      "  0%|          | 0/25 [00:00<?, ?it/s]\u001b[A\n",
      "  4%|▍         | 1/25 [00:47<18:49, 47.07s/it]\u001b[A\n",
      "  8%|▊         | 2/25 [02:55<27:21, 71.35s/it]\u001b[A\n",
      " 12%|█▏        | 3/25 [03:49<24:18, 66.30s/it]\u001b[A\n",
      " 16%|█▌        | 4/25 [04:35<21:02, 60.14s/it]\u001b[A\n",
      " 20%|██        | 5/25 [05:21<18:36, 55.83s/it]\u001b[A\n",
      " 24%|██▍       | 6/25 [06:08<16:51, 53.23s/it]\u001b[A\n",
      " 28%|██▊       | 7/25 [06:54<15:18, 51.02s/it]\u001b[A\n",
      " 32%|███▏      | 8/25 [07:39<14:00, 49.42s/it]\u001b[A\n",
      " 36%|███▌      | 9/25 [08:25<12:53, 48.34s/it]\u001b[A\n",
      " 40%|████      | 10/25 [09:11<11:53, 47.59s/it]\u001b[A\n",
      " 44%|████▍     | 11/25 [09:57<10:58, 47.04s/it]\u001b[A\n",
      " 48%|████▊     | 12/25 [10:42<10:06, 46.62s/it]\u001b[A\n",
      " 52%|█████▏    | 13/25 [11:28<09:16, 46.35s/it]\u001b[A\n",
      " 56%|█████▌    | 14/25 [13:04<11:13, 61.27s/it]\u001b[A\n",
      " 60%|██████    | 15/25 [14:42<12:02, 72.21s/it]\u001b[A\n",
      " 64%|██████▍   | 16/25 [16:18<11:54, 79.42s/it]\u001b[A\n",
      " 68%|██████▊   | 17/25 [17:55<11:16, 84.57s/it]\u001b[A\n",
      " 72%|███████▏  | 18/25 [19:31<10:17, 88.21s/it]\u001b[A\n",
      " 76%|███████▌  | 19/25 [21:09<09:05, 90.86s/it]\u001b[A\n",
      " 80%|████████  | 20/25 [23:17<08:30, 102.03s/it]\u001b[A\n",
      " 84%|████████▍ | 21/25 [25:24<07:18, 109.54s/it]\u001b[A\n",
      " 88%|████████▊ | 22/25 [27:30<05:43, 114.47s/it]\u001b[A\n",
      " 92%|█████████▏| 23/25 [29:36<03:55, 117.89s/it]\u001b[A\n",
      " 96%|█████████▌| 24/25 [31:42<02:00, 120.37s/it]\u001b[A"
     ]
    },
    {
     "name": "stderr",
     "output_type": "stream",
     "text": [
      "../topnum/scores/simple_toptok_coherence_score.py:120: UserWarning: The parameter `documents` is not used by SimpleTopTokensCoherenceScore (it is kept for compatibility purposes)\n",
      "  'The parameter `documents` is not used by SimpleTopTokensCoherenceScore'\n"
     ]
    },
    {
     "name": "stdout",
     "output_type": "stream",
     "text": [
      "\n",
      "100%|██████████| 25/25 [31:47<00:00, 76.30s/it] \u001b[A\n",
      " 21%|██        | 4/19 [2:43:23<10:11:58, 2447.92s/it]\n",
      "  0%|          | 0/25 [00:00<?, ?it/s]\u001b[A\n",
      "  4%|▍         | 1/25 [00:45<18:13, 45.55s/it]\u001b[A\n",
      "  8%|▊         | 2/25 [02:53<26:59, 70.40s/it]\u001b[A\n",
      " 12%|█▏        | 3/25 [03:45<23:42, 64.66s/it]\u001b[A\n",
      " 16%|█▌        | 4/25 [04:32<20:50, 59.54s/it]\u001b[A\n",
      " 20%|██        | 5/25 [05:18<18:28, 55.44s/it]\u001b[A\n",
      " 24%|██▍       | 6/25 [06:04<16:37, 52.50s/it]\u001b[A\n",
      " 28%|██▊       | 7/25 [06:50<15:09, 50.51s/it]\u001b[A\n",
      " 32%|███▏      | 8/25 [07:35<13:53, 49.02s/it]\u001b[A\n",
      " 36%|███▌      | 9/25 [08:21<12:47, 47.97s/it]\u001b[A\n",
      " 40%|████      | 10/25 [09:06<11:48, 47.24s/it]\u001b[A\n",
      " 44%|████▍     | 11/25 [09:52<10:54, 46.73s/it]\u001b[A\n",
      " 48%|████▊     | 12/25 [10:37<10:02, 46.36s/it]\u001b[A\n",
      " 52%|█████▏    | 13/25 [11:23<09:13, 46.14s/it]\u001b[A\n",
      " 56%|█████▌    | 14/25 [12:58<11:10, 60.97s/it]\u001b[A\n",
      " 60%|██████    | 15/25 [14:35<11:57, 71.72s/it]\u001b[A\n",
      " 64%|██████▍   | 16/25 [16:12<11:52, 79.17s/it]\u001b[A\n",
      " 68%|██████▊   | 17/25 [17:47<11:12, 84.08s/it]\u001b[A\n",
      " 72%|███████▏  | 18/25 [19:23<10:13, 87.66s/it]\u001b[A\n",
      " 76%|███████▌  | 19/25 [20:59<08:59, 89.93s/it]\u001b[A\n",
      " 80%|████████  | 20/25 [23:07<08:27, 101.46s/it]\u001b[A\n",
      " 84%|████████▍ | 21/25 [25:14<07:16, 109.22s/it]\u001b[A\n",
      " 88%|████████▊ | 22/25 [27:21<05:43, 114.51s/it]\u001b[A\n",
      " 92%|█████████▏| 23/25 [29:28<03:56, 118.21s/it]\u001b[A\n",
      " 96%|█████████▌| 24/25 [31:36<02:01, 121.03s/it]\u001b[A"
     ]
    },
    {
     "name": "stderr",
     "output_type": "stream",
     "text": [
      "../topnum/scores/simple_toptok_coherence_score.py:120: UserWarning: The parameter `documents` is not used by SimpleTopTokensCoherenceScore (it is kept for compatibility purposes)\n",
      "  'The parameter `documents` is not used by SimpleTopTokensCoherenceScore'\n"
     ]
    },
    {
     "name": "stdout",
     "output_type": "stream",
     "text": [
      "\n",
      "100%|██████████| 25/25 [31:41<00:00, 76.06s/it] \u001b[A\n",
      " 26%|██▋       | 5/19 [3:24:26<9:32:11, 2452.22s/it] \n",
      "  0%|          | 0/25 [00:00<?, ?it/s]\u001b[A\n",
      "  4%|▍         | 1/25 [00:45<18:10, 45.43s/it]\u001b[A\n",
      "  8%|▊         | 2/25 [02:53<26:53, 70.17s/it]\u001b[A\n",
      " 12%|█▏        | 3/25 [03:38<23:01, 62.81s/it]\u001b[A\n",
      " 16%|█▌        | 4/25 [04:24<20:13, 57.76s/it]\u001b[A\n",
      " 20%|██        | 5/25 [05:10<18:01, 54.10s/it]\u001b[A\n",
      " 24%|██▍       | 6/25 [05:56<16:19, 51.55s/it]\u001b[A\n",
      " 28%|██▊       | 7/25 [06:42<14:58, 49.90s/it]\u001b[A\n",
      " 32%|███▏      | 8/25 [07:27<13:47, 48.66s/it]\u001b[A\n",
      " 36%|███▌      | 9/25 [08:13<12:44, 47.78s/it]\u001b[A\n",
      " 40%|████      | 10/25 [08:59<11:48, 47.22s/it]\u001b[A\n",
      " 44%|████▍     | 11/25 [09:45<10:54, 46.75s/it]\u001b[A\n",
      " 48%|████▊     | 12/25 [10:30<10:03, 46.43s/it]\u001b[A\n",
      " 52%|█████▏    | 13/25 [11:16<09:14, 46.22s/it]\u001b[A\n",
      " 56%|█████▌    | 14/25 [12:58<11:30, 62.77s/it]\u001b[A\n",
      " 60%|██████    | 15/25 [14:33<12:05, 72.53s/it]\u001b[A\n",
      " 64%|██████▍   | 16/25 [16:08<11:53, 79.25s/it]\u001b[A\n",
      " 68%|██████▊   | 17/25 [17:43<11:12, 84.00s/it]\u001b[A\n",
      " 72%|███████▏  | 18/25 [19:19<10:14, 87.75s/it]\u001b[A\n",
      " 76%|███████▌  | 19/25 [20:55<09:00, 90.06s/it]\u001b[A\n",
      " 80%|████████  | 20/25 [23:02<08:26, 101.28s/it]\u001b[A\n",
      " 84%|████████▍ | 21/25 [25:09<07:15, 108.88s/it]\u001b[A\n",
      " 88%|████████▊ | 22/25 [27:15<05:42, 114.04s/it]\u001b[A\n",
      " 92%|█████████▏| 23/25 [29:21<03:55, 117.63s/it]\u001b[A\n",
      " 96%|█████████▌| 24/25 [31:28<02:00, 120.44s/it]\u001b[A"
     ]
    },
    {
     "name": "stderr",
     "output_type": "stream",
     "text": [
      "../topnum/scores/simple_toptok_coherence_score.py:120: UserWarning: The parameter `documents` is not used by SimpleTopTokensCoherenceScore (it is kept for compatibility purposes)\n",
      "  'The parameter `documents` is not used by SimpleTopTokensCoherenceScore'\n"
     ]
    },
    {
     "name": "stdout",
     "output_type": "stream",
     "text": [
      "\n",
      "100%|██████████| 25/25 [31:33<00:00, 75.74s/it] \u001b[A\n",
      " 32%|███▏      | 6/19 [4:05:17<8:51:16, 2452.05s/it]\n",
      "  0%|          | 0/25 [00:00<?, ?it/s]\u001b[A\n",
      "  4%|▍         | 1/25 [00:45<18:13, 45.54s/it]\u001b[A\n",
      "  8%|▊         | 2/25 [02:54<27:01, 70.51s/it]\u001b[A\n",
      " 12%|█▏        | 3/25 [03:39<23:07, 63.06s/it]\u001b[A\n",
      " 16%|█▌        | 4/25 [04:25<20:15, 57.87s/it]\u001b[A\n",
      " 20%|██        | 5/25 [05:11<18:03, 54.19s/it]\u001b[A\n",
      " 24%|██▍       | 6/25 [05:57<16:21, 51.65s/it]\u001b[A\n",
      " 28%|██▊       | 7/25 [06:42<14:58, 49.92s/it]\u001b[A\n",
      " 32%|███▏      | 8/25 [07:28<13:47, 48.69s/it]\u001b[A\n",
      " 36%|███▌      | 9/25 [08:14<12:45, 47.82s/it]\u001b[A\n",
      " 40%|████      | 10/25 [09:00<11:48, 47.23s/it]\u001b[A\n",
      " 44%|████▍     | 11/25 [09:46<10:55, 46.79s/it]\u001b[A\n",
      " 48%|████▊     | 12/25 [10:31<10:04, 46.47s/it]\u001b[A\n",
      " 52%|█████▏    | 13/25 [11:17<09:14, 46.24s/it]\u001b[A\n",
      " 56%|█████▌    | 14/25 [12:57<11:24, 62.19s/it]\u001b[A\n",
      " 60%|██████    | 15/25 [14:32<12:01, 72.16s/it]\u001b[A\n",
      " 64%|██████▍   | 16/25 [16:07<11:51, 79.06s/it]\u001b[A\n",
      " 68%|██████▊   | 17/25 [17:42<11:10, 83.86s/it]\u001b[A\n",
      " 72%|███████▏  | 18/25 [19:20<10:15, 87.92s/it]\u001b[A\n",
      " 76%|███████▌  | 19/25 [21:07<09:22, 93.68s/it]\u001b[A\n",
      " 80%|████████  | 20/25 [23:17<08:43, 104.60s/it]\u001b[A\n",
      " 84%|████████▍ | 21/25 [25:26<07:28, 112.06s/it]\u001b[A\n",
      " 88%|████████▊ | 22/25 [27:35<05:51, 117.03s/it]\u001b[A\n",
      " 92%|█████████▏| 23/25 [29:44<04:01, 120.54s/it]\u001b[A\n",
      " 96%|█████████▌| 24/25 [31:53<02:03, 123.05s/it]\u001b[A"
     ]
    },
    {
     "name": "stderr",
     "output_type": "stream",
     "text": [
      "../topnum/scores/simple_toptok_coherence_score.py:120: UserWarning: The parameter `documents` is not used by SimpleTopTokensCoherenceScore (it is kept for compatibility purposes)\n",
      "  'The parameter `documents` is not used by SimpleTopTokensCoherenceScore'\n"
     ]
    },
    {
     "name": "stdout",
     "output_type": "stream",
     "text": [
      "\n",
      "100%|██████████| 25/25 [31:58<00:00, 76.72s/it] \u001b[A\n",
      " 37%|███▋      | 7/19 [4:46:33<8:11:48, 2459.04s/it]\n",
      "  0%|          | 0/25 [00:00<?, ?it/s]\u001b[A\n",
      "  4%|▍         | 1/25 [00:45<18:10, 45.42s/it]\u001b[A\n",
      "  8%|▊         | 2/25 [02:53<26:52, 70.11s/it]\u001b[A\n",
      " 12%|█▏        | 3/25 [03:38<23:00, 62.73s/it]\u001b[A\n",
      " 16%|█▌        | 4/25 [04:24<20:10, 57.63s/it]\u001b[A\n",
      " 20%|██        | 5/25 [05:10<18:00, 54.04s/it]\u001b[A\n",
      " 24%|██▍       | 6/25 [05:55<16:19, 51.53s/it]\u001b[A\n",
      " 28%|██▊       | 7/25 [06:41<14:56, 49.82s/it]\u001b[A\n",
      " 32%|███▏      | 8/25 [07:27<13:45, 48.57s/it]\u001b[A\n",
      " 36%|███▌      | 9/25 [08:12<12:43, 47.71s/it]\u001b[A\n",
      " 40%|████      | 10/25 [08:58<11:48, 47.21s/it]\u001b[A\n",
      " 44%|████▍     | 11/25 [09:44<10:55, 46.79s/it]\u001b[A\n",
      " 48%|████▊     | 12/25 [10:30<10:04, 46.53s/it]\u001b[A\n",
      " 52%|█████▏    | 13/25 [11:16<09:16, 46.36s/it]\u001b[A\n",
      " 56%|█████▌    | 14/25 [12:52<11:14, 61.30s/it]\u001b[A\n",
      " 60%|██████    | 15/25 [14:29<11:59, 71.94s/it]\u001b[A\n",
      " 64%|██████▍   | 16/25 [16:05<11:52, 79.17s/it]\u001b[A\n",
      " 68%|██████▊   | 17/25 [17:42<11:16, 84.53s/it]\u001b[A\n",
      " 72%|███████▏  | 18/25 [19:19<10:17, 88.21s/it]\u001b[A\n",
      " 76%|███████▌  | 19/25 [20:56<09:05, 90.91s/it]\u001b[A\n",
      " 80%|████████  | 20/25 [23:05<08:31, 102.24s/it]\u001b[A\n",
      " 84%|████████▍ | 21/25 [25:12<07:18, 109.69s/it]\u001b[A\n",
      " 88%|████████▊ | 22/25 [27:20<05:45, 115.15s/it]\u001b[A\n",
      " 92%|█████████▏| 23/25 [29:26<03:56, 118.48s/it]\u001b[A\n",
      " 96%|█████████▌| 24/25 [31:34<02:01, 121.25s/it]\u001b[A"
     ]
    },
    {
     "name": "stderr",
     "output_type": "stream",
     "text": [
      "../topnum/scores/simple_toptok_coherence_score.py:120: UserWarning: The parameter `documents` is not used by SimpleTopTokensCoherenceScore (it is kept for compatibility purposes)\n",
      "  'The parameter `documents` is not used by SimpleTopTokensCoherenceScore'\n"
     ]
    },
    {
     "name": "stdout",
     "output_type": "stream",
     "text": [
      "\n",
      "100%|██████████| 25/25 [31:39<00:00, 75.99s/it] \u001b[A\n",
      " 42%|████▏     | 8/19 [5:27:29<7:30:38, 2458.09s/it]\n",
      "  0%|          | 0/25 [00:00<?, ?it/s]\u001b[A\n",
      "  4%|▍         | 1/25 [00:45<18:11, 45.48s/it]\u001b[A\n",
      "  8%|▊         | 2/25 [02:53<26:53, 70.15s/it]\u001b[A\n",
      " 12%|█▏        | 3/25 [03:38<23:00, 62.77s/it]\u001b[A\n",
      " 16%|█▌        | 4/25 [04:24<20:09, 57.59s/it]\u001b[A\n",
      " 20%|██        | 5/25 [05:10<18:01, 54.05s/it]\u001b[A\n",
      " 24%|██▍       | 6/25 [05:55<16:19, 51.54s/it]\u001b[A\n",
      " 28%|██▊       | 7/25 [06:41<14:58, 49.89s/it]\u001b[A\n",
      " 32%|███▏      | 8/25 [07:27<13:46, 48.63s/it]\u001b[A\n",
      " 36%|███▌      | 9/25 [08:13<12:43, 47.73s/it]\u001b[A\n",
      " 40%|████      | 10/25 [08:59<11:48, 47.22s/it]\u001b[A\n",
      " 44%|████▍     | 11/25 [09:44<10:54, 46.77s/it]\u001b[A\n",
      " 48%|████▊     | 12/25 [10:30<10:03, 46.43s/it]\u001b[A\n",
      " 52%|█████▏    | 13/25 [11:16<09:14, 46.23s/it]\u001b[A\n",
      " 56%|█████▌    | 14/25 [12:52<11:15, 61.37s/it]\u001b[A\n",
      " 60%|██████    | 15/25 [14:28<11:56, 71.66s/it]\u001b[A\n",
      " 64%|██████▍   | 16/25 [16:05<11:52, 79.18s/it]\u001b[A\n",
      " 68%|██████▊   | 17/25 [17:41<11:14, 84.29s/it]\u001b[A\n",
      " 72%|███████▏  | 18/25 [19:17<10:15, 87.87s/it]\u001b[A\n",
      " 76%|███████▌  | 19/25 [20:54<09:02, 90.43s/it]\u001b[A\n",
      " 80%|████████  | 20/25 [23:02<08:28, 101.70s/it]\u001b[A\n",
      " 84%|████████▍ | 21/25 [25:10<07:18, 109.55s/it]\u001b[A\n",
      " 88%|████████▊ | 22/25 [27:16<05:43, 114.63s/it]\u001b[A\n",
      " 92%|█████████▏| 23/25 [29:23<03:56, 118.46s/it]\u001b[A\n",
      " 96%|█████████▌| 24/25 [31:32<02:01, 121.43s/it]\u001b[A"
     ]
    },
    {
     "name": "stderr",
     "output_type": "stream",
     "text": [
      "../topnum/scores/simple_toptok_coherence_score.py:120: UserWarning: The parameter `documents` is not used by SimpleTopTokensCoherenceScore (it is kept for compatibility purposes)\n",
      "  'The parameter `documents` is not used by SimpleTopTokensCoherenceScore'\n"
     ]
    },
    {
     "name": "stdout",
     "output_type": "stream",
     "text": [
      "\n",
      "100%|██████████| 25/25 [31:37<00:00, 75.91s/it] \u001b[A\n",
      " 47%|████▋     | 9/19 [6:08:20<6:49:21, 2456.15s/it]\n",
      "  0%|          | 0/25 [00:00<?, ?it/s]\u001b[A\n",
      "  4%|▍         | 1/25 [00:45<18:09, 45.39s/it]\u001b[A\n",
      "  8%|▊         | 2/25 [02:53<26:56, 70.30s/it]\u001b[A\n",
      " 12%|█▏        | 3/25 [03:39<23:05, 62.98s/it]\u001b[A\n",
      " 16%|█▌        | 4/25 [04:25<20:13, 57.79s/it]\u001b[A\n",
      " 20%|██        | 5/25 [05:11<18:02, 54.14s/it]\u001b[A\n",
      " 24%|██▍       | 6/25 [05:58<16:32, 52.23s/it]\u001b[A\n",
      " 28%|██▊       | 7/25 [06:49<15:34, 51.90s/it]\u001b[A\n",
      " 32%|███▏      | 8/25 [07:35<14:10, 50.03s/it]\u001b[A\n",
      " 36%|███▌      | 9/25 [08:21<12:58, 48.68s/it]\u001b[A\n",
      " 40%|████      | 10/25 [09:07<11:58, 47.88s/it]\u001b[A\n",
      " 44%|████▍     | 11/25 [09:53<11:02, 47.30s/it]\u001b[A\n",
      " 48%|████▊     | 12/25 [10:38<10:09, 46.86s/it]\u001b[A\n",
      " 52%|█████▏    | 13/25 [11:24<09:18, 46.51s/it]\u001b[A\n",
      " 56%|█████▌    | 14/25 [13:01<11:19, 61.73s/it]\u001b[A\n",
      " 60%|██████    | 15/25 [14:40<12:06, 72.67s/it]\u001b[A\n",
      " 64%|██████▍   | 16/25 [16:18<12:04, 80.54s/it]\u001b[A\n",
      " 68%|██████▊   | 17/25 [17:58<11:30, 86.28s/it]\u001b[A\n",
      " 72%|███████▏  | 18/25 [19:37<10:30, 90.01s/it]\u001b[A\n",
      " 76%|███████▌  | 19/25 [21:17<09:19, 93.17s/it]\u001b[A\n",
      " 80%|████████  | 20/25 [23:27<08:40, 104.08s/it]\u001b[A\n",
      " 84%|████████▍ | 21/25 [25:34<07:24, 111.11s/it]\u001b[A\n",
      " 88%|████████▊ | 22/25 [27:41<05:47, 115.78s/it]\u001b[A\n",
      " 92%|█████████▏| 23/25 [29:48<03:58, 119.07s/it]\u001b[A\n",
      " 96%|█████████▌| 24/25 [31:55<02:01, 121.51s/it]\u001b[A"
     ]
    },
    {
     "name": "stderr",
     "output_type": "stream",
     "text": [
      "../topnum/scores/simple_toptok_coherence_score.py:120: UserWarning: The parameter `documents` is not used by SimpleTopTokensCoherenceScore (it is kept for compatibility purposes)\n",
      "  'The parameter `documents` is not used by SimpleTopTokensCoherenceScore'\n"
     ]
    },
    {
     "name": "stdout",
     "output_type": "stream",
     "text": [
      "\n",
      "100%|██████████| 25/25 [32:00<00:00, 76.83s/it] \u001b[A\n",
      " 53%|█████▎    | 10/19 [6:49:39<6:09:27, 2463.01s/it]\n",
      "  0%|          | 0/25 [00:00<?, ?it/s]\u001b[A\n",
      "  4%|▍         | 1/25 [00:45<18:14, 45.59s/it]\u001b[A\n",
      "  8%|▊         | 2/25 [02:52<26:51, 70.08s/it]\u001b[A\n",
      " 12%|█▏        | 3/25 [03:38<22:59, 62.69s/it]\u001b[A\n",
      " 16%|█▌        | 4/25 [04:26<20:22, 58.24s/it]\u001b[A\n",
      " 20%|██        | 5/25 [05:14<18:24, 55.24s/it]\u001b[A\n",
      " 24%|██▍       | 6/25 [06:00<16:35, 52.42s/it]\u001b[A\n",
      " 28%|██▊       | 7/25 [06:46<15:08, 50.47s/it]\u001b[A\n",
      " 32%|███▏      | 8/25 [07:32<13:54, 49.12s/it]\u001b[A\n",
      " 36%|███▌      | 9/25 [08:17<12:49, 48.09s/it]\u001b[A\n",
      " 40%|████      | 10/25 [09:04<11:53, 47.53s/it]\u001b[A\n",
      " 44%|████▍     | 11/25 [09:49<10:58, 47.03s/it]\u001b[A\n",
      " 48%|████▊     | 12/25 [10:35<10:06, 46.66s/it]\u001b[A\n",
      " 52%|█████▏    | 13/25 [11:21<09:17, 46.49s/it]\u001b[A\n",
      " 56%|█████▌    | 14/25 [13:08<11:51, 64.66s/it]\u001b[A\n",
      " 60%|██████    | 15/25 [14:45<12:22, 74.24s/it]\u001b[A\n",
      " 64%|██████▍   | 16/25 [16:29<12:28, 83.12s/it]\u001b[A\n",
      " 68%|██████▊   | 17/25 [18:06<11:38, 87.33s/it]\u001b[A\n",
      " 72%|███████▏  | 18/25 [19:51<10:47, 92.52s/it]\u001b[A\n",
      " 76%|███████▌  | 19/25 [21:30<09:27, 94.63s/it]\u001b[A\n",
      " 80%|████████  | 20/25 [23:37<08:42, 104.45s/it]\u001b[A\n",
      " 84%|████████▍ | 21/25 [25:44<07:24, 111.10s/it]\u001b[A\n",
      " 88%|████████▊ | 22/25 [27:50<05:46, 115.57s/it]\u001b[A\n",
      " 92%|█████████▏| 23/25 [29:56<03:57, 118.69s/it]\u001b[A\n",
      " 96%|█████████▌| 24/25 [32:03<02:01, 121.02s/it]\u001b[A"
     ]
    },
    {
     "name": "stderr",
     "output_type": "stream",
     "text": [
      "../topnum/scores/simple_toptok_coherence_score.py:120: UserWarning: The parameter `documents` is not used by SimpleTopTokensCoherenceScore (it is kept for compatibility purposes)\n",
      "  'The parameter `documents` is not used by SimpleTopTokensCoherenceScore'\n"
     ]
    },
    {
     "name": "stdout",
     "output_type": "stream",
     "text": [
      "\n",
      "100%|██████████| 25/25 [32:08<00:00, 77.13s/it] \u001b[A\n",
      " 58%|█████▊    | 11/19 [7:31:04<5:29:17, 2469.71s/it]\n",
      "  0%|          | 0/25 [00:00<?, ?it/s]\u001b[A\n",
      "  4%|▍         | 1/25 [00:45<18:14, 45.60s/it]\u001b[A\n",
      "  8%|▊         | 2/25 [02:53<26:59, 70.39s/it]\u001b[A\n",
      " 12%|█▏        | 3/25 [03:39<23:05, 62.98s/it]\u001b[A\n",
      " 16%|█▌        | 4/25 [04:25<20:14, 57.82s/it]\u001b[A\n",
      " 20%|██        | 5/25 [05:11<18:03, 54.19s/it]\u001b[A\n",
      " 24%|██▍       | 6/25 [05:56<16:21, 51.67s/it]\u001b[A\n",
      " 28%|██▊       | 7/25 [06:42<14:58, 49.90s/it]\u001b[A\n",
      " 32%|███▏      | 8/25 [07:28<13:47, 48.67s/it]\u001b[A\n",
      " 36%|███▌      | 9/25 [08:13<12:43, 47.69s/it]\u001b[A\n",
      " 40%|████      | 10/25 [08:59<11:46, 47.09s/it]\u001b[A\n",
      " 44%|████▍     | 11/25 [09:45<10:53, 46.65s/it]\u001b[A\n",
      " 48%|████▊     | 12/25 [10:30<10:02, 46.38s/it]\u001b[A\n",
      " 52%|█████▏    | 13/25 [11:16<09:13, 46.15s/it]\u001b[A\n",
      " 56%|█████▌    | 14/25 [12:52<11:11, 61.03s/it]\u001b[A\n",
      " 60%|██████    | 15/25 [14:28<11:56, 71.61s/it]\u001b[A\n",
      " 64%|██████▍   | 16/25 [16:05<11:52, 79.19s/it]\u001b[A\n",
      " 68%|██████▊   | 17/25 [17:41<11:15, 84.38s/it]\u001b[A\n",
      " 72%|███████▏  | 18/25 [19:18<10:16, 88.01s/it]\u001b[A\n",
      " 76%|███████▌  | 19/25 [20:54<09:02, 90.48s/it]\u001b[A\n",
      " 80%|████████  | 20/25 [23:02<08:28, 101.75s/it]\u001b[A\n",
      " 84%|████████▍ | 21/25 [25:09<07:17, 109.40s/it]\u001b[A\n",
      "\n",
      " 96%|█████████▌| 24/25 [31:29<02:00, 120.79s/it]\u001b[A"
     ]
    },
    {
     "name": "stderr",
     "output_type": "stream",
     "text": [
      "../topnum/scores/simple_toptok_coherence_score.py:120: UserWarning: The parameter `documents` is not used by SimpleTopTokensCoherenceScore (it is kept for compatibility purposes)\n",
      "  'The parameter `documents` is not used by SimpleTopTokensCoherenceScore'\n"
     ]
    },
    {
     "name": "stdout",
     "output_type": "stream",
     "text": [
      "\n",
      "100%|██████████| 25/25 [31:35<00:00, 75.81s/it] \u001b[A\n",
      " 63%|██████▎   | 12/19 [8:11:58<4:47:34, 2464.87s/it]\n",
      "  0%|          | 0/25 [00:00<?, ?it/s]\u001b[A\n",
      "  4%|▍         | 1/25 [00:45<18:10, 45.44s/it]\u001b[A\n",
      "  8%|▊         | 2/25 [02:54<27:04, 70.62s/it]\u001b[A\n",
      " 12%|█▏        | 3/25 [03:40<23:07, 63.05s/it]\u001b[A\n",
      " 16%|█▌        | 4/25 [04:25<20:13, 57.81s/it]\u001b[A\n",
      " 20%|██        | 5/25 [05:10<18:00, 54.02s/it]\u001b[A\n",
      " 24%|██▍       | 6/25 [05:59<16:32, 52.25s/it]\u001b[A\n",
      " 28%|██▊       | 7/25 [06:44<15:05, 50.31s/it]\u001b[A\n",
      " 32%|███▏      | 8/25 [07:30<13:51, 48.89s/it]\u001b[A\n",
      " 36%|███▌      | 9/25 [08:25<13:30, 50.68s/it]\u001b[A\n",
      " 40%|████      | 10/25 [09:11<12:18, 49.26s/it]\u001b[A\n",
      " 44%|████▍     | 11/25 [09:56<11:14, 48.16s/it]\u001b[A\n",
      " 48%|████▊     | 12/25 [10:42<10:15, 47.37s/it]\u001b[A\n",
      " 52%|█████▏    | 13/25 [11:37<09:57, 49.78s/it]\u001b[A\n",
      " 56%|█████▌    | 14/25 [13:17<11:50, 64.62s/it]\u001b[A\n",
      " 60%|██████    | 15/25 [14:52<12:20, 74.03s/it]\u001b[A\n",
      " 64%|██████▍   | 16/25 [16:38<12:30, 83.43s/it]\u001b[A\n",
      " 68%|██████▊   | 17/25 [18:14<11:38, 87.29s/it]\u001b[A\n",
      " 72%|███████▏  | 18/25 [19:52<10:32, 90.37s/it]\u001b[A\n",
      " 76%|███████▌  | 19/25 [21:28<09:13, 92.24s/it]\u001b[A\n",
      " 80%|████████  | 20/25 [23:37<08:36, 103.30s/it]\u001b[A\n",
      " 84%|████████▍ | 21/25 [25:45<07:22, 110.69s/it]\u001b[A\n",
      " 88%|████████▊ | 22/25 [27:53<05:47, 115.73s/it]\u001b[A\n",
      " 92%|█████████▏| 23/25 [29:59<03:57, 118.82s/it]\u001b[A\n",
      " 96%|█████████▌| 24/25 [32:06<02:01, 121.35s/it]\u001b[A"
     ]
    },
    {
     "name": "stderr",
     "output_type": "stream",
     "text": [
      "../topnum/scores/simple_toptok_coherence_score.py:120: UserWarning: The parameter `documents` is not used by SimpleTopTokensCoherenceScore (it is kept for compatibility purposes)\n",
      "  'The parameter `documents` is not used by SimpleTopTokensCoherenceScore'\n"
     ]
    },
    {
     "name": "stdout",
     "output_type": "stream",
     "text": [
      "\n",
      "100%|██████████| 25/25 [32:11<00:00, 77.27s/it] \u001b[A\n",
      " 68%|██████▊   | 13/19 [8:53:26<4:07:11, 2471.88s/it]\n",
      "  0%|          | 0/25 [00:00<?, ?it/s]\u001b[A\n",
      "  4%|▍         | 1/25 [00:46<18:36, 46.54s/it]\u001b[A\n",
      "  8%|▊         | 2/25 [02:54<27:13, 71.00s/it]\u001b[A\n",
      " 12%|█▏        | 3/25 [03:41<23:19, 63.62s/it]\u001b[A\n",
      " 16%|█▌        | 4/25 [04:26<20:24, 58.31s/it]\u001b[A\n",
      " 20%|██        | 5/25 [05:12<18:10, 54.52s/it]\u001b[A\n",
      " 24%|██▍       | 6/25 [05:58<16:25, 51.87s/it]\u001b[A"
     ]
    }
   ],
   "source": [
    "%%time\n",
    "\n",
    "optimizer.search_for_optimum(dataset)"
   ]
  },
  {
   "cell_type": "code",
   "execution_count": 78,
   "metadata": {},
   "outputs": [
    {
     "data": {
      "text/plain": [
       "1"
      ]
     },
     "execution_count": 78,
     "metadata": {},
     "output_type": "execute_result"
    }
   ],
   "source": [
    "1"
   ]
  },
  {
   "cell_type": "code",
   "execution_count": 198,
   "metadata": {},
   "outputs": [
    {
     "name": "stdout",
     "output_type": "stream",
     "text": [
      "  0%|          | 0/20 [00:00<?, ?it/s]\n",
      "  0%|          | 0/25 [00:00<?, ?it/s]\u001b[A\n",
      "  4%|▍         | 1/25 [00:38<15:35, 38.99s/it]\u001b[A\n",
      "  8%|▊         | 2/25 [02:40<24:26, 63.76s/it]\u001b[A\n",
      " 12%|█▏        | 3/25 [03:18<20:30, 55.91s/it]\u001b[A\n",
      " 16%|█▌        | 4/25 [03:55<17:39, 50.45s/it]\u001b[A\n",
      " 20%|██        | 5/25 [04:33<15:31, 46.57s/it]\u001b[A\n",
      " 24%|██▍       | 6/25 [05:10<13:51, 43.79s/it]\u001b[A\n",
      " 28%|██▊       | 7/25 [05:48<12:34, 41.91s/it]\u001b[A\n",
      " 32%|███▏      | 8/25 [06:25<11:30, 40.60s/it]\u001b[A\n",
      " 36%|███▌      | 9/25 [07:03<10:34, 39.67s/it]\u001b[A\n",
      " 40%|████      | 10/25 [07:40<09:45, 39.06s/it]\u001b[A\n",
      " 44%|████▍     | 11/25 [08:18<09:01, 38.66s/it]\u001b[A\n",
      " 48%|████▊     | 12/25 [08:56<08:18, 38.38s/it]\u001b[A\n",
      " 52%|█████▏    | 13/25 [09:33<07:37, 38.15s/it]\u001b[A\n",
      " 56%|█████▌    | 14/25 [10:41<08:35, 46.87s/it]\u001b[A\n",
      " 60%|██████    | 15/25 [11:48<08:49, 52.94s/it]\u001b[A\n",
      " 64%|██████▍   | 16/25 [12:56<08:36, 57.39s/it]\u001b[A\n",
      " 68%|██████▊   | 17/25 [14:04<08:05, 60.67s/it]\u001b[A\n",
      " 72%|███████▏  | 18/25 [15:12<07:20, 62.99s/it]\u001b[A\n",
      " 76%|███████▌  | 19/25 [16:21<06:27, 64.57s/it]\u001b[A\n",
      " 80%|████████  | 20/25 [18:21<06:46, 81.32s/it]\u001b[A\n",
      " 84%|████████▍ | 21/25 [20:20<06:11, 92.76s/it]\u001b[A\n",
      " 88%|████████▊ | 22/25 [22:21<05:03, 101.12s/it]\u001b[A\n",
      " 92%|█████████▏| 23/25 [24:22<03:34, 107.11s/it]\u001b[A\n",
      " 96%|█████████▌| 24/25 [26:24<01:51, 111.51s/it]\u001b[A"
     ]
    },
    {
     "name": "stderr",
     "output_type": "stream",
     "text": [
      "../topnum/scores/simple_toptok_coherence_score.py:120: UserWarning: The parameter `documents` is not used by SimpleTopTokensCoherenceScore (it is kept for compatibility purposes)\n",
      "  'The parameter `documents` is not used by SimpleTopTokensCoherenceScore'\n"
     ]
    },
    {
     "name": "stdout",
     "output_type": "stream",
     "text": [
      "\n",
      "100%|██████████| 25/25 [26:25<00:00, 63.41s/it] \u001b[A\n",
      "  5%|▌         | 1/20 [27:37<8:45:00, 1657.91s/it]\n",
      "  0%|          | 0/25 [00:00<?, ?it/s]\u001b[A\n",
      "  4%|▍         | 1/25 [00:38<15:20, 38.37s/it]\u001b[A\n",
      "  8%|▊         | 2/25 [02:39<24:15, 63.29s/it]\u001b[A\n",
      " 12%|█▏        | 3/25 [03:17<20:25, 55.72s/it]\u001b[A\n",
      " 16%|█▌        | 4/25 [03:56<17:41, 50.53s/it]\u001b[A\n",
      " 20%|██        | 5/25 [04:34<15:35, 46.77s/it]\u001b[A\n",
      " 24%|██▍       | 6/25 [05:12<13:57, 44.08s/it]\u001b[A\n",
      " 28%|██▊       | 7/25 [05:49<12:40, 42.23s/it]\u001b[A\n",
      " 32%|███▏      | 8/25 [06:27<11:35, 40.91s/it]\u001b[A\n",
      " 36%|███▌      | 9/25 [07:06<10:44, 40.30s/it]\u001b[A\n",
      " 40%|████      | 10/25 [07:44<09:54, 39.60s/it]\u001b[A\n",
      " 44%|████▍     | 11/25 [08:22<09:06, 39.06s/it]\u001b[A\n",
      " 48%|████▊     | 12/25 [08:59<08:21, 38.58s/it]\u001b[A\n",
      " 52%|█████▏    | 13/25 [09:37<07:40, 38.36s/it]\u001b[A\n",
      " 56%|█████▌    | 14/25 [10:45<08:39, 47.23s/it]\u001b[A\n",
      " 60%|██████    | 15/25 [11:53<08:53, 53.36s/it]\u001b[A\n",
      " 64%|██████▍   | 16/25 [13:01<08:40, 57.85s/it]\u001b[A\n",
      " 68%|██████▊   | 17/25 [14:09<08:07, 60.90s/it]\u001b[A\n",
      " 72%|███████▏  | 18/25 [15:17<07:20, 62.98s/it]\u001b[A\n",
      " 76%|███████▌  | 19/25 [16:25<06:25, 64.32s/it]\u001b[A\n",
      " 80%|████████  | 20/25 [18:24<06:44, 80.94s/it]\u001b[A\n",
      " 84%|████████▍ | 21/25 [20:24<06:10, 92.71s/it]\u001b[A\n",
      " 88%|████████▊ | 22/25 [22:25<05:03, 101.09s/it]\u001b[A\n",
      " 92%|█████████▏| 23/25 [24:25<03:33, 106.81s/it]\u001b[A\n",
      " 96%|█████████▌| 24/25 [26:26<01:51, 111.04s/it]\u001b[A"
     ]
    },
    {
     "name": "stderr",
     "output_type": "stream",
     "text": [
      "../topnum/scores/simple_toptok_coherence_score.py:120: UserWarning: The parameter `documents` is not used by SimpleTopTokensCoherenceScore (it is kept for compatibility purposes)\n",
      "  'The parameter `documents` is not used by SimpleTopTokensCoherenceScore'\n"
     ]
    },
    {
     "name": "stdout",
     "output_type": "stream",
     "text": [
      "\n",
      "100%|██████████| 25/25 [26:27<00:00, 63.51s/it] \u001b[A\n",
      " 10%|█         | 2/20 [55:33<8:19:00, 1663.35s/it]\n",
      "  0%|          | 0/25 [00:00<?, ?it/s]\u001b[A\n",
      "  4%|▍         | 1/25 [00:37<15:08, 37.85s/it]\u001b[A\n",
      "  8%|▊         | 2/25 [02:37<23:56, 62.47s/it]\u001b[A\n",
      " 12%|█▏        | 3/25 [03:15<20:10, 55.04s/it]\u001b[A\n",
      " 16%|█▌        | 4/25 [03:53<17:26, 49.82s/it]\u001b[A\n",
      " 20%|██        | 5/25 [04:30<15:23, 46.17s/it]\u001b[A\n",
      " 24%|██▍       | 6/25 [05:08<13:48, 43.60s/it]\u001b[A\n",
      " 28%|██▊       | 7/25 [05:45<12:32, 41.80s/it]\u001b[A\n",
      " 32%|███▏      | 8/25 [06:23<11:29, 40.57s/it]\u001b[A\n",
      " 36%|███▌      | 9/25 [07:01<10:35, 39.70s/it]\u001b[A\n",
      " 40%|████      | 10/25 [07:38<09:46, 39.09s/it]\u001b[A\n",
      " 44%|████▍     | 11/25 [08:16<09:01, 38.67s/it]\u001b[A\n",
      " 48%|████▊     | 12/25 [08:54<08:18, 38.32s/it]\u001b[A\n",
      " 52%|█████▏    | 13/25 [09:31<07:36, 38.08s/it]\u001b[A\n",
      " 56%|█████▌    | 14/25 [10:40<08:40, 47.27s/it]\u001b[A\n",
      " 60%|██████    | 15/25 [11:48<08:55, 53.54s/it]\u001b[A\n",
      " 64%|██████▍   | 16/25 [12:57<08:44, 58.29s/it]\u001b[A\n",
      " 68%|██████▊   | 17/25 [14:08<08:16, 62.09s/it]\u001b[A\n",
      " 72%|███████▏  | 18/25 [15:17<07:28, 64.06s/it]\u001b[A\n",
      " 76%|███████▌  | 19/25 [16:26<06:33, 65.54s/it]\u001b[A\n",
      " 80%|████████  | 20/25 [18:25<06:48, 81.64s/it]\u001b[A\n",
      " 84%|████████▍ | 21/25 [20:24<06:11, 92.84s/it]\u001b[A\n",
      " 88%|████████▊ | 22/25 [22:24<05:02, 100.88s/it]\u001b[A\n",
      " 92%|█████████▏| 23/25 [24:24<03:33, 106.58s/it]\u001b[A\n",
      " 96%|█████████▌| 24/25 [26:26<01:51, 111.19s/it]\u001b[A"
     ]
    },
    {
     "name": "stderr",
     "output_type": "stream",
     "text": [
      "../topnum/scores/simple_toptok_coherence_score.py:120: UserWarning: The parameter `documents` is not used by SimpleTopTokensCoherenceScore (it is kept for compatibility purposes)\n",
      "  'The parameter `documents` is not used by SimpleTopTokensCoherenceScore'\n"
     ]
    },
    {
     "name": "stdout",
     "output_type": "stream",
     "text": [
      "\n",
      "100%|██████████| 25/25 [26:27<00:00, 63.49s/it] \u001b[A\n",
      " 15%|█▌        | 3/20 [1:23:28<7:52:13, 1666.67s/it]\n",
      "  0%|          | 0/25 [00:00<?, ?it/s]\u001b[A\n",
      "  4%|▍         | 1/25 [00:37<15:09, 37.88s/it]\u001b[A\n",
      "  8%|▊         | 2/25 [02:38<24:02, 62.71s/it]\u001b[A\n",
      " 12%|█▏        | 3/25 [03:16<20:16, 55.29s/it]\u001b[A\n",
      " 16%|█▌        | 4/25 [03:54<17:32, 50.14s/it]\u001b[A\n",
      " 20%|██        | 5/25 [04:32<15:30, 46.55s/it]\u001b[A\n",
      " 24%|██▍       | 6/25 [05:10<13:55, 43.97s/it]\u001b[A\n",
      " 28%|██▊       | 7/25 [05:48<12:39, 42.17s/it]\u001b[A\n",
      " 32%|███▏      | 8/25 [06:26<11:34, 40.87s/it]\u001b[A\n",
      " 36%|███▌      | 9/25 [07:04<10:41, 40.10s/it]\u001b[A\n",
      " 40%|████      | 10/25 [07:42<09:51, 39.44s/it]\u001b[A\n",
      " 44%|████▍     | 11/25 [08:20<09:05, 38.96s/it]\u001b[A\n",
      " 48%|████▊     | 12/25 [08:58<08:20, 38.51s/it]\u001b[A\n",
      " 52%|█████▏    | 13/25 [09:36<07:40, 38.37s/it]\u001b[A\n",
      " 56%|█████▌    | 14/25 [10:44<08:41, 47.38s/it]\u001b[A\n",
      " 60%|██████    | 15/25 [11:51<08:53, 53.32s/it]\u001b[A\n",
      " 64%|██████▍   | 16/25 [13:00<08:41, 57.99s/it]\u001b[A\n",
      " 68%|██████▊   | 17/25 [14:07<08:06, 60.75s/it]\u001b[A\n",
      " 72%|███████▏  | 18/25 [15:15<07:19, 62.80s/it]\u001b[A\n",
      " 76%|███████▌  | 19/25 [16:24<06:27, 64.57s/it]\u001b[A\n",
      " 80%|████████  | 20/25 [18:23<06:45, 81.06s/it]\u001b[A\n",
      " 84%|████████▍ | 21/25 [20:21<06:08, 92.23s/it]\u001b[A\n",
      " 88%|████████▊ | 22/25 [22:22<05:01, 100.59s/it]\u001b[A\n",
      " 92%|█████████▏| 23/25 [24:22<03:33, 106.67s/it]\u001b[A\n",
      " 96%|█████████▌| 24/25 [26:23<01:50, 110.81s/it]\u001b[A"
     ]
    },
    {
     "name": "stderr",
     "output_type": "stream",
     "text": [
      "../topnum/scores/simple_toptok_coherence_score.py:120: UserWarning: The parameter `documents` is not used by SimpleTopTokensCoherenceScore (it is kept for compatibility purposes)\n",
      "  'The parameter `documents` is not used by SimpleTopTokensCoherenceScore'\n"
     ]
    },
    {
     "name": "stdout",
     "output_type": "stream",
     "text": [
      "\n",
      "100%|██████████| 25/25 [26:24<00:00, 63.37s/it] \u001b[A\n",
      " 20%|██        | 4/20 [1:51:20<7:24:53, 1668.36s/it]\n",
      "  0%|          | 0/25 [00:00<?, ?it/s]\u001b[A\n",
      "  4%|▍         | 1/25 [00:38<15:12, 38.03s/it]\u001b[A\n",
      "  8%|▊         | 2/25 [02:38<24:05, 62.85s/it]\u001b[A\n",
      " 12%|█▏        | 3/25 [03:16<20:16, 55.30s/it]\u001b[A\n",
      " 16%|█▌        | 4/25 [03:54<17:30, 50.03s/it]\u001b[A\n",
      " 20%|██        | 5/25 [04:31<15:27, 46.36s/it]\u001b[A\n",
      " 24%|██▍       | 6/25 [05:09<13:51, 43.78s/it]\u001b[A\n",
      " 28%|██▊       | 7/25 [05:47<12:36, 42.02s/it]\u001b[A\n",
      " 32%|███▏      | 8/25 [06:25<11:33, 40.80s/it]\u001b[A\n",
      " 36%|███▌      | 9/25 [07:03<10:37, 39.85s/it]\u001b[A\n",
      " 40%|████      | 10/25 [07:40<09:48, 39.20s/it]\u001b[A\n",
      " 44%|████▍     | 11/25 [08:19<09:05, 38.97s/it]\u001b[A\n",
      " 48%|████▊     | 12/25 [08:57<08:23, 38.76s/it]\u001b[A\n",
      " 52%|█████▏    | 13/25 [09:35<07:40, 38.39s/it]\u001b[A\n",
      " 56%|█████▌    | 14/25 [10:42<08:37, 47.00s/it]\u001b[A\n",
      " 60%|██████    | 15/25 [11:50<08:52, 53.23s/it]\u001b[A\n",
      " 64%|██████▍   | 16/25 [12:58<08:40, 57.85s/it]\u001b[A\n",
      " 68%|██████▊   | 17/25 [14:06<08:05, 60.70s/it]\u001b[A\n",
      " 72%|███████▏  | 18/25 [15:12<07:17, 62.52s/it]\u001b[A\n",
      " 76%|███████▌  | 19/25 [16:20<06:24, 64.11s/it]\u001b[A\n",
      " 80%|████████  | 20/25 [18:20<06:43, 80.74s/it]\u001b[A\n",
      " 84%|████████▍ | 21/25 [20:19<06:08, 92.18s/it]\u001b[A\n",
      " 88%|████████▊ | 22/25 [22:26<05:08, 102.67s/it]\u001b[A\n",
      " 92%|█████████▏| 23/25 [24:33<03:39, 109.99s/it]\u001b[A\n",
      " 96%|█████████▌| 24/25 [26:41<01:55, 115.61s/it]\u001b[A"
     ]
    },
    {
     "name": "stderr",
     "output_type": "stream",
     "text": [
      "../topnum/scores/simple_toptok_coherence_score.py:120: UserWarning: The parameter `documents` is not used by SimpleTopTokensCoherenceScore (it is kept for compatibility purposes)\n",
      "  'The parameter `documents` is not used by SimpleTopTokensCoherenceScore'\n"
     ]
    },
    {
     "name": "stdout",
     "output_type": "stream",
     "text": [
      "\n",
      "100%|██████████| 25/25 [26:43<00:00, 64.12s/it] \u001b[A\n",
      " 25%|██▌       | 5/20 [2:19:29<6:58:37, 1674.53s/it]\n",
      "  0%|          | 0/25 [00:00<?, ?it/s]\u001b[A\n",
      "  4%|▍         | 1/25 [00:45<18:07, 45.32s/it]\u001b[A\n",
      "  8%|▊         | 2/25 [02:52<26:47, 69.90s/it]\u001b[A\n",
      " 12%|█▏        | 3/25 [03:37<22:54, 62.46s/it]\u001b[A\n",
      " 16%|█▌        | 4/25 [04:22<20:02, 57.26s/it]\u001b[A\n",
      " 20%|██        | 5/25 [05:07<17:52, 53.62s/it]\u001b[A\n",
      " 24%|██▍       | 6/25 [05:53<16:10, 51.09s/it]\u001b[A\n",
      " 28%|██▊       | 7/25 [06:38<14:46, 49.26s/it]\u001b[A\n",
      " 32%|███▏      | 8/25 [07:16<13:02, 46.02s/it]\u001b[A\n",
      " 36%|███▌      | 9/25 [07:54<11:35, 43.49s/it]\u001b[A\n",
      " 40%|████      | 10/25 [08:31<10:26, 41.74s/it]\u001b[A\n",
      " 44%|████▍     | 11/25 [09:09<09:28, 40.57s/it]\u001b[A\n",
      " 48%|████▊     | 12/25 [09:47<08:35, 39.67s/it]\u001b[A\n",
      " 52%|█████▏    | 13/25 [10:26<07:54, 39.55s/it]\u001b[A\n",
      " 56%|█████▌    | 14/25 [11:34<08:50, 48.22s/it]\u001b[A\n",
      " 60%|██████    | 15/25 [12:44<09:05, 54.57s/it]\u001b[A\n",
      " 64%|██████▍   | 16/25 [13:52<08:47, 58.63s/it]\u001b[A\n",
      " 68%|██████▊   | 17/25 [15:00<08:10, 61.31s/it]\u001b[A\n",
      " 72%|███████▏  | 18/25 [16:07<07:22, 63.26s/it]\u001b[A\n",
      " 76%|███████▌  | 19/25 [17:15<06:27, 64.61s/it]\u001b[A\n",
      " 80%|████████  | 20/25 [19:14<06:44, 80.92s/it]\u001b[A\n",
      " 84%|████████▍ | 21/25 [21:13<06:09, 92.44s/it]\u001b[A\n",
      " 88%|████████▊ | 22/25 [23:14<05:02, 100.80s/it]\u001b[A\n",
      " 92%|█████████▏| 23/25 [25:13<03:32, 106.47s/it]\u001b[A\n",
      " 96%|█████████▌| 24/25 [27:15<01:50, 110.95s/it]\u001b[A"
     ]
    },
    {
     "name": "stderr",
     "output_type": "stream",
     "text": [
      "../topnum/scores/simple_toptok_coherence_score.py:120: UserWarning: The parameter `documents` is not used by SimpleTopTokensCoherenceScore (it is kept for compatibility purposes)\n",
      "  'The parameter `documents` is not used by SimpleTopTokensCoherenceScore'\n"
     ]
    },
    {
     "name": "stdout",
     "output_type": "stream",
     "text": [
      "\n",
      "100%|██████████| 25/25 [27:16<00:00, 65.45s/it] \u001b[A\n",
      " 30%|███       | 6/20 [2:48:13<6:34:11, 1689.41s/it]\n",
      "  0%|          | 0/25 [00:00<?, ?it/s]\u001b[A\n",
      "  4%|▍         | 1/25 [00:37<15:07, 37.81s/it]\u001b[A\n",
      "  8%|▊         | 2/25 [02:38<24:01, 62.66s/it]\u001b[A\n",
      " 12%|█▏        | 3/25 [03:16<20:15, 55.27s/it]\u001b[A\n",
      " 16%|█▌        | 4/25 [03:54<17:29, 49.98s/it]\u001b[A\n",
      " 20%|██        | 5/25 [04:31<15:24, 46.23s/it]\u001b[A\n",
      " 24%|██▍       | 6/25 [05:09<13:49, 43.65s/it]\u001b[A\n",
      " 28%|██▊       | 7/25 [05:48<12:40, 42.23s/it]\u001b[A\n",
      " 32%|███▏      | 8/25 [06:27<11:41, 41.27s/it]\u001b[A\n",
      " 36%|███▌      | 9/25 [07:06<10:50, 40.66s/it]\u001b[A\n",
      " 40%|████      | 10/25 [07:45<10:02, 40.16s/it]\u001b[A\n",
      " 44%|████▍     | 11/25 [08:24<09:17, 39.84s/it]\u001b[A\n",
      " 48%|████▊     | 12/25 [09:03<08:34, 39.59s/it]\u001b[A\n",
      " 52%|█████▏    | 13/25 [09:42<07:53, 39.42s/it]\u001b[A\n",
      " 56%|█████▌    | 14/25 [10:51<08:50, 48.20s/it]\u001b[A\n",
      " 60%|██████    | 15/25 [12:01<09:09, 54.96s/it]\u001b[A\n",
      " 64%|██████▍   | 16/25 [13:10<08:50, 59.00s/it]\u001b[A\n",
      " 68%|██████▊   | 17/25 [14:18<08:14, 61.83s/it]\u001b[A\n",
      " 72%|███████▏  | 18/25 [15:29<07:30, 64.34s/it]\u001b[A\n",
      " 76%|███████▌  | 19/25 [16:37<06:33, 65.62s/it]\u001b[A\n",
      " 80%|████████  | 20/25 [18:37<06:48, 81.77s/it]\u001b[A\n",
      " 84%|████████▍ | 21/25 [20:35<06:11, 92.85s/it]\u001b[A\n",
      " 88%|████████▊ | 22/25 [22:35<05:02, 100.92s/it]\u001b[A\n",
      " 92%|█████████▏| 23/25 [24:35<03:33, 106.74s/it]\u001b[A\n",
      " 96%|█████████▌| 24/25 [26:38<01:51, 111.52s/it]\u001b[A"
     ]
    },
    {
     "name": "stderr",
     "output_type": "stream",
     "text": [
      "../topnum/scores/simple_toptok_coherence_score.py:120: UserWarning: The parameter `documents` is not used by SimpleTopTokensCoherenceScore (it is kept for compatibility purposes)\n",
      "  'The parameter `documents` is not used by SimpleTopTokensCoherenceScore'\n"
     ]
    },
    {
     "name": "stdout",
     "output_type": "stream",
     "text": [
      "\n",
      "100%|██████████| 25/25 [26:39<00:00, 63.98s/it] \u001b[A\n",
      " 35%|███▌      | 7/20 [3:16:20<6:05:53, 1688.74s/it]\n",
      "  0%|          | 0/25 [00:00<?, ?it/s]\u001b[A\n",
      "  4%|▍         | 1/25 [00:37<15:06, 37.78s/it]\u001b[A\n",
      "  8%|▊         | 2/25 [02:39<24:06, 62.88s/it]\u001b[A\n",
      " 12%|█▏        | 3/25 [03:17<20:19, 55.44s/it]\u001b[A\n",
      " 16%|█▌        | 4/25 [03:55<17:33, 50.18s/it]\u001b[A\n",
      " 20%|██        | 5/25 [04:33<15:30, 46.52s/it]\u001b[A\n",
      " 24%|██▍       | 6/25 [05:11<13:55, 43.96s/it]\u001b[A\n",
      " 28%|██▊       | 7/25 [05:48<12:37, 42.11s/it]\u001b[A\n",
      " 32%|███▏      | 8/25 [06:26<11:33, 40.80s/it]\u001b[A\n",
      " 36%|███▌      | 9/25 [07:04<10:37, 39.85s/it]\u001b[A\n",
      " 40%|████      | 10/25 [07:41<09:47, 39.17s/it]\u001b[A\n",
      " 44%|████▍     | 11/25 [08:20<09:04, 38.89s/it]\u001b[A\n",
      " 48%|████▊     | 12/25 [08:57<08:20, 38.49s/it]\u001b[A\n",
      " 52%|█████▏    | 13/25 [09:35<07:38, 38.24s/it]\u001b[A\n",
      " 56%|█████▌    | 14/25 [10:43<08:39, 47.19s/it]\u001b[A\n",
      " 60%|██████    | 15/25 [11:50<08:52, 53.23s/it]\u001b[A\n",
      " 64%|██████▍   | 16/25 [12:57<08:36, 57.42s/it]\u001b[A\n",
      " 68%|██████▊   | 17/25 [14:05<08:04, 60.55s/it]\u001b[A\n",
      " 72%|███████▏  | 18/25 [15:16<07:24, 63.56s/it]\u001b[A\n",
      " 76%|███████▌  | 19/25 [16:26<06:32, 65.40s/it]\u001b[A\n",
      " 80%|████████  | 20/25 [18:25<06:48, 81.72s/it]\u001b[A\n",
      " 84%|████████▍ | 21/25 [20:24<06:10, 92.73s/it]\u001b[A\n",
      " 88%|████████▊ | 22/25 [22:23<05:02, 100.75s/it]\u001b[A\n",
      " 92%|█████████▏| 23/25 [24:22<03:32, 106.20s/it]\u001b[A\n",
      " 96%|█████████▌| 24/25 [26:24<01:50, 110.83s/it]\u001b[A"
     ]
    },
    {
     "name": "stderr",
     "output_type": "stream",
     "text": [
      "../topnum/scores/simple_toptok_coherence_score.py:120: UserWarning: The parameter `documents` is not used by SimpleTopTokensCoherenceScore (it is kept for compatibility purposes)\n",
      "  'The parameter `documents` is not used by SimpleTopTokensCoherenceScore'\n"
     ]
    },
    {
     "name": "stdout",
     "output_type": "stream",
     "text": [
      "\n",
      "100%|██████████| 25/25 [26:25<00:00, 63.41s/it] \u001b[A\n",
      " 40%|████      | 8/20 [3:44:13<5:36:46, 1683.84s/it]\n",
      "  0%|          | 0/25 [00:00<?, ?it/s]\u001b[A\n",
      "  4%|▍         | 1/25 [00:37<15:02, 37.62s/it]\u001b[A\n",
      "  8%|▊         | 2/25 [02:37<23:52, 62.28s/it]\u001b[A\n",
      " 12%|█▏        | 3/25 [03:15<20:08, 54.94s/it]\u001b[A\n",
      " 16%|█▌        | 4/25 [03:53<17:25, 49.80s/it]\u001b[A\n",
      " 20%|██        | 5/25 [04:30<15:22, 46.11s/it]\u001b[A\n",
      " 24%|██▍       | 6/25 [05:08<13:46, 43.52s/it]\u001b[A\n",
      " 28%|██▊       | 7/25 [05:45<12:30, 41.71s/it]\u001b[A\n",
      " 32%|███▏      | 8/25 [06:22<11:27, 40.44s/it]\u001b[A\n",
      " 36%|███▌      | 9/25 [07:00<10:33, 39.57s/it]\u001b[A\n",
      " 40%|████      | 10/25 [07:38<09:44, 38.98s/it]\u001b[A\n",
      " 44%|████▍     | 11/25 [08:15<08:59, 38.53s/it]\u001b[A\n",
      " 48%|████▊     | 12/25 [08:52<08:16, 38.17s/it]\u001b[A\n",
      " 52%|█████▏    | 13/25 [09:30<07:35, 38.00s/it]\u001b[A\n",
      " 56%|█████▌    | 14/25 [10:38<08:37, 47.06s/it]\u001b[A\n",
      " 60%|██████    | 15/25 [11:47<08:55, 53.55s/it]\u001b[A\n",
      " 64%|██████▍   | 16/25 [12:55<08:41, 57.97s/it]\u001b[A\n",
      " 68%|██████▊   | 17/25 [14:02<08:05, 60.74s/it]\u001b[A\n",
      " 72%|███████▏  | 18/25 [15:10<07:20, 62.93s/it]\u001b[A\n",
      " 76%|███████▌  | 19/25 [16:19<06:26, 64.49s/it]\u001b[A\n",
      " 80%|████████  | 20/25 [18:19<06:45, 81.16s/it]\u001b[A\n",
      " 84%|████████▍ | 21/25 [20:19<06:11, 92.90s/it]\u001b[A\n",
      " 88%|████████▊ | 22/25 [22:20<05:04, 101.45s/it]\u001b[A\n",
      " 92%|█████████▏| 23/25 [24:20<03:34, 107.03s/it]\u001b[A\n",
      " 96%|█████████▌| 24/25 [26:21<01:51, 111.12s/it]\u001b[A"
     ]
    },
    {
     "name": "stderr",
     "output_type": "stream",
     "text": [
      "../topnum/scores/simple_toptok_coherence_score.py:120: UserWarning: The parameter `documents` is not used by SimpleTopTokensCoherenceScore (it is kept for compatibility purposes)\n",
      "  'The parameter `documents` is not used by SimpleTopTokensCoherenceScore'\n"
     ]
    },
    {
     "name": "stdout",
     "output_type": "stream",
     "text": [
      "\n",
      "100%|██████████| 25/25 [26:22<00:00, 63.30s/it] \u001b[A\n",
      " 45%|████▌     | 9/20 [4:12:02<5:07:55, 1679.58s/it]\n",
      "  0%|          | 0/25 [00:00<?, ?it/s]\u001b[A\n",
      "  4%|▍         | 1/25 [00:37<15:06, 37.78s/it]\u001b[A\n",
      "  8%|▊         | 2/25 [02:37<23:56, 62.48s/it]\u001b[A\n",
      " 12%|█▏        | 3/25 [03:15<20:10, 55.03s/it]\u001b[A\n",
      " 16%|█▌        | 4/25 [03:53<17:26, 49.84s/it]\u001b[A\n",
      " 20%|██        | 5/25 [04:31<15:25, 46.29s/it]\u001b[A\n",
      " 24%|██▍       | 6/25 [05:08<13:50, 43.71s/it]\u001b[A\n",
      " 28%|██▊       | 7/25 [05:46<12:34, 41.90s/it]\u001b[A\n",
      " 32%|███▏      | 8/25 [06:24<11:30, 40.63s/it]\u001b[A\n",
      " 36%|███▌      | 9/25 [07:02<10:35, 39.75s/it]\u001b[A\n",
      " 40%|████      | 10/25 [07:39<09:47, 39.14s/it]\u001b[A\n",
      " 44%|████▍     | 11/25 [08:17<09:02, 38.72s/it]\u001b[A\n",
      " 48%|████▊     | 12/25 [08:54<08:18, 38.34s/it]\u001b[A\n",
      " 52%|█████▏    | 13/25 [09:32<07:37, 38.13s/it]\u001b[A\n",
      " 56%|█████▌    | 14/25 [10:40<08:37, 47.08s/it]\u001b[A\n",
      " 60%|██████    | 15/25 [11:49<08:56, 53.61s/it]\u001b[A\n",
      " 64%|██████▍   | 16/25 [12:58<08:43, 58.17s/it]\u001b[A\n",
      " 68%|██████▊   | 17/25 [14:07<08:11, 61.47s/it]\u001b[A\n",
      " 72%|███████▏  | 18/25 [15:18<07:30, 64.34s/it]\u001b[A\n",
      " 76%|███████▌  | 19/25 [16:27<06:34, 65.70s/it]\u001b[A\n",
      " 80%|████████  | 20/25 [18:28<06:51, 82.26s/it]\u001b[A\n",
      " 84%|████████▍ | 21/25 [20:28<06:15, 93.82s/it]\u001b[A\n",
      " 88%|████████▊ | 22/25 [22:30<05:06, 102.12s/it]\u001b[A\n",
      " 92%|█████████▏| 23/25 [24:32<03:36, 108.01s/it]\u001b[A\n",
      " 96%|█████████▌| 24/25 [26:37<01:53, 113.19s/it]\u001b[A"
     ]
    },
    {
     "name": "stderr",
     "output_type": "stream",
     "text": [
      "../topnum/scores/simple_toptok_coherence_score.py:120: UserWarning: The parameter `documents` is not used by SimpleTopTokensCoherenceScore (it is kept for compatibility purposes)\n",
      "  'The parameter `documents` is not used by SimpleTopTokensCoherenceScore'\n"
     ]
    },
    {
     "name": "stdout",
     "output_type": "stream",
     "text": [
      "\n",
      "100%|██████████| 25/25 [26:38<00:00, 63.93s/it] \u001b[A\n",
      " 50%|█████     | 10/20 [4:40:07<4:40:10, 1681.05s/it]\n",
      "  0%|          | 0/25 [00:00<?, ?it/s]\u001b[A\n",
      "  4%|▍         | 1/25 [00:37<15:05, 37.71s/it]\u001b[A\n",
      "  8%|▊         | 2/25 [02:40<24:11, 63.09s/it]\u001b[A\n",
      " 12%|█▏        | 3/25 [03:17<20:21, 55.51s/it]\u001b[A\n",
      " 16%|█▌        | 4/25 [03:56<17:39, 50.47s/it]\u001b[A\n",
      " 20%|██        | 5/25 [04:35<15:37, 46.87s/it]\u001b[A\n",
      " 24%|██▍       | 6/25 [05:13<14:00, 44.21s/it]\u001b[A\n",
      " 28%|██▊       | 7/25 [05:51<12:46, 42.56s/it]\u001b[A\n",
      " 32%|███▏      | 8/25 [06:29<11:37, 41.01s/it]\u001b[A\n",
      " 36%|███▌      | 9/25 [07:06<10:39, 39.99s/it]\u001b[A\n",
      " 40%|████      | 10/25 [07:44<09:49, 39.32s/it]\u001b[A\n",
      " 44%|████▍     | 11/25 [08:22<09:03, 38.85s/it]\u001b[A\n",
      " 48%|████▊     | 12/25 [08:59<08:20, 38.47s/it]\u001b[A\n",
      " 52%|█████▏    | 13/25 [09:37<07:38, 38.24s/it]\u001b[A\n",
      " 56%|█████▌    | 14/25 [10:45<08:39, 47.23s/it]\u001b[A\n",
      " 60%|██████    | 15/25 [11:53<08:54, 53.43s/it]\u001b[A\n",
      " 64%|██████▍   | 16/25 [13:02<08:41, 57.92s/it]\u001b[A\n",
      " 68%|██████▊   | 17/25 [14:09<08:05, 60.64s/it]\u001b[A\n",
      " 72%|███████▏  | 18/25 [15:17<07:20, 62.94s/it]\u001b[A\n",
      " 76%|███████▌  | 19/25 [16:25<06:27, 64.51s/it]\u001b[A\n",
      " 80%|████████  | 20/25 [18:25<06:45, 81.09s/it]\u001b[A\n",
      " 84%|████████▍ | 21/25 [20:25<06:11, 92.96s/it]\u001b[A\n",
      " 88%|████████▊ | 22/25 [22:26<05:03, 101.26s/it]\u001b[A\n",
      " 92%|█████████▏| 23/25 [24:26<03:33, 106.77s/it]\u001b[A\n",
      " 96%|█████████▌| 24/25 [26:28<01:51, 111.33s/it]\u001b[A"
     ]
    },
    {
     "name": "stderr",
     "output_type": "stream",
     "text": [
      "../topnum/scores/simple_toptok_coherence_score.py:120: UserWarning: The parameter `documents` is not used by SimpleTopTokensCoherenceScore (it is kept for compatibility purposes)\n",
      "  'The parameter `documents` is not used by SimpleTopTokensCoherenceScore'\n"
     ]
    },
    {
     "name": "stdout",
     "output_type": "stream",
     "text": [
      "\n",
      "100%|██████████| 25/25 [26:29<00:00, 63.56s/it] \u001b[A\n",
      " 55%|█████▌    | 11/20 [5:07:45<4:11:06, 1674.04s/it]\n",
      "  0%|          | 0/25 [00:00<?, ?it/s]\u001b[A\n",
      "  4%|▍         | 1/25 [00:45<18:01, 45.05s/it]\u001b[A\n",
      "  8%|▊         | 2/25 [02:46<26:05, 68.05s/it]\u001b[A\n",
      " 12%|█▏        | 3/25 [03:24<21:37, 58.99s/it]\u001b[A\n",
      " 16%|█▌        | 4/25 [04:02<18:25, 52.65s/it]\u001b[A\n",
      " 20%|██        | 5/25 [04:40<16:03, 48.17s/it]\u001b[A\n",
      " 24%|██▍       | 6/25 [05:17<14:14, 44.97s/it]\u001b[A\n",
      " 28%|██▊       | 7/25 [05:55<12:50, 42.79s/it]\u001b[A\n",
      " 32%|███▏      | 8/25 [06:33<11:42, 41.32s/it]\u001b[A\n",
      " 36%|███▌      | 9/25 [07:11<10:43, 40.25s/it]\u001b[A\n",
      " 40%|████      | 10/25 [07:49<09:53, 39.59s/it]\u001b[A\n",
      " 44%|████▍     | 11/25 [08:26<09:07, 39.08s/it]\u001b[A\n",
      " 48%|████▊     | 12/25 [09:04<08:21, 38.61s/it]\u001b[A\n",
      " 52%|█████▏    | 13/25 [09:42<07:39, 38.30s/it]\u001b[A\n",
      " 56%|█████▌    | 14/25 [10:49<08:37, 47.05s/it]\u001b[A\n",
      " 60%|██████    | 15/25 [11:57<08:51, 53.19s/it]\u001b[A\n",
      " 64%|██████▍   | 16/25 [13:06<08:41, 57.99s/it]\u001b[A\n",
      " 68%|██████▊   | 17/25 [14:13<08:07, 60.89s/it]\u001b[A\n",
      " 72%|███████▏  | 18/25 [15:22<07:22, 63.19s/it]\u001b[A\n",
      " 76%|███████▌  | 19/25 [16:31<06:28, 64.83s/it]\u001b[A\n",
      " 80%|████████  | 20/25 [18:30<06:45, 81.19s/it]\u001b[A\n",
      " 84%|████████▍ | 21/25 [20:28<06:09, 92.37s/it]\u001b[A\n",
      " 88%|████████▊ | 22/25 [22:28<05:01, 100.45s/it]\u001b[A\n",
      " 92%|█████████▏| 23/25 [24:28<03:32, 106.27s/it]\u001b[A\n",
      " 96%|█████████▌| 24/25 [26:30<01:51, 111.07s/it]\u001b[A"
     ]
    },
    {
     "name": "stderr",
     "output_type": "stream",
     "text": [
      "../topnum/scores/simple_toptok_coherence_score.py:120: UserWarning: The parameter `documents` is not used by SimpleTopTokensCoherenceScore (it is kept for compatibility purposes)\n",
      "  'The parameter `documents` is not used by SimpleTopTokensCoherenceScore'\n"
     ]
    },
    {
     "name": "stdout",
     "output_type": "stream",
     "text": [
      "\n",
      "100%|██████████| 25/25 [26:31<00:00, 63.65s/it] \u001b[A\n",
      " 60%|██████    | 12/20 [5:35:25<3:42:38, 1669.81s/it]\n",
      "  0%|          | 0/25 [00:00<?, ?it/s]\u001b[A\n",
      "  4%|▍         | 1/25 [00:38<15:25, 38.56s/it]\u001b[A\n",
      "  8%|▊         | 2/25 [02:38<24:10, 63.06s/it]\u001b[A\n",
      " 12%|█▏        | 3/25 [03:23<21:08, 57.68s/it]\u001b[A\n",
      " 16%|█▌        | 4/25 [04:08<18:48, 53.76s/it]\u001b[A\n",
      " 20%|██        | 5/25 [04:53<17:01, 51.06s/it]\u001b[A\n",
      " 24%|██▍       | 6/25 [05:30<14:52, 46.98s/it]\u001b[A\n",
      " 28%|██▊       | 7/25 [06:08<13:15, 44.17s/it]\u001b[A\n",
      " 32%|███▏      | 8/25 [06:46<11:57, 42.23s/it]\u001b[A\n",
      " 36%|███▌      | 9/25 [07:23<10:53, 40.82s/it]\u001b[A\n",
      " 40%|████      | 10/25 [08:01<09:59, 39.94s/it]\u001b[A\n",
      " 44%|████▍     | 11/25 [08:39<09:11, 39.42s/it]\u001b[A\n",
      " 48%|████▊     | 12/25 [09:17<08:26, 38.97s/it]\u001b[A\n",
      " 52%|█████▏    | 13/25 [09:55<07:44, 38.69s/it]\u001b[A\n",
      " 56%|█████▌    | 14/25 [11:04<08:45, 47.75s/it]\u001b[A\n",
      " 60%|██████    | 15/25 [12:11<08:55, 53.53s/it]\u001b[A\n",
      " 64%|██████▍   | 16/25 [13:19<08:40, 57.79s/it]\u001b[A\n",
      " 68%|██████▊   | 17/25 [14:27<08:06, 60.81s/it]\u001b[A\n",
      " 72%|███████▏  | 18/25 [15:35<07:21, 63.00s/it]\u001b[A\n",
      " 76%|███████▌  | 19/25 [16:43<06:28, 64.69s/it]\u001b[A\n",
      " 80%|████████  | 20/25 [18:45<06:48, 81.73s/it]\u001b[A\n",
      " 84%|████████▍ | 21/25 [20:45<06:12, 93.24s/it]\u001b[A\n",
      " 88%|████████▊ | 22/25 [22:46<05:04, 101.44s/it]\u001b[A\n",
      " 92%|█████████▏| 23/25 [24:46<03:34, 107.12s/it]\u001b[A\n",
      " 96%|█████████▌| 24/25 [26:48<01:51, 111.63s/it]\u001b[A"
     ]
    },
    {
     "name": "stderr",
     "output_type": "stream",
     "text": [
      "../topnum/scores/simple_toptok_coherence_score.py:120: UserWarning: The parameter `documents` is not used by SimpleTopTokensCoherenceScore (it is kept for compatibility purposes)\n",
      "  'The parameter `documents` is not used by SimpleTopTokensCoherenceScore'\n"
     ]
    },
    {
     "name": "stdout",
     "output_type": "stream",
     "text": [
      "\n",
      "100%|██████████| 25/25 [26:49<00:00, 64.38s/it] \u001b[A\n",
      " 65%|██████▌   | 13/20 [6:03:22<3:15:05, 1672.16s/it]\n",
      "  0%|          | 0/25 [00:00<?, ?it/s]\u001b[A\n",
      "  4%|▍         | 1/25 [00:37<15:01, 37.57s/it]\u001b[A\n",
      "  8%|▊         | 2/25 [02:38<23:59, 62.61s/it]\u001b[A\n",
      " 12%|█▏        | 3/25 [03:16<20:16, 55.31s/it]\u001b[A\n",
      " 16%|█▌        | 4/25 [03:54<17:30, 50.03s/it]\u001b[A\n",
      " 20%|██        | 5/25 [04:32<15:27, 46.38s/it]\u001b[A\n",
      " 24%|██▍       | 6/25 [05:10<13:51, 43.75s/it]\u001b[A\n",
      " 28%|██▊       | 7/25 [05:47<12:34, 41.94s/it]\u001b[A\n",
      " 32%|███▏      | 8/25 [06:25<11:30, 40.62s/it]\u001b[A\n",
      " 36%|███▌      | 9/25 [07:02<10:35, 39.70s/it]\u001b[A\n",
      " 40%|████      | 10/25 [07:40<09:46, 39.10s/it]\u001b[A\n",
      " 44%|████▍     | 11/25 [08:18<09:01, 38.67s/it]\u001b[A\n",
      " 48%|████▊     | 12/25 [08:55<08:18, 38.35s/it]\u001b[A\n",
      " 52%|█████▏    | 13/25 [09:33<07:37, 38.12s/it]\u001b[A\n",
      " 56%|█████▌    | 14/25 [10:40<08:36, 46.93s/it]\u001b[A\n",
      " 60%|██████    | 15/25 [11:47<08:49, 52.95s/it]\u001b[A\n",
      " 64%|██████▍   | 16/25 [12:55<08:37, 57.45s/it]\u001b[A\n",
      " 68%|██████▊   | 17/25 [14:03<08:03, 60.43s/it]\u001b[A\n",
      " 72%|███████▏  | 18/25 [15:10<07:17, 62.52s/it]\u001b[A\n",
      " 76%|███████▌  | 19/25 [16:18<06:25, 64.24s/it]\u001b[A\n",
      " 80%|████████  | 20/25 [18:18<06:43, 80.75s/it]\u001b[A\n",
      " 84%|████████▍ | 21/25 [20:17<06:09, 92.29s/it]\u001b[A\n",
      " 88%|████████▊ | 22/25 [22:17<05:01, 100.57s/it]\u001b[A\n",
      " 92%|█████████▏| 23/25 [24:17<03:32, 106.48s/it]\u001b[A\n",
      " 96%|█████████▌| 24/25 [26:25<01:53, 113.04s/it]\u001b[A"
     ]
    },
    {
     "name": "stderr",
     "output_type": "stream",
     "text": [
      "../topnum/scores/simple_toptok_coherence_score.py:120: UserWarning: The parameter `documents` is not used by SimpleTopTokensCoherenceScore (it is kept for compatibility purposes)\n",
      "  'The parameter `documents` is not used by SimpleTopTokensCoherenceScore'\n"
     ]
    },
    {
     "name": "stdout",
     "output_type": "stream",
     "text": [
      "\n",
      "100%|██████████| 25/25 [26:26<00:00, 63.47s/it] \u001b[A\n",
      " 70%|███████   | 14/20 [6:30:57<2:46:41, 1666.98s/it]\n",
      "  0%|          | 0/25 [00:00<?, ?it/s]\u001b[A\n",
      "  4%|▍         | 1/25 [00:37<15:01, 37.55s/it]\u001b[A\n",
      "  8%|▊         | 2/25 [02:38<23:56, 62.44s/it]\u001b[A\n",
      " 12%|█▏        | 3/25 [03:15<20:08, 54.93s/it]\u001b[A\n",
      " 16%|█▌        | 4/25 [03:53<17:23, 49.71s/it]\u001b[A\n",
      " 20%|██        | 5/25 [04:30<15:21, 46.05s/it]\u001b[A\n",
      " 24%|██▍       | 6/25 [05:07<13:45, 43.45s/it]\u001b[A\n",
      " 28%|██▊       | 7/25 [05:45<12:29, 41.63s/it]\u001b[A\n",
      " 32%|███▏      | 8/25 [06:22<11:26, 40.36s/it]\u001b[A\n",
      " 36%|███▌      | 9/25 [06:59<10:31, 39.44s/it]\u001b[A\n",
      " 40%|████      | 10/25 [07:37<09:42, 38.82s/it]\u001b[A\n",
      " 44%|████▍     | 11/25 [08:14<08:58, 38.45s/it]\u001b[A\n",
      " 48%|████▊     | 12/25 [08:52<08:17, 38.24s/it]\u001b[A\n",
      " 52%|█████▏    | 13/25 [09:30<07:35, 37.99s/it]\u001b[A\n",
      " 56%|█████▌    | 14/25 [10:36<08:32, 46.62s/it]\u001b[A\n",
      " 60%|██████    | 15/25 [11:44<08:48, 52.83s/it]\u001b[A\n",
      " 64%|██████▍   | 16/25 [12:51<08:33, 57.07s/it]\u001b[A\n",
      " 68%|██████▊   | 17/25 [13:57<07:59, 59.96s/it]\u001b[A\n",
      " 72%|███████▏  | 18/25 [15:04<07:14, 62.09s/it]\u001b[A\n",
      " 76%|███████▌  | 19/25 [16:12<06:22, 63.76s/it]\u001b[A\n",
      " 80%|████████  | 20/25 [18:11<06:42, 80.45s/it]\u001b[A\n",
      " 84%|████████▍ | 21/25 [20:11<06:08, 92.11s/it]\u001b[A\n",
      " 88%|████████▊ | 22/25 [22:10<05:01, 100.39s/it]\u001b[A\n",
      " 92%|█████████▏| 23/25 [24:10<03:32, 106.08s/it]\u001b[A\n",
      " 96%|█████████▌| 24/25 [26:12<01:50, 110.82s/it]\u001b[A"
     ]
    },
    {
     "name": "stderr",
     "output_type": "stream",
     "text": [
      "../topnum/scores/simple_toptok_coherence_score.py:120: UserWarning: The parameter `documents` is not used by SimpleTopTokensCoherenceScore (it is kept for compatibility purposes)\n",
      "  'The parameter `documents` is not used by SimpleTopTokensCoherenceScore'\n"
     ]
    },
    {
     "name": "stdout",
     "output_type": "stream",
     "text": [
      "\n",
      "100%|██████████| 25/25 [26:13<00:00, 62.92s/it] \u001b[A\n",
      " 75%|███████▌  | 15/20 [6:58:18<2:18:15, 1659.11s/it]\n",
      "  0%|          | 0/25 [00:00<?, ?it/s]\u001b[A\n",
      "  4%|▍         | 1/25 [00:37<15:06, 37.77s/it]\u001b[A\n",
      "  8%|▊         | 2/25 [02:37<23:56, 62.46s/it]\u001b[A\n",
      " 12%|█▏        | 3/25 [03:15<20:10, 55.01s/it]\u001b[A\n",
      " 16%|█▌        | 4/25 [03:53<17:26, 49.83s/it]\u001b[A\n",
      " 20%|██        | 5/25 [04:30<15:23, 46.19s/it]\u001b[A\n",
      " 24%|██▍       | 6/25 [05:08<13:47, 43.56s/it]\u001b[A\n",
      " 28%|██▊       | 7/25 [05:45<12:32, 41.79s/it]\u001b[A\n",
      " 32%|███▏      | 8/25 [06:23<11:28, 40.51s/it]\u001b[A\n",
      " 36%|███▌      | 9/25 [07:01<10:33, 39.60s/it]\u001b[A\n",
      " 40%|████      | 10/25 [07:38<09:44, 38.99s/it]\u001b[A\n",
      " 44%|████▍     | 11/25 [08:16<09:00, 38.59s/it]\u001b[A\n",
      " 48%|████▊     | 12/25 [08:53<08:17, 38.24s/it]\u001b[A\n",
      " 52%|█████▏    | 13/25 [09:31<07:37, 38.09s/it]\u001b[A\n",
      " 56%|█████▌    | 14/25 [10:38<08:34, 46.77s/it]\u001b[A\n",
      " 60%|██████    | 15/25 [11:45<08:47, 52.76s/it]\u001b[A\n",
      " 64%|██████▍   | 16/25 [12:52<08:34, 57.21s/it]\u001b[A\n",
      " 68%|██████▊   | 17/25 [13:59<08:01, 60.15s/it]\u001b[A\n",
      " 72%|███████▏  | 18/25 [15:07<07:17, 62.50s/it]\u001b[A\n",
      " 76%|███████▌  | 19/25 [16:14<06:23, 63.92s/it]\u001b[A\n",
      " 80%|████████  | 20/25 [18:14<06:42, 80.57s/it]\u001b[A\n",
      " 84%|████████▍ | 21/25 [20:12<06:07, 91.85s/it]\u001b[A\n",
      " 88%|████████▊ | 22/25 [22:12<05:00, 100.23s/it]\u001b[A\n",
      " 92%|█████████▏| 23/25 [24:11<03:32, 106.02s/it]\u001b[A\n",
      " 96%|█████████▌| 24/25 [26:12<01:50, 110.32s/it]\u001b[A"
     ]
    },
    {
     "name": "stderr",
     "output_type": "stream",
     "text": [
      "../topnum/scores/simple_toptok_coherence_score.py:120: UserWarning: The parameter `documents` is not used by SimpleTopTokensCoherenceScore (it is kept for compatibility purposes)\n",
      "  'The parameter `documents` is not used by SimpleTopTokensCoherenceScore'\n"
     ]
    },
    {
     "name": "stdout",
     "output_type": "stream",
     "text": [
      "\n",
      "100%|██████████| 25/25 [26:13<00:00, 62.92s/it] \u001b[A\n",
      " 80%|████████  | 16/20 [7:25:39<1:50:14, 1653.65s/it]\n",
      "  0%|          | 0/25 [00:00<?, ?it/s]\u001b[A\n",
      "  4%|▍         | 1/25 [00:37<15:05, 37.73s/it]\u001b[A\n",
      "  8%|▊         | 2/25 [02:38<23:59, 62.60s/it]\u001b[A\n",
      " 12%|█▏        | 3/25 [03:15<20:12, 55.10s/it]\u001b[A\n",
      " 16%|█▌        | 4/25 [03:53<17:27, 49.88s/it]\u001b[A\n",
      " 20%|██        | 5/25 [04:31<15:24, 46.23s/it]\u001b[A\n",
      " 24%|██▍       | 6/25 [05:08<13:48, 43.60s/it]\u001b[A\n",
      " 28%|██▊       | 7/25 [05:46<12:32, 41.78s/it]\u001b[A\n",
      " 32%|███▏      | 8/25 [06:23<11:28, 40.50s/it]\u001b[A\n",
      " 36%|███▌      | 9/25 [07:01<10:32, 39.54s/it]\u001b[A\n",
      " 40%|████      | 10/25 [07:38<09:43, 38.88s/it]\u001b[A\n",
      " 44%|████▍     | 11/25 [08:15<08:58, 38.45s/it]\u001b[A\n",
      " 48%|████▊     | 12/25 [08:53<08:16, 38.17s/it]\u001b[A\n",
      " 52%|█████▏    | 13/25 [09:31<07:36, 38.02s/it]\u001b[A\n",
      " 56%|█████▌    | 14/25 [10:38<08:34, 46.80s/it]\u001b[A\n",
      " 60%|██████    | 15/25 [11:46<08:50, 53.07s/it]\u001b[A\n",
      " 64%|██████▍   | 16/25 [12:54<08:37, 57.53s/it]\u001b[A\n",
      " 68%|██████▊   | 17/25 [14:02<08:05, 60.72s/it]\u001b[A\n",
      " 72%|███████▏  | 18/25 [15:10<07:20, 62.94s/it]\u001b[A\n",
      " 76%|███████▌  | 19/25 [16:18<06:27, 64.51s/it]\u001b[A\n",
      " 80%|████████  | 20/25 [18:17<06:44, 80.90s/it]\u001b[A\n",
      " 84%|████████▍ | 21/25 [20:15<06:08, 92.01s/it]\u001b[A\n",
      " 88%|████████▊ | 22/25 [22:15<05:01, 100.37s/it]\u001b[A\n",
      " 92%|█████████▏| 23/25 [24:14<03:32, 106.07s/it]\u001b[A\n",
      " 96%|█████████▌| 24/25 [26:16<01:50, 110.87s/it]\u001b[A"
     ]
    },
    {
     "name": "stderr",
     "output_type": "stream",
     "text": [
      "../topnum/scores/simple_toptok_coherence_score.py:120: UserWarning: The parameter `documents` is not used by SimpleTopTokensCoherenceScore (it is kept for compatibility purposes)\n",
      "  'The parameter `documents` is not used by SimpleTopTokensCoherenceScore'\n"
     ]
    },
    {
     "name": "stdout",
     "output_type": "stream",
     "text": [
      "\n",
      "100%|██████████| 25/25 [26:17<00:00, 63.11s/it] \u001b[A\n",
      " 85%|████████▌ | 17/20 [7:53:05<1:22:34, 1651.42s/it]\n",
      "  0%|          | 0/25 [00:00<?, ?it/s]\u001b[A\n",
      "  4%|▍         | 1/25 [00:37<15:03, 37.63s/it]\u001b[A\n",
      "  8%|▊         | 2/25 [02:37<23:55, 62.39s/it]\u001b[A\n",
      " 12%|█▏        | 3/25 [03:15<20:08, 54.95s/it]\u001b[A\n",
      " 16%|█▌        | 4/25 [03:52<17:24, 49.73s/it]\u001b[A\n",
      " 20%|██        | 5/25 [04:30<15:22, 46.11s/it]\u001b[A\n",
      " 24%|██▍       | 6/25 [05:08<13:47, 43.54s/it]\u001b[A\n",
      " 28%|██▊       | 7/25 [05:45<12:32, 41.80s/it]\u001b[A\n",
      " 32%|███▏      | 8/25 [06:30<12:05, 42.70s/it]\u001b[A\n",
      " 36%|███▌      | 9/25 [07:09<11:02, 41.42s/it]\u001b[A\n",
      " 40%|████      | 10/25 [07:46<10:04, 40.30s/it]\u001b[A\n",
      " 44%|████▍     | 11/25 [08:24<09:12, 39.49s/it]\u001b[A\n",
      " 48%|████▊     | 12/25 [09:01<08:25, 38.86s/it]\u001b[A\n",
      " 52%|█████▏    | 13/25 [09:39<07:41, 38.47s/it]\u001b[A\n",
      " 56%|█████▌    | 14/25 [10:46<08:36, 46.97s/it]\u001b[A\n",
      " 60%|██████    | 15/25 [11:54<08:54, 53.41s/it]\u001b[A\n",
      " 64%|██████▍   | 16/25 [13:01<08:37, 57.46s/it]\u001b[A\n",
      " 68%|██████▊   | 17/25 [14:08<08:02, 60.28s/it]\u001b[A\n",
      " 72%|███████▏  | 18/25 [15:16<07:17, 62.56s/it]\u001b[A\n",
      " 76%|███████▌  | 19/25 [16:23<06:23, 63.84s/it]\u001b[A\n",
      " 80%|████████  | 20/25 [18:22<06:42, 80.57s/it]\u001b[A\n",
      " 84%|████████▍ | 21/25 [20:21<06:07, 91.92s/it]\u001b[A\n",
      " 88%|████████▊ | 22/25 [22:20<05:00, 100.20s/it]\u001b[A\n",
      " 92%|█████████▏| 23/25 [24:19<03:31, 105.96s/it]\u001b[A\n",
      " 96%|█████████▌| 24/25 [26:22<01:50, 110.77s/it]\u001b[A"
     ]
    },
    {
     "name": "stderr",
     "output_type": "stream",
     "text": [
      "../topnum/scores/simple_toptok_coherence_score.py:120: UserWarning: The parameter `documents` is not used by SimpleTopTokensCoherenceScore (it is kept for compatibility purposes)\n",
      "  'The parameter `documents` is not used by SimpleTopTokensCoherenceScore'\n"
     ]
    },
    {
     "name": "stdout",
     "output_type": "stream",
     "text": [
      "\n",
      "100%|██████████| 25/25 [26:22<00:00, 63.31s/it] \u001b[A\n",
      " 90%|█████████ | 18/20 [8:20:36<55:02, 1651.24s/it]  \n",
      "  0%|          | 0/25 [00:00<?, ?it/s]\u001b[A\n",
      "  4%|▍         | 1/25 [00:37<15:03, 37.64s/it]\u001b[A\n",
      "  8%|▊         | 2/25 [02:38<24:01, 62.65s/it]\u001b[A\n",
      " 12%|█▏        | 3/25 [03:16<20:13, 55.16s/it]\u001b[A\n",
      " 16%|█▌        | 4/25 [03:53<17:27, 49.88s/it]\u001b[A\n",
      " 20%|██        | 5/25 [04:31<15:24, 46.25s/it]\u001b[A\n",
      " 24%|██▍       | 6/25 [05:09<13:48, 43.62s/it]\u001b[A\n",
      " 28%|██▊       | 7/25 [05:46<12:33, 41.84s/it]\u001b[A\n",
      " 32%|███▏      | 8/25 [06:24<11:29, 40.53s/it]\u001b[A\n",
      " 36%|███▌      | 9/25 [07:01<10:34, 39.63s/it]\u001b[A\n",
      " 40%|████      | 10/25 [07:39<09:45, 39.04s/it]\u001b[A\n",
      " 44%|████▍     | 11/25 [08:17<09:02, 38.73s/it]\u001b[A\n",
      " 48%|████▊     | 12/25 [08:54<08:18, 38.34s/it]\u001b[A\n",
      " 52%|█████▏    | 13/25 [09:32<07:38, 38.22s/it]\u001b[A\n",
      " 56%|█████▌    | 14/25 [10:40<08:37, 47.09s/it]\u001b[A\n",
      " 60%|██████    | 15/25 [11:49<08:55, 53.51s/it]\u001b[A\n",
      " 64%|██████▍   | 16/25 [12:57<08:40, 57.82s/it]\u001b[A\n",
      " 68%|██████▊   | 17/25 [14:04<08:05, 60.69s/it]\u001b[A\n",
      " 72%|███████▏  | 18/25 [15:13<07:22, 63.26s/it]\u001b[A\n",
      " 76%|███████▌  | 19/25 [16:21<06:26, 64.48s/it]\u001b[A\n",
      " 80%|████████  | 20/25 [18:20<06:44, 80.96s/it]\u001b[A\n",
      " 84%|████████▍ | 21/25 [20:20<06:11, 92.83s/it]\u001b[A\n",
      " 88%|████████▊ | 22/25 [22:20<05:02, 100.97s/it]\u001b[A\n",
      " 92%|█████████▏| 23/25 [24:21<03:33, 106.93s/it]\u001b[A\n",
      " 96%|█████████▌| 24/25 [26:23<01:51, 111.23s/it]\u001b[A"
     ]
    },
    {
     "name": "stderr",
     "output_type": "stream",
     "text": [
      "../topnum/scores/simple_toptok_coherence_score.py:120: UserWarning: The parameter `documents` is not used by SimpleTopTokensCoherenceScore (it is kept for compatibility purposes)\n",
      "  'The parameter `documents` is not used by SimpleTopTokensCoherenceScore'\n"
     ]
    },
    {
     "name": "stdout",
     "output_type": "stream",
     "text": [
      "\n",
      "100%|██████████| 25/25 [26:23<00:00, 63.35s/it] \u001b[A\n",
      " 95%|█████████▌| 19/20 [8:48:07<27:31, 1651.37s/it]\n",
      "  0%|          | 0/25 [00:00<?, ?it/s]\u001b[A\n",
      "  4%|▍         | 1/25 [00:37<15:04, 37.68s/it]\u001b[A\n",
      "  8%|▊         | 2/25 [02:38<23:58, 62.55s/it]\u001b[A\n",
      " 12%|█▏        | 3/25 [03:16<20:14, 55.20s/it]\u001b[A\n",
      " 16%|█▌        | 4/25 [03:53<17:27, 49.89s/it]\u001b[A\n",
      " 20%|██        | 5/25 [04:31<15:24, 46.20s/it]\u001b[A\n",
      " 24%|██▍       | 6/25 [05:09<13:48, 43.63s/it]\u001b[A\n",
      " 28%|██▊       | 7/25 [05:46<12:32, 41.83s/it]\u001b[A\n",
      " 32%|███▏      | 8/25 [06:24<11:30, 40.59s/it]\u001b[A\n",
      " 36%|███▌      | 9/25 [07:01<10:34, 39.66s/it]\u001b[A\n",
      " 40%|████      | 10/25 [07:39<09:45, 39.06s/it]\u001b[A\n",
      " 44%|████▍     | 11/25 [08:17<09:00, 38.60s/it]\u001b[A\n",
      " 48%|████▊     | 12/25 [08:54<08:17, 38.30s/it]\u001b[A\n",
      " 52%|█████▏    | 13/25 [09:32<07:37, 38.10s/it]\u001b[A\n",
      " 56%|█████▌    | 14/25 [10:41<08:42, 47.54s/it]\u001b[A\n",
      " 60%|██████    | 15/25 [11:49<08:56, 53.62s/it]\u001b[A\n",
      " 64%|██████▍   | 16/25 [12:57<08:41, 57.98s/it]\u001b[A\n",
      " 68%|██████▊   | 17/25 [14:05<08:07, 60.96s/it]\u001b[A\n",
      " 72%|███████▏  | 18/25 [15:13<07:21, 63.05s/it]\u001b[A\n",
      " 76%|███████▌  | 19/25 [16:21<06:27, 64.60s/it]\u001b[A\n",
      " 80%|████████  | 20/25 [18:21<06:45, 81.06s/it]\u001b[A\n",
      " 84%|████████▍ | 21/25 [20:20<06:09, 92.42s/it]\u001b[A\n",
      " 88%|████████▊ | 22/25 [22:21<05:02, 100.98s/it]\u001b[A\n",
      " 92%|█████████▏| 23/25 [24:21<03:33, 106.72s/it]\u001b[A\n",
      " 96%|█████████▌| 24/25 [26:22<01:50, 110.97s/it]\u001b[A"
     ]
    },
    {
     "name": "stderr",
     "output_type": "stream",
     "text": [
      "../topnum/scores/simple_toptok_coherence_score.py:120: UserWarning: The parameter `documents` is not used by SimpleTopTokensCoherenceScore (it is kept for compatibility purposes)\n",
      "  'The parameter `documents` is not used by SimpleTopTokensCoherenceScore'\n"
     ]
    },
    {
     "name": "stdout",
     "output_type": "stream",
     "text": [
      "\n",
      "100%|██████████| 25/25 [26:23<00:00, 63.32s/it] \u001b[A\n",
      "100%|██████████| 20/20 [9:15:39<00:00, 1666.95s/it]\n",
      "CPU times: user 11h 1min 59s, sys: 1h 12min 32s, total: 12h 14min 32s\n",
      "Wall time: 9h 15min 39s\n"
     ]
    }
   ],
   "source": [
    "%%time\n",
    "\n",
    "optimizer.search_for_optimum(dataset)"
   ]
  },
  {
   "cell_type": "code",
   "execution_count": null,
   "metadata": {},
   "outputs": [
    {
     "name": "stdout",
     "output_type": "stream",
     "text": [
      "  0%|          | 0/20 [00:00<?, ?it/s]\n",
      "  0%|          | 0/25 [00:00<?, ?it/s]\u001b[A\n",
      "  4%|▍         | 1/25 [00:48<19:23, 48.47s/it]\u001b[A\n",
      "  8%|▊         | 2/25 [02:59<28:02, 73.16s/it]\u001b[A\n",
      " 12%|█▏        | 3/25 [03:49<24:15, 66.17s/it]\u001b[A\n",
      " 16%|█▌        | 4/25 [04:39<21:29, 61.43s/it]\u001b[A\n",
      " 20%|██        | 5/25 [05:27<19:10, 57.54s/it]\u001b[A\n",
      " 24%|██▍       | 6/25 [06:16<17:19, 54.71s/it]\u001b[A\n",
      " 28%|██▊       | 7/25 [07:05<15:54, 53.00s/it]\u001b[A\n",
      " 32%|███▏      | 8/25 [07:55<14:47, 52.18s/it]\u001b[A\n",
      " 36%|███▌      | 9/25 [08:44<13:39, 51.24s/it]\u001b[A\n",
      " 40%|████      | 10/25 [09:32<12:35, 50.40s/it]\u001b[A\n",
      " 44%|████▍     | 11/25 [10:20<11:35, 49.68s/it]\u001b[A\n",
      " 48%|████▊     | 12/25 [11:08<10:39, 49.22s/it]\u001b[A\n",
      " 52%|█████▏    | 13/25 [11:58<09:50, 49.23s/it]\u001b[A\n",
      " 56%|█████▌    | 14/25 [13:45<12:12, 66.56s/it]\u001b[A\n",
      " 60%|██████    | 15/25 [15:35<13:15, 79.59s/it]\u001b[A\n",
      " 64%|██████▍   | 16/25 [17:22<13:11, 87.97s/it]\u001b[A\n",
      " 68%|██████▊   | 17/25 [19:10<12:31, 94.00s/it]\u001b[A\n",
      " 72%|███████▏  | 18/25 [20:57<11:25, 97.94s/it]\u001b[A\n",
      " 76%|███████▌  | 19/25 [22:45<10:04, 100.72s/it]\u001b[A\n",
      " 80%|████████  | 20/25 [24:55<09:08, 109.65s/it]\u001b[A\n",
      " 84%|████████▍ | 21/25 [27:05<07:42, 115.72s/it]\u001b[A\n",
      " 88%|████████▊ | 22/25 [29:14<05:58, 119.58s/it]\u001b[A\n",
      " 92%|█████████▏| 23/25 [31:23<04:04, 122.41s/it]\u001b[A\n",
      " 96%|█████████▌| 24/25 [33:32<02:04, 124.56s/it]\u001b[A"
     ]
    },
    {
     "name": "stderr",
     "output_type": "stream",
     "text": [
      "../topnum/scores/simple_toptok_coherence_score.py:120: UserWarning: The parameter `documents` is not used by SimpleTopTokensCoherenceScore (it is kept for compatibility purposes)\n",
      "  'The parameter `documents` is not used by SimpleTopTokensCoherenceScore'\n"
     ]
    },
    {
     "name": "stdout",
     "output_type": "stream",
     "text": [
      "\n",
      "100%|██████████| 25/25 [33:34<00:00, 80.58s/it] \u001b[A\n",
      "  5%|▌         | 1/20 [36:09<11:26:58, 2169.38s/it]\n",
      "  0%|          | 0/25 [00:00<?, ?it/s]\u001b[A\n",
      "  4%|▍         | 1/25 [00:48<19:17, 48.22s/it]\u001b[A\n",
      "  8%|▊         | 2/25 [03:00<28:05, 73.30s/it]\u001b[A\n",
      " 12%|█▏        | 3/25 [03:48<24:08, 65.83s/it]\u001b[A\n",
      " 16%|█▌        | 4/25 [04:36<21:11, 60.54s/it]\u001b[A\n",
      " 20%|██        | 5/25 [05:24<18:56, 56.81s/it]\u001b[A\n",
      " 24%|██▍       | 6/25 [06:12<17:10, 54.22s/it]\u001b[A\n",
      " 28%|██▊       | 7/25 [07:01<15:44, 52.46s/it]\u001b[A\n",
      " 32%|███▏      | 8/25 [07:49<14:30, 51.18s/it]\u001b[A\n",
      " 36%|███▌      | 9/25 [08:37<13:23, 50.22s/it]\u001b[A\n",
      " 40%|████      | 10/25 [09:25<12:23, 49.59s/it]\u001b[A\n",
      " 44%|████▍     | 11/25 [10:13<11:27, 49.14s/it]\u001b[A\n",
      " 48%|████▊     | 12/25 [11:01<10:34, 48.80s/it]\u001b[A\n",
      " 52%|█████▏    | 13/25 [11:50<09:46, 48.89s/it]\u001b[A\n",
      " 56%|█████▌    | 14/25 [13:38<12:11, 66.54s/it]\u001b[A\n",
      " 60%|██████    | 15/25 [15:26<13:09, 78.99s/it]\u001b[A\n",
      " 64%|██████▍   | 16/25 [17:15<13:10, 87.85s/it]\u001b[A\n",
      " 68%|██████▊   | 17/25 [19:02<12:29, 93.71s/it]\u001b[A\n",
      " 72%|███████▏  | 18/25 [20:50<11:26, 98.03s/it]\u001b[A\n",
      " 76%|███████▌  | 19/25 [22:37<10:05, 100.83s/it]\u001b[A\n",
      " 80%|████████  | 20/25 [24:47<09:07, 109.56s/it]\u001b[A\n",
      " 84%|████████▍ | 21/25 [26:57<07:41, 115.46s/it]\u001b[A\n",
      " 88%|████████▊ | 22/25 [29:04<05:57, 119.14s/it]\u001b[A\n",
      " 92%|█████████▏| 23/25 [31:12<04:03, 121.64s/it]\u001b[A\n",
      " 96%|█████████▌| 24/25 [33:20<02:03, 123.67s/it]\u001b[A"
     ]
    },
    {
     "name": "stderr",
     "output_type": "stream",
     "text": [
      "../topnum/scores/simple_toptok_coherence_score.py:120: UserWarning: The parameter `documents` is not used by SimpleTopTokensCoherenceScore (it is kept for compatibility purposes)\n",
      "  'The parameter `documents` is not used by SimpleTopTokensCoherenceScore'\n"
     ]
    },
    {
     "name": "stdout",
     "output_type": "stream",
     "text": [
      "\n",
      "100%|██████████| 25/25 [33:22<00:00, 80.11s/it] \u001b[A\n",
      " 10%|█         | 2/20 [1:12:40<10:52:44, 2175.78s/it]\n",
      "  0%|          | 0/25 [00:00<?, ?it/s]\u001b[A\n",
      "  4%|▍         | 1/25 [00:48<19:13, 48.04s/it]\u001b[A\n",
      "  8%|▊         | 2/25 [02:58<27:54, 72.80s/it]\u001b[A\n",
      " 12%|█▏        | 3/25 [03:48<24:07, 65.79s/it]\u001b[A\n",
      " 16%|█▌        | 4/25 [04:36<21:10, 60.52s/it]\u001b[A\n",
      " 20%|██        | 5/25 [05:24<18:56, 56.83s/it]\u001b[A\n",
      " 24%|██▍       | 6/25 [06:12<17:10, 54.23s/it]\u001b[A\n",
      " 28%|██▊       | 7/25 [07:00<15:42, 52.38s/it]\u001b[A\n",
      " 32%|███▏      | 8/25 [07:48<14:28, 51.10s/it]\u001b[A\n",
      " 36%|███▌      | 9/25 [08:36<13:23, 50.20s/it]\u001b[A\n",
      " 40%|████      | 10/25 [09:25<12:24, 49.64s/it]\u001b[A\n",
      " 44%|████▍     | 11/25 [10:15<11:39, 49.96s/it]\u001b[A\n",
      " 48%|████▊     | 12/25 [11:04<10:42, 49.41s/it]\u001b[A\n",
      " 52%|█████▏    | 13/25 [11:52<09:48, 49.02s/it]\u001b[A\n",
      " 56%|█████▌    | 14/25 [13:39<12:11, 66.48s/it]\u001b[A\n",
      " 60%|██████    | 15/25 [15:27<13:09, 78.99s/it]\u001b[A\n",
      " 64%|██████▍   | 16/25 [17:14<13:07, 87.47s/it]\u001b[A\n",
      " 68%|██████▊   | 17/25 [19:01<12:25, 93.19s/it]\u001b[A\n",
      " 72%|███████▏  | 18/25 [20:47<11:18, 96.98s/it]\u001b[A\n",
      " 76%|███████▌  | 19/25 [22:35<10:01, 100.28s/it]\u001b[A\n",
      " 80%|████████  | 20/25 [24:45<09:06, 109.35s/it]\u001b[A\n",
      " 84%|████████▍ | 21/25 [26:55<07:41, 115.40s/it]\u001b[A\n",
      " 88%|████████▊ | 22/25 [29:04<05:58, 119.60s/it]\u001b[A\n",
      " 92%|█████████▏| 23/25 [31:14<04:05, 122.73s/it]\u001b[A\n",
      " 96%|█████████▌| 24/25 [33:23<02:04, 124.71s/it]\u001b[A"
     ]
    },
    {
     "name": "stderr",
     "output_type": "stream",
     "text": [
      "../topnum/scores/simple_toptok_coherence_score.py:120: UserWarning: The parameter `documents` is not used by SimpleTopTokensCoherenceScore (it is kept for compatibility purposes)\n",
      "  'The parameter `documents` is not used by SimpleTopTokensCoherenceScore'\n"
     ]
    },
    {
     "name": "stdout",
     "output_type": "stream",
     "text": [
      "\n",
      "100%|██████████| 25/25 [33:26<00:00, 80.25s/it] \u001b[A\n",
      " 15%|█▌        | 3/20 [1:49:22<10:18:42, 2183.67s/it]\n",
      "  0%|          | 0/25 [00:00<?, ?it/s]\u001b[A\n",
      "  4%|▍         | 1/25 [00:50<20:06, 50.28s/it]\u001b[A\n",
      "  8%|▊         | 2/25 [03:00<28:30, 74.38s/it]\u001b[A\n",
      " 12%|█▏        | 3/25 [03:49<24:28, 66.77s/it]\u001b[A\n",
      " 16%|█▌        | 4/25 [04:38<21:28, 61.36s/it]\u001b[A\n",
      " 20%|██        | 5/25 [05:36<20:03, 60.18s/it]\u001b[A\n",
      " 24%|██▍       | 6/25 [06:24<17:58, 56.76s/it]\u001b[A\n",
      " 28%|██▊       | 7/25 [07:13<16:18, 54.34s/it]\u001b[A\n",
      " 32%|███▏      | 8/25 [08:01<14:52, 52.50s/it]\u001b[A\n",
      " 36%|███▌      | 9/25 [08:50<13:42, 51.39s/it]\u001b[A\n",
      " 40%|████      | 10/25 [09:40<12:44, 51.00s/it]\u001b[A\n",
      " 44%|████▍     | 11/25 [10:56<13:39, 58.56s/it]\u001b[A\n",
      " 48%|████▊     | 12/25 [11:55<12:41, 58.60s/it]\u001b[A\n",
      " 52%|█████▏    | 13/25 [13:05<12:24, 62.05s/it]\u001b[A\n",
      " 56%|█████▌    | 14/25 [15:12<14:57, 81.62s/it]\u001b[A\n",
      " 60%|██████    | 15/25 [17:10<15:23, 92.34s/it]\u001b[A\n",
      " 64%|██████▍   | 16/25 [18:57<14:32, 96.93s/it]\u001b[A\n",
      " 68%|██████▊   | 17/25 [20:46<13:23, 100.44s/it]\u001b[A\n",
      " 72%|███████▏  | 18/25 [22:48<12:29, 107.03s/it]\u001b[A\n",
      " 76%|███████▌  | 19/25 [24:36<10:43, 107.19s/it]\u001b[A"
     ]
    }
   ],
   "source": [
    "%%time\n",
    "\n",
    "optimizer.search_for_optimum(dataset)"
   ]
  },
  {
   "cell_type": "code",
   "execution_count": 65,
   "metadata": {},
   "outputs": [
    {
     "name": "stdout",
     "output_type": "stream",
     "text": [
      "  0%|          | 0/20 [00:00<?, ?it/s]\n",
      "  0%|          | 0/25 [00:00<?, ?it/s]\u001b[A\n",
      "  4%|▍         | 1/25 [00:42<17:05, 42.72s/it]\u001b[A\n",
      "  8%|▊         | 2/25 [02:36<24:32, 64.01s/it]\u001b[A\n",
      " 12%|█▏        | 3/25 [03:22<21:28, 58.56s/it]\u001b[A\n",
      " 16%|█▌        | 4/25 [04:05<18:52, 53.94s/it]\u001b[A\n",
      " 20%|██        | 5/25 [04:48<16:53, 50.66s/it]\u001b[A\n",
      " 24%|██▍       | 6/25 [05:31<15:17, 48.29s/it]\u001b[A\n",
      " 28%|██▊       | 7/25 [06:16<14:11, 47.29s/it]\u001b[A\n",
      " 32%|███▏      | 8/25 [07:07<13:43, 48.43s/it]\u001b[A\n",
      " 36%|███▌      | 9/25 [07:58<13:08, 49.26s/it]\u001b[A\n",
      " 40%|████      | 10/25 [08:43<12:01, 48.13s/it]\u001b[A\n",
      " 44%|████▍     | 11/25 [09:26<10:50, 46.45s/it]\u001b[A\n",
      " 48%|████▊     | 12/25 [10:09<09:50, 45.42s/it]\u001b[A\n",
      " 52%|█████▏    | 13/25 [10:54<09:01, 45.17s/it]\u001b[A\n",
      " 56%|█████▌    | 14/25 [12:33<11:16, 61.52s/it]\u001b[A\n",
      " 60%|██████    | 15/25 [14:09<11:57, 71.79s/it]\u001b[A\n",
      " 64%|██████▍   | 16/25 [15:44<11:49, 78.84s/it]\u001b[A\n",
      " 68%|██████▊   | 17/25 [17:30<11:34, 86.87s/it]\u001b[A\n",
      " 72%|███████▏  | 18/25 [19:05<10:25, 89.31s/it]\u001b[A\n",
      " 76%|███████▌  | 19/25 [20:42<09:09, 91.61s/it]\u001b[A\n",
      " 80%|████████  | 20/25 [22:36<08:11, 98.32s/it]\u001b[A\n",
      " 84%|████████▍ | 21/25 [24:29<06:51, 102.77s/it]\u001b[A\n",
      " 88%|████████▊ | 22/25 [26:23<05:18, 106.12s/it]\u001b[A\n",
      " 92%|█████████▏| 23/25 [28:16<03:36, 108.14s/it]\u001b[A\n",
      " 96%|█████████▌| 24/25 [30:08<01:49, 109.34s/it]\u001b[A"
     ]
    },
    {
     "name": "stderr",
     "output_type": "stream",
     "text": [
      "../topnum/scores/simple_toptok_coherence_score.py:120: UserWarning: The parameter `documents` is not used by SimpleTopTokensCoherenceScore (it is kept for compatibility purposes)\n",
      "  'The parameter `documents` is not used by SimpleTopTokensCoherenceScore'\n"
     ]
    },
    {
     "name": "stdout",
     "output_type": "stream",
     "text": [
      "\n",
      "100%|██████████| 25/25 [30:10<00:00, 72.41s/it] \u001b[A\n",
      "  5%|▌         | 1/20 [32:50<10:24:00, 1970.57s/it]\n",
      "  0%|          | 0/25 [00:00<?, ?it/s]\u001b[A\n",
      "  4%|▍         | 1/25 [00:42<17:02, 42.61s/it]\u001b[A\n",
      "  8%|▊         | 2/25 [02:35<24:25, 63.70s/it]\u001b[A\n",
      " 12%|█▏        | 3/25 [03:21<21:25, 58.41s/it]\u001b[A\n",
      " 16%|█▌        | 4/25 [04:06<19:01, 54.38s/it]\u001b[A\n",
      " 20%|██        | 5/25 [04:49<16:57, 50.87s/it]\u001b[A\n",
      " 24%|██▍       | 6/25 [05:32<15:23, 48.60s/it]\u001b[A\n",
      " 28%|██▊       | 7/25 [06:18<14:22, 47.90s/it]\u001b[A\n",
      " 32%|███▏      | 8/25 [07:06<13:31, 47.74s/it]\u001b[A\n",
      " 36%|███▌      | 9/25 [07:49<12:22, 46.39s/it]\u001b[A\n",
      " 40%|████      | 10/25 [08:32<11:18, 45.26s/it]\u001b[A\n",
      " 44%|████▍     | 11/25 [09:15<10:23, 44.57s/it]\u001b[A\n",
      " 48%|████▊     | 12/25 [09:57<09:31, 44.00s/it]\u001b[A\n",
      " 52%|█████▏    | 13/25 [10:40<08:42, 43.55s/it]\u001b[A\n",
      " 56%|█████▌    | 14/25 [12:16<10:53, 59.37s/it]\u001b[A\n",
      " 60%|██████    | 15/25 [13:51<11:40, 70.05s/it]\u001b[A\n",
      " 64%|██████▍   | 16/25 [15:28<11:43, 78.20s/it]\u001b[A\n",
      " 68%|██████▊   | 17/25 [17:03<11:06, 83.32s/it]\u001b[A\n",
      " 72%|███████▏  | 18/25 [18:37<10:04, 86.43s/it]\u001b[A\n",
      " 76%|███████▌  | 19/25 [20:11<08:51, 88.58s/it]\u001b[A\n",
      " 80%|████████  | 20/25 [22:03<07:57, 95.57s/it]\u001b[A\n",
      " 84%|████████▍ | 21/25 [24:08<06:57, 104.45s/it]\u001b[A\n",
      " 88%|████████▊ | 22/25 [25:59<05:19, 106.40s/it]\u001b[A\n",
      " 92%|█████████▏| 23/25 [27:49<03:35, 107.65s/it]\u001b[A\n",
      " 96%|█████████▌| 24/25 [29:41<01:49, 109.01s/it]\u001b[A"
     ]
    },
    {
     "name": "stderr",
     "output_type": "stream",
     "text": [
      "../topnum/scores/simple_toptok_coherence_score.py:120: UserWarning: The parameter `documents` is not used by SimpleTopTokensCoherenceScore (it is kept for compatibility purposes)\n",
      "  'The parameter `documents` is not used by SimpleTopTokensCoherenceScore'\n"
     ]
    },
    {
     "name": "stdout",
     "output_type": "stream",
     "text": [
      "\n",
      "100%|██████████| 25/25 [29:44<00:00, 71.36s/it] \u001b[A\n",
      " 10%|█         | 2/20 [1:05:49<9:51:54, 1973.03s/it]\n",
      "  0%|          | 0/25 [00:00<?, ?it/s]\u001b[A\n",
      "  4%|▍         | 1/25 [00:42<17:05, 42.73s/it]\u001b[A\n",
      "  8%|▊         | 2/25 [02:37<24:37, 64.23s/it]\u001b[A\n",
      " 12%|█▏        | 3/25 [03:20<21:12, 57.85s/it]\u001b[A\n",
      " 16%|█▌        | 4/25 [04:04<18:49, 53.79s/it]\u001b[A\n",
      " 20%|██        | 5/25 [04:46<16:47, 50.38s/it]\u001b[A\n",
      " 24%|██▍       | 6/25 [05:29<15:15, 48.16s/it]\u001b[A\n",
      " 28%|██▊       | 7/25 [06:14<14:08, 47.13s/it]\u001b[A\n",
      " 32%|███▏      | 8/25 [06:57<13:01, 45.98s/it]\u001b[A\n",
      " 36%|███▌      | 9/25 [07:41<12:02, 45.15s/it]\u001b[A\n",
      " 40%|████      | 10/25 [08:24<11:11, 44.77s/it]\u001b[A\n",
      " 44%|████▍     | 11/25 [09:15<10:52, 46.59s/it]\u001b[A\n",
      " 48%|████▊     | 12/25 [09:59<09:54, 45.73s/it]\u001b[A\n",
      " 52%|█████▏    | 13/25 [10:42<08:59, 44.97s/it]\u001b[A\n",
      " 56%|█████▌    | 14/25 [12:17<10:57, 59.79s/it]\u001b[A\n",
      " 60%|██████    | 15/25 [13:56<11:56, 71.64s/it]\u001b[A\n",
      " 64%|██████▍   | 16/25 [15:31<11:48, 78.76s/it]\u001b[A\n",
      " 68%|██████▊   | 17/25 [17:09<11:14, 84.37s/it]\u001b[A\n",
      " 72%|███████▏  | 18/25 [18:46<10:17, 88.18s/it]\u001b[A\n",
      " 76%|███████▌  | 19/25 [20:22<09:03, 90.60s/it]\u001b[A\n",
      " 80%|████████  | 20/25 [22:23<08:17, 99.59s/it]\u001b[A\n",
      " 84%|████████▍ | 21/25 [24:17<06:56, 104.06s/it]\u001b[A\n",
      " 88%|████████▊ | 22/25 [26:13<05:22, 107.66s/it]\u001b[A\n",
      " 92%|█████████▏| 23/25 [28:36<03:56, 118.32s/it]\u001b[A\n",
      " 96%|█████████▌| 24/25 [31:00<02:05, 125.83s/it]\u001b[A"
     ]
    },
    {
     "name": "stderr",
     "output_type": "stream",
     "text": [
      "../topnum/scores/simple_toptok_coherence_score.py:120: UserWarning: The parameter `documents` is not used by SimpleTopTokensCoherenceScore (it is kept for compatibility purposes)\n",
      "  'The parameter `documents` is not used by SimpleTopTokensCoherenceScore'\n"
     ]
    },
    {
     "name": "stdout",
     "output_type": "stream",
     "text": [
      "\n",
      "100%|██████████| 25/25 [31:03<00:00, 74.52s/it] \u001b[A\n",
      " 15%|█▌        | 3/20 [1:40:17<9:27:07, 2001.59s/it]\n",
      "  0%|          | 0/25 [00:00<?, ?it/s]\u001b[A\n",
      "  4%|▍         | 1/25 [00:55<22:18, 55.78s/it]\u001b[A\n",
      "  8%|▊         | 2/25 [02:56<28:48, 75.17s/it]\u001b[A\n",
      " 12%|█▏        | 3/25 [03:44<24:36, 67.09s/it]\u001b[A\n",
      " 16%|█▌        | 4/25 [04:27<21:00, 60.00s/it]\u001b[A\n",
      " 20%|██        | 5/25 [05:10<18:14, 54.73s/it]\u001b[A\n",
      " 24%|██▍       | 6/25 [05:53<16:12, 51.17s/it]\u001b[A\n",
      " 28%|██▊       | 7/25 [06:39<14:55, 49.75s/it]\u001b[A\n",
      " 32%|███▏      | 8/25 [07:31<14:14, 50.29s/it]\u001b[A\n",
      " 36%|███▌      | 9/25 [08:14<12:51, 48.25s/it]\u001b[A\n",
      " 40%|████      | 10/25 [08:58<11:45, 47.06s/it]\u001b[A\n",
      " 44%|████▍     | 11/25 [09:46<11:01, 47.22s/it]\u001b[A\n",
      " 48%|████▊     | 12/25 [10:29<09:58, 46.01s/it]\u001b[A\n",
      " 52%|█████▏    | 13/25 [11:17<09:19, 46.66s/it]\u001b[A\n",
      " 56%|█████▌    | 14/25 [12:53<11:14, 61.31s/it]\u001b[A\n",
      " 60%|██████    | 15/25 [14:27<11:52, 71.22s/it]\u001b[A\n",
      " 64%|██████▍   | 16/25 [16:00<11:38, 77.63s/it]\u001b[A\n",
      " 68%|██████▊   | 17/25 [17:39<11:13, 84.15s/it]\u001b[A\n",
      " 72%|███████▏  | 18/25 [19:17<10:17, 88.19s/it]\u001b[A\n",
      " 76%|███████▌  | 19/25 [20:56<09:08, 91.37s/it]\u001b[A\n",
      " 80%|████████  | 20/25 [22:51<08:12, 98.49s/it]\u001b[A\n",
      " 84%|████████▍ | 21/25 [24:45<06:53, 103.33s/it]\u001b[A\n",
      " 88%|████████▊ | 22/25 [26:38<05:18, 106.13s/it]\u001b[A\n",
      " 92%|█████████▏| 23/25 [28:30<03:35, 107.77s/it]\u001b[A\n",
      " 96%|█████████▌| 24/25 [30:22<01:49, 109.15s/it]\u001b[A"
     ]
    },
    {
     "name": "stderr",
     "output_type": "stream",
     "text": [
      "../topnum/scores/simple_toptok_coherence_score.py:120: UserWarning: The parameter `documents` is not used by SimpleTopTokensCoherenceScore (it is kept for compatibility purposes)\n",
      "  'The parameter `documents` is not used by SimpleTopTokensCoherenceScore'\n"
     ]
    },
    {
     "name": "stdout",
     "output_type": "stream",
     "text": [
      "\n",
      "100%|██████████| 25/25 [30:24<00:00, 72.98s/it] \u001b[A\n",
      " 20%|██        | 4/20 [2:14:53<8:59:42, 2023.88s/it]\n",
      "  0%|          | 0/25 [00:00<?, ?it/s]\u001b[A\n",
      "  4%|▍         | 1/25 [00:44<17:55, 44.82s/it]\u001b[A\n",
      "  8%|▊         | 2/25 [02:50<26:28, 69.06s/it]\u001b[A\n",
      " 12%|█▏        | 3/25 [03:44<23:43, 64.68s/it]\u001b[A\n",
      " 16%|█▌        | 4/25 [04:45<22:14, 63.53s/it]\u001b[A\n",
      " 20%|██        | 5/25 [05:51<21:24, 64.24s/it]\u001b[A\n",
      " 24%|██▍       | 6/25 [06:38<18:44, 59.17s/it]\u001b[A\n",
      " 28%|██▊       | 7/25 [07:23<16:28, 54.89s/it]\u001b[A\n",
      " 32%|███▏      | 8/25 [08:08<14:42, 51.92s/it]\u001b[A\n",
      " 36%|███▌      | 9/25 [08:58<13:38, 51.13s/it]\u001b[A\n",
      " 40%|████      | 10/25 [09:56<13:18, 53.22s/it]\u001b[A\n",
      " 44%|████▍     | 11/25 [10:59<13:07, 56.26s/it]\u001b[A\n",
      " 48%|████▊     | 12/25 [11:48<11:44, 54.16s/it]\u001b[A\n",
      " 52%|█████▏    | 13/25 [12:31<10:08, 50.72s/it]\u001b[A\n",
      " 56%|█████▌    | 14/25 [14:53<14:19, 78.13s/it]\u001b[A\n",
      " 60%|██████    | 15/25 [17:06<15:45, 94.57s/it]\u001b[A\n",
      " 64%|██████▍   | 16/25 [19:31<16:27, 109.70s/it]\u001b[A\n",
      " 68%|██████▊   | 17/25 [22:02<16:16, 122.06s/it]\u001b[A\n",
      " 72%|███████▏  | 18/25 [23:48<13:41, 117.37s/it]\u001b[A\n",
      " 76%|███████▌  | 19/25 [25:24<11:05, 110.89s/it]\u001b[A\n",
      " 80%|████████  | 20/25 [27:43<09:56, 119.34s/it]\u001b[A\n",
      " 84%|████████▍ | 21/25 [29:38<07:51, 117.87s/it]\u001b[A\n",
      " 88%|████████▊ | 22/25 [31:34<05:52, 117.46s/it]\u001b[A\n",
      " 92%|█████████▏| 23/25 [33:29<03:53, 116.63s/it]\u001b[A\n",
      " 96%|█████████▌| 24/25 [35:25<01:56, 116.44s/it]\u001b[A"
     ]
    },
    {
     "name": "stderr",
     "output_type": "stream",
     "text": [
      "../topnum/scores/simple_toptok_coherence_score.py:120: UserWarning: The parameter `documents` is not used by SimpleTopTokensCoherenceScore (it is kept for compatibility purposes)\n",
      "  'The parameter `documents` is not used by SimpleTopTokensCoherenceScore'\n"
     ]
    },
    {
     "name": "stdout",
     "output_type": "stream",
     "text": [
      "\n",
      "100%|██████████| 25/25 [35:27<00:00, 85.09s/it] \u001b[A\n",
      " 25%|██▌       | 5/20 [2:53:37<8:48:26, 2113.79s/it]\n",
      "  0%|          | 0/25 [00:00<?, ?it/s]\u001b[A\n",
      "  4%|▍         | 1/25 [00:44<17:45, 44.40s/it]\u001b[A\n",
      "  8%|▊         | 2/25 [02:42<25:26, 66.36s/it]\u001b[A\n",
      " 12%|█▏        | 3/25 [03:28<22:07, 60.35s/it]\u001b[A\n",
      " 16%|█▌        | 4/25 [04:13<19:32, 55.84s/it]\u001b[A\n",
      " 20%|██        | 5/25 [04:58<17:28, 52.41s/it]\u001b[A\n",
      " 24%|██▍       | 6/25 [05:43<15:55, 50.27s/it]\u001b[A\n",
      " 28%|██▊       | 7/25 [06:29<14:41, 48.96s/it]\u001b[A\n",
      " 32%|███▏      | 8/25 [07:12<13:22, 47.21s/it]\u001b[A\n",
      " 36%|███▌      | 9/25 [07:54<12:12, 45.76s/it]\u001b[A\n",
      " 40%|████      | 10/25 [08:38<11:18, 45.26s/it]\u001b[A\n",
      " 44%|████▍     | 11/25 [09:21<10:22, 44.48s/it]\u001b[A\n",
      " 48%|████▊     | 12/25 [10:09<09:52, 45.54s/it]\u001b[A\n",
      " 52%|█████▏    | 13/25 [10:52<08:58, 44.85s/it]\u001b[A\n",
      " 56%|█████▌    | 14/25 [12:34<11:19, 61.77s/it]\u001b[A\n",
      " 60%|██████    | 15/25 [14:17<12:23, 74.31s/it]\u001b[A\n",
      " 64%|██████▍   | 16/25 [15:55<12:13, 81.49s/it]\u001b[A\n",
      " 68%|██████▊   | 17/25 [17:32<11:29, 86.16s/it]\u001b[A\n",
      " 72%|███████▏  | 18/25 [19:10<10:27, 89.69s/it]\u001b[A\n",
      " 76%|███████▌  | 19/25 [20:48<09:12, 92.07s/it]\u001b[A\n",
      " 80%|████████  | 20/25 [22:43<08:14, 98.92s/it]\u001b[A\n",
      " 84%|████████▍ | 21/25 [24:39<06:56, 104.02s/it]\u001b[A\n",
      " 88%|████████▊ | 22/25 [26:34<05:22, 107.45s/it]\u001b[A\n",
      " 92%|█████████▏| 23/25 [28:28<03:38, 109.38s/it]\u001b[A\n",
      " 96%|█████████▌| 24/25 [30:21<01:50, 110.44s/it]\u001b[A"
     ]
    },
    {
     "name": "stderr",
     "output_type": "stream",
     "text": [
      "../topnum/scores/simple_toptok_coherence_score.py:120: UserWarning: The parameter `documents` is not used by SimpleTopTokensCoherenceScore (it is kept for compatibility purposes)\n",
      "  'The parameter `documents` is not used by SimpleTopTokensCoherenceScore'\n"
     ]
    },
    {
     "name": "stdout",
     "output_type": "stream",
     "text": [
      "\n",
      "100%|██████████| 25/25 [30:23<00:00, 72.94s/it] \u001b[A\n",
      " 30%|███       | 6/20 [3:27:21<8:06:57, 2086.97s/it]\n",
      "  0%|          | 0/25 [00:00<?, ?it/s]\u001b[A\n",
      "  4%|▍         | 1/25 [00:43<17:23, 43.48s/it]\u001b[A\n",
      "  8%|▊         | 2/25 [02:39<24:57, 65.12s/it]\u001b[A\n",
      " 12%|█▏        | 3/25 [03:23<21:34, 58.82s/it]\u001b[A\n",
      " 16%|█▌        | 4/25 [04:07<19:02, 54.40s/it]\u001b[A\n",
      " 20%|██        | 5/25 [04:58<17:47, 53.38s/it]\u001b[A\n",
      " 24%|██▍       | 6/25 [05:44<16:13, 51.22s/it]\u001b[A\n",
      " 28%|██▊       | 7/25 [06:38<15:37, 52.10s/it]\u001b[A\n",
      " 32%|███▏      | 8/25 [07:25<14:16, 50.39s/it]\u001b[A\n",
      " 36%|███▌      | 9/25 [08:08<12:50, 48.19s/it]\u001b[A\n",
      " 40%|████      | 10/25 [08:54<11:55, 47.73s/it]\u001b[A\n",
      " 44%|████▍     | 11/25 [09:39<10:56, 46.86s/it]\u001b[A\n",
      " 48%|████▊     | 12/25 [10:23<09:58, 46.01s/it]\u001b[A\n",
      " 52%|█████▏    | 13/25 [11:11<09:18, 46.51s/it]\u001b[A\n",
      " 56%|█████▌    | 14/25 [12:48<11:18, 61.65s/it]\u001b[A\n",
      " 60%|██████    | 15/25 [14:28<12:11, 73.20s/it]\u001b[A\n",
      " 64%|██████▍   | 16/25 [16:07<12:09, 81.04s/it]\u001b[A\n",
      " 68%|██████▊   | 17/25 [17:50<11:39, 87.43s/it]\u001b[A\n",
      " 72%|███████▏  | 18/25 [19:29<10:36, 90.89s/it]\u001b[A\n",
      " 76%|███████▌  | 19/25 [21:11<09:26, 94.39s/it]\u001b[A\n",
      " 80%|████████  | 20/25 [23:06<08:23, 100.63s/it]\u001b[A\n",
      " 84%|████████▍ | 21/25 [25:01<07:00, 105.01s/it]\u001b[A\n",
      " 88%|████████▊ | 22/25 [26:55<05:22, 107.63s/it]\u001b[A\n",
      " 92%|█████████▏| 23/25 [28:49<03:39, 109.52s/it]\u001b[A\n",
      " 96%|█████████▌| 24/25 [30:41<01:50, 110.17s/it]\u001b[A"
     ]
    },
    {
     "name": "stderr",
     "output_type": "stream",
     "text": [
      "../topnum/scores/simple_toptok_coherence_score.py:120: UserWarning: The parameter `documents` is not used by SimpleTopTokensCoherenceScore (it is kept for compatibility purposes)\n",
      "  'The parameter `documents` is not used by SimpleTopTokensCoherenceScore'\n"
     ]
    },
    {
     "name": "stdout",
     "output_type": "stream",
     "text": [
      "\n",
      "100%|██████████| 25/25 [30:43<00:00, 73.74s/it] \u001b[A\n",
      " 35%|███▌      | 7/20 [4:01:18<7:28:54, 2071.90s/it]\n",
      "  0%|          | 0/25 [00:00<?, ?it/s]\u001b[A\n",
      "  4%|▍         | 1/25 [00:45<18:12, 45.53s/it]\u001b[A\n",
      "  8%|▊         | 2/25 [02:38<25:15, 65.87s/it]\u001b[A\n",
      " 12%|█▏        | 3/25 [03:24<21:57, 59.90s/it]\u001b[A\n",
      " 16%|█▌        | 4/25 [04:10<19:26, 55.53s/it]\u001b[A\n",
      " 20%|██        | 5/25 [04:53<17:17, 51.86s/it]\u001b[A\n",
      " 24%|██▍       | 6/25 [05:38<15:47, 49.87s/it]\u001b[A\n",
      " 28%|██▊       | 7/25 [06:24<14:33, 48.54s/it]\u001b[A\n",
      " 32%|███▏      | 8/25 [07:15<14:00, 49.43s/it]\u001b[A\n",
      " 36%|███▌      | 9/25 [08:05<13:10, 49.41s/it]\u001b[A\n",
      " 40%|████      | 10/25 [08:53<12:19, 49.27s/it]\u001b[A\n",
      " 44%|████▍     | 11/25 [09:38<11:10, 47.89s/it]\u001b[A\n",
      " 48%|████▊     | 12/25 [10:21<10:03, 46.42s/it]\u001b[A\n",
      " 52%|█████▏    | 13/25 [11:08<09:20, 46.70s/it]\u001b[A\n",
      " 56%|█████▌    | 14/25 [12:52<11:40, 63.72s/it]\u001b[A\n",
      " 60%|██████    | 15/25 [14:32<12:26, 74.64s/it]\u001b[A\n",
      " 64%|██████▍   | 16/25 [16:12<12:20, 82.27s/it]\u001b[A\n",
      " 68%|██████▊   | 17/25 [17:51<11:37, 87.19s/it]\u001b[A\n",
      " 72%|███████▏  | 18/25 [19:28<10:32, 90.35s/it]\u001b[A\n",
      " 76%|███████▌  | 19/25 [21:05<09:13, 92.17s/it]\u001b[A\n",
      " 80%|████████  | 20/25 [22:58<08:12, 98.59s/it]\u001b[A\n",
      " 84%|████████▍ | 21/25 [24:51<06:51, 102.83s/it]\u001b[A\n",
      " 88%|████████▊ | 22/25 [26:45<05:18, 106.01s/it]\u001b[A\n",
      " 92%|█████████▏| 23/25 [28:44<03:40, 110.05s/it]\u001b[A\n",
      " 96%|█████████▌| 24/25 [30:37<01:50, 110.90s/it]\u001b[A"
     ]
    },
    {
     "name": "stderr",
     "output_type": "stream",
     "text": [
      "../topnum/scores/simple_toptok_coherence_score.py:120: UserWarning: The parameter `documents` is not used by SimpleTopTokensCoherenceScore (it is kept for compatibility purposes)\n",
      "  'The parameter `documents` is not used by SimpleTopTokensCoherenceScore'\n"
     ]
    },
    {
     "name": "stdout",
     "output_type": "stream",
     "text": [
      "\n",
      "100%|██████████| 25/25 [30:39<00:00, 73.58s/it] \u001b[A\n",
      " 40%|████      | 8/20 [4:35:11<6:52:04, 2060.40s/it]\n",
      "  0%|          | 0/25 [00:00<?, ?it/s]\u001b[A\n",
      "  4%|▍         | 1/25 [00:43<17:30, 43.79s/it]\u001b[A\n",
      "  8%|▊         | 2/25 [02:40<25:07, 65.53s/it]\u001b[A\n",
      " 12%|█▏        | 3/25 [03:30<22:19, 60.90s/it]\u001b[A\n",
      " 16%|█▌        | 4/25 [04:25<20:41, 59.12s/it]\u001b[A\n",
      " 20%|██        | 5/25 [05:09<18:14, 54.71s/it]\u001b[A\n",
      " 24%|██▍       | 6/25 [06:01<17:05, 54.00s/it]\u001b[A\n",
      " 28%|██▊       | 7/25 [06:45<15:13, 50.76s/it]\u001b[A\n",
      " 32%|███▏      | 8/25 [07:28<13:46, 48.63s/it]\u001b[A\n",
      " 36%|███▌      | 9/25 [08:17<12:59, 48.71s/it]\u001b[A\n",
      " 40%|████      | 10/25 [09:02<11:53, 47.60s/it]\u001b[A\n",
      " 44%|████▍     | 11/25 [09:50<11:05, 47.53s/it]\u001b[A\n",
      " 48%|████▊     | 12/25 [10:38<10:20, 47.70s/it]\u001b[A\n",
      " 52%|█████▏    | 13/25 [11:21<09:16, 46.35s/it]\u001b[A\n",
      " 56%|█████▌    | 14/25 [13:05<11:40, 63.66s/it]\u001b[A\n",
      " 60%|██████    | 15/25 [14:45<12:25, 74.52s/it]\u001b[A\n",
      " 64%|██████▍   | 16/25 [16:26<12:23, 82.64s/it]\u001b[A\n",
      " 68%|██████▊   | 17/25 [18:03<11:35, 86.93s/it]\u001b[A\n",
      " 72%|███████▏  | 18/25 [19:43<10:35, 90.80s/it]\u001b[A\n",
      " 76%|███████▌  | 19/25 [21:22<09:19, 93.27s/it]\u001b[A\n",
      " 80%|████████  | 20/25 [23:17<08:18, 99.71s/it]\u001b[A\n",
      " 84%|████████▍ | 21/25 [25:11<06:56, 104.07s/it]\u001b[A\n",
      " 88%|████████▊ | 22/25 [27:02<05:18, 106.09s/it]\u001b[A\n",
      " 92%|█████████▏| 23/25 [28:55<03:36, 108.07s/it]\u001b[A\n",
      " 96%|█████████▌| 24/25 [30:51<01:50, 110.50s/it]\u001b[A"
     ]
    },
    {
     "name": "stderr",
     "output_type": "stream",
     "text": [
      "../topnum/scores/simple_toptok_coherence_score.py:120: UserWarning: The parameter `documents` is not used by SimpleTopTokensCoherenceScore (it is kept for compatibility purposes)\n",
      "  'The parameter `documents` is not used by SimpleTopTokensCoherenceScore'\n"
     ]
    },
    {
     "name": "stdout",
     "output_type": "stream",
     "text": [
      "\n",
      "100%|██████████| 25/25 [30:53<00:00, 74.16s/it] \u001b[A\n",
      " 45%|████▌     | 9/20 [5:09:17<6:16:55, 2055.93s/it]\n",
      "  0%|          | 0/25 [00:00<?, ?it/s]\u001b[A\n",
      "  4%|▍         | 1/25 [00:44<17:50, 44.62s/it]\u001b[A\n",
      "  8%|▊         | 2/25 [02:43<25:36, 66.82s/it]\u001b[A\n",
      " 12%|█▏        | 3/25 [03:27<22:02, 60.10s/it]\u001b[A\n",
      " 16%|█▌        | 4/25 [04:11<19:18, 55.17s/it]\u001b[A\n",
      " 20%|██        | 5/25 [04:54<17:09, 51.47s/it]\u001b[A\n",
      " 24%|██▍       | 6/25 [05:36<15:27, 48.80s/it]\u001b[A\n",
      " 28%|██▊       | 7/25 [06:19<14:06, 47.03s/it]\u001b[A\n",
      " 32%|███▏      | 8/25 [07:07<13:22, 47.21s/it]\u001b[A\n",
      " 36%|███▌      | 9/25 [07:50<12:13, 45.87s/it]\u001b[A\n",
      " 40%|████      | 10/25 [08:34<11:19, 45.33s/it]\u001b[A\n",
      " 44%|████▍     | 11/25 [09:17<10:24, 44.64s/it]\u001b[A\n",
      " 48%|████▊     | 12/25 [10:02<09:42, 44.84s/it]\u001b[A\n",
      " 52%|█████▏    | 13/25 [10:47<09:00, 45.06s/it]\u001b[A\n",
      " 56%|█████▌    | 14/25 [12:28<11:18, 61.72s/it]\u001b[A\n",
      " 60%|██████    | 15/25 [14:08<12:11, 73.15s/it]\u001b[A\n",
      " 64%|██████▍   | 16/25 [15:45<12:03, 80.36s/it]\u001b[A\n",
      " 68%|██████▊   | 17/25 [17:26<11:31, 86.42s/it]\u001b[A\n",
      " 72%|███████▏  | 18/25 [19:05<10:32, 90.31s/it]\u001b[A\n",
      " 76%|███████▌  | 19/25 [20:49<09:27, 94.54s/it]\u001b[A\n",
      " 80%|████████  | 20/25 [22:43<08:21, 100.33s/it]\u001b[A\n",
      " 84%|████████▍ | 21/25 [24:37<06:57, 104.42s/it]\u001b[A\n",
      " 88%|████████▊ | 22/25 [26:32<05:22, 107.59s/it]\u001b[A\n",
      " 92%|█████████▏| 23/25 [28:27<03:39, 109.77s/it]\u001b[A\n",
      " 96%|█████████▌| 24/25 [30:21<01:51, 111.10s/it]\u001b[A"
     ]
    },
    {
     "name": "stderr",
     "output_type": "stream",
     "text": [
      "../topnum/scores/simple_toptok_coherence_score.py:120: UserWarning: The parameter `documents` is not used by SimpleTopTokensCoherenceScore (it is kept for compatibility purposes)\n",
      "  'The parameter `documents` is not used by SimpleTopTokensCoherenceScore'\n"
     ]
    },
    {
     "name": "stdout",
     "output_type": "stream",
     "text": [
      "\n",
      "100%|██████████| 25/25 [30:23<00:00, 72.95s/it] \u001b[A\n",
      " 50%|█████     | 10/20 [5:42:58<5:40:56, 2045.63s/it]\n",
      "  0%|          | 0/25 [00:00<?, ?it/s]\u001b[A\n",
      "  4%|▍         | 1/25 [00:42<17:10, 42.95s/it]\u001b[A\n",
      "  8%|▊         | 2/25 [02:38<24:51, 64.87s/it]\u001b[A\n",
      " 12%|█▏        | 3/25 [03:23<21:29, 58.62s/it]\u001b[A\n",
      " 16%|█▌        | 4/25 [04:10<19:20, 55.25s/it]\u001b[A\n",
      " 20%|██        | 5/25 [05:01<17:57, 53.87s/it]\u001b[A\n",
      " 24%|██▍       | 6/25 [05:45<16:08, 50.95s/it]\u001b[A\n",
      " 28%|██▊       | 7/25 [06:36<15:18, 51.04s/it]\u001b[A\n",
      " 32%|███▏      | 8/25 [07:19<13:49, 48.78s/it]\u001b[A\n",
      " 36%|███▌      | 9/25 [08:04<12:38, 47.38s/it]\u001b[A\n",
      " 40%|████      | 10/25 [08:48<11:37, 46.49s/it]\u001b[A\n",
      " 44%|████▍     | 11/25 [09:31<10:37, 45.51s/it]\u001b[A\n",
      " 48%|████▊     | 12/25 [10:14<09:41, 44.72s/it]\u001b[A\n",
      " 52%|█████▏    | 13/25 [10:58<08:52, 44.38s/it]\u001b[A\n",
      " 56%|█████▌    | 14/25 [12:37<11:10, 60.91s/it]\u001b[A\n",
      " 60%|██████    | 15/25 [14:16<12:03, 72.36s/it]\u001b[A\n",
      " 64%|██████▍   | 16/25 [15:59<12:14, 81.60s/it]\u001b[A\n",
      " 68%|██████▊   | 17/25 [17:49<12:00, 90.08s/it]\u001b[A\n",
      " 72%|███████▏  | 18/25 [19:30<10:53, 93.37s/it]\u001b[A\n",
      " 76%|███████▌  | 19/25 [21:10<09:32, 95.36s/it]\u001b[A\n",
      " 80%|████████  | 20/25 [23:10<08:32, 102.58s/it]\u001b[A\n",
      " 84%|████████▍ | 21/25 [25:04<07:04, 106.19s/it]\u001b[A\n",
      " 88%|████████▊ | 22/25 [26:58<05:25, 108.49s/it]\u001b[A\n",
      " 92%|█████████▏| 23/25 [28:52<03:40, 110.08s/it]\u001b[A\n",
      " 96%|█████████▌| 24/25 [30:46<01:51, 111.31s/it]\u001b[A"
     ]
    },
    {
     "name": "stderr",
     "output_type": "stream",
     "text": [
      "../topnum/scores/simple_toptok_coherence_score.py:120: UserWarning: The parameter `documents` is not used by SimpleTopTokensCoherenceScore (it is kept for compatibility purposes)\n",
      "  'The parameter `documents` is not used by SimpleTopTokensCoherenceScore'\n"
     ]
    },
    {
     "name": "stdout",
     "output_type": "stream",
     "text": [
      "\n",
      "100%|██████████| 25/25 [30:49<00:00, 73.97s/it] \u001b[A\n",
      " 55%|█████▌    | 11/20 [6:16:59<5:06:37, 2044.17s/it]\n",
      "  0%|          | 0/25 [00:00<?, ?it/s]\u001b[A\n",
      "  4%|▍         | 1/25 [01:07<27:03, 67.63s/it]\u001b[A\n",
      "  8%|▊         | 2/25 [03:05<31:39, 82.60s/it]\u001b[A\n",
      " 12%|█▏        | 3/25 [03:48<26:00, 70.95s/it]\u001b[A\n",
      " 16%|█▌        | 4/25 [04:37<22:30, 64.31s/it]\u001b[A\n",
      " 20%|██        | 5/25 [05:21<19:20, 58.02s/it]\u001b[A\n",
      " 24%|██▍       | 6/25 [06:09<17:29, 55.23s/it]\u001b[A\n",
      " 28%|██▊       | 7/25 [06:53<15:29, 51.66s/it]\u001b[A\n",
      " 32%|███▏      | 8/25 [07:42<14:27, 51.05s/it]\u001b[A\n",
      " 36%|███▌      | 9/25 [08:26<13:02, 48.94s/it]\u001b[A\n",
      " 40%|████      | 10/25 [09:12<11:58, 47.89s/it]\u001b[A\n",
      " 44%|████▍     | 11/25 [09:56<10:55, 46.82s/it]\u001b[A\n",
      " 48%|████▊     | 12/25 [10:40<09:57, 45.99s/it]\u001b[A\n",
      " 52%|█████▏    | 13/25 [11:24<09:04, 45.42s/it]\u001b[A\n",
      " 56%|█████▌    | 14/25 [13:01<11:09, 60.84s/it]\u001b[A\n",
      " 60%|██████    | 15/25 [14:47<12:23, 74.33s/it]\u001b[A\n",
      " 64%|██████▍   | 16/25 [16:26<12:16, 81.82s/it]\u001b[A\n",
      " 68%|██████▊   | 17/25 [18:21<12:14, 91.78s/it]\u001b[A\n",
      " 72%|███████▏  | 18/25 [20:06<11:10, 95.82s/it]\u001b[A\n",
      " 76%|███████▌  | 19/25 [21:42<09:35, 95.84s/it]\u001b[A\n",
      " 80%|████████  | 20/25 [23:36<08:25, 101.16s/it]\u001b[A\n",
      " 84%|████████▍ | 21/25 [25:30<07:00, 105.13s/it]\u001b[A\n",
      " 88%|████████▊ | 22/25 [27:25<05:24, 108.10s/it]\u001b[A\n",
      " 92%|█████████▏| 23/25 [29:20<03:40, 110.13s/it]\u001b[A\n",
      " 96%|█████████▌| 24/25 [31:15<01:51, 111.59s/it]\u001b[A"
     ]
    },
    {
     "name": "stderr",
     "output_type": "stream",
     "text": [
      "../topnum/scores/simple_toptok_coherence_score.py:120: UserWarning: The parameter `documents` is not used by SimpleTopTokensCoherenceScore (it is kept for compatibility purposes)\n",
      "  'The parameter `documents` is not used by SimpleTopTokensCoherenceScore'\n"
     ]
    },
    {
     "name": "stdout",
     "output_type": "stream",
     "text": [
      "\n",
      "100%|██████████| 25/25 [31:17<00:00, 75.10s/it] \u001b[A\n",
      " 60%|██████    | 12/20 [6:51:28<4:33:33, 2051.68s/it]\n",
      "  0%|          | 0/25 [00:00<?, ?it/s]\u001b[A\n",
      "  4%|▍         | 1/25 [00:45<18:14, 45.61s/it]\u001b[A\n",
      "  8%|▊         | 2/25 [02:40<25:23, 66.26s/it]\u001b[A\n",
      " 12%|█▏        | 3/25 [03:27<22:11, 60.54s/it]\u001b[A\n",
      " 16%|█▌        | 4/25 [04:19<20:17, 57.99s/it]\u001b[A\n",
      " 20%|██        | 5/25 [05:06<18:16, 54.85s/it]\u001b[A\n",
      " 24%|██▍       | 6/25 [05:51<16:23, 51.77s/it]\u001b[A\n",
      " 28%|██▊       | 7/25 [06:36<14:57, 49.88s/it]\u001b[A\n",
      " 32%|███▏      | 8/25 [07:23<13:51, 48.94s/it]\u001b[A\n",
      " 36%|███▌      | 9/25 [08:09<12:49, 48.11s/it]\u001b[A\n",
      " 40%|████      | 10/25 [08:53<11:39, 46.64s/it]\u001b[A\n",
      " 44%|████▍     | 11/25 [09:37<10:43, 45.96s/it]\u001b[A\n",
      " 48%|████▊     | 12/25 [10:22<09:55, 45.84s/it]\u001b[A\n",
      " 52%|█████▏    | 13/25 [11:08<09:08, 45.70s/it]\u001b[A\n",
      " 56%|█████▌    | 14/25 [12:51<11:32, 62.97s/it]\u001b[A\n",
      " 60%|██████    | 15/25 [14:32<12:23, 74.32s/it]\u001b[A\n",
      " 64%|██████▍   | 16/25 [16:14<12:23, 82.64s/it]\u001b[A\n",
      " 68%|██████▊   | 17/25 [17:59<11:54, 89.28s/it]\u001b[A\n",
      " 72%|███████▏  | 18/25 [19:44<10:58, 94.05s/it]\u001b[A\n",
      " 76%|███████▌  | 19/25 [21:23<09:32, 95.48s/it]\u001b[A\n",
      " 80%|████████  | 20/25 [23:18<08:27, 101.52s/it]\u001b[A\n",
      " 84%|████████▍ | 21/25 [25:33<07:26, 111.53s/it]\u001b[A\n",
      " 88%|████████▊ | 22/25 [27:30<05:39, 113.22s/it]\u001b[A\n",
      " 92%|█████████▏| 23/25 [29:26<03:47, 113.90s/it]\u001b[A\n",
      " 96%|█████████▌| 24/25 [31:20<01:54, 114.02s/it]\u001b[A"
     ]
    },
    {
     "name": "stderr",
     "output_type": "stream",
     "text": [
      "../topnum/scores/simple_toptok_coherence_score.py:120: UserWarning: The parameter `documents` is not used by SimpleTopTokensCoherenceScore (it is kept for compatibility purposes)\n",
      "  'The parameter `documents` is not used by SimpleTopTokensCoherenceScore'\n"
     ]
    },
    {
     "name": "stdout",
     "output_type": "stream",
     "text": [
      "\n",
      "100%|██████████| 25/25 [31:22<00:00, 75.30s/it] \u001b[A\n",
      " 65%|██████▌   | 13/20 [7:26:06<4:00:15, 2059.34s/it]\n",
      "  0%|          | 0/25 [00:00<?, ?it/s]\u001b[A\n",
      "  4%|▍         | 1/25 [00:41<16:44, 41.87s/it]\u001b[A\n",
      "  8%|▊         | 2/25 [02:34<24:12, 63.14s/it]\u001b[A\n",
      " 12%|█▏        | 3/25 [03:24<21:38, 59.03s/it]\u001b[A\n",
      " 16%|█▌        | 4/25 [04:06<18:57, 54.18s/it]\u001b[A\n",
      " 20%|██        | 5/25 [04:50<16:57, 50.87s/it]\u001b[A\n",
      " 24%|██▍       | 6/25 [05:35<15:36, 49.29s/it]\u001b[A\n",
      " 28%|██▊       | 7/25 [06:19<14:19, 47.73s/it]\u001b[A\n",
      " 32%|███▏      | 8/25 [07:02<13:05, 46.19s/it]\u001b[A\n",
      " 36%|███▌      | 9/25 [07:44<11:59, 44.96s/it]\u001b[A\n",
      " 40%|████      | 10/25 [08:27<11:05, 44.34s/it]\u001b[A\n",
      " 44%|████▍     | 11/25 [09:10<10:14, 43.88s/it]\u001b[A\n",
      " 48%|████▊     | 12/25 [09:52<09:24, 43.44s/it]\u001b[A\n",
      " 52%|█████▏    | 13/25 [10:37<08:47, 43.94s/it]\u001b[A\n",
      " 56%|█████▌    | 14/25 [12:27<11:41, 63.80s/it]\u001b[A\n",
      " 60%|██████    | 15/25 [14:13<12:44, 76.46s/it]\u001b[A\n",
      " 64%|██████▍   | 16/25 [16:06<13:05, 87.29s/it]\u001b[A\n",
      " 68%|██████▊   | 17/25 [17:55<12:31, 93.94s/it]\u001b[A\n",
      " 72%|███████▏  | 18/25 [19:37<11:13, 96.23s/it]\u001b[A\n",
      " 76%|███████▌  | 19/25 [21:22<09:53, 98.97s/it]\u001b[A\n",
      " 80%|████████  | 20/25 [23:17<08:37, 103.56s/it]\u001b[A\n",
      " 84%|████████▍ | 21/25 [25:10<07:06, 106.54s/it]\u001b[A\n",
      " 88%|████████▊ | 22/25 [27:02<05:24, 108.30s/it]\u001b[A\n",
      " 92%|█████████▏| 23/25 [28:55<03:39, 109.55s/it]\u001b[A\n",
      " 96%|█████████▌| 24/25 [30:47<01:50, 110.33s/it]\u001b[A"
     ]
    },
    {
     "name": "stderr",
     "output_type": "stream",
     "text": [
      "../topnum/scores/simple_toptok_coherence_score.py:120: UserWarning: The parameter `documents` is not used by SimpleTopTokensCoherenceScore (it is kept for compatibility purposes)\n",
      "  'The parameter `documents` is not used by SimpleTopTokensCoherenceScore'\n"
     ]
    },
    {
     "name": "stdout",
     "output_type": "stream",
     "text": [
      "\n",
      "100%|██████████| 25/25 [30:49<00:00, 73.98s/it] \u001b[A\n",
      " 70%|███████   | 14/20 [8:00:09<3:25:26, 2054.47s/it]\n",
      "  0%|          | 0/25 [00:00<?, ?it/s]\u001b[A\n",
      "  4%|▍         | 1/25 [00:43<17:28, 43.69s/it]\u001b[A\n",
      "  8%|▊         | 2/25 [02:58<27:16, 71.14s/it]\u001b[A\n",
      " 12%|█▏        | 3/25 [03:44<23:19, 63.61s/it]\u001b[A\n",
      " 16%|█▌        | 4/25 [04:27<20:05, 57.43s/it]\u001b[A\n",
      " 20%|██        | 5/25 [05:14<18:01, 54.07s/it]\u001b[A\n",
      " 24%|██▍       | 6/25 [05:58<16:12, 51.17s/it]\u001b[A\n",
      " 28%|██▊       | 7/25 [06:45<14:56, 49.80s/it]\u001b[A\n",
      " 32%|███▏      | 8/25 [07:29<13:38, 48.12s/it]\u001b[A\n",
      " 36%|███▌      | 9/25 [08:12<12:26, 46.65s/it]\u001b[A\n",
      " 40%|████      | 10/25 [08:56<11:25, 45.69s/it]\u001b[A\n",
      " 44%|████▍     | 11/25 [09:40<10:32, 45.18s/it]\u001b[A\n",
      " 48%|████▊     | 12/25 [10:23<09:40, 44.68s/it]\u001b[A\n",
      " 52%|█████▏    | 13/25 [11:08<08:55, 44.66s/it]\u001b[A\n",
      " 56%|█████▌    | 14/25 [12:53<11:32, 62.97s/it]\u001b[A\n",
      " 60%|██████    | 15/25 [14:30<12:10, 73.07s/it]\u001b[A\n",
      " 64%|██████▍   | 16/25 [16:08<12:05, 80.66s/it]\u001b[A\n",
      " 68%|██████▊   | 17/25 [17:46<11:26, 85.87s/it]\u001b[A\n",
      " 72%|███████▏  | 18/25 [19:24<10:26, 89.43s/it]\u001b[A\n",
      " 76%|███████▌  | 19/25 [21:02<09:12, 92.09s/it]\u001b[A\n",
      " 80%|████████  | 20/25 [22:56<08:12, 98.53s/it]\u001b[A\n",
      " 84%|████████▍ | 21/25 [24:48<06:50, 102.55s/it]\u001b[A\n",
      " 88%|████████▊ | 22/25 [26:40<05:16, 105.53s/it]\u001b[A\n",
      " 92%|█████████▏| 23/25 [28:35<03:36, 108.17s/it]\u001b[A\n",
      " 96%|█████████▌| 24/25 [30:29<01:50, 110.06s/it]\u001b[A"
     ]
    },
    {
     "name": "stderr",
     "output_type": "stream",
     "text": [
      "../topnum/scores/simple_toptok_coherence_score.py:120: UserWarning: The parameter `documents` is not used by SimpleTopTokensCoherenceScore (it is kept for compatibility purposes)\n",
      "  'The parameter `documents` is not used by SimpleTopTokensCoherenceScore'\n"
     ]
    },
    {
     "name": "stdout",
     "output_type": "stream",
     "text": [
      "\n",
      "100%|██████████| 25/25 [30:31<00:00, 73.27s/it] \u001b[A\n",
      " 75%|███████▌  | 15/20 [8:33:55<2:50:30, 2046.10s/it]\n",
      "  0%|          | 0/25 [00:00<?, ?it/s]\u001b[A\n",
      "  4%|▍         | 1/25 [00:43<17:13, 43.06s/it]\u001b[A\n",
      "  8%|▊         | 2/25 [02:36<24:36, 64.20s/it]\u001b[A\n",
      " 12%|█▏        | 3/25 [03:24<21:48, 59.46s/it]\u001b[A\n",
      " 16%|█▌        | 4/25 [04:15<19:54, 56.88s/it]\u001b[A\n",
      " 20%|██        | 5/25 [05:00<17:43, 53.16s/it]\u001b[A\n",
      " 24%|██▍       | 6/25 [05:42<15:50, 50.01s/it]\u001b[A\n",
      " 28%|██▊       | 7/25 [06:26<14:23, 47.95s/it]\u001b[A\n",
      " 32%|███▏      | 8/25 [07:18<13:59, 49.41s/it]\u001b[A\n",
      " 36%|███▌      | 9/25 [08:03<12:46, 47.90s/it]\u001b[A\n",
      " 40%|████      | 10/25 [08:51<12:00, 48.01s/it]\u001b[A\n",
      " 44%|████▍     | 11/25 [09:42<11:22, 48.78s/it]\u001b[A\n",
      " 48%|████▊     | 12/25 [10:31<10:35, 48.91s/it]\u001b[A\n",
      " 52%|█████▏    | 13/25 [11:21<09:51, 49.27s/it]\u001b[A\n",
      " 56%|█████▌    | 14/25 [13:06<12:05, 65.98s/it]\u001b[A\n",
      " 60%|██████    | 15/25 [14:48<12:48, 76.86s/it]\u001b[A\n",
      " 64%|██████▍   | 16/25 [16:34<12:51, 85.67s/it]\u001b[A\n",
      " 68%|██████▊   | 17/25 [18:20<12:11, 91.50s/it]\u001b[A\n",
      " 72%|███████▏  | 18/25 [20:05<11:10, 95.76s/it]\u001b[A\n",
      " 76%|███████▌  | 19/25 [21:47<09:44, 97.41s/it]\u001b[A\n",
      " 80%|████████  | 20/25 [23:40<08:31, 102.32s/it]\u001b[A\n",
      " 84%|████████▍ | 21/25 [25:34<07:03, 105.79s/it]\u001b[A\n",
      " 88%|████████▊ | 22/25 [27:27<05:24, 108.03s/it]\u001b[A\n",
      " 92%|█████████▏| 23/25 [29:20<03:38, 109.37s/it]\u001b[A\n",
      " 96%|█████████▌| 24/25 [31:15<01:51, 111.01s/it]\u001b[A"
     ]
    },
    {
     "name": "stderr",
     "output_type": "stream",
     "text": [
      "../topnum/scores/simple_toptok_coherence_score.py:120: UserWarning: The parameter `documents` is not used by SimpleTopTokensCoherenceScore (it is kept for compatibility purposes)\n",
      "  'The parameter `documents` is not used by SimpleTopTokensCoherenceScore'\n"
     ]
    },
    {
     "name": "stdout",
     "output_type": "stream",
     "text": [
      "\n",
      "100%|██████████| 25/25 [31:17<00:00, 75.09s/it] \u001b[A\n",
      " 80%|████████  | 16/20 [9:08:24<2:16:52, 2053.06s/it]\n",
      "  0%|          | 0/25 [00:00<?, ?it/s]\u001b[A\n",
      "  4%|▍         | 1/25 [00:43<17:18, 43.28s/it]\u001b[A\n",
      "  8%|▊         | 2/25 [02:36<24:35, 64.17s/it]\u001b[A\n",
      " 12%|█▏        | 3/25 [03:20<21:17, 58.07s/it]\u001b[A\n",
      " 16%|█▌        | 4/25 [04:03<18:46, 53.63s/it]\u001b[A\n",
      " 20%|██        | 5/25 [04:46<16:49, 50.50s/it]\u001b[A\n",
      " 24%|██▍       | 6/25 [05:36<15:58, 50.43s/it]\u001b[A\n",
      " 28%|██▊       | 7/25 [06:25<15:01, 50.06s/it]\u001b[A\n",
      " 32%|███▏      | 8/25 [07:11<13:47, 48.65s/it]\u001b[A\n",
      " 36%|███▌      | 9/25 [07:55<12:39, 47.46s/it]\u001b[A\n",
      " 40%|████      | 10/25 [08:39<11:36, 46.40s/it]\u001b[A\n",
      " 44%|████▍     | 11/25 [09:31<11:09, 47.81s/it]\u001b[A\n",
      " 48%|████▊     | 12/25 [10:14<10:06, 46.64s/it]\u001b[A\n",
      " 52%|█████▏    | 13/25 [10:58<09:10, 45.85s/it]\u001b[A\n",
      " 56%|█████▌    | 14/25 [12:44<11:42, 63.89s/it]\u001b[A\n",
      " 60%|██████    | 15/25 [14:31<12:48, 76.84s/it]\u001b[A\n",
      " 64%|██████▍   | 16/25 [16:09<12:27, 83.04s/it]\u001b[A\n",
      " 68%|██████▊   | 17/25 [17:46<11:38, 87.34s/it]\u001b[A\n",
      " 72%|███████▏  | 18/25 [19:30<10:44, 92.10s/it]\u001b[A\n",
      " 76%|███████▌  | 19/25 [21:10<09:27, 94.65s/it]\u001b[A\n",
      " 80%|████████  | 20/25 [23:05<08:23, 100.64s/it]\u001b[A\n",
      " 84%|████████▍ | 21/25 [24:59<06:58, 104.57s/it]\u001b[A\n",
      " 88%|████████▊ | 22/25 [26:51<05:21, 107.07s/it]\u001b[A\n",
      " 92%|█████████▏| 23/25 [28:43<03:36, 108.36s/it]\u001b[A\n",
      " 96%|█████████▌| 24/25 [30:38<01:50, 110.30s/it]\u001b[A"
     ]
    },
    {
     "name": "stderr",
     "output_type": "stream",
     "text": [
      "../topnum/scores/simple_toptok_coherence_score.py:120: UserWarning: The parameter `documents` is not used by SimpleTopTokensCoherenceScore (it is kept for compatibility purposes)\n",
      "  'The parameter `documents` is not used by SimpleTopTokensCoherenceScore'\n"
     ]
    },
    {
     "name": "stdout",
     "output_type": "stream",
     "text": [
      "\n",
      "100%|██████████| 25/25 [30:41<00:00, 73.67s/it] \u001b[A\n",
      " 85%|████████▌ | 17/20 [9:42:45<1:42:45, 2055.24s/it]\n",
      "  0%|          | 0/25 [00:00<?, ?it/s]\u001b[A\n",
      "  4%|▍         | 1/25 [00:43<17:32, 43.86s/it]\u001b[A\n",
      "  8%|▊         | 2/25 [02:39<25:02, 65.32s/it]\u001b[A\n",
      " 12%|█▏        | 3/25 [03:24<21:45, 59.34s/it]\u001b[A\n",
      " 16%|█▌        | 4/25 [04:15<19:55, 56.91s/it]\u001b[A\n",
      " 20%|██        | 5/25 [05:03<18:01, 54.08s/it]\u001b[A\n",
      " 24%|██▍       | 6/25 [05:47<16:11, 51.15s/it]\u001b[A\n",
      " 28%|██▊       | 7/25 [06:31<14:43, 49.09s/it]\u001b[A\n",
      " 32%|███▏      | 8/25 [07:28<14:33, 51.35s/it]\u001b[A\n",
      " 36%|███▌      | 9/25 [08:13<13:10, 49.43s/it]\u001b[A\n",
      " 40%|████      | 10/25 [08:57<11:59, 47.93s/it]\u001b[A\n",
      " 44%|████▍     | 11/25 [09:43<10:58, 47.07s/it]\u001b[A\n",
      " 48%|████▊     | 12/25 [10:26<09:57, 45.99s/it]\u001b[A\n",
      " 52%|█████▏    | 13/25 [11:15<09:24, 47.01s/it]\u001b[A\n",
      " 56%|█████▌    | 14/25 [12:54<11:27, 62.52s/it]\u001b[A\n",
      " 60%|██████    | 15/25 [14:32<12:11, 73.17s/it]\u001b[A\n",
      " 64%|██████▍   | 16/25 [16:10<12:04, 80.49s/it]\u001b[A\n",
      " 68%|██████▊   | 17/25 [17:50<11:31, 86.44s/it]\u001b[A\n",
      " 72%|███████▏  | 18/25 [19:34<10:42, 91.74s/it]\u001b[A\n",
      " 76%|███████▌  | 19/25 [21:17<09:29, 94.94s/it]\u001b[A\n",
      " 80%|████████  | 20/25 [23:14<08:28, 101.60s/it]\u001b[A\n",
      " 84%|████████▍ | 21/25 [25:09<07:02, 105.71s/it]\u001b[A\n",
      " 88%|████████▊ | 22/25 [27:01<05:22, 107.62s/it]\u001b[A\n",
      " 92%|█████████▏| 23/25 [28:55<03:39, 109.58s/it]\u001b[A\n",
      " 96%|█████████▌| 24/25 [30:50<01:51, 111.18s/it]\u001b[A"
     ]
    },
    {
     "name": "stderr",
     "output_type": "stream",
     "text": [
      "../topnum/scores/simple_toptok_coherence_score.py:120: UserWarning: The parameter `documents` is not used by SimpleTopTokensCoherenceScore (it is kept for compatibility purposes)\n",
      "  'The parameter `documents` is not used by SimpleTopTokensCoherenceScore'\n"
     ]
    },
    {
     "name": "stdout",
     "output_type": "stream",
     "text": [
      "\n",
      "100%|██████████| 25/25 [30:52<00:00, 74.11s/it] \u001b[A\n",
      " 90%|█████████ | 18/20 [10:18:06<1:09:10, 2075.17s/it]\n",
      "  0%|          | 0/25 [00:00<?, ?it/s]\u001b[A\n",
      "  4%|▍         | 1/25 [00:43<17:34, 43.96s/it]\u001b[A\n",
      "  8%|▊         | 2/25 [02:39<25:04, 65.42s/it]\u001b[A\n",
      " 12%|█▏        | 3/25 [03:27<22:02, 60.11s/it]\u001b[A\n",
      " 16%|█▌        | 4/25 [04:19<20:11, 57.69s/it]\u001b[A\n",
      " 20%|██        | 5/25 [05:03<17:55, 53.79s/it]\u001b[A\n",
      " 24%|██▍       | 6/25 [05:51<16:25, 51.87s/it]\u001b[A\n",
      " 28%|██▊       | 7/25 [06:39<15:14, 50.80s/it]\u001b[A\n",
      " 32%|███▏      | 8/25 [07:32<14:32, 51.33s/it]\u001b[A\n",
      " 36%|███▌      | 9/25 [08:17<13:11, 49.49s/it]\u001b[A\n",
      " 40%|████      | 10/25 [09:05<12:14, 48.96s/it]\u001b[A\n",
      " 44%|████▍     | 11/25 [09:49<11:05, 47.53s/it]\u001b[A\n",
      " 48%|████▊     | 12/25 [10:32<10:01, 46.30s/it]\u001b[A\n",
      " 52%|█████▏    | 13/25 [11:15<09:03, 45.33s/it]\u001b[A\n",
      " 56%|█████▌    | 14/25 [13:08<11:59, 65.42s/it]\u001b[A\n",
      " 60%|██████    | 15/25 [14:52<12:52, 77.24s/it]\u001b[A\n",
      " 64%|██████▍   | 16/25 [16:40<12:56, 86.25s/it]\u001b[A\n",
      " 68%|██████▊   | 17/25 [18:30<12:27, 93.47s/it]\u001b[A\n",
      " 72%|███████▏  | 18/25 [20:28<11:45, 100.82s/it]\u001b[A\n",
      " 76%|███████▌  | 19/25 [22:23<10:30, 105.06s/it]\u001b[A\n",
      " 80%|████████  | 20/25 [24:20<09:03, 108.68s/it]\u001b[A\n",
      " 84%|████████▍ | 21/25 [26:15<07:22, 110.51s/it]\u001b[A\n",
      " 88%|████████▊ | 22/25 [28:08<05:33, 111.25s/it]\u001b[A\n",
      " 92%|█████████▏| 23/25 [30:02<03:44, 112.16s/it]\u001b[A\n",
      " 96%|█████████▌| 24/25 [31:57<01:52, 112.94s/it]\u001b[A"
     ]
    },
    {
     "name": "stderr",
     "output_type": "stream",
     "text": [
      "../topnum/scores/simple_toptok_coherence_score.py:120: UserWarning: The parameter `documents` is not used by SimpleTopTokensCoherenceScore (it is kept for compatibility purposes)\n",
      "  'The parameter `documents` is not used by SimpleTopTokensCoherenceScore'\n"
     ]
    },
    {
     "name": "stdout",
     "output_type": "stream",
     "text": [
      "\n",
      "100%|██████████| 25/25 [31:59<00:00, 76.79s/it] \u001b[A\n",
      " 95%|█████████▌| 19/20 [10:53:17<34:45, 2085.86s/it]  \n",
      "  0%|          | 0/25 [00:00<?, ?it/s]\u001b[A\n",
      "  4%|▍         | 1/25 [00:43<17:12, 43.00s/it]\u001b[A\n",
      "  8%|▊         | 2/25 [02:37<24:40, 64.37s/it]\u001b[A\n",
      " 12%|█▏        | 3/25 [03:22<21:30, 58.65s/it]\u001b[A\n",
      " 16%|█▌        | 4/25 [04:07<19:07, 54.63s/it]\u001b[A\n",
      " 20%|██        | 5/25 [04:51<17:05, 51.26s/it]\u001b[A\n",
      " 24%|██▍       | 6/25 [05:35<15:35, 49.24s/it]\u001b[A\n",
      " 28%|██▊       | 7/25 [06:20<14:19, 47.76s/it]\u001b[A\n",
      " 32%|███▏      | 8/25 [07:04<13:15, 46.79s/it]\u001b[A\n",
      " 36%|███▌      | 9/25 [07:50<12:23, 46.48s/it]\u001b[A\n",
      " 40%|████      | 10/25 [08:33<11:24, 45.60s/it]\u001b[A\n",
      " 44%|████▍     | 11/25 [09:25<11:03, 47.39s/it]\u001b[A\n",
      " 48%|████▊     | 12/25 [10:09<10:04, 46.49s/it]\u001b[A\n",
      " 52%|█████▏    | 13/25 [10:53<09:09, 45.78s/it]\u001b[A\n",
      " 56%|█████▌    | 14/25 [12:36<11:32, 62.96s/it]\u001b[A\n",
      " 60%|██████    | 15/25 [14:15<12:17, 73.75s/it]\u001b[A\n",
      " 64%|██████▍   | 16/25 [15:58<12:22, 82.53s/it]\u001b[A\n",
      " 68%|██████▊   | 17/25 [17:40<11:45, 88.17s/it]\u001b[A\n",
      " 72%|███████▏  | 18/25 [19:22<10:45, 92.26s/it]\u001b[A\n",
      " 76%|███████▌  | 19/25 [21:00<09:25, 94.20s/it]\u001b[A\n",
      " 80%|████████  | 20/25 [23:05<08:37, 103.44s/it]\u001b[A\n",
      " 84%|████████▍ | 21/25 [25:18<07:29, 112.32s/it]\u001b[A\n",
      " 88%|████████▊ | 22/25 [27:09<05:35, 111.70s/it]\u001b[A\n",
      " 92%|█████████▏| 23/25 [29:38<04:05, 122.96s/it]\u001b[A\n",
      " 96%|█████████▌| 24/25 [31:30<01:59, 119.87s/it]\u001b[A"
     ]
    },
    {
     "name": "stderr",
     "output_type": "stream",
     "text": [
      "../topnum/scores/simple_toptok_coherence_score.py:120: UserWarning: The parameter `documents` is not used by SimpleTopTokensCoherenceScore (it is kept for compatibility purposes)\n",
      "  'The parameter `documents` is not used by SimpleTopTokensCoherenceScore'\n"
     ]
    },
    {
     "name": "stdout",
     "output_type": "stream",
     "text": [
      "\n",
      "100%|██████████| 25/25 [31:32<00:00, 75.72s/it] \u001b[A\n",
      "100%|██████████| 20/20 [11:28:02<00:00, 2064.15s/it]\n",
      "CPU times: user 14h 35min 25s, sys: 1h 46min 6s, total: 16h 21min 31s\n",
      "Wall time: 11h 28min 3s\n"
     ]
    }
   ],
   "source": [
    "%%time\n",
    "\n",
    "optimizer.search_for_optimum(dataset)"
   ]
  },
  {
   "cell_type": "code",
   "execution_count": 68,
   "metadata": {},
   "outputs": [],
   "source": [
    "bank_topics = optimizer._topic_bank.view_topics()"
   ]
  },
  {
   "cell_type": "code",
   "execution_count": 85,
   "metadata": {},
   "outputs": [
    {
     "data": {
      "text/plain": [
       "(2514, 15)"
      ]
     },
     "execution_count": 85,
     "metadata": {},
     "output_type": "execute_result"
    }
   ],
   "source": [
    "bank_topics.shape"
   ]
  },
  {
   "cell_type": "code",
   "execution_count": 69,
   "metadata": {},
   "outputs": [
    {
     "data": {
      "text/html": [
       "<div>\n",
       "<style scoped>\n",
       "    .dataframe tbody tr th:only-of-type {\n",
       "        vertical-align: middle;\n",
       "    }\n",
       "\n",
       "    .dataframe tbody tr th {\n",
       "        vertical-align: top;\n",
       "    }\n",
       "\n",
       "    .dataframe thead th {\n",
       "        text-align: right;\n",
       "    }\n",
       "</style>\n",
       "<table border=\"1\" class=\"dataframe\">\n",
       "  <thead>\n",
       "    <tr style=\"text-align: right;\">\n",
       "      <th></th>\n",
       "      <th></th>\n",
       "      <th>topic_0</th>\n",
       "      <th>topic_1</th>\n",
       "      <th>topic_2</th>\n",
       "      <th>topic_3</th>\n",
       "      <th>topic_4</th>\n",
       "      <th>topic_5</th>\n",
       "      <th>topic_6</th>\n",
       "      <th>topic_7</th>\n",
       "      <th>topic_8</th>\n",
       "      <th>topic_9</th>\n",
       "      <th>topic_10</th>\n",
       "      <th>topic_11</th>\n",
       "      <th>topic_12</th>\n",
       "      <th>topic_13</th>\n",
       "      <th>topic_14</th>\n",
       "    </tr>\n",
       "  </thead>\n",
       "  <tbody>\n",
       "    <tr>\n",
       "      <th rowspan=\"5\" valign=\"top\">@default_class</th>\n",
       "      <th>както</th>\n",
       "      <td>0.0</td>\n",
       "      <td>0.00000</td>\n",
       "      <td>5.497794e-11</td>\n",
       "      <td>0.000000e+00</td>\n",
       "      <td>1.985204e-08</td>\n",
       "      <td>2.223492e-14</td>\n",
       "      <td>0.000009</td>\n",
       "      <td>0.000000e+00</td>\n",
       "      <td>0.000000</td>\n",
       "      <td>0.000000</td>\n",
       "      <td>0.000000e+00</td>\n",
       "      <td>0.0</td>\n",
       "      <td>0.0</td>\n",
       "      <td>2.414336e-06</td>\n",
       "      <td>4.583967e-11</td>\n",
       "    </tr>\n",
       "    <tr>\n",
       "      <th>гравитационный</th>\n",
       "      <td>0.0</td>\n",
       "      <td>0.00000</td>\n",
       "      <td>0.000000e+00</td>\n",
       "      <td>0.000000e+00</td>\n",
       "      <td>0.000000e+00</td>\n",
       "      <td>0.000000e+00</td>\n",
       "      <td>0.000000</td>\n",
       "      <td>0.000000e+00</td>\n",
       "      <td>0.000000</td>\n",
       "      <td>0.022702</td>\n",
       "      <td>0.000000e+00</td>\n",
       "      <td>0.0</td>\n",
       "      <td>0.0</td>\n",
       "      <td>0.000000e+00</td>\n",
       "      <td>0.000000e+00</td>\n",
       "    </tr>\n",
       "    <tr>\n",
       "      <th>жена</th>\n",
       "      <td>0.0</td>\n",
       "      <td>0.00139</td>\n",
       "      <td>0.000000e+00</td>\n",
       "      <td>0.000000e+00</td>\n",
       "      <td>0.000000e+00</td>\n",
       "      <td>1.217113e-04</td>\n",
       "      <td>0.000000</td>\n",
       "      <td>3.405896e-15</td>\n",
       "      <td>0.000000</td>\n",
       "      <td>0.000000</td>\n",
       "      <td>0.000000e+00</td>\n",
       "      <td>0.0</td>\n",
       "      <td>0.0</td>\n",
       "      <td>1.091175e-13</td>\n",
       "      <td>8.552548e-05</td>\n",
       "    </tr>\n",
       "    <tr>\n",
       "      <th>продолжительность</th>\n",
       "      <td>0.0</td>\n",
       "      <td>0.00000</td>\n",
       "      <td>0.000000e+00</td>\n",
       "      <td>3.470690e-15</td>\n",
       "      <td>0.000000e+00</td>\n",
       "      <td>0.000000e+00</td>\n",
       "      <td>0.000000</td>\n",
       "      <td>4.282006e-04</td>\n",
       "      <td>0.000000</td>\n",
       "      <td>0.000000</td>\n",
       "      <td>3.474610e-08</td>\n",
       "      <td>0.0</td>\n",
       "      <td>0.0</td>\n",
       "      <td>0.000000e+00</td>\n",
       "      <td>0.000000e+00</td>\n",
       "    </tr>\n",
       "    <tr>\n",
       "      <th>одновременно</th>\n",
       "      <td>0.0</td>\n",
       "      <td>0.00075</td>\n",
       "      <td>5.159791e-06</td>\n",
       "      <td>7.805681e-09</td>\n",
       "      <td>3.031660e-06</td>\n",
       "      <td>5.124066e-09</td>\n",
       "      <td>0.000146</td>\n",
       "      <td>8.667931e-13</td>\n",
       "      <td>0.000935</td>\n",
       "      <td>0.000564</td>\n",
       "      <td>1.033011e-07</td>\n",
       "      <td>0.0</td>\n",
       "      <td>0.0</td>\n",
       "      <td>2.076379e-05</td>\n",
       "      <td>1.407077e-09</td>\n",
       "    </tr>\n",
       "  </tbody>\n",
       "</table>\n",
       "</div>"
      ],
      "text/plain": [
       "                                  topic_0  topic_1       topic_2  \\\n",
       "@default_class както                  0.0  0.00000  5.497794e-11   \n",
       "               гравитационный         0.0  0.00000  0.000000e+00   \n",
       "               жена                   0.0  0.00139  0.000000e+00   \n",
       "               продолжительность      0.0  0.00000  0.000000e+00   \n",
       "               одновременно           0.0  0.00075  5.159791e-06   \n",
       "\n",
       "                                       topic_3       topic_4       topic_5  \\\n",
       "@default_class както              0.000000e+00  1.985204e-08  2.223492e-14   \n",
       "               гравитационный     0.000000e+00  0.000000e+00  0.000000e+00   \n",
       "               жена               0.000000e+00  0.000000e+00  1.217113e-04   \n",
       "               продолжительность  3.470690e-15  0.000000e+00  0.000000e+00   \n",
       "               одновременно       7.805681e-09  3.031660e-06  5.124066e-09   \n",
       "\n",
       "                                   topic_6       topic_7   topic_8   topic_9  \\\n",
       "@default_class както              0.000009  0.000000e+00  0.000000  0.000000   \n",
       "               гравитационный     0.000000  0.000000e+00  0.000000  0.022702   \n",
       "               жена               0.000000  3.405896e-15  0.000000  0.000000   \n",
       "               продолжительность  0.000000  4.282006e-04  0.000000  0.000000   \n",
       "               одновременно       0.000146  8.667931e-13  0.000935  0.000564   \n",
       "\n",
       "                                      topic_10  topic_11  topic_12  \\\n",
       "@default_class както              0.000000e+00       0.0       0.0   \n",
       "               гравитационный     0.000000e+00       0.0       0.0   \n",
       "               жена               0.000000e+00       0.0       0.0   \n",
       "               продолжительность  3.474610e-08       0.0       0.0   \n",
       "               одновременно       1.033011e-07       0.0       0.0   \n",
       "\n",
       "                                      topic_13      topic_14  \n",
       "@default_class както              2.414336e-06  4.583967e-11  \n",
       "               гравитационный     0.000000e+00  0.000000e+00  \n",
       "               жена               1.091175e-13  8.552548e-05  \n",
       "               продолжительность  0.000000e+00  0.000000e+00  \n",
       "               одновременно       2.076379e-05  1.407077e-09  "
      ]
     },
     "execution_count": 69,
     "metadata": {},
     "output_type": "execute_result"
    }
   ],
   "source": [
    "bank_topics.head()"
   ]
  },
  {
   "cell_type": "code",
   "execution_count": 83,
   "metadata": {},
   "outputs": [
    {
     "data": {
      "text/plain": [
       "@default_class  век             0.229964\n",
       "                xx              0.053898\n",
       "                xix             0.051478\n",
       "                начало          0.043227\n",
       "                первый          0.038318\n",
       "                конец           0.035413\n",
       "                второй          0.019743\n",
       "                середина        0.018641\n",
       "                время           0.017661\n",
       "                половина        0.017191\n",
       "                xviii           0.013792\n",
       "                классический    0.013726\n",
       "                xvii            0.012661\n",
       "                возникать       0.011614\n",
       "                эпоха           0.010723\n",
       "                хх              0.010398\n",
       "                новый           0.010231\n",
       "                столетие        0.008743\n",
       "                образ           0.008709\n",
       "                период          0.008326\n",
       "Name: topic_14, dtype: float64"
      ]
     },
     "execution_count": 83,
     "metadata": {},
     "output_type": "execute_result"
    }
   ],
   "source": [
    "bank_topics['topic_14'].sort_values(ascending=False)[:20]"
   ]
  },
  {
   "cell_type": "code",
   "execution_count": 67,
   "metadata": {},
   "outputs": [
    {
     "data": {
      "text/html": [
       "<div>\n",
       "<style scoped>\n",
       "    .dataframe tbody tr th:only-of-type {\n",
       "        vertical-align: middle;\n",
       "    }\n",
       "\n",
       "    .dataframe tbody tr th {\n",
       "        vertical-align: top;\n",
       "    }\n",
       "\n",
       "    .dataframe thead th {\n",
       "        text-align: right;\n",
       "    }\n",
       "</style>\n",
       "<table border=\"1\" class=\"dataframe\">\n",
       "  <thead>\n",
       "    <tr style=\"text-align: right;\">\n",
       "      <th></th>\n",
       "      <th>topic_0</th>\n",
       "      <th>topic_1</th>\n",
       "      <th>topic_2</th>\n",
       "      <th>topic_3</th>\n",
       "      <th>topic_4</th>\n",
       "      <th>topic_5</th>\n",
       "      <th>topic_6</th>\n",
       "      <th>topic_7</th>\n",
       "      <th>topic_8</th>\n",
       "      <th>topic_9</th>\n",
       "      <th>topic_10</th>\n",
       "      <th>topic_11</th>\n",
       "      <th>topic_12</th>\n",
       "      <th>topic_13</th>\n",
       "      <th>topic_14</th>\n",
       "    </tr>\n",
       "  </thead>\n",
       "  <tbody>\n",
       "    <tr>\n",
       "      <th>kernel_size</th>\n",
       "      <td>229.000000</td>\n",
       "      <td>408.000000</td>\n",
       "      <td>102.000000</td>\n",
       "      <td>157.000000</td>\n",
       "      <td>235.000000</td>\n",
       "      <td>302.000000</td>\n",
       "      <td>345.000000</td>\n",
       "      <td>347.000000</td>\n",
       "      <td>283.000000</td>\n",
       "      <td>391.000000</td>\n",
       "      <td>338.000000</td>\n",
       "      <td>59.000000</td>\n",
       "      <td>121.000000</td>\n",
       "      <td>407.000000</td>\n",
       "      <td>214.000000</td>\n",
       "    </tr>\n",
       "    <tr>\n",
       "      <th>intratext_coherence_score__tt_vw__cm_seg_weight__wtrt_pwt__sem_none</th>\n",
       "      <td>0.129687</td>\n",
       "      <td>0.123335</td>\n",
       "      <td>0.468014</td>\n",
       "      <td>0.249535</td>\n",
       "      <td>0.211076</td>\n",
       "      <td>0.246103</td>\n",
       "      <td>0.084003</td>\n",
       "      <td>0.103003</td>\n",
       "      <td>0.149715</td>\n",
       "      <td>0.085349</td>\n",
       "      <td>0.102518</td>\n",
       "      <td>0.177264</td>\n",
       "      <td>0.116741</td>\n",
       "      <td>0.102491</td>\n",
       "      <td>0.099711</td>\n",
       "    </tr>\n",
       "    <tr>\n",
       "      <th>top_tokens_coherence_score__tt_vw__wtrt_pwt__sem_none</th>\n",
       "      <td>1.133654</td>\n",
       "      <td>0.667880</td>\n",
       "      <td>1.629793</td>\n",
       "      <td>0.835258</td>\n",
       "      <td>0.835292</td>\n",
       "      <td>0.806799</td>\n",
       "      <td>0.434416</td>\n",
       "      <td>0.921406</td>\n",
       "      <td>0.700194</td>\n",
       "      <td>0.409935</td>\n",
       "      <td>0.473712</td>\n",
       "      <td>0.614014</td>\n",
       "      <td>0.583990</td>\n",
       "      <td>0.500487</td>\n",
       "      <td>0.975982</td>\n",
       "    </tr>\n",
       "    <tr>\n",
       "      <th>intratext_coherence_score__tt_vw__cm_seg_weight__wtrt_pwt__sem_av</th>\n",
       "      <td>0.127684</td>\n",
       "      <td>0.121866</td>\n",
       "      <td>0.462997</td>\n",
       "      <td>0.246569</td>\n",
       "      <td>0.207621</td>\n",
       "      <td>0.243621</td>\n",
       "      <td>0.082943</td>\n",
       "      <td>0.101184</td>\n",
       "      <td>0.147921</td>\n",
       "      <td>0.084183</td>\n",
       "      <td>0.101309</td>\n",
       "      <td>0.173868</td>\n",
       "      <td>0.113667</td>\n",
       "      <td>0.101379</td>\n",
       "      <td>0.097300</td>\n",
       "    </tr>\n",
       "    <tr>\n",
       "      <th>intratext_coherence_score__tt_vw__cm_seg_weight__wtrt_pwt__sem_max</th>\n",
       "      <td>0.120821</td>\n",
       "      <td>0.114016</td>\n",
       "      <td>0.462851</td>\n",
       "      <td>0.245817</td>\n",
       "      <td>0.116343</td>\n",
       "      <td>0.245570</td>\n",
       "      <td>0.079723</td>\n",
       "      <td>0.083172</td>\n",
       "      <td>0.143387</td>\n",
       "      <td>0.075810</td>\n",
       "      <td>0.096531</td>\n",
       "      <td>0.103924</td>\n",
       "      <td>0.100431</td>\n",
       "      <td>0.100097</td>\n",
       "      <td>0.080213</td>\n",
       "    </tr>\n",
       "    <tr>\n",
       "      <th>intratext_coherence_score__tt_vw__cm_seg_weight__wtrt_ptw__sem_none</th>\n",
       "      <td>0.463680</td>\n",
       "      <td>0.783485</td>\n",
       "      <td>0.763705</td>\n",
       "      <td>0.481053</td>\n",
       "      <td>0.594415</td>\n",
       "      <td>0.914586</td>\n",
       "      <td>0.645213</td>\n",
       "      <td>0.466021</td>\n",
       "      <td>0.734765</td>\n",
       "      <td>0.765880</td>\n",
       "      <td>0.903625</td>\n",
       "      <td>0.845633</td>\n",
       "      <td>0.492089</td>\n",
       "      <td>0.642143</td>\n",
       "      <td>0.650835</td>\n",
       "    </tr>\n",
       "    <tr>\n",
       "      <th>intratext_coherence_score__tt_vw__cm_seg_weight__wtrt_ptw__sem_av</th>\n",
       "      <td>0.452750</td>\n",
       "      <td>0.771956</td>\n",
       "      <td>0.753009</td>\n",
       "      <td>0.470381</td>\n",
       "      <td>0.583590</td>\n",
       "      <td>0.903922</td>\n",
       "      <td>0.633082</td>\n",
       "      <td>0.455416</td>\n",
       "      <td>0.723801</td>\n",
       "      <td>0.753463</td>\n",
       "      <td>0.890064</td>\n",
       "      <td>0.830870</td>\n",
       "      <td>0.479616</td>\n",
       "      <td>0.631021</td>\n",
       "      <td>0.636409</td>\n",
       "    </tr>\n",
       "    <tr>\n",
       "      <th>intratext_coherence_score__tt_vw__cm_seg_weight__wtrt_ptw__sem_max</th>\n",
       "      <td>0.385764</td>\n",
       "      <td>0.677018</td>\n",
       "      <td>0.718970</td>\n",
       "      <td>0.418170</td>\n",
       "      <td>0.345956</td>\n",
       "      <td>0.879365</td>\n",
       "      <td>0.549258</td>\n",
       "      <td>0.345888</td>\n",
       "      <td>0.661878</td>\n",
       "      <td>0.648797</td>\n",
       "      <td>0.772138</td>\n",
       "      <td>0.636360</td>\n",
       "      <td>0.417972</td>\n",
       "      <td>0.574683</td>\n",
       "      <td>0.525002</td>\n",
       "    </tr>\n",
       "    <tr>\n",
       "      <th>intratext_coherence_score__tt_vw__cm_seg_length__wtrt_pwt__sem_none</th>\n",
       "      <td>1.092971</td>\n",
       "      <td>1.152834</td>\n",
       "      <td>1.069599</td>\n",
       "      <td>1.067143</td>\n",
       "      <td>1.082481</td>\n",
       "      <td>1.066313</td>\n",
       "      <td>1.213043</td>\n",
       "      <td>1.060516</td>\n",
       "      <td>1.096398</td>\n",
       "      <td>1.241758</td>\n",
       "      <td>1.356061</td>\n",
       "      <td>1.476266</td>\n",
       "      <td>1.247272</td>\n",
       "      <td>1.112245</td>\n",
       "      <td>1.442545</td>\n",
       "    </tr>\n",
       "    <tr>\n",
       "      <th>intratext_coherence_score__tt_vw__cm_seg_length__wtrt_pwt__sem_av</th>\n",
       "      <td>1.092971</td>\n",
       "      <td>1.152834</td>\n",
       "      <td>1.069599</td>\n",
       "      <td>1.067143</td>\n",
       "      <td>1.082481</td>\n",
       "      <td>1.066313</td>\n",
       "      <td>1.213043</td>\n",
       "      <td>1.060516</td>\n",
       "      <td>1.096398</td>\n",
       "      <td>1.241758</td>\n",
       "      <td>1.356061</td>\n",
       "      <td>1.476266</td>\n",
       "      <td>1.247272</td>\n",
       "      <td>1.112245</td>\n",
       "      <td>1.442545</td>\n",
       "    </tr>\n",
       "    <tr>\n",
       "      <th>intratext_coherence_score__tt_vw__cm_seg_length__wtrt_pwt__sem_max</th>\n",
       "      <td>1.092971</td>\n",
       "      <td>1.152834</td>\n",
       "      <td>1.069599</td>\n",
       "      <td>1.067143</td>\n",
       "      <td>1.082481</td>\n",
       "      <td>1.066313</td>\n",
       "      <td>1.213043</td>\n",
       "      <td>1.060516</td>\n",
       "      <td>1.096398</td>\n",
       "      <td>1.241758</td>\n",
       "      <td>1.356061</td>\n",
       "      <td>1.476266</td>\n",
       "      <td>1.247272</td>\n",
       "      <td>1.112245</td>\n",
       "      <td>1.442545</td>\n",
       "    </tr>\n",
       "    <tr>\n",
       "      <th>intratext_coherence_score__tt_vw__cm_seg_length__wtrt_ptw__sem_none</th>\n",
       "      <td>1.092971</td>\n",
       "      <td>1.152834</td>\n",
       "      <td>1.069599</td>\n",
       "      <td>1.067143</td>\n",
       "      <td>1.082481</td>\n",
       "      <td>1.066313</td>\n",
       "      <td>1.213043</td>\n",
       "      <td>1.060516</td>\n",
       "      <td>1.096398</td>\n",
       "      <td>1.241758</td>\n",
       "      <td>1.356061</td>\n",
       "      <td>1.476266</td>\n",
       "      <td>1.247272</td>\n",
       "      <td>1.112245</td>\n",
       "      <td>1.442545</td>\n",
       "    </tr>\n",
       "    <tr>\n",
       "      <th>intratext_coherence_score__tt_vw__cm_seg_length__wtrt_ptw__sem_av</th>\n",
       "      <td>1.092971</td>\n",
       "      <td>1.152834</td>\n",
       "      <td>1.069599</td>\n",
       "      <td>1.067143</td>\n",
       "      <td>1.082481</td>\n",
       "      <td>1.066313</td>\n",
       "      <td>1.213043</td>\n",
       "      <td>1.060516</td>\n",
       "      <td>1.096398</td>\n",
       "      <td>1.241758</td>\n",
       "      <td>1.356061</td>\n",
       "      <td>1.476266</td>\n",
       "      <td>1.247272</td>\n",
       "      <td>1.112245</td>\n",
       "      <td>1.442545</td>\n",
       "    </tr>\n",
       "    <tr>\n",
       "      <th>intratext_coherence_score__tt_vw__cm_seg_length__wtrt_ptw__sem_max</th>\n",
       "      <td>1.092971</td>\n",
       "      <td>1.152834</td>\n",
       "      <td>1.069599</td>\n",
       "      <td>1.067143</td>\n",
       "      <td>1.082481</td>\n",
       "      <td>1.066313</td>\n",
       "      <td>1.213043</td>\n",
       "      <td>1.060516</td>\n",
       "      <td>1.096398</td>\n",
       "      <td>1.241758</td>\n",
       "      <td>1.356061</td>\n",
       "      <td>1.476266</td>\n",
       "      <td>1.247272</td>\n",
       "      <td>1.112245</td>\n",
       "      <td>1.442545</td>\n",
       "    </tr>\n",
       "    <tr>\n",
       "      <th>intratext_coherence_score__tt_vw__cm_sow__wtrt_pwt__sem_none</th>\n",
       "      <td>0.149405</td>\n",
       "      <td>0.135239</td>\n",
       "      <td>0.506719</td>\n",
       "      <td>0.277130</td>\n",
       "      <td>0.230360</td>\n",
       "      <td>0.278230</td>\n",
       "      <td>0.113456</td>\n",
       "      <td>0.119589</td>\n",
       "      <td>0.165493</td>\n",
       "      <td>0.098369</td>\n",
       "      <td>0.113682</td>\n",
       "      <td>0.187889</td>\n",
       "      <td>0.121900</td>\n",
       "      <td>0.121448</td>\n",
       "      <td>0.123747</td>\n",
       "    </tr>\n",
       "    <tr>\n",
       "      <th>intratext_coherence_score__tt_vw__cm_sow__wtrt_pwt__sem_av</th>\n",
       "      <td>0.129879</td>\n",
       "      <td>0.115653</td>\n",
       "      <td>0.483348</td>\n",
       "      <td>0.258036</td>\n",
       "      <td>0.208231</td>\n",
       "      <td>0.257433</td>\n",
       "      <td>0.095994</td>\n",
       "      <td>0.100934</td>\n",
       "      <td>0.147807</td>\n",
       "      <td>0.080106</td>\n",
       "      <td>0.094437</td>\n",
       "      <td>0.167958</td>\n",
       "      <td>0.102463</td>\n",
       "      <td>0.100667</td>\n",
       "      <td>0.104875</td>\n",
       "    </tr>\n",
       "    <tr>\n",
       "      <th>intratext_coherence_score__tt_vw__cm_sow__wtrt_pwt__sem_max</th>\n",
       "      <td>-0.571706</td>\n",
       "      <td>-0.647320</td>\n",
       "      <td>-0.181738</td>\n",
       "      <td>-0.339688</td>\n",
       "      <td>-0.670294</td>\n",
       "      <td>-0.440744</td>\n",
       "      <td>-0.461628</td>\n",
       "      <td>-0.599578</td>\n",
       "      <td>-0.525545</td>\n",
       "      <td>-0.513798</td>\n",
       "      <td>-0.574491</td>\n",
       "      <td>-0.615529</td>\n",
       "      <td>-0.620008</td>\n",
       "      <td>-0.690838</td>\n",
       "      <td>-0.588022</td>\n",
       "    </tr>\n",
       "    <tr>\n",
       "      <th>intratext_coherence_score__tt_vw__cm_sow__wtrt_ptw__sem_none</th>\n",
       "      <td>0.614931</td>\n",
       "      <td>0.908630</td>\n",
       "      <td>0.905199</td>\n",
       "      <td>0.617715</td>\n",
       "      <td>0.738819</td>\n",
       "      <td>1.190128</td>\n",
       "      <td>0.909712</td>\n",
       "      <td>0.618700</td>\n",
       "      <td>0.853647</td>\n",
       "      <td>0.925611</td>\n",
       "      <td>1.090329</td>\n",
       "      <td>0.913385</td>\n",
       "      <td>0.539923</td>\n",
       "      <td>0.890184</td>\n",
       "      <td>0.861727</td>\n",
       "    </tr>\n",
       "    <tr>\n",
       "      <th>intratext_coherence_score__tt_vw__cm_sow__wtrt_ptw__sem_av</th>\n",
       "      <td>0.418786</td>\n",
       "      <td>0.721543</td>\n",
       "      <td>0.708845</td>\n",
       "      <td>0.418287</td>\n",
       "      <td>0.539387</td>\n",
       "      <td>0.993577</td>\n",
       "      <td>0.718625</td>\n",
       "      <td>0.421874</td>\n",
       "      <td>0.675967</td>\n",
       "      <td>0.727809</td>\n",
       "      <td>0.897677</td>\n",
       "      <td>0.729241</td>\n",
       "      <td>0.352384</td>\n",
       "      <td>0.690184</td>\n",
       "      <td>0.664889</td>\n",
       "    </tr>\n",
       "    <tr>\n",
       "      <th>intratext_coherence_score__tt_vw__cm_sow__wtrt_ptw__sem_max</th>\n",
       "      <td>-6.451642</td>\n",
       "      <td>-6.104594</td>\n",
       "      <td>-5.935633</td>\n",
       "      <td>-6.477285</td>\n",
       "      <td>-7.503458</td>\n",
       "      <td>-5.649234</td>\n",
       "      <td>-5.685040</td>\n",
       "      <td>-6.472778</td>\n",
       "      <td>-5.917510</td>\n",
       "      <td>-5.621622</td>\n",
       "      <td>-5.912393</td>\n",
       "      <td>-6.323709</td>\n",
       "      <td>-6.598900</td>\n",
       "      <td>-6.158614</td>\n",
       "      <td>-6.135952</td>\n",
       "    </tr>\n",
       "    <tr>\n",
       "      <th>top_tokens_coherence_score__tt_vw__wtrt_pwt__sem_av</th>\n",
       "      <td>1.085201</td>\n",
       "      <td>0.207429</td>\n",
       "      <td>0.924944</td>\n",
       "      <td>0.711773</td>\n",
       "      <td>0.631549</td>\n",
       "      <td>0.804109</td>\n",
       "      <td>0.434745</td>\n",
       "      <td>0.751648</td>\n",
       "      <td>0.496965</td>\n",
       "      <td>0.313646</td>\n",
       "      <td>0.339534</td>\n",
       "      <td>0.532214</td>\n",
       "      <td>0.583990</td>\n",
       "      <td>0.432630</td>\n",
       "      <td>0.894360</td>\n",
       "    </tr>\n",
       "    <tr>\n",
       "      <th>top_tokens_coherence_score__tt_vw__wtrt_pwt__sem_max</th>\n",
       "      <td>0.216871</td>\n",
       "      <td>0.087710</td>\n",
       "      <td>0.133331</td>\n",
       "      <td>0.112849</td>\n",
       "      <td>0.204369</td>\n",
       "      <td>0.586044</td>\n",
       "      <td>0.182890</td>\n",
       "      <td>0.139113</td>\n",
       "      <td>0.333415</td>\n",
       "      <td>0.225083</td>\n",
       "      <td>0.292303</td>\n",
       "      <td>0.235531</td>\n",
       "      <td>0.224648</td>\n",
       "      <td>0.221136</td>\n",
       "      <td>0.689570</td>\n",
       "    </tr>\n",
       "    <tr>\n",
       "      <th>top_tokens_coherence_score__tt_vw__wtrt_ptw__sem_none</th>\n",
       "      <td>0.312881</td>\n",
       "      <td>0.089159</td>\n",
       "      <td>0.278846</td>\n",
       "      <td>0.133407</td>\n",
       "      <td>0.298121</td>\n",
       "      <td>0.432108</td>\n",
       "      <td>0.406538</td>\n",
       "      <td>0.127957</td>\n",
       "      <td>0.428056</td>\n",
       "      <td>0.293603</td>\n",
       "      <td>0.438889</td>\n",
       "      <td>0.258486</td>\n",
       "      <td>0.188524</td>\n",
       "      <td>0.100785</td>\n",
       "      <td>0.602910</td>\n",
       "    </tr>\n",
       "    <tr>\n",
       "      <th>top_tokens_coherence_score__tt_vw__wtrt_ptw__sem_av</th>\n",
       "      <td>0.312881</td>\n",
       "      <td>0.089159</td>\n",
       "      <td>0.278846</td>\n",
       "      <td>0.133407</td>\n",
       "      <td>0.298121</td>\n",
       "      <td>0.432108</td>\n",
       "      <td>0.406538</td>\n",
       "      <td>0.127957</td>\n",
       "      <td>0.428056</td>\n",
       "      <td>0.293603</td>\n",
       "      <td>0.438889</td>\n",
       "      <td>0.258486</td>\n",
       "      <td>0.188524</td>\n",
       "      <td>0.100785</td>\n",
       "      <td>0.602910</td>\n",
       "    </tr>\n",
       "    <tr>\n",
       "      <th>top_tokens_coherence_score__tt_vw__wtrt_ptw__sem_max</th>\n",
       "      <td>0.338780</td>\n",
       "      <td>0.129497</td>\n",
       "      <td>0.558454</td>\n",
       "      <td>0.151350</td>\n",
       "      <td>0.403012</td>\n",
       "      <td>0.482340</td>\n",
       "      <td>0.168771</td>\n",
       "      <td>0.165393</td>\n",
       "      <td>0.367842</td>\n",
       "      <td>0.133010</td>\n",
       "      <td>0.208253</td>\n",
       "      <td>0.313572</td>\n",
       "      <td>0.287957</td>\n",
       "      <td>0.206843</td>\n",
       "      <td>0.655232</td>\n",
       "    </tr>\n",
       "    <tr>\n",
       "      <th>top_tokens_coherence_other_implementation_score__ker_True__av_median__att_1e-07</th>\n",
       "      <td>0.184876</td>\n",
       "      <td>0.060949</td>\n",
       "      <td>0.243379</td>\n",
       "      <td>0.170201</td>\n",
       "      <td>0.063091</td>\n",
       "      <td>0.109392</td>\n",
       "      <td>0.074855</td>\n",
       "      <td>0.061806</td>\n",
       "      <td>0.217911</td>\n",
       "      <td>0.045327</td>\n",
       "      <td>0.155120</td>\n",
       "      <td>0.213721</td>\n",
       "      <td>0.231643</td>\n",
       "      <td>0.104167</td>\n",
       "      <td>0.143040</td>\n",
       "    </tr>\n",
       "    <tr>\n",
       "      <th>distance_to_nearest</th>\n",
       "      <td>0.000000</td>\n",
       "      <td>0.957545</td>\n",
       "      <td>0.969069</td>\n",
       "      <td>0.957263</td>\n",
       "      <td>0.958783</td>\n",
       "      <td>0.936528</td>\n",
       "      <td>0.931596</td>\n",
       "      <td>0.939177</td>\n",
       "      <td>0.945021</td>\n",
       "      <td>0.924911</td>\n",
       "      <td>0.917157</td>\n",
       "      <td>0.506945</td>\n",
       "      <td>0.958058</td>\n",
       "      <td>0.898429</td>\n",
       "      <td>0.533940</td>\n",
       "    </tr>\n",
       "  </tbody>\n",
       "</table>\n",
       "</div>"
      ],
      "text/plain": [
       "                                                       topic_0     topic_1  \\\n",
       "kernel_size                                         229.000000  408.000000   \n",
       "intratext_coherence_score__tt_vw__cm_seg_weight...    0.129687    0.123335   \n",
       "top_tokens_coherence_score__tt_vw__wtrt_pwt__se...    1.133654    0.667880   \n",
       "intratext_coherence_score__tt_vw__cm_seg_weight...    0.127684    0.121866   \n",
       "intratext_coherence_score__tt_vw__cm_seg_weight...    0.120821    0.114016   \n",
       "intratext_coherence_score__tt_vw__cm_seg_weight...    0.463680    0.783485   \n",
       "intratext_coherence_score__tt_vw__cm_seg_weight...    0.452750    0.771956   \n",
       "intratext_coherence_score__tt_vw__cm_seg_weight...    0.385764    0.677018   \n",
       "intratext_coherence_score__tt_vw__cm_seg_length...    1.092971    1.152834   \n",
       "intratext_coherence_score__tt_vw__cm_seg_length...    1.092971    1.152834   \n",
       "intratext_coherence_score__tt_vw__cm_seg_length...    1.092971    1.152834   \n",
       "intratext_coherence_score__tt_vw__cm_seg_length...    1.092971    1.152834   \n",
       "intratext_coherence_score__tt_vw__cm_seg_length...    1.092971    1.152834   \n",
       "intratext_coherence_score__tt_vw__cm_seg_length...    1.092971    1.152834   \n",
       "intratext_coherence_score__tt_vw__cm_sow__wtrt_...    0.149405    0.135239   \n",
       "intratext_coherence_score__tt_vw__cm_sow__wtrt_...    0.129879    0.115653   \n",
       "intratext_coherence_score__tt_vw__cm_sow__wtrt_...   -0.571706   -0.647320   \n",
       "intratext_coherence_score__tt_vw__cm_sow__wtrt_...    0.614931    0.908630   \n",
       "intratext_coherence_score__tt_vw__cm_sow__wtrt_...    0.418786    0.721543   \n",
       "intratext_coherence_score__tt_vw__cm_sow__wtrt_...   -6.451642   -6.104594   \n",
       "top_tokens_coherence_score__tt_vw__wtrt_pwt__se...    1.085201    0.207429   \n",
       "top_tokens_coherence_score__tt_vw__wtrt_pwt__se...    0.216871    0.087710   \n",
       "top_tokens_coherence_score__tt_vw__wtrt_ptw__se...    0.312881    0.089159   \n",
       "top_tokens_coherence_score__tt_vw__wtrt_ptw__se...    0.312881    0.089159   \n",
       "top_tokens_coherence_score__tt_vw__wtrt_ptw__se...    0.338780    0.129497   \n",
       "top_tokens_coherence_other_implementation_score...    0.184876    0.060949   \n",
       "distance_to_nearest                                   0.000000    0.957545   \n",
       "\n",
       "                                                       topic_2     topic_3  \\\n",
       "kernel_size                                         102.000000  157.000000   \n",
       "intratext_coherence_score__tt_vw__cm_seg_weight...    0.468014    0.249535   \n",
       "top_tokens_coherence_score__tt_vw__wtrt_pwt__se...    1.629793    0.835258   \n",
       "intratext_coherence_score__tt_vw__cm_seg_weight...    0.462997    0.246569   \n",
       "intratext_coherence_score__tt_vw__cm_seg_weight...    0.462851    0.245817   \n",
       "intratext_coherence_score__tt_vw__cm_seg_weight...    0.763705    0.481053   \n",
       "intratext_coherence_score__tt_vw__cm_seg_weight...    0.753009    0.470381   \n",
       "intratext_coherence_score__tt_vw__cm_seg_weight...    0.718970    0.418170   \n",
       "intratext_coherence_score__tt_vw__cm_seg_length...    1.069599    1.067143   \n",
       "intratext_coherence_score__tt_vw__cm_seg_length...    1.069599    1.067143   \n",
       "intratext_coherence_score__tt_vw__cm_seg_length...    1.069599    1.067143   \n",
       "intratext_coherence_score__tt_vw__cm_seg_length...    1.069599    1.067143   \n",
       "intratext_coherence_score__tt_vw__cm_seg_length...    1.069599    1.067143   \n",
       "intratext_coherence_score__tt_vw__cm_seg_length...    1.069599    1.067143   \n",
       "intratext_coherence_score__tt_vw__cm_sow__wtrt_...    0.506719    0.277130   \n",
       "intratext_coherence_score__tt_vw__cm_sow__wtrt_...    0.483348    0.258036   \n",
       "intratext_coherence_score__tt_vw__cm_sow__wtrt_...   -0.181738   -0.339688   \n",
       "intratext_coherence_score__tt_vw__cm_sow__wtrt_...    0.905199    0.617715   \n",
       "intratext_coherence_score__tt_vw__cm_sow__wtrt_...    0.708845    0.418287   \n",
       "intratext_coherence_score__tt_vw__cm_sow__wtrt_...   -5.935633   -6.477285   \n",
       "top_tokens_coherence_score__tt_vw__wtrt_pwt__se...    0.924944    0.711773   \n",
       "top_tokens_coherence_score__tt_vw__wtrt_pwt__se...    0.133331    0.112849   \n",
       "top_tokens_coherence_score__tt_vw__wtrt_ptw__se...    0.278846    0.133407   \n",
       "top_tokens_coherence_score__tt_vw__wtrt_ptw__se...    0.278846    0.133407   \n",
       "top_tokens_coherence_score__tt_vw__wtrt_ptw__se...    0.558454    0.151350   \n",
       "top_tokens_coherence_other_implementation_score...    0.243379    0.170201   \n",
       "distance_to_nearest                                   0.969069    0.957263   \n",
       "\n",
       "                                                       topic_4     topic_5  \\\n",
       "kernel_size                                         235.000000  302.000000   \n",
       "intratext_coherence_score__tt_vw__cm_seg_weight...    0.211076    0.246103   \n",
       "top_tokens_coherence_score__tt_vw__wtrt_pwt__se...    0.835292    0.806799   \n",
       "intratext_coherence_score__tt_vw__cm_seg_weight...    0.207621    0.243621   \n",
       "intratext_coherence_score__tt_vw__cm_seg_weight...    0.116343    0.245570   \n",
       "intratext_coherence_score__tt_vw__cm_seg_weight...    0.594415    0.914586   \n",
       "intratext_coherence_score__tt_vw__cm_seg_weight...    0.583590    0.903922   \n",
       "intratext_coherence_score__tt_vw__cm_seg_weight...    0.345956    0.879365   \n",
       "intratext_coherence_score__tt_vw__cm_seg_length...    1.082481    1.066313   \n",
       "intratext_coherence_score__tt_vw__cm_seg_length...    1.082481    1.066313   \n",
       "intratext_coherence_score__tt_vw__cm_seg_length...    1.082481    1.066313   \n",
       "intratext_coherence_score__tt_vw__cm_seg_length...    1.082481    1.066313   \n",
       "intratext_coherence_score__tt_vw__cm_seg_length...    1.082481    1.066313   \n",
       "intratext_coherence_score__tt_vw__cm_seg_length...    1.082481    1.066313   \n",
       "intratext_coherence_score__tt_vw__cm_sow__wtrt_...    0.230360    0.278230   \n",
       "intratext_coherence_score__tt_vw__cm_sow__wtrt_...    0.208231    0.257433   \n",
       "intratext_coherence_score__tt_vw__cm_sow__wtrt_...   -0.670294   -0.440744   \n",
       "intratext_coherence_score__tt_vw__cm_sow__wtrt_...    0.738819    1.190128   \n",
       "intratext_coherence_score__tt_vw__cm_sow__wtrt_...    0.539387    0.993577   \n",
       "intratext_coherence_score__tt_vw__cm_sow__wtrt_...   -7.503458   -5.649234   \n",
       "top_tokens_coherence_score__tt_vw__wtrt_pwt__se...    0.631549    0.804109   \n",
       "top_tokens_coherence_score__tt_vw__wtrt_pwt__se...    0.204369    0.586044   \n",
       "top_tokens_coherence_score__tt_vw__wtrt_ptw__se...    0.298121    0.432108   \n",
       "top_tokens_coherence_score__tt_vw__wtrt_ptw__se...    0.298121    0.432108   \n",
       "top_tokens_coherence_score__tt_vw__wtrt_ptw__se...    0.403012    0.482340   \n",
       "top_tokens_coherence_other_implementation_score...    0.063091    0.109392   \n",
       "distance_to_nearest                                   0.958783    0.936528   \n",
       "\n",
       "                                                       topic_6     topic_7  \\\n",
       "kernel_size                                         345.000000  347.000000   \n",
       "intratext_coherence_score__tt_vw__cm_seg_weight...    0.084003    0.103003   \n",
       "top_tokens_coherence_score__tt_vw__wtrt_pwt__se...    0.434416    0.921406   \n",
       "intratext_coherence_score__tt_vw__cm_seg_weight...    0.082943    0.101184   \n",
       "intratext_coherence_score__tt_vw__cm_seg_weight...    0.079723    0.083172   \n",
       "intratext_coherence_score__tt_vw__cm_seg_weight...    0.645213    0.466021   \n",
       "intratext_coherence_score__tt_vw__cm_seg_weight...    0.633082    0.455416   \n",
       "intratext_coherence_score__tt_vw__cm_seg_weight...    0.549258    0.345888   \n",
       "intratext_coherence_score__tt_vw__cm_seg_length...    1.213043    1.060516   \n",
       "intratext_coherence_score__tt_vw__cm_seg_length...    1.213043    1.060516   \n",
       "intratext_coherence_score__tt_vw__cm_seg_length...    1.213043    1.060516   \n",
       "intratext_coherence_score__tt_vw__cm_seg_length...    1.213043    1.060516   \n",
       "intratext_coherence_score__tt_vw__cm_seg_length...    1.213043    1.060516   \n",
       "intratext_coherence_score__tt_vw__cm_seg_length...    1.213043    1.060516   \n",
       "intratext_coherence_score__tt_vw__cm_sow__wtrt_...    0.113456    0.119589   \n",
       "intratext_coherence_score__tt_vw__cm_sow__wtrt_...    0.095994    0.100934   \n",
       "intratext_coherence_score__tt_vw__cm_sow__wtrt_...   -0.461628   -0.599578   \n",
       "intratext_coherence_score__tt_vw__cm_sow__wtrt_...    0.909712    0.618700   \n",
       "intratext_coherence_score__tt_vw__cm_sow__wtrt_...    0.718625    0.421874   \n",
       "intratext_coherence_score__tt_vw__cm_sow__wtrt_...   -5.685040   -6.472778   \n",
       "top_tokens_coherence_score__tt_vw__wtrt_pwt__se...    0.434745    0.751648   \n",
       "top_tokens_coherence_score__tt_vw__wtrt_pwt__se...    0.182890    0.139113   \n",
       "top_tokens_coherence_score__tt_vw__wtrt_ptw__se...    0.406538    0.127957   \n",
       "top_tokens_coherence_score__tt_vw__wtrt_ptw__se...    0.406538    0.127957   \n",
       "top_tokens_coherence_score__tt_vw__wtrt_ptw__se...    0.168771    0.165393   \n",
       "top_tokens_coherence_other_implementation_score...    0.074855    0.061806   \n",
       "distance_to_nearest                                   0.931596    0.939177   \n",
       "\n",
       "                                                       topic_8     topic_9  \\\n",
       "kernel_size                                         283.000000  391.000000   \n",
       "intratext_coherence_score__tt_vw__cm_seg_weight...    0.149715    0.085349   \n",
       "top_tokens_coherence_score__tt_vw__wtrt_pwt__se...    0.700194    0.409935   \n",
       "intratext_coherence_score__tt_vw__cm_seg_weight...    0.147921    0.084183   \n",
       "intratext_coherence_score__tt_vw__cm_seg_weight...    0.143387    0.075810   \n",
       "intratext_coherence_score__tt_vw__cm_seg_weight...    0.734765    0.765880   \n",
       "intratext_coherence_score__tt_vw__cm_seg_weight...    0.723801    0.753463   \n",
       "intratext_coherence_score__tt_vw__cm_seg_weight...    0.661878    0.648797   \n",
       "intratext_coherence_score__tt_vw__cm_seg_length...    1.096398    1.241758   \n",
       "intratext_coherence_score__tt_vw__cm_seg_length...    1.096398    1.241758   \n",
       "intratext_coherence_score__tt_vw__cm_seg_length...    1.096398    1.241758   \n",
       "intratext_coherence_score__tt_vw__cm_seg_length...    1.096398    1.241758   \n",
       "intratext_coherence_score__tt_vw__cm_seg_length...    1.096398    1.241758   \n",
       "intratext_coherence_score__tt_vw__cm_seg_length...    1.096398    1.241758   \n",
       "intratext_coherence_score__tt_vw__cm_sow__wtrt_...    0.165493    0.098369   \n",
       "intratext_coherence_score__tt_vw__cm_sow__wtrt_...    0.147807    0.080106   \n",
       "intratext_coherence_score__tt_vw__cm_sow__wtrt_...   -0.525545   -0.513798   \n",
       "intratext_coherence_score__tt_vw__cm_sow__wtrt_...    0.853647    0.925611   \n",
       "intratext_coherence_score__tt_vw__cm_sow__wtrt_...    0.675967    0.727809   \n",
       "intratext_coherence_score__tt_vw__cm_sow__wtrt_...   -5.917510   -5.621622   \n",
       "top_tokens_coherence_score__tt_vw__wtrt_pwt__se...    0.496965    0.313646   \n",
       "top_tokens_coherence_score__tt_vw__wtrt_pwt__se...    0.333415    0.225083   \n",
       "top_tokens_coherence_score__tt_vw__wtrt_ptw__se...    0.428056    0.293603   \n",
       "top_tokens_coherence_score__tt_vw__wtrt_ptw__se...    0.428056    0.293603   \n",
       "top_tokens_coherence_score__tt_vw__wtrt_ptw__se...    0.367842    0.133010   \n",
       "top_tokens_coherence_other_implementation_score...    0.217911    0.045327   \n",
       "distance_to_nearest                                   0.945021    0.924911   \n",
       "\n",
       "                                                      topic_10   topic_11  \\\n",
       "kernel_size                                         338.000000  59.000000   \n",
       "intratext_coherence_score__tt_vw__cm_seg_weight...    0.102518   0.177264   \n",
       "top_tokens_coherence_score__tt_vw__wtrt_pwt__se...    0.473712   0.614014   \n",
       "intratext_coherence_score__tt_vw__cm_seg_weight...    0.101309   0.173868   \n",
       "intratext_coherence_score__tt_vw__cm_seg_weight...    0.096531   0.103924   \n",
       "intratext_coherence_score__tt_vw__cm_seg_weight...    0.903625   0.845633   \n",
       "intratext_coherence_score__tt_vw__cm_seg_weight...    0.890064   0.830870   \n",
       "intratext_coherence_score__tt_vw__cm_seg_weight...    0.772138   0.636360   \n",
       "intratext_coherence_score__tt_vw__cm_seg_length...    1.356061   1.476266   \n",
       "intratext_coherence_score__tt_vw__cm_seg_length...    1.356061   1.476266   \n",
       "intratext_coherence_score__tt_vw__cm_seg_length...    1.356061   1.476266   \n",
       "intratext_coherence_score__tt_vw__cm_seg_length...    1.356061   1.476266   \n",
       "intratext_coherence_score__tt_vw__cm_seg_length...    1.356061   1.476266   \n",
       "intratext_coherence_score__tt_vw__cm_seg_length...    1.356061   1.476266   \n",
       "intratext_coherence_score__tt_vw__cm_sow__wtrt_...    0.113682   0.187889   \n",
       "intratext_coherence_score__tt_vw__cm_sow__wtrt_...    0.094437   0.167958   \n",
       "intratext_coherence_score__tt_vw__cm_sow__wtrt_...   -0.574491  -0.615529   \n",
       "intratext_coherence_score__tt_vw__cm_sow__wtrt_...    1.090329   0.913385   \n",
       "intratext_coherence_score__tt_vw__cm_sow__wtrt_...    0.897677   0.729241   \n",
       "intratext_coherence_score__tt_vw__cm_sow__wtrt_...   -5.912393  -6.323709   \n",
       "top_tokens_coherence_score__tt_vw__wtrt_pwt__se...    0.339534   0.532214   \n",
       "top_tokens_coherence_score__tt_vw__wtrt_pwt__se...    0.292303   0.235531   \n",
       "top_tokens_coherence_score__tt_vw__wtrt_ptw__se...    0.438889   0.258486   \n",
       "top_tokens_coherence_score__tt_vw__wtrt_ptw__se...    0.438889   0.258486   \n",
       "top_tokens_coherence_score__tt_vw__wtrt_ptw__se...    0.208253   0.313572   \n",
       "top_tokens_coherence_other_implementation_score...    0.155120   0.213721   \n",
       "distance_to_nearest                                   0.917157   0.506945   \n",
       "\n",
       "                                                      topic_12    topic_13  \\\n",
       "kernel_size                                         121.000000  407.000000   \n",
       "intratext_coherence_score__tt_vw__cm_seg_weight...    0.116741    0.102491   \n",
       "top_tokens_coherence_score__tt_vw__wtrt_pwt__se...    0.583990    0.500487   \n",
       "intratext_coherence_score__tt_vw__cm_seg_weight...    0.113667    0.101379   \n",
       "intratext_coherence_score__tt_vw__cm_seg_weight...    0.100431    0.100097   \n",
       "intratext_coherence_score__tt_vw__cm_seg_weight...    0.492089    0.642143   \n",
       "intratext_coherence_score__tt_vw__cm_seg_weight...    0.479616    0.631021   \n",
       "intratext_coherence_score__tt_vw__cm_seg_weight...    0.417972    0.574683   \n",
       "intratext_coherence_score__tt_vw__cm_seg_length...    1.247272    1.112245   \n",
       "intratext_coherence_score__tt_vw__cm_seg_length...    1.247272    1.112245   \n",
       "intratext_coherence_score__tt_vw__cm_seg_length...    1.247272    1.112245   \n",
       "intratext_coherence_score__tt_vw__cm_seg_length...    1.247272    1.112245   \n",
       "intratext_coherence_score__tt_vw__cm_seg_length...    1.247272    1.112245   \n",
       "intratext_coherence_score__tt_vw__cm_seg_length...    1.247272    1.112245   \n",
       "intratext_coherence_score__tt_vw__cm_sow__wtrt_...    0.121900    0.121448   \n",
       "intratext_coherence_score__tt_vw__cm_sow__wtrt_...    0.102463    0.100667   \n",
       "intratext_coherence_score__tt_vw__cm_sow__wtrt_...   -0.620008   -0.690838   \n",
       "intratext_coherence_score__tt_vw__cm_sow__wtrt_...    0.539923    0.890184   \n",
       "intratext_coherence_score__tt_vw__cm_sow__wtrt_...    0.352384    0.690184   \n",
       "intratext_coherence_score__tt_vw__cm_sow__wtrt_...   -6.598900   -6.158614   \n",
       "top_tokens_coherence_score__tt_vw__wtrt_pwt__se...    0.583990    0.432630   \n",
       "top_tokens_coherence_score__tt_vw__wtrt_pwt__se...    0.224648    0.221136   \n",
       "top_tokens_coherence_score__tt_vw__wtrt_ptw__se...    0.188524    0.100785   \n",
       "top_tokens_coherence_score__tt_vw__wtrt_ptw__se...    0.188524    0.100785   \n",
       "top_tokens_coherence_score__tt_vw__wtrt_ptw__se...    0.287957    0.206843   \n",
       "top_tokens_coherence_other_implementation_score...    0.231643    0.104167   \n",
       "distance_to_nearest                                   0.958058    0.898429   \n",
       "\n",
       "                                                      topic_14  \n",
       "kernel_size                                         214.000000  \n",
       "intratext_coherence_score__tt_vw__cm_seg_weight...    0.099711  \n",
       "top_tokens_coherence_score__tt_vw__wtrt_pwt__se...    0.975982  \n",
       "intratext_coherence_score__tt_vw__cm_seg_weight...    0.097300  \n",
       "intratext_coherence_score__tt_vw__cm_seg_weight...    0.080213  \n",
       "intratext_coherence_score__tt_vw__cm_seg_weight...    0.650835  \n",
       "intratext_coherence_score__tt_vw__cm_seg_weight...    0.636409  \n",
       "intratext_coherence_score__tt_vw__cm_seg_weight...    0.525002  \n",
       "intratext_coherence_score__tt_vw__cm_seg_length...    1.442545  \n",
       "intratext_coherence_score__tt_vw__cm_seg_length...    1.442545  \n",
       "intratext_coherence_score__tt_vw__cm_seg_length...    1.442545  \n",
       "intratext_coherence_score__tt_vw__cm_seg_length...    1.442545  \n",
       "intratext_coherence_score__tt_vw__cm_seg_length...    1.442545  \n",
       "intratext_coherence_score__tt_vw__cm_seg_length...    1.442545  \n",
       "intratext_coherence_score__tt_vw__cm_sow__wtrt_...    0.123747  \n",
       "intratext_coherence_score__tt_vw__cm_sow__wtrt_...    0.104875  \n",
       "intratext_coherence_score__tt_vw__cm_sow__wtrt_...   -0.588022  \n",
       "intratext_coherence_score__tt_vw__cm_sow__wtrt_...    0.861727  \n",
       "intratext_coherence_score__tt_vw__cm_sow__wtrt_...    0.664889  \n",
       "intratext_coherence_score__tt_vw__cm_sow__wtrt_...   -6.135952  \n",
       "top_tokens_coherence_score__tt_vw__wtrt_pwt__se...    0.894360  \n",
       "top_tokens_coherence_score__tt_vw__wtrt_pwt__se...    0.689570  \n",
       "top_tokens_coherence_score__tt_vw__wtrt_ptw__se...    0.602910  \n",
       "top_tokens_coherence_score__tt_vw__wtrt_ptw__se...    0.602910  \n",
       "top_tokens_coherence_score__tt_vw__wtrt_ptw__se...    0.655232  \n",
       "top_tokens_coherence_other_implementation_score...    0.143040  \n",
       "distance_to_nearest                                   0.533940  "
      ]
     },
     "execution_count": 67,
     "metadata": {},
     "output_type": "execute_result"
    }
   ],
   "source": [
    "optimizer._topic_bank.view_topic_scores()"
   ]
  },
  {
   "cell_type": "code",
   "execution_count": null,
   "metadata": {},
   "outputs": [],
   "source": []
  },
  {
   "cell_type": "code",
   "execution_count": 73,
   "metadata": {},
   "outputs": [
    {
     "data": {
      "text/plain": [
       "[(('@default_class', 'както'), ('@default_class', 'понимать'))]"
      ]
     },
     "execution_count": 73,
     "metadata": {},
     "output_type": "execute_result"
    }
   ],
   "source": [
    "list(COOC_VALUES2.keys())[:1]"
   ]
  },
  {
   "cell_type": "code",
   "execution_count": 75,
   "metadata": {},
   "outputs": [
    {
     "ename": "KeyError",
     "evalue": "(('@default_class', 'понимать'), ('@default_class', 'както'))",
     "output_type": "error",
     "traceback": [
      "\u001b[0;31m---------------------------------------------------------------------------\u001b[0m",
      "\u001b[0;31mKeyError\u001b[0m                                  Traceback (most recent call last)",
      "\u001b[0;32m<ipython-input-75-55e970730f43>\u001b[0m in \u001b[0;36m<module>\u001b[0;34m\u001b[0m\n\u001b[0;32m----> 1\u001b[0;31m \u001b[0mCOOC_VALUES2\u001b[0m\u001b[0;34m[\u001b[0m\u001b[0;34m(\u001b[0m\u001b[0;34m(\u001b[0m\u001b[0;34m'@default_class'\u001b[0m\u001b[0;34m,\u001b[0m \u001b[0;34m'понимать'\u001b[0m\u001b[0;34m)\u001b[0m\u001b[0;34m,\u001b[0m \u001b[0;34m(\u001b[0m\u001b[0;34m'@default_class'\u001b[0m\u001b[0;34m,\u001b[0m \u001b[0;34m'както'\u001b[0m\u001b[0;34m)\u001b[0m\u001b[0;34m)\u001b[0m\u001b[0;34m]\u001b[0m\u001b[0;34m\u001b[0m\u001b[0;34m\u001b[0m\u001b[0m\n\u001b[0m",
      "\u001b[0;31mKeyError\u001b[0m: (('@default_class', 'понимать'), ('@default_class', 'както'))"
     ]
    }
   ],
   "source": [
    "COOC_VALUES2[(('@default_class', 'понимать'), ('@default_class', 'както'))]"
   ]
  },
  {
   "cell_type": "code",
   "execution_count": 82,
   "metadata": {},
   "outputs": [
    {
     "data": {
      "text/plain": [
       "[(('@default_class', 'както'), ('@default_class', 'понимать'))]"
      ]
     },
     "execution_count": 82,
     "metadata": {},
     "output_type": "execute_result"
    }
   ],
   "source": [
    "list(COOC_VALUES2.keys())[:1]"
   ]
  },
  {
   "cell_type": "code",
   "execution_count": 81,
   "metadata": {},
   "outputs": [
    {
     "ename": "KeyError",
     "evalue": "(('@default_class', 'нервный'), ('@default_class', 'растение'))",
     "output_type": "error",
     "traceback": [
      "\u001b[0;31m---------------------------------------------------------------------------\u001b[0m",
      "\u001b[0;31mKeyError\u001b[0m                                  Traceback (most recent call last)",
      "\u001b[0;32m<ipython-input-81-532a695426b1>\u001b[0m in \u001b[0;36m<module>\u001b[0;34m\u001b[0m\n\u001b[0;32m----> 1\u001b[0;31m \u001b[0mCOOC_VALUES2\u001b[0m\u001b[0;34m[\u001b[0m\u001b[0;34m(\u001b[0m\u001b[0;34m(\u001b[0m\u001b[0;34m'@default_class'\u001b[0m\u001b[0;34m,\u001b[0m \u001b[0;34m'нервный'\u001b[0m\u001b[0;34m)\u001b[0m\u001b[0;34m,\u001b[0m \u001b[0;34m(\u001b[0m\u001b[0;34m'@default_class'\u001b[0m\u001b[0;34m,\u001b[0m \u001b[0;34m'растение'\u001b[0m\u001b[0;34m)\u001b[0m\u001b[0;34m)\u001b[0m\u001b[0;34m]\u001b[0m\u001b[0;34m\u001b[0m\u001b[0;34m\u001b[0m\u001b[0m\n\u001b[0m",
      "\u001b[0;31mKeyError\u001b[0m: (('@default_class', 'нервный'), ('@default_class', 'растение'))"
     ]
    }
   ],
   "source": [
    "COOC_VALUES2[(('@default_class', 'нервный'), ('@default_class', 'растение'))]"
   ]
  },
  {
   "cell_type": "code",
   "execution_count": null,
   "metadata": {},
   "outputs": [
    {
     "name": "stdout",
     "output_type": "stream",
     "text": [
      "  0%|          | 0/20 [00:00<?, ?it/s]\n",
      "  0%|          | 0/25 [00:00<?, ?it/s]\u001b[A\n",
      "  4%|▍         | 1/25 [00:07<03:02,  7.59s/it]\u001b[A\n",
      "  8%|▊         | 2/25 [00:28<04:26, 11.59s/it]\u001b[A\n",
      " 12%|█▏        | 3/25 [00:36<03:49, 10.43s/it]\u001b[A\n",
      " 16%|█▌        | 4/25 [00:44<03:23,  9.67s/it]\u001b[A\n",
      " 20%|██        | 5/25 [00:53<03:11,  9.56s/it]\u001b[A\n",
      " 24%|██▍       | 6/25 [01:02<02:59,  9.42s/it]\u001b[A\n",
      " 28%|██▊       | 7/25 [01:10<02:40,  8.94s/it]\u001b[A\n",
      " 32%|███▏      | 8/25 [01:17<02:25,  8.55s/it]\u001b[A\n",
      " 36%|███▌      | 9/25 [01:25<02:13,  8.32s/it]\u001b[A\n",
      " 40%|████      | 10/25 [01:33<02:03,  8.21s/it]\u001b[A\n",
      " 44%|████▍     | 11/25 [01:41<01:52,  8.06s/it]\u001b[A\n",
      " 48%|████▊     | 12/25 [01:49<01:43,  7.96s/it]\u001b[A\n",
      " 52%|█████▏    | 13/25 [01:57<01:35,  7.93s/it]\u001b[A\n",
      " 56%|█████▌    | 14/25 [02:14<01:59, 10.87s/it]\u001b[A\n",
      " 60%|██████    | 15/25 [02:32<02:09, 12.99s/it]\u001b[A\n",
      " 64%|██████▍   | 16/25 [02:50<02:09, 14.40s/it]\u001b[A\n",
      " 68%|██████▊   | 17/25 [03:07<02:01, 15.20s/it]\u001b[A\n",
      " 72%|███████▏  | 18/25 [03:24<01:50, 15.83s/it]\u001b[A\n",
      " 76%|███████▌  | 19/25 [03:42<01:38, 16.34s/it]\u001b[A\n",
      " 80%|████████  | 20/25 [04:03<01:29, 17.86s/it]\u001b[A\n",
      " 84%|████████▍ | 21/25 [04:23<01:13, 18.39s/it]\u001b[A\n",
      " 88%|████████▊ | 22/25 [04:42<00:56, 18.70s/it]\u001b[A\n",
      " 92%|█████████▏| 23/25 [05:02<00:38, 19.10s/it]\u001b[A\n",
      " 96%|█████████▌| 24/25 [05:22<00:19, 19.23s/it]\u001b[A"
     ]
    },
    {
     "name": "stderr",
     "output_type": "stream",
     "text": [
      "../topnum/scores/simple_toptok_coherence_score.py:120: UserWarning: The parameter `documents` is not used by SimpleTopTokensCoherenceScore (it is kept for compatibility purposes)\n",
      "  'The parameter `documents` is not used by SimpleTopTokensCoherenceScore'\n"
     ]
    },
    {
     "name": "stdout",
     "output_type": "stream",
     "text": [
      "\n",
      "100%|██████████| 25/25 [05:24<00:00, 12.96s/it]\u001b[A\n",
      "  5%|▌         | 1/20 [05:36<1:46:27, 336.19s/it]\n",
      "  0%|          | 0/25 [00:00<?, ?it/s]\u001b[A\n",
      "  4%|▍         | 1/25 [00:07<03:02,  7.61s/it]\u001b[A\n",
      "  8%|▊         | 2/25 [00:28<04:26, 11.57s/it]\u001b[A\n",
      " 12%|█▏        | 3/25 [00:35<03:48, 10.36s/it]\u001b[A\n",
      " 16%|█▌        | 4/25 [00:43<03:21,  9.58s/it]\u001b[A\n",
      " 20%|██        | 5/25 [00:51<03:00,  9.01s/it]\u001b[A\n",
      " 24%|██▍       | 6/25 [00:59<02:43,  8.59s/it]\u001b[A\n",
      " 28%|██▊       | 7/25 [01:06<02:30,  8.34s/it]\u001b[A\n",
      " 32%|███▏      | 8/25 [01:14<02:17,  8.12s/it]\u001b[A\n",
      " 36%|███▌      | 9/25 [01:21<02:07,  7.96s/it]\u001b[A\n",
      " 40%|████      | 10/25 [01:29<01:58,  7.90s/it]\u001b[A\n",
      " 44%|████▍     | 11/25 [01:37<01:49,  7.80s/it]\u001b[A\n",
      " 48%|████▊     | 12/25 [01:44<01:40,  7.75s/it]\u001b[A\n",
      " 52%|█████▏    | 13/25 [01:52<01:33,  7.75s/it]\u001b[A\n",
      " 56%|█████▌    | 14/25 [02:10<01:58, 10.79s/it]\u001b[A\n",
      " 60%|██████    | 15/25 [02:27<02:06, 12.62s/it]\u001b[A\n",
      " 64%|██████▍   | 16/25 [02:44<02:05, 13.99s/it]\u001b[A\n",
      " 68%|██████▊   | 17/25 [03:01<01:59, 14.97s/it]\u001b[A\n",
      " 72%|███████▏  | 18/25 [03:19<01:50, 15.79s/it]\u001b[A\n",
      " 76%|███████▌  | 19/25 [03:36<01:37, 16.20s/it]\u001b[A\n",
      " 80%|████████  | 20/25 [03:58<01:28, 17.77s/it]\u001b[A\n",
      " 84%|████████▍ | 21/25 [04:17<01:13, 18.36s/it]\u001b[A\n",
      " 88%|████████▊ | 22/25 [04:37<00:56, 18.72s/it]\u001b[A\n",
      " 92%|█████████▏| 23/25 [04:57<00:38, 19.11s/it]\u001b[A\n",
      " 96%|█████████▌| 24/25 [05:17<00:19, 19.28s/it]\u001b[A"
     ]
    },
    {
     "name": "stderr",
     "output_type": "stream",
     "text": [
      "../topnum/scores/simple_toptok_coherence_score.py:120: UserWarning: The parameter `documents` is not used by SimpleTopTokensCoherenceScore (it is kept for compatibility purposes)\n",
      "  'The parameter `documents` is not used by SimpleTopTokensCoherenceScore'\n"
     ]
    },
    {
     "name": "stdout",
     "output_type": "stream",
     "text": [
      "\n",
      "100%|██████████| 25/25 [05:19<00:00, 12.76s/it]\u001b[A\n",
      " 10%|█         | 2/20 [11:26<1:42:09, 340.53s/it]\n",
      "  0%|          | 0/25 [00:00<?, ?it/s]\u001b[A\n",
      "  4%|▍         | 1/25 [00:07<03:04,  7.67s/it]\u001b[A\n",
      "  8%|▊         | 2/25 [00:28<04:27, 11.61s/it]\u001b[A\n",
      " 12%|█▏        | 3/25 [00:36<03:48, 10.40s/it]\u001b[A\n",
      " 16%|█▌        | 4/25 [00:43<03:21,  9.61s/it]\u001b[A\n",
      " 20%|██        | 5/25 [00:51<03:00,  9.05s/it]\u001b[A\n",
      " 24%|██▍       | 6/25 [00:59<02:43,  8.63s/it]\u001b[A\n",
      " 28%|██▊       | 7/25 [01:07<02:33,  8.51s/it]\u001b[A\n",
      " 32%|███▏      | 8/25 [01:15<02:20,  8.26s/it]\u001b[A\n",
      " 36%|███▌      | 9/25 [01:22<02:09,  8.10s/it]\u001b[A\n",
      " 40%|████      | 10/25 [01:30<01:59,  7.99s/it]\u001b[A\n",
      " 44%|████▍     | 11/25 [01:38<01:50,  7.90s/it]\u001b[A\n",
      " 48%|████▊     | 12/25 [01:45<01:41,  7.81s/it]\u001b[A\n",
      " 52%|█████▏    | 13/25 [01:53<01:33,  7.79s/it]\u001b[A\n",
      " 56%|█████▌    | 14/25 [02:10<01:57, 10.65s/it]\u001b[A\n",
      " 60%|██████    | 15/25 [02:28<02:05, 12.57s/it]\u001b[A\n",
      " 64%|██████▍   | 16/25 [02:45<02:06, 14.03s/it]\u001b[A\n",
      " 68%|██████▊   | 17/25 [03:02<01:59, 15.00s/it]\u001b[A\n",
      " 72%|███████▏  | 18/25 [03:20<01:50, 15.77s/it]\u001b[A\n",
      " 76%|███████▌  | 19/25 [03:37<01:37, 16.29s/it]\u001b[A\n",
      " 80%|████████  | 20/25 [03:58<01:27, 17.55s/it]\u001b[A\n",
      " 84%|████████▍ | 21/25 [04:18<01:13, 18.38s/it]\u001b[A\n",
      " 88%|████████▊ | 22/25 [04:37<00:56, 18.67s/it]\u001b[A\n",
      " 92%|█████████▏| 23/25 [04:57<00:37, 18.86s/it]\u001b[A\n",
      " 96%|█████████▌| 24/25 [05:17<00:19, 19.30s/it]\u001b[A"
     ]
    },
    {
     "name": "stderr",
     "output_type": "stream",
     "text": [
      "../topnum/scores/simple_toptok_coherence_score.py:120: UserWarning: The parameter `documents` is not used by SimpleTopTokensCoherenceScore (it is kept for compatibility purposes)\n",
      "  'The parameter `documents` is not used by SimpleTopTokensCoherenceScore'\n"
     ]
    },
    {
     "name": "stdout",
     "output_type": "stream",
     "text": [
      "\n",
      "100%|██████████| 25/25 [05:19<00:00, 12.78s/it]\u001b[A\n",
      " 15%|█▌        | 3/20 [17:17<1:37:18, 343.45s/it]\n",
      "  0%|          | 0/25 [00:00<?, ?it/s]\u001b[A\n",
      "  4%|▍         | 1/25 [00:07<03:02,  7.59s/it]\u001b[A\n",
      "  8%|▊         | 2/25 [00:28<04:25, 11.54s/it]\u001b[A\n",
      " 12%|█▏        | 3/25 [00:35<03:47, 10.35s/it]\u001b[A\n",
      " 16%|█▌        | 4/25 [00:44<03:26,  9.84s/it]\u001b[A\n",
      " 20%|██        | 5/25 [00:54<03:14,  9.75s/it]\u001b[A\n",
      " 24%|██▍       | 6/25 [01:01<02:53,  9.11s/it]\u001b[A\n",
      " 28%|██▊       | 7/25 [01:09<02:37,  8.75s/it]\u001b[A\n",
      " 32%|███▏      | 8/25 [01:17<02:23,  8.41s/it]\u001b[A\n",
      " 36%|███▌      | 9/25 [01:24<02:10,  8.16s/it]\u001b[A\n",
      " 40%|████      | 10/25 [01:32<02:00,  8.03s/it]\u001b[A\n",
      " 44%|████▍     | 11/25 [01:40<01:50,  7.90s/it]\u001b[A\n",
      " 48%|████▊     | 12/25 [01:47<01:42,  7.85s/it]\u001b[A\n",
      " 52%|█████▏    | 13/25 [01:55<01:34,  7.88s/it]\u001b[A\n",
      " 56%|█████▌    | 14/25 [02:13<01:57, 10.70s/it]\u001b[A\n",
      " 60%|██████    | 15/25 [02:30<02:07, 12.78s/it]\u001b[A\n",
      " 64%|██████▍   | 16/25 [02:48<02:08, 14.32s/it]\u001b[A\n",
      " 68%|██████▊   | 17/25 [03:06<02:02, 15.36s/it]\u001b[A\n",
      " 72%|███████▏  | 18/25 [03:24<01:52, 16.08s/it]\u001b[A\n",
      " 76%|███████▌  | 19/25 [03:42<01:40, 16.69s/it]\u001b[A\n",
      " 80%|████████  | 20/25 [04:03<01:29, 17.99s/it]\u001b[A\n",
      " 84%|████████▍ | 21/25 [04:23<01:14, 18.71s/it]\u001b[A\n",
      " 88%|████████▊ | 22/25 [04:43<00:57, 19.10s/it]\u001b[A\n",
      " 92%|█████████▏| 23/25 [05:03<00:38, 19.41s/it]\u001b[A\n",
      " 96%|█████████▌| 24/25 [05:24<00:19, 19.74s/it]\u001b[A"
     ]
    },
    {
     "name": "stderr",
     "output_type": "stream",
     "text": [
      "../topnum/scores/simple_toptok_coherence_score.py:120: UserWarning: The parameter `documents` is not used by SimpleTopTokensCoherenceScore (it is kept for compatibility purposes)\n",
      "  'The parameter `documents` is not used by SimpleTopTokensCoherenceScore'\n"
     ]
    },
    {
     "name": "stdout",
     "output_type": "stream",
     "text": [
      "\n",
      "100%|██████████| 25/25 [05:26<00:00, 13.05s/it]\u001b[A\n",
      " 20%|██        | 4/20 [23:15<1:32:46, 347.92s/it]\n",
      "  0%|          | 0/25 [00:00<?, ?it/s]\u001b[A\n",
      "  4%|▍         | 1/25 [00:09<03:50,  9.59s/it]\u001b[A\n",
      "  8%|▊         | 2/25 [00:30<05:00, 13.06s/it]\u001b[A\n",
      " 12%|█▏        | 3/25 [00:38<04:10, 11.40s/it]\u001b[A\n",
      " 16%|█▌        | 4/25 [00:46<03:36, 10.31s/it]\u001b[A\n",
      " 20%|██        | 5/25 [00:53<03:09,  9.48s/it]\u001b[A\n",
      " 24%|██▍       | 6/25 [01:01<02:49,  8.94s/it]\u001b[A\n",
      " 28%|██▊       | 7/25 [01:09<02:34,  8.59s/it]\u001b[A\n",
      " 32%|███▏      | 8/25 [01:17<02:25,  8.58s/it]\u001b[A\n",
      " 36%|███▌      | 9/25 [01:26<02:16,  8.53s/it]\u001b[A\n",
      " 40%|████      | 10/25 [01:33<02:05,  8.37s/it]\u001b[A\n",
      " 44%|████▍     | 11/25 [01:41<01:54,  8.20s/it]\u001b[A\n",
      " 48%|████▊     | 12/25 [01:49<01:44,  8.07s/it]\u001b[A\n",
      " 52%|█████▏    | 13/25 [01:58<01:40,  8.38s/it]\u001b[A\n",
      " 56%|█████▌    | 14/25 [02:16<02:03, 11.19s/it]\u001b[A\n",
      " 60%|██████    | 15/25 [02:34<02:11, 13.14s/it]\u001b[A\n",
      " 64%|██████▍   | 16/25 [02:51<02:10, 14.55s/it]\u001b[A\n",
      " 68%|██████▊   | 17/25 [03:09<02:03, 15.49s/it]\u001b[A\n",
      " 72%|███████▏  | 18/25 [03:27<01:52, 16.12s/it]\u001b[A\n",
      " 76%|███████▌  | 19/25 [03:44<01:38, 16.44s/it]\u001b[A\n",
      " 80%|████████  | 20/25 [04:04<01:28, 17.67s/it]\u001b[A\n",
      " 84%|████████▍ | 21/25 [04:25<01:14, 18.54s/it]\u001b[A\n",
      " 88%|████████▊ | 22/25 [04:45<00:56, 18.89s/it]\u001b[A\n",
      " 92%|█████████▏| 23/25 [05:04<00:38, 19.10s/it]\u001b[A\n",
      " 96%|█████████▌| 24/25 [05:24<00:19, 19.42s/it]\u001b[A"
     ]
    },
    {
     "name": "stderr",
     "output_type": "stream",
     "text": [
      "../topnum/scores/simple_toptok_coherence_score.py:120: UserWarning: The parameter `documents` is not used by SimpleTopTokensCoherenceScore (it is kept for compatibility purposes)\n",
      "  'The parameter `documents` is not used by SimpleTopTokensCoherenceScore'\n"
     ]
    },
    {
     "name": "stdout",
     "output_type": "stream",
     "text": [
      "\n",
      "100%|██████████| 25/25 [05:26<00:00, 13.07s/it]\u001b[A\n",
      " 25%|██▌       | 5/20 [29:13<1:27:42, 350.82s/it]\n",
      "  0%|          | 0/25 [00:00<?, ?it/s]\u001b[A\n",
      "  4%|▍         | 1/25 [00:07<03:05,  7.72s/it]\u001b[A\n",
      "  8%|▊         | 2/25 [00:28<04:29, 11.70s/it]\u001b[A\n",
      " 12%|█▏        | 3/25 [00:36<03:50, 10.46s/it]\u001b[A\n",
      " 16%|█▌        | 4/25 [00:44<03:25,  9.77s/it]\u001b[A\n",
      " 20%|██        | 5/25 [00:51<03:01,  9.10s/it]\u001b[A\n",
      " 24%|██▍       | 6/25 [00:59<02:44,  8.65s/it]\u001b[A\n",
      " 28%|██▊       | 7/25 [01:07<02:31,  8.40s/it]\u001b[A\n",
      " 32%|███▏      | 8/25 [01:15<02:19,  8.23s/it]\u001b[A\n",
      " 36%|███▌      | 9/25 [01:23<02:13,  8.32s/it]\u001b[A\n",
      " 40%|████      | 10/25 [01:31<02:02,  8.14s/it]\u001b[A\n",
      " 44%|████▍     | 11/25 [01:40<01:56,  8.34s/it]\u001b[A\n",
      " 48%|████▊     | 12/25 [01:49<01:50,  8.53s/it]\u001b[A\n",
      " 52%|█████▏    | 13/25 [01:57<01:39,  8.31s/it]\u001b[A\n",
      " 56%|█████▌    | 14/25 [02:14<02:01, 11.03s/it]\u001b[A\n",
      " 60%|██████    | 15/25 [02:33<02:15, 13.57s/it]\u001b[A\n",
      " 64%|██████▍   | 16/25 [02:52<02:15, 15.07s/it]\u001b[A\n",
      " 68%|██████▊   | 17/25 [03:09<02:05, 15.69s/it]\u001b[A\n",
      " 72%|███████▏  | 18/25 [03:26<01:52, 16.10s/it]\u001b[A\n",
      " 76%|███████▌  | 19/25 [03:45<01:40, 16.78s/it]\u001b[A\n",
      " 80%|████████  | 20/25 [04:05<01:29, 17.96s/it]\u001b[A\n",
      " 84%|████████▍ | 21/25 [04:26<01:14, 18.69s/it]\u001b[A\n",
      " 88%|████████▊ | 22/25 [04:45<00:56, 18.97s/it]\u001b[A\n",
      " 92%|█████████▏| 23/25 [05:06<00:38, 19.37s/it]\u001b[A\n",
      " 96%|█████████▌| 24/25 [05:26<00:19, 19.70s/it]\u001b[A"
     ]
    },
    {
     "name": "stderr",
     "output_type": "stream",
     "text": [
      "../topnum/scores/simple_toptok_coherence_score.py:120: UserWarning: The parameter `documents` is not used by SimpleTopTokensCoherenceScore (it is kept for compatibility purposes)\n",
      "  'The parameter `documents` is not used by SimpleTopTokensCoherenceScore'\n"
     ]
    },
    {
     "name": "stdout",
     "output_type": "stream",
     "text": [
      "\n",
      "100%|██████████| 25/25 [05:28<00:00, 13.14s/it]\u001b[A\n",
      " 30%|███       | 6/20 [35:12<1:22:25, 353.28s/it]\n",
      "  0%|          | 0/25 [00:00<?, ?it/s]\u001b[A\n",
      "  4%|▍         | 1/25 [00:07<03:01,  7.58s/it]\u001b[A\n",
      "  8%|▊         | 2/25 [00:28<04:28, 11.65s/it]\u001b[A\n",
      " 12%|█▏        | 3/25 [00:37<03:59, 10.89s/it]\u001b[A\n",
      " 16%|█▌        | 4/25 [00:47<03:38, 10.41s/it]\u001b[A\n",
      " 20%|██        | 5/25 [00:56<03:20, 10.02s/it]\u001b[A\n",
      " 24%|██▍       | 6/25 [01:05<03:05,  9.75s/it]\u001b[A\n",
      " 28%|██▊       | 7/25 [01:14<02:52,  9.61s/it]\u001b[A\n",
      " 32%|███▏      | 8/25 [01:23<02:40,  9.47s/it]\u001b[A\n",
      " 36%|███▌      | 9/25 [01:31<02:22,  8.90s/it]\u001b[A\n",
      " 40%|████      | 10/25 [01:39<02:08,  8.56s/it]\u001b[A\n",
      " 44%|████▍     | 11/25 [01:46<01:55,  8.27s/it]\u001b[A\n",
      " 48%|████▊     | 12/25 [01:54<01:44,  8.07s/it]\u001b[A\n",
      " 52%|█████▏    | 13/25 [02:02<01:35,  7.98s/it]\u001b[A\n",
      " 56%|█████▌    | 14/25 [02:19<01:58, 10.78s/it]\u001b[A\n",
      " 60%|██████    | 15/25 [02:36<02:07, 12.80s/it]\u001b[A\n",
      " 64%|██████▍   | 16/25 [02:55<02:10, 14.53s/it]\u001b[A\n",
      " 68%|██████▊   | 17/25 [03:14<02:06, 15.77s/it]\u001b[A\n",
      " 72%|███████▏  | 18/25 [03:31<01:53, 16.22s/it]\u001b[A\n",
      " 76%|███████▌  | 19/25 [03:49<01:40, 16.67s/it]\u001b[A\n",
      " 80%|████████  | 20/25 [04:09<01:29, 17.80s/it]\u001b[A\n",
      " 84%|████████▍ | 21/25 [04:29<01:14, 18.50s/it]\u001b[A\n",
      " 88%|████████▊ | 22/25 [04:49<00:56, 18.77s/it]\u001b[A\n",
      " 92%|█████████▏| 23/25 [05:08<00:37, 18.98s/it]\u001b[A\n",
      " 96%|█████████▌| 24/25 [05:28<00:19, 19.29s/it]\u001b[A"
     ]
    },
    {
     "name": "stderr",
     "output_type": "stream",
     "text": [
      "../topnum/scores/simple_toptok_coherence_score.py:120: UserWarning: The parameter `documents` is not used by SimpleTopTokensCoherenceScore (it is kept for compatibility purposes)\n",
      "  'The parameter `documents` is not used by SimpleTopTokensCoherenceScore'\n"
     ]
    },
    {
     "name": "stdout",
     "output_type": "stream",
     "text": [
      "\n",
      "100%|██████████| 25/25 [05:30<00:00, 13.21s/it]\u001b[A\n",
      " 35%|███▌      | 7/20 [41:12<1:17:01, 355.52s/it]\n",
      "  0%|          | 0/25 [00:00<?, ?it/s]\u001b[A\n",
      "  4%|▍         | 1/25 [00:07<03:03,  7.64s/it]\u001b[A\n",
      "  8%|▊         | 2/25 [00:29<04:30, 11.76s/it]\u001b[A\n",
      " 12%|█▏        | 3/25 [00:38<04:01, 10.97s/it]\u001b[A\n",
      " 16%|█▌        | 4/25 [00:47<03:39, 10.46s/it]\u001b[A\n",
      " 20%|██        | 5/25 [00:55<03:13,  9.69s/it]\u001b[A\n",
      " 24%|██▍       | 6/25 [01:02<02:51,  9.05s/it]\u001b[A\n",
      " 28%|██▊       | 7/25 [01:12<02:44,  9.11s/it]\u001b[A\n",
      " 32%|███▏      | 8/25 [01:20<02:31,  8.89s/it]\u001b[A\n",
      " 36%|███▌      | 9/25 [01:28<02:17,  8.58s/it]\u001b[A\n",
      " 40%|████      | 10/25 [01:36<02:05,  8.36s/it]\u001b[A\n",
      " 44%|████▍     | 11/25 [01:43<01:54,  8.17s/it]\u001b[A\n",
      " 48%|████▊     | 12/25 [01:51<01:44,  8.02s/it]\u001b[A\n",
      " 52%|█████▏    | 13/25 [01:59<01:36,  8.01s/it]\u001b[A\n",
      " 56%|█████▌    | 14/25 [02:16<01:58, 10.79s/it]\u001b[A\n",
      " 60%|██████    | 15/25 [02:34<02:08, 12.88s/it]\u001b[A\n",
      " 64%|██████▍   | 16/25 [02:52<02:09, 14.40s/it]\u001b[A\n",
      " 68%|██████▊   | 17/25 [03:10<02:03, 15.39s/it]\u001b[A\n",
      " 72%|███████▏  | 18/25 [03:27<01:51, 15.93s/it]\u001b[A\n",
      " 76%|███████▌  | 19/25 [03:44<01:38, 16.38s/it]\u001b[A\n",
      " 80%|████████  | 20/25 [04:05<01:28, 17.67s/it]\u001b[A\n",
      " 84%|████████▍ | 21/25 [04:27<01:15, 18.82s/it]\u001b[A\n",
      " 88%|████████▊ | 22/25 [04:47<00:57, 19.17s/it]\u001b[A\n",
      " 92%|█████████▏| 23/25 [05:06<00:38, 19.27s/it]\u001b[A\n",
      " 96%|█████████▌| 24/25 [05:26<00:19, 19.50s/it]\u001b[A"
     ]
    },
    {
     "name": "stderr",
     "output_type": "stream",
     "text": [
      "../topnum/scores/simple_toptok_coherence_score.py:120: UserWarning: The parameter `documents` is not used by SimpleTopTokensCoherenceScore (it is kept for compatibility purposes)\n",
      "  'The parameter `documents` is not used by SimpleTopTokensCoherenceScore'\n"
     ]
    },
    {
     "name": "stdout",
     "output_type": "stream",
     "text": [
      "\n",
      "100%|██████████| 25/25 [05:28<00:00, 13.13s/it]\u001b[A\n",
      " 40%|████      | 8/20 [47:11<1:11:17, 356.44s/it]\n",
      "  0%|          | 0/25 [00:00<?, ?it/s]\u001b[A\n",
      "  4%|▍         | 1/25 [00:07<03:01,  7.56s/it]\u001b[A\n",
      "  8%|▊         | 2/25 [00:28<04:25, 11.53s/it]\u001b[A\n",
      " 12%|█▏        | 3/25 [00:35<03:47, 10.34s/it]\u001b[A\n",
      " 16%|█▌        | 4/25 [00:43<03:20,  9.56s/it]\u001b[A\n",
      " 20%|██        | 5/25 [00:51<02:59,  8.95s/it]\u001b[A\n",
      " 24%|██▍       | 6/25 [00:59<02:43,  8.62s/it]\u001b[A\n",
      " 28%|██▊       | 7/25 [01:07<02:31,  8.44s/it]\u001b[A\n",
      " 32%|███▏      | 8/25 [01:14<02:19,  8.20s/it]\u001b[A\n",
      " 36%|███▌      | 9/25 [01:22<02:08,  8.02s/it]\u001b[A\n",
      " 40%|████      | 10/25 [01:30<01:59,  7.94s/it]\u001b[A\n",
      " 44%|████▍     | 11/25 [01:37<01:49,  7.83s/it]\u001b[A\n",
      " 48%|████▊     | 12/25 [01:45<01:40,  7.76s/it]\u001b[A\n",
      " 52%|█████▏    | 13/25 [01:52<01:33,  7.75s/it]\u001b[A\n",
      " 56%|█████▌    | 14/25 [02:09<01:55, 10.52s/it]\u001b[A\n",
      " 60%|██████    | 15/25 [02:27<02:04, 12.49s/it]\u001b[A\n",
      " 64%|██████▍   | 16/25 [02:45<02:07, 14.17s/it]\u001b[A\n",
      " 68%|██████▊   | 17/25 [03:02<02:01, 15.16s/it]\u001b[A\n",
      " 72%|███████▏  | 18/25 [03:19<01:49, 15.66s/it]\u001b[A\n",
      " 76%|███████▌  | 19/25 [03:37<01:38, 16.48s/it]\u001b[A\n",
      " 80%|████████  | 20/25 [03:58<01:28, 17.72s/it]\u001b[A\n",
      " 84%|████████▍ | 21/25 [04:18<01:13, 18.44s/it]\u001b[A\n",
      " 88%|████████▊ | 22/25 [04:37<00:56, 18.73s/it]\u001b[A\n",
      " 92%|█████████▏| 23/25 [04:57<00:37, 18.94s/it]\u001b[A\n",
      " 96%|█████████▌| 24/25 [05:17<00:19, 19.31s/it]\u001b[A"
     ]
    },
    {
     "name": "stderr",
     "output_type": "stream",
     "text": [
      "../topnum/scores/simple_toptok_coherence_score.py:120: UserWarning: The parameter `documents` is not used by SimpleTopTokensCoherenceScore (it is kept for compatibility purposes)\n",
      "  'The parameter `documents` is not used by SimpleTopTokensCoherenceScore'\n"
     ]
    },
    {
     "name": "stdout",
     "output_type": "stream",
     "text": [
      "\n",
      "100%|██████████| 25/25 [05:19<00:00, 12.77s/it]\u001b[A\n",
      " 45%|████▌     | 9/20 [53:01<1:04:59, 354.46s/it]\n",
      "  0%|          | 0/25 [00:00<?, ?it/s]\u001b[A\n",
      "  4%|▍         | 1/25 [00:07<03:07,  7.82s/it]\u001b[A\n",
      "  8%|▊         | 2/25 [00:29<04:32, 11.86s/it]\u001b[A\n",
      " 12%|█▏        | 3/25 [00:36<03:54, 10.66s/it]\u001b[A\n",
      " 16%|█▌        | 4/25 [00:44<03:27,  9.87s/it]\u001b[A\n",
      " 20%|██        | 5/25 [00:52<03:04,  9.21s/it]\u001b[A\n",
      " 24%|██▍       | 6/25 [01:00<02:46,  8.77s/it]\u001b[A\n",
      " 28%|██▊       | 7/25 [01:08<02:32,  8.45s/it]\u001b[A\n",
      " 32%|███▏      | 8/25 [01:15<02:18,  8.17s/it]\u001b[A\n",
      " 36%|███▌      | 9/25 [01:23<02:08,  8.02s/it]\u001b[A\n",
      " 40%|████      | 10/25 [01:31<01:59,  7.98s/it]\u001b[A\n",
      " 44%|████▍     | 11/25 [01:38<01:50,  7.88s/it]\u001b[A\n",
      " 48%|████▊     | 12/25 [01:46<01:41,  7.79s/it]\u001b[A\n",
      " 52%|█████▏    | 13/25 [01:54<01:33,  7.78s/it]\u001b[A\n",
      " 56%|█████▌    | 14/25 [02:11<01:56, 10.57s/it]\u001b[A\n",
      " 60%|██████    | 15/25 [02:28<02:05, 12.53s/it]\u001b[A\n",
      " 64%|██████▍   | 16/25 [02:45<02:05, 13.96s/it]\u001b[A\n",
      " 68%|██████▊   | 17/25 [03:02<01:59, 14.91s/it]\u001b[A\n",
      " 72%|███████▏  | 18/25 [03:19<01:48, 15.53s/it]\u001b[A\n",
      " 76%|███████▌  | 19/25 [03:36<01:36, 16.03s/it]\u001b[A\n",
      " 80%|████████  | 20/25 [03:57<01:27, 17.48s/it]\u001b[A\n",
      " 84%|████████▍ | 21/25 [04:17<01:13, 18.26s/it]\u001b[A\n",
      " 88%|████████▊ | 22/25 [04:37<00:55, 18.60s/it]\u001b[A\n",
      " 92%|█████████▏| 23/25 [04:57<00:37, 18.95s/it]\u001b[A\n",
      " 96%|█████████▌| 24/25 [05:17<00:19, 19.36s/it]\u001b[A"
     ]
    },
    {
     "name": "stderr",
     "output_type": "stream",
     "text": [
      "../topnum/scores/simple_toptok_coherence_score.py:120: UserWarning: The parameter `documents` is not used by SimpleTopTokensCoherenceScore (it is kept for compatibility purposes)\n",
      "  'The parameter `documents` is not used by SimpleTopTokensCoherenceScore'\n"
     ]
    },
    {
     "name": "stdout",
     "output_type": "stream",
     "text": [
      "\n",
      "100%|██████████| 25/25 [05:19<00:00, 12.77s/it]\u001b[A\n",
      " 50%|█████     | 10/20 [58:51<58:52, 353.25s/it] \n",
      "  0%|          | 0/25 [00:00<?, ?it/s]\u001b[A\n",
      "  4%|▍         | 1/25 [00:07<03:01,  7.58s/it]\u001b[A\n",
      "  8%|▊         | 2/25 [00:28<04:26, 11.58s/it]\u001b[A\n",
      " 12%|█▏        | 3/25 [00:36<03:48, 10.40s/it]\u001b[A\n",
      " 16%|█▌        | 4/25 [00:43<03:21,  9.61s/it]\u001b[A\n",
      " 20%|██        | 5/25 [00:51<03:00,  9.01s/it]\u001b[A\n",
      " 24%|██▍       | 6/25 [00:59<02:43,  8.59s/it]\u001b[A\n",
      " 28%|██▊       | 7/25 [01:07<02:34,  8.60s/it]\u001b[A\n",
      " 32%|███▏      | 8/25 [01:16<02:28,  8.75s/it]\u001b[A\n",
      " 36%|███▌      | 9/25 [01:26<02:22,  8.88s/it]\u001b[A\n",
      " 40%|████      | 10/25 [01:35<02:14,  9.00s/it]\u001b[A\n",
      " 44%|████▍     | 11/25 [01:42<02:00,  8.57s/it]\u001b[A\n",
      " 48%|████▊     | 12/25 [01:50<01:48,  8.37s/it]\u001b[A\n",
      " 52%|█████▏    | 13/25 [02:00<01:43,  8.65s/it]\u001b[A\n",
      " 56%|█████▌    | 14/25 [02:18<02:08, 11.65s/it]\u001b[A\n",
      " 60%|██████    | 15/25 [02:37<02:16, 13.68s/it]\u001b[A\n",
      " 64%|██████▍   | 16/25 [02:56<02:19, 15.45s/it]\u001b[A\n",
      " 68%|██████▊   | 17/25 [03:14<02:08, 16.07s/it]\u001b[A\n",
      " 72%|███████▏  | 18/25 [03:31<01:55, 16.48s/it]\u001b[A\n",
      " 76%|███████▌  | 19/25 [03:50<01:42, 17.05s/it]\u001b[A\n",
      " 80%|████████  | 20/25 [04:10<01:30, 18.19s/it]\u001b[A\n",
      " 84%|████████▍ | 21/25 [04:31<01:15, 18.82s/it]\u001b[A\n",
      " 88%|████████▊ | 22/25 [04:50<00:57, 19.03s/it]\u001b[A\n",
      " 92%|█████████▏| 23/25 [05:10<00:38, 19.14s/it]\u001b[A\n",
      " 96%|█████████▌| 24/25 [05:30<00:19, 19.42s/it]\u001b[A"
     ]
    },
    {
     "name": "stderr",
     "output_type": "stream",
     "text": [
      "../topnum/scores/simple_toptok_coherence_score.py:120: UserWarning: The parameter `documents` is not used by SimpleTopTokensCoherenceScore (it is kept for compatibility purposes)\n",
      "  'The parameter `documents` is not used by SimpleTopTokensCoherenceScore'\n"
     ]
    },
    {
     "name": "stdout",
     "output_type": "stream",
     "text": [
      "\n",
      "100%|██████████| 25/25 [05:31<00:00, 13.28s/it]\u001b[A\n",
      " 55%|█████▌    | 11/20 [1:04:54<53:24, 356.08s/it]\n",
      "  0%|          | 0/25 [00:00<?, ?it/s]\u001b[A\n",
      "  4%|▍         | 1/25 [00:07<03:01,  7.54s/it]\u001b[A\n",
      "  8%|▊         | 2/25 [00:28<04:26, 11.61s/it]\u001b[A\n",
      " 12%|█▏        | 3/25 [00:36<03:48, 10.39s/it]\u001b[A\n",
      " 16%|█▌        | 4/25 [00:43<03:21,  9.59s/it]\u001b[A\n",
      " 20%|██        | 5/25 [00:51<02:59,  8.98s/it]\u001b[A\n",
      " 24%|██▍       | 6/25 [00:58<02:42,  8.54s/it]\u001b[A\n",
      " 28%|██▊       | 7/25 [01:06<02:29,  8.28s/it]\u001b[A\n",
      " 32%|███▏      | 8/25 [01:14<02:17,  8.08s/it]\u001b[A\n",
      " 36%|███▌      | 9/25 [01:21<02:06,  7.92s/it]\u001b[A\n",
      " 40%|████      | 10/25 [01:29<01:57,  7.86s/it]\u001b[A\n",
      " 44%|████▍     | 11/25 [01:37<01:50,  7.92s/it]\u001b[A\n",
      " 48%|████▊     | 12/25 [01:45<01:43,  7.96s/it]\u001b[A\n",
      " 52%|█████▏    | 13/25 [01:54<01:37,  8.13s/it]\u001b[A\n",
      " 56%|█████▌    | 14/25 [02:11<02:00, 10.91s/it]\u001b[A\n",
      " 60%|██████    | 15/25 [02:29<02:08, 12.87s/it]\u001b[A\n",
      " 64%|██████▍   | 16/25 [02:46<02:08, 14.33s/it]\u001b[A\n",
      " 68%|██████▊   | 17/25 [03:03<02:01, 15.14s/it]\u001b[A\n",
      " 72%|███████▏  | 18/25 [03:21<01:51, 15.86s/it]\u001b[A\n",
      " 76%|███████▌  | 19/25 [03:38<01:38, 16.39s/it]\u001b[A\n",
      " 80%|████████  | 20/25 [04:00<01:28, 17.79s/it]\u001b[A\n",
      " 84%|████████▍ | 21/25 [04:20<01:14, 18.72s/it]\u001b[A\n",
      " 88%|████████▊ | 22/25 [04:41<00:57, 19.15s/it]\u001b[A\n",
      " 92%|█████████▏| 23/25 [05:00<00:38, 19.25s/it]\u001b[A\n",
      " 96%|█████████▌| 24/25 [05:20<00:19, 19.54s/it]\u001b[A"
     ]
    },
    {
     "name": "stderr",
     "output_type": "stream",
     "text": [
      "../topnum/scores/simple_toptok_coherence_score.py:120: UserWarning: The parameter `documents` is not used by SimpleTopTokensCoherenceScore (it is kept for compatibility purposes)\n",
      "  'The parameter `documents` is not used by SimpleTopTokensCoherenceScore'\n"
     ]
    },
    {
     "name": "stdout",
     "output_type": "stream",
     "text": [
      "\n",
      "100%|██████████| 25/25 [05:22<00:00, 12.91s/it]\u001b[A\n",
      " 60%|██████    | 12/20 [1:10:47<47:20, 355.08s/it]\n",
      "  0%|          | 0/25 [00:00<?, ?it/s]\u001b[A\n",
      "  4%|▍         | 1/25 [00:07<03:04,  7.70s/it]\u001b[A\n",
      "  8%|▊         | 2/25 [00:29<04:31, 11.79s/it]\u001b[A\n",
      " 12%|█▏        | 3/25 [00:36<03:51, 10.50s/it]\u001b[A\n",
      " 16%|█▌        | 4/25 [00:44<03:22,  9.65s/it]\u001b[A\n",
      " 20%|██        | 5/25 [00:52<03:02,  9.13s/it]\u001b[A\n",
      " 24%|██▍       | 6/25 [01:00<02:46,  8.76s/it]\u001b[A\n",
      " 28%|██▊       | 7/25 [01:07<02:31,  8.43s/it]\u001b[A\n",
      " 32%|███▏      | 8/25 [01:15<02:20,  8.24s/it]\u001b[A\n",
      " 36%|███▌      | 9/25 [01:23<02:09,  8.10s/it]\u001b[A\n",
      " 40%|████      | 10/25 [01:31<02:01,  8.07s/it]\u001b[A\n",
      " 44%|████▍     | 11/25 [01:39<01:51,  7.98s/it]\u001b[A\n",
      " 48%|████▊     | 12/25 [01:46<01:42,  7.87s/it]\u001b[A\n",
      " 52%|█████▏    | 13/25 [01:54<01:33,  7.83s/it]\u001b[A\n",
      " 56%|█████▌    | 14/25 [02:11<01:56, 10.60s/it]\u001b[A\n",
      " 60%|██████    | 15/25 [02:28<02:05, 12.56s/it]\u001b[A\n",
      " 64%|██████▍   | 16/25 [02:45<02:06, 14.00s/it]\u001b[A\n",
      " 68%|██████▊   | 17/25 [03:04<02:01, 15.22s/it]\u001b[A"
     ]
    }
   ],
   "source": [
    "%%time\n",
    "\n",
    "optimizer.search_for_optimum(dataset)"
   ]
  },
  {
   "cell_type": "code",
   "execution_count": 59,
   "metadata": {},
   "outputs": [
    {
     "name": "stdout",
     "output_type": "stream",
     "text": [
      "  0%|          | 0/20 [00:00<?, ?it/s]\n",
      "  0%|          | 0/25 [00:00<?, ?it/s]\u001b[A\n",
      "  4%|▍         | 1/25 [02:18<55:24, 138.52s/it]\u001b[A\n",
      "  8%|▊         | 2/25 [08:28<1:19:45, 208.09s/it]\u001b[A\n",
      " 12%|█▏        | 3/25 [10:46<1:08:31, 186.87s/it]\u001b[A\n",
      " 16%|█▌        | 4/25 [13:03<1:00:11, 171.96s/it]\u001b[A\n",
      " 20%|██        | 5/25 [15:21<53:58, 161.93s/it]  \u001b[A\n",
      " 24%|██▍       | 6/25 [17:38<48:54, 154.45s/it]\u001b[A\n",
      " 28%|██▊       | 7/25 [19:55<44:44, 149.13s/it]\u001b[A\n",
      " 32%|███▏      | 8/25 [22:13<41:15, 145.60s/it]\u001b[A\n",
      " 36%|███▌      | 9/25 [24:34<38:29, 144.35s/it]\u001b[A\n",
      " 40%|████      | 10/25 [27:20<37:42, 150.81s/it]\u001b[A\n",
      " 44%|████▍     | 11/25 [29:39<34:23, 147.37s/it]\u001b[A\n",
      " 48%|████▊     | 12/25 [31:56<31:15, 144.25s/it]\u001b[A\n",
      " 52%|█████▏    | 13/25 [34:14<28:27, 142.25s/it]\u001b[A\n",
      " 56%|█████▌    | 14/25 [39:27<35:30, 193.64s/it]\u001b[A\n",
      " 60%|██████    | 15/25 [44:44<38:26, 230.69s/it]\u001b[A\n",
      " 64%|██████▍   | 16/25 [49:59<38:22, 255.84s/it]\u001b[A\n",
      " 68%|██████▊   | 17/25 [55:13<36:26, 273.28s/it]\u001b[A\n",
      " 72%|███████▏  | 18/25 [1:00:28<33:19, 285.67s/it]\u001b[A\n",
      " 76%|███████▌  | 19/25 [1:05:41<29:24, 294.02s/it]\u001b[A\n",
      " 80%|████████  | 20/25 [1:11:49<26:21, 316.24s/it]\u001b[A\n",
      " 84%|████████▍ | 21/25 [1:17:54<22:03, 330.90s/it]\u001b[A\n",
      " 88%|████████▊ | 22/25 [1:23:56<17:00, 340.03s/it]\u001b[A\n",
      " 92%|█████████▏| 23/25 [1:29:55<11:31, 345.98s/it]\u001b[A\n",
      " 96%|█████████▌| 24/25 [1:35:57<03:59, 239.91s/it]\u001b[A\n",
      "  0%|          | 0/20 [1:38:22<?, ?it/s]\n"
     ]
    },
    {
     "ename": "NotImplementedError",
     "evalue": "",
     "output_type": "error",
     "traceback": [
      "\u001b[0;31m---------------------------------------------------------------------------\u001b[0m",
      "\u001b[0;31mNotImplementedError\u001b[0m                       Traceback (most recent call last)",
      "\u001b[0;32m<timed eval>\u001b[0m in \u001b[0;36m<module>\u001b[0;34m\u001b[0m\n",
      "\u001b[0;32m~/OptimalNumberOfTopics/topnum/search_methods/topic_bank/topic_bank_method.py\u001b[0m in \u001b[0;36msearch_for_optimum\u001b[0;34m(self, text_collection)\u001b[0m\n\u001b[1;32m    318\u001b[0m             raw_topic_scores = self._compute_raw_topic_scores(\n\u001b[1;32m    319\u001b[0m                 \u001b[0mtopic_model\u001b[0m\u001b[0;34m,\u001b[0m\u001b[0;34m\u001b[0m\u001b[0;34m\u001b[0m\u001b[0m\n\u001b[0;32m--> 320\u001b[0;31m                 \u001b[0mdocuments_for_coherence\u001b[0m\u001b[0;34m\u001b[0m\u001b[0;34m\u001b[0m\u001b[0m\n\u001b[0m\u001b[1;32m    321\u001b[0m             )\n\u001b[1;32m    322\u001b[0m \u001b[0;34m\u001b[0m\u001b[0m\n",
      "\u001b[0;32m~/OptimalNumberOfTopics/topnum/search_methods/topic_bank/topic_bank_method.py\u001b[0m in \u001b[0;36m_compute_raw_topic_scores\u001b[0;34m(self, topic_model, documents)\u001b[0m\n\u001b[1;32m    729\u001b[0m         \u001b[0;32mfor\u001b[0m \u001b[0mscore\u001b[0m \u001b[0;32min\u001b[0m \u001b[0mall_topic_scores_range\u001b[0m\u001b[0;34m:\u001b[0m\u001b[0;34m\u001b[0m\u001b[0;34m\u001b[0m\u001b[0m\n\u001b[1;32m    730\u001b[0m             \u001b[0mscore_name\u001b[0m \u001b[0;34m=\u001b[0m \u001b[0mscore\u001b[0m\u001b[0;34m.\u001b[0m\u001b[0mname\u001b[0m\u001b[0;34m\u001b[0m\u001b[0;34m\u001b[0m\u001b[0m\n\u001b[0;32m--> 731\u001b[0;31m             \u001b[0mscore_values\u001b[0m\u001b[0;34m[\u001b[0m\u001b[0mscore_name\u001b[0m\u001b[0;34m]\u001b[0m \u001b[0;34m=\u001b[0m \u001b[0mscore\u001b[0m\u001b[0;34m.\u001b[0m\u001b[0mcompute\u001b[0m\u001b[0;34m(\u001b[0m\u001b[0mtopic_model\u001b[0m\u001b[0;34m,\u001b[0m \u001b[0mdocuments\u001b[0m\u001b[0;34m=\u001b[0m\u001b[0mdocuments\u001b[0m\u001b[0;34m)\u001b[0m\u001b[0;34m\u001b[0m\u001b[0;34m\u001b[0m\u001b[0m\n\u001b[0m\u001b[1;32m    732\u001b[0m \u001b[0;34m\u001b[0m\u001b[0m\n\u001b[1;32m    733\u001b[0m         \u001b[0;32mreturn\u001b[0m \u001b[0mscore_values\u001b[0m\u001b[0;34m\u001b[0m\u001b[0;34m\u001b[0m\u001b[0m\n",
      "\u001b[0;32m~/OptimalNumberOfTopics/topnum/scores/base_topic_score.py\u001b[0m in \u001b[0;36mcompute\u001b[0;34m(self, model, topics, documents)\u001b[0m\n\u001b[1;32m     22\u001b[0m             documents: List[str] = None) -> Dict[str, float]:\n\u001b[1;32m     23\u001b[0m \u001b[0;34m\u001b[0m\u001b[0m\n\u001b[0;32m---> 24\u001b[0;31m         \u001b[0;32mraise\u001b[0m \u001b[0mNotImplementedError\u001b[0m\u001b[0;34m(\u001b[0m\u001b[0;34m)\u001b[0m\u001b[0;34m\u001b[0m\u001b[0;34m\u001b[0m\u001b[0m\n\u001b[0m",
      "\u001b[0;31mNotImplementedError\u001b[0m: "
     ]
    }
   ],
   "source": [
    "%%time\n",
    "\n",
    "optimizer.search_for_optimum(dataset)"
   ]
  },
  {
   "cell_type": "code",
   "execution_count": null,
   "metadata": {},
   "outputs": [
    {
     "name": "stdout",
     "output_type": "stream",
     "text": [
      "  0%|          | 0/20 [00:00<?, ?it/s]\n",
      "  0%|          | 0/25 [00:00<?, ?it/s]\u001b[A\n",
      "  4%|▍         | 1/25 [02:22<56:54, 142.27s/it]\u001b[A\n",
      "  8%|▊         | 2/25 [08:47<1:22:29, 215.21s/it]\u001b[A\n",
      " 12%|█▏        | 3/25 [11:07<1:10:38, 192.66s/it]\u001b[A\n",
      " 16%|█▌        | 4/25 [13:27<1:01:55, 176.91s/it]\u001b[A\n",
      " 20%|██        | 5/25 [15:48<55:22, 166.11s/it]  \u001b[A\n",
      " 24%|██▍       | 6/25 [18:09<50:12, 158.54s/it]\u001b[A\n",
      " 28%|██▊       | 7/25 [20:30<46:00, 153.38s/it]\u001b[A\n",
      " 32%|███▏      | 8/25 [22:51<42:20, 149.46s/it]\u001b[A\n",
      " 36%|███▌      | 9/25 [25:12<39:11, 146.96s/it]\u001b[A\n",
      " 40%|████      | 10/25 [27:32<36:13, 144.89s/it]\u001b[A\n",
      " 44%|████▍     | 11/25 [29:53<33:30, 143.58s/it]\u001b[A\n",
      " 48%|████▊     | 12/25 [32:14<30:58, 142.96s/it]\u001b[A\n",
      " 52%|█████▏    | 13/25 [34:35<28:26, 142.21s/it]\u001b[A\n",
      " 56%|█████▌    | 14/25 [39:55<35:52, 195.69s/it]\u001b[A\n",
      " 60%|██████    | 15/25 [45:15<38:51, 233.13s/it]\u001b[A\n",
      " 64%|██████▍   | 16/25 [50:36<38:55, 259.46s/it]\u001b[A\n",
      " 68%|██████▊   | 17/25 [56:05<37:21, 280.25s/it]\u001b[A\n",
      " 72%|███████▏  | 18/25 [1:01:25<34:05, 292.15s/it]\u001b[A"
     ]
    }
   ],
   "source": [
    "%%time\n",
    "\n",
    "optimizer.search_for_optimum(dataset)"
   ]
  },
  {
   "cell_type": "code",
   "execution_count": 185,
   "metadata": {},
   "outputs": [
    {
     "name": "stdout",
     "output_type": "stream",
     "text": [
      "  0%|          | 0/20 [00:00<?, ?it/s]\n",
      "  0%|          | 0/32 [00:00<?, ?it/s]\u001b[A\n",
      "  3%|▎         | 1/32 [01:58<1:01:22, 118.79s/it]\u001b[A\n",
      "  6%|▋         | 2/32 [07:21<1:29:55, 179.86s/it]\u001b[A\n",
      "  9%|▉         | 3/32 [09:22<1:18:30, 162.44s/it]\u001b[A\n",
      " 12%|█▎        | 4/32 [11:21<1:09:39, 149.25s/it]\u001b[A\n",
      " 16%|█▌        | 5/32 [13:20<1:03:05, 140.20s/it]\u001b[A\n",
      " 19%|█▉        | 6/32 [15:19<57:57, 133.74s/it]  \u001b[A\n",
      " 22%|██▏       | 7/32 [17:17<53:50, 129.22s/it]\u001b[A\n",
      " 25%|██▌       | 8/32 [19:16<50:22, 125.94s/it]\u001b[A\n",
      " 28%|██▊       | 9/32 [21:14<47:26, 123.76s/it]\u001b[A\n",
      " 31%|███▏      | 10/32 [23:13<44:49, 122.24s/it]\u001b[A\n",
      " 34%|███▍      | 11/32 [25:11<42:20, 120.96s/it]\u001b[A\n",
      " 38%|███▊      | 12/32 [27:09<39:58, 119.93s/it]\u001b[A\n",
      " 41%|████      | 13/32 [29:07<37:49, 119.45s/it]\u001b[A\n",
      " 44%|████▍     | 14/32 [33:29<48:43, 162.41s/it]\u001b[A\n",
      " 47%|████▋     | 15/32 [37:50<54:23, 191.95s/it]\u001b[A\n",
      " 50%|█████     | 16/32 [42:18<57:12, 214.56s/it]\u001b[A\n",
      " 53%|█████▎    | 17/32 [46:42<57:22, 229.50s/it]\u001b[A\n",
      " 56%|█████▋    | 18/32 [51:06<55:55, 239.69s/it]\u001b[A\n",
      " 59%|█████▉    | 19/32 [55:35<53:53, 248.70s/it]\u001b[A\n",
      " 62%|██████▎   | 20/32 [1:00:58<54:12, 271.00s/it]\u001b[A\n",
      " 66%|██████▌   | 21/32 [1:06:15<52:13, 284.82s/it]\u001b[A\n",
      " 69%|██████▉   | 22/32 [1:11:28<48:50, 293.09s/it]\u001b[A\n",
      " 72%|███████▏  | 23/32 [1:19:18<31:01, 206.88s/it]\u001b[A\n",
      "  0%|          | 0/20 [1:21:46<?, ?it/s]\n"
     ]
    },
    {
     "ename": "KeyboardInterrupt",
     "evalue": "",
     "output_type": "error",
     "traceback": [
      "\u001b[0;31m---------------------------------------------------------------------------\u001b[0m",
      "\u001b[0;31mKeyboardInterrupt\u001b[0m                         Traceback (most recent call last)",
      "\u001b[0;32m<timed eval>\u001b[0m in \u001b[0;36m<module>\u001b[0;34m\u001b[0m\n",
      "\u001b[0;32m~/OptimalNumberOfTopics/topnum/search_methods/topic_bank/topic_bank_method.py\u001b[0m in \u001b[0;36msearch_for_optimum\u001b[0;34m(self, text_collection)\u001b[0m\n\u001b[1;32m    318\u001b[0m             raw_topic_scores = self._compute_raw_topic_scores(\n\u001b[1;32m    319\u001b[0m                 \u001b[0mtopic_model\u001b[0m\u001b[0;34m,\u001b[0m\u001b[0;34m\u001b[0m\u001b[0;34m\u001b[0m\u001b[0m\n\u001b[0;32m--> 320\u001b[0;31m                 \u001b[0mdocuments_for_coherence\u001b[0m\u001b[0;34m\u001b[0m\u001b[0;34m\u001b[0m\u001b[0m\n\u001b[0m\u001b[1;32m    321\u001b[0m             )\n\u001b[1;32m    322\u001b[0m \u001b[0;34m\u001b[0m\u001b[0m\n",
      "\u001b[0;32m~/OptimalNumberOfTopics/topnum/search_methods/topic_bank/topic_bank_method.py\u001b[0m in \u001b[0;36m_compute_raw_topic_scores\u001b[0;34m(self, topic_model, documents)\u001b[0m\n\u001b[1;32m    729\u001b[0m         \u001b[0;32mfor\u001b[0m \u001b[0mscore\u001b[0m \u001b[0;32min\u001b[0m \u001b[0mall_topic_scores_range\u001b[0m\u001b[0;34m:\u001b[0m\u001b[0;34m\u001b[0m\u001b[0;34m\u001b[0m\u001b[0m\n\u001b[1;32m    730\u001b[0m             \u001b[0mscore_name\u001b[0m \u001b[0;34m=\u001b[0m \u001b[0mscore\u001b[0m\u001b[0;34m.\u001b[0m\u001b[0mname\u001b[0m\u001b[0;34m\u001b[0m\u001b[0;34m\u001b[0m\u001b[0m\n\u001b[0;32m--> 731\u001b[0;31m             \u001b[0mscore_values\u001b[0m\u001b[0;34m[\u001b[0m\u001b[0mscore_name\u001b[0m\u001b[0;34m]\u001b[0m \u001b[0;34m=\u001b[0m \u001b[0mscore\u001b[0m\u001b[0;34m.\u001b[0m\u001b[0mcompute\u001b[0m\u001b[0;34m(\u001b[0m\u001b[0mtopic_model\u001b[0m\u001b[0;34m,\u001b[0m \u001b[0mdocuments\u001b[0m\u001b[0;34m=\u001b[0m\u001b[0mdocuments\u001b[0m\u001b[0;34m)\u001b[0m\u001b[0;34m\u001b[0m\u001b[0;34m\u001b[0m\u001b[0m\n\u001b[0m\u001b[1;32m    732\u001b[0m \u001b[0;34m\u001b[0m\u001b[0m\n\u001b[1;32m    733\u001b[0m         \u001b[0;32mreturn\u001b[0m \u001b[0mscore_values\u001b[0m\u001b[0;34m\u001b[0m\u001b[0;34m\u001b[0m\u001b[0m\n",
      "\u001b[0;32m~/OptimalNumberOfTopics/topnum/scores/sophisticated_toptok_coherence_score.py\u001b[0m in \u001b[0;36mcompute\u001b[0;34m(self, model, topics, documents)\u001b[0m\n\u001b[1;32m    122\u001b[0m             documents: List[str] = None) -> Dict[str, float]:\n\u001b[1;32m    123\u001b[0m \u001b[0;34m\u001b[0m\u001b[0m\n\u001b[0;32m--> 124\u001b[0;31m         \u001b[0;32mreturn\u001b[0m \u001b[0mself\u001b[0m\u001b[0;34m.\u001b[0m\u001b[0m_score\u001b[0m\u001b[0;34m.\u001b[0m\u001b[0mcompute\u001b[0m\u001b[0;34m(\u001b[0m\u001b[0mmodel\u001b[0m\u001b[0;34m,\u001b[0m \u001b[0mtopics\u001b[0m\u001b[0;34m,\u001b[0m \u001b[0mdocuments\u001b[0m\u001b[0;34m)\u001b[0m\u001b[0;34m\u001b[0m\u001b[0;34m\u001b[0m\u001b[0m\n\u001b[0m\u001b[1;32m    125\u001b[0m \u001b[0;34m\u001b[0m\u001b[0m\n\u001b[1;32m    126\u001b[0m \u001b[0;34m\u001b[0m\u001b[0m\n",
      "\u001b[0;32m~/OptimalNumberOfTopics/topnum/scores/_base_coherence_score.py\u001b[0m in \u001b[0;36mcompute\u001b[0;34m(self, model, topics, documents)\u001b[0m\n\u001b[1;32m    181\u001b[0m                 \u001b[0;31m# TODO: read document text only once for all topics\u001b[0m\u001b[0;34m\u001b[0m\u001b[0;34m\u001b[0m\u001b[0;34m\u001b[0m\u001b[0m\n\u001b[1;32m    182\u001b[0m                 topic_coherence = self._compute_coherence(\n\u001b[0;32m--> 183\u001b[0;31m                     topic, document, word_topic_relatednesses)\n\u001b[0m\u001b[1;32m    184\u001b[0m \u001b[0;34m\u001b[0m\u001b[0m\n\u001b[1;32m    185\u001b[0m                 \u001b[0;32mif\u001b[0m \u001b[0mtopic_coherence\u001b[0m \u001b[0;32mis\u001b[0m \u001b[0;32mnot\u001b[0m \u001b[0;32mNone\u001b[0m\u001b[0;34m:\u001b[0m\u001b[0;34m\u001b[0m\u001b[0;34m\u001b[0m\u001b[0m\n",
      "\u001b[0;32m~/OptimalNumberOfTopics/topnum/scores/sophisticated_toptok_coherence_score.py\u001b[0m in \u001b[0;36m_compute_coherence\u001b[0;34m(self, topic, document, word_topic_relatednesses)\u001b[0m\n\u001b[1;32m    204\u001b[0m         \u001b[0mdocument_words\u001b[0m \u001b[0;34m=\u001b[0m \u001b[0mself\u001b[0m\u001b[0;34m.\u001b[0m\u001b[0m_get_words\u001b[0m\u001b[0;34m(\u001b[0m\u001b[0mdocument\u001b[0m\u001b[0;34m)\u001b[0m\u001b[0;34m\u001b[0m\u001b[0;34m\u001b[0m\u001b[0m\n\u001b[1;32m    205\u001b[0m         \u001b[0mtop_words\u001b[0m \u001b[0;34m=\u001b[0m \u001b[0mself\u001b[0m\u001b[0;34m.\u001b[0m\u001b[0m_get_top_words\u001b[0m\u001b[0;34m(\u001b[0m\u001b[0mtopic\u001b[0m\u001b[0;34m,\u001b[0m \u001b[0mword_topic_relatednesses\u001b[0m\u001b[0;34m)\u001b[0m\u001b[0;34m\u001b[0m\u001b[0;34m\u001b[0m\u001b[0m\n\u001b[0;32m--> 206\u001b[0;31m         \u001b[0mtop_words_cooccurrences\u001b[0m \u001b[0;34m=\u001b[0m \u001b[0mself\u001b[0m\u001b[0;34m.\u001b[0m\u001b[0m_get_top_words_cooccurrences\u001b[0m\u001b[0;34m(\u001b[0m\u001b[0mtop_words\u001b[0m\u001b[0;34m,\u001b[0m \u001b[0mdocument_words\u001b[0m\u001b[0;34m)\u001b[0m\u001b[0;34m\u001b[0m\u001b[0;34m\u001b[0m\u001b[0m\n\u001b[0m\u001b[1;32m    207\u001b[0m \u001b[0;34m\u001b[0m\u001b[0m\n\u001b[1;32m    208\u001b[0m         return self._compute_newman_coherence(\n",
      "\u001b[0;32m~/OptimalNumberOfTopics/topnum/scores/sophisticated_toptok_coherence_score.py\u001b[0m in \u001b[0;36m_get_top_words_cooccurrences\u001b[0;34m(self, top_words, document_words)\u001b[0m\n\u001b[1;32m    283\u001b[0m             \u001b[0mwords_num_appearances_in_window\u001b[0m\u001b[0;34m[\u001b[0m\u001b[0mw\u001b[0m\u001b[0;34m]\u001b[0m \u001b[0;34m+=\u001b[0m \u001b[0;36m1\u001b[0m\u001b[0;34m\u001b[0m\u001b[0;34m\u001b[0m\u001b[0m\n\u001b[1;32m    284\u001b[0m \u001b[0;34m\u001b[0m\u001b[0m\n\u001b[0;32m--> 285\u001b[0;31m             \u001b[0mself\u001b[0m\u001b[0;34m.\u001b[0m\u001b[0m_update_cooccurrences\u001b[0m\u001b[0;34m(\u001b[0m\u001b[0mcooccurrences\u001b[0m\u001b[0;34m,\u001b[0m \u001b[0mtop_words\u001b[0m\u001b[0;34m,\u001b[0m \u001b[0mwords_num_appearances_in_window\u001b[0m\u001b[0;34m)\u001b[0m\u001b[0;34m\u001b[0m\u001b[0;34m\u001b[0m\u001b[0m\n\u001b[0m\u001b[1;32m    286\u001b[0m \u001b[0;34m\u001b[0m\u001b[0m\n\u001b[1;32m    287\u001b[0m         \u001b[0;31m# TODO: this is not always needed?\u001b[0m\u001b[0;34m\u001b[0m\u001b[0;34m\u001b[0m\u001b[0;34m\u001b[0m\u001b[0m\n",
      "\u001b[0;32m~/OptimalNumberOfTopics/topnum/scores/sophisticated_toptok_coherence_score.py\u001b[0m in \u001b[0;36m_update_cooccurrences\u001b[0;34m(cooccurrences, top_words, words_num_appearances_in_window)\u001b[0m\n\u001b[1;32m    299\u001b[0m             cooccurrences[(w, u)] += 1.0 * (\n\u001b[1;32m    300\u001b[0m                 \u001b[0mwords_num_appearances_in_window\u001b[0m\u001b[0;34m[\u001b[0m\u001b[0mw\u001b[0m\u001b[0;34m]\u001b[0m \u001b[0;34m>\u001b[0m \u001b[0;36m0\u001b[0m \u001b[0;32mand\u001b[0m\u001b[0;34m\u001b[0m\u001b[0;34m\u001b[0m\u001b[0m\n\u001b[0;32m--> 301\u001b[0;31m                 \u001b[0mwords_num_appearances_in_window\u001b[0m\u001b[0;34m[\u001b[0m\u001b[0mu\u001b[0m\u001b[0;34m]\u001b[0m \u001b[0;34m>\u001b[0m \u001b[0;36m0\u001b[0m\u001b[0;34m\u001b[0m\u001b[0;34m\u001b[0m\u001b[0m\n\u001b[0m\u001b[1;32m    302\u001b[0m             )\n\u001b[1;32m    303\u001b[0m \u001b[0;34m\u001b[0m\u001b[0m\n",
      "\u001b[0;31mKeyboardInterrupt\u001b[0m: "
     ]
    }
   ],
   "source": [
    "%%time\n",
    "\n",
    "optimizer.search_for_optimum(dataset)"
   ]
  },
  {
   "cell_type": "code",
   "execution_count": null,
   "metadata": {},
   "outputs": [
    {
     "name": "stdout",
     "output_type": "stream",
     "text": [
      "model_0__phi.bin\t   model_4__phi.bin\t      model_8__phi.bin\r\n",
      "model_0__topic_scores.bin  model_4__topic_scores.bin  model_8__topic_scores.bin\r\n",
      "model_1__phi.bin\t   model_5__phi.bin\t      model_9__phi.bin\r\n",
      "model_1__topic_scores.bin  model_5__topic_scores.bin  model_9__topic_scores.bin\r\n",
      "model_2__phi.bin\t   model_6__phi.bin\t      topics.bin\r\n",
      "model_2__topic_scores.bin  model_6__topic_scores.bin  topic_scores.bin\r\n",
      "model_3__phi.bin\t   model_7__phi.bin\r\n",
      "model_3__topic_scores.bin  model_7__topic_scores.bin\r\n"
     ]
    }
   ],
   "source": [
    "! ls $optimizer._topic_bank._path"
   ]
  },
  {
   "cell_type": "markdown",
   "metadata": {},
   "source": [
    "## Appendix. Making vocab.txt for Computing Coocs"
   ]
  },
  {
   "cell_type": "code",
   "execution_count": 182,
   "metadata": {},
   "outputs": [],
   "source": [
    "! rm $DATASET_INTERNALS_FOLDER_PATH/dict.dict"
   ]
  },
  {
   "cell_type": "code",
   "execution_count": 153,
   "metadata": {},
   "outputs": [],
   "source": [
    "dictionary = dataset.get_dictionary()"
   ]
  },
  {
   "cell_type": "code",
   "execution_count": 154,
   "metadata": {},
   "outputs": [
    {
     "data": {
      "text/plain": [
       "artm.Dictionary(name=19a09c5f-e84a-43e7-bbe1-de8dde814c40, num_entries=110587)"
      ]
     },
     "execution_count": 154,
     "metadata": {},
     "output_type": "execute_result"
    }
   ],
   "source": [
    "dictionary"
   ]
  },
  {
   "cell_type": "code",
   "execution_count": 155,
   "metadata": {},
   "outputs": [
    {
     "data": {
      "text/plain": [
       "(20291, 3)"
      ]
     },
     "execution_count": 155,
     "metadata": {},
     "output_type": "execute_result"
    }
   ],
   "source": [
    "dataset._data.shape"
   ]
  },
  {
   "cell_type": "code",
   "execution_count": 156,
   "metadata": {},
   "outputs": [
    {
     "name": "stdout",
     "output_type": "stream",
     "text": [
      "artm.Dictionary(name=19a09c5f-e84a-43e7-bbe1-de8dde814c40, num_entries=4062)\n"
     ]
    }
   ],
   "source": [
    "# PN: dictionary.filter(min_df_rate=0.04, max_df_rate=0.5)\n",
    "# Reuters: dictionary.filter(min_df_rate=0.01, max_df_rate=0.5)\n",
    "# Brown: dictionary.filter(min_df_rate=0.02, max_df_rate=0.5)\n",
    "# 20 NG: dictionary.filter(min_df_rate=0.01, max_df_rate=0.5)\n",
    "\n",
    "# AG dictionary.filter(min_df_rate=0.002, max_df_rate=0.5)\n",
    "\n",
    "# Watan2004\n",
    "dictionary.filter(min_df_rate=0.01, max_df_rate=0.5)\n",
    "\n",
    "print(dictionary)"
   ]
  },
  {
   "cell_type": "code",
   "execution_count": 157,
   "metadata": {},
   "outputs": [],
   "source": [
    "dictionary_file_path = os.path.join(\n",
    "    DATASET_INTERNALS_FOLDER_PATH,\n",
    "    'dict.dict',\n",
    ")\n",
    "\n",
    "dictionary.save_text(dictionary_file_path)"
   ]
  },
  {
   "cell_type": "code",
   "execution_count": 158,
   "metadata": {},
   "outputs": [
    {
     "data": {
      "text/plain": [
       "artm.Dictionary(name=19a09c5f-e84a-43e7-bbe1-de8dde814c40, num_entries=4062)"
      ]
     },
     "execution_count": 158,
     "metadata": {},
     "output_type": "execute_result"
    }
   ],
   "source": [
    "dictionary"
   ]
  },
  {
   "cell_type": "code",
   "execution_count": 159,
   "metadata": {},
   "outputs": [],
   "source": [
    "lines = open(dictionary_file_path, 'r').readlines()"
   ]
  },
  {
   "cell_type": "code",
   "execution_count": 160,
   "metadata": {},
   "outputs": [
    {
     "data": {
      "text/plain": [
       "4064"
      ]
     },
     "execution_count": 160,
     "metadata": {},
     "output_type": "execute_result"
    }
   ],
   "source": [
    "len(lines)"
   ]
  },
  {
   "cell_type": "code",
   "execution_count": 161,
   "metadata": {},
   "outputs": [
    {
     "data": {
      "text/plain": [
       "['name: 19a09c5f-e84a-43e7-bbe1-de8dde814c40 num_items: 20291\\n',\n",
       " 'token, class_id, token_value, token_tf, token_df\\n',\n",
       " 'هرير, @word, 6.949519593035802e-05, 593.0, 417.0\\n']"
      ]
     },
     "execution_count": 161,
     "metadata": {},
     "output_type": "execute_result"
    }
   ],
   "source": [
    "lines[:3]"
   ]
  },
  {
   "cell_type": "code",
   "execution_count": 162,
   "metadata": {},
   "outputs": [
    {
     "data": {
      "text/plain": [
       "['معالي, @word, 0.0005515082739293575, 4706.0, 1598.0\\n',\n",
       " 'طريق, @word, 0.0010923519730567932, 9321.0, 4924.0\\n',\n",
       " 'سكن, @word, 6.129171379143372e-05, 523.0, 420.0\\n']"
      ]
     },
     "execution_count": 162,
     "metadata": {},
     "output_type": "execute_result"
    }
   ],
   "source": [
    "lines[-3:]"
   ]
  },
  {
   "cell_type": "code",
   "execution_count": 163,
   "metadata": {},
   "outputs": [],
   "source": [
    "vocab_text = ''\n",
    "\n",
    "for line in lines[2:]:\n",
    "    token, modality, _, _, _ = line.strip().split(', ')\n",
    "    vocab_text += f'{token} {modality}\\n'"
   ]
  },
  {
   "cell_type": "code",
   "execution_count": 164,
   "metadata": {},
   "outputs": [],
   "source": [
    "vocab_file_path = os.path.join(\n",
    "    DATASET_INTERNALS_FOLDER_PATH,\n",
    "    'vocab.txt',\n",
    ")"
   ]
  },
  {
   "cell_type": "code",
   "execution_count": 165,
   "metadata": {},
   "outputs": [],
   "source": [
    "with open(vocab_file_path, 'w') as f:\n",
    "    f.write(vocab_text)"
   ]
  },
  {
   "cell_type": "code",
   "execution_count": null,
   "metadata": {},
   "outputs": [],
   "source": [
    "! ~/Workspace/bigartm/build/bin/bigartm \\\n",
    "    -c vw.txt \\\n",
    "    -v vocab.txt \\\n",
    "    --cooc-window 10 \\\n",
    "    --cooc-min-tf 2 \\\n",
    "    --write-cooc-tf cooc_tf_ \\\n",
    "    --cooc-min-df 2 \\\n",
    "    --write-cooc-df cooc_df_ \\\n",
    "    --write-ppmi-tf ppmi_tf_ \\\n",
    "    --write-ppmi-df ppmi_df_"
   ]
  },
  {
   "cell_type": "code",
   "execution_count": 166,
   "metadata": {},
   "outputs": [],
   "source": [
    "def transform_coocs_file(source_file_path, target_file_path, vocab_file_path):\n",
    "    \"\"\"\n",
    "    source_file is assumed to be either ppmi_tf_ or ppmi_df_ \n",
    "    \"\"\"\n",
    "    num_times_to_log = 10\n",
    "\n",
    "    vocab = open(vocab_file_path, 'r').readlines()\n",
    "    vocab = [l.strip().split()[0] for l in vocab]\n",
    "    \n",
    "    cooc_values = dict()\n",
    "    word_word_value_triples = set()\n",
    "    \n",
    "    lines = open(source_file_path, 'r').readlines()\n",
    "    \n",
    "    for i, l in enumerate(lines):\n",
    "        if i % (len(lines) // num_times_to_log) == 0:\n",
    "            print(f'{i:6d} lines out of {len(lines)}')\n",
    "        \n",
    "        l = l.strip()\n",
    "        words = l.split()\n",
    "        words = words[1:]  # exclude modality\n",
    "        anchor_word = words[0]\n",
    "        \n",
    "        other_word_values = words[1:]\n",
    "        \n",
    "        for word_and_value in other_word_values:\n",
    "            other_word, value = word_and_value.split(':')\n",
    "            value = float(value)\n",
    "            \n",
    "            cooc_values[(anchor_word, other_word)] = value\n",
    "            cooc_values[(other_word, anchor_word)] = value  # if assume cooc values to be symmetric\n",
    "            \n",
    "            word_word_value_triples.add(\n",
    "                tuple([\n",
    "                    tuple(sorted([\n",
    "                        vocab.index(anchor_word),\n",
    "                        vocab.index(other_word)\n",
    "                    ])),\n",
    "                    value\n",
    "                ])\n",
    "            )\n",
    "    \n",
    "    new_text = ''\n",
    "    \n",
    "    for (w1, w2), v in word_word_value_triples:\n",
    "        new_text += f'{w1} {w2} {v}\\n'\n",
    "    \n",
    "    with open(target_file_path, 'w') as f:\n",
    "        f.write(''.join(new_text))\n",
    "    \n",
    "    return cooc_values"
   ]
  },
  {
   "cell_type": "code",
   "execution_count": 167,
   "metadata": {},
   "outputs": [],
   "source": [
    "def prefix_path(p):\n",
    "    return os.path.join(DATASET_INTERNALS_FOLDER_PATH, p)"
   ]
  },
  {
   "cell_type": "code",
   "execution_count": 168,
   "metadata": {},
   "outputs": [
    {
     "name": "stdout",
     "output_type": "stream",
     "text": [
      "     0 lines out of 4058\n",
      "   405 lines out of 4058\n",
      "   810 lines out of 4058\n",
      "  1215 lines out of 4058\n",
      "  1620 lines out of 4058\n",
      "  2025 lines out of 4058\n",
      "  2430 lines out of 4058\n",
      "  2835 lines out of 4058\n",
      "  3240 lines out of 4058\n",
      "  3645 lines out of 4058\n",
      "  4050 lines out of 4058\n"
     ]
    }
   ],
   "source": [
    "COOC_VALUES = transform_coocs_file(\n",
    "    prefix_path('ppmi_tf_'),\n",
    "    prefix_path('new_ppmi_tf_'),\n",
    "    prefix_path('vocab.txt')\n",
    ")"
   ]
  },
  {
   "cell_type": "code",
   "execution_count": 169,
   "metadata": {},
   "outputs": [],
   "source": [
    "with open(prefix_path('cooc_values.json'), 'w') as f:\n",
    "    f.write(json.dumps(list(COOC_VALUES.items())))"
   ]
  },
  {
   "cell_type": "code",
   "execution_count": 320,
   "metadata": {},
   "outputs": [],
   "source": [
    "saved_raw_cooc_values = json.loads(open(prefix_path('cooc_values.json'), 'r').read())\n",
    "\n",
    "saved_cooc_values = {\n",
    "    tuple(d[0]): d[1] for d in saved_raw_cooc_values\n",
    "}"
   ]
  },
  {
   "cell_type": "code",
   "execution_count": 321,
   "metadata": {},
   "outputs": [],
   "source": [
    "COOC_VALUES = saved_cooc_values"
   ]
  },
  {
   "cell_type": "code",
   "execution_count": 170,
   "metadata": {},
   "outputs": [
    {
     "data": {
      "text/plain": [
       "[(('هرير', 'تمني'), 1.82768),\n",
       " (('تمني', 'هرير'), 1.82768),\n",
       " (('هرير', 'كبر'), 0.581746),\n",
       " (('كبر', 'هرير'), 0.581746),\n",
       " (('هرير', 'داود'), 2.47035),\n",
       " (('داود', 'هرير'), 2.47035),\n",
       " (('هرير', 'تلق'), 2.12148),\n",
       " (('تلق', 'هرير'), 2.12148),\n",
       " (('هرير', 'بدو'), 0.443265),\n",
       " (('بدو', 'هرير'), 0.443265),\n",
       " (('هرير', 'سعيد'), 0.706545),\n",
       " (('سعيد', 'هرير'), 0.706545),\n",
       " (('هرير', 'ملائك'), 2.00346),\n",
       " (('ملائك', 'هرير'), 2.00346),\n",
       " (('هرير', 'اني'), 1.07549),\n",
       " (('اني', 'هرير'), 1.07549),\n",
       " (('هرير', 'تفتيش'), 2.54284),\n",
       " (('تفتيش', 'هرير'), 2.54284),\n",
       " (('هرير', 'مر'), 1.10353),\n",
       " (('مر', 'هرير'), 1.10353)]"
      ]
     },
     "execution_count": 170,
     "metadata": {},
     "output_type": "execute_result"
    }
   ],
   "source": [
    "list(COOC_VALUES.items())[:20]"
   ]
  },
  {
   "cell_type": "code",
   "execution_count": 171,
   "metadata": {},
   "outputs": [
    {
     "data": {
      "text/plain": [
       "3514220"
      ]
     },
     "execution_count": 171,
     "metadata": {},
     "output_type": "execute_result"
    }
   ],
   "source": [
    "len(COOC_VALUES)"
   ]
  },
  {
   "cell_type": "code",
   "execution_count": 148,
   "metadata": {},
   "outputs": [
    {
     "data": {
      "text/plain": [
       "551060"
      ]
     },
     "execution_count": 148,
     "metadata": {},
     "output_type": "execute_result"
    }
   ],
   "source": [
    "len(COOC_VALUES)"
   ]
  },
  {
   "cell_type": "code",
   "execution_count": null,
   "metadata": {},
   "outputs": [],
   "source": []
  }
 ],
 "metadata": {
  "kernelspec": {
   "display_name": "topicnet",
   "language": "python",
   "name": "topicnet"
  },
  "language_info": {
   "codemirror_mode": {
    "name": "ipython",
    "version": 3
   },
   "file_extension": ".py",
   "mimetype": "text/x-python",
   "name": "python",
   "nbconvert_exporter": "python",
   "pygments_lexer": "ipython3",
   "version": "3.6.10"
  }
 },
 "nbformat": 4,
 "nbformat_minor": 2
}
