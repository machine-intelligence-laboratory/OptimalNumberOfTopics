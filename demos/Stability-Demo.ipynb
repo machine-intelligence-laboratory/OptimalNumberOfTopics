{
 "cells": [
  {
   "cell_type": "markdown",
   "metadata": {},
   "source": [
    "# Stability Demo\n",
    "\n",
    "Optimal number of topics is supposed to make models more stable in some way.\n",
    "For example, [renormalization](Renormalization-Demo.ipynb) is also about stability: entropy means uncertainty, so the lower the entropy, the more stable the model is and so the better is the corresponding number of topics.\n",
    "\n",
    "Here goes a more intuitive way to estimate stability: train models on different data subsamples and compare them.\n",
    "Optimal number of topics is supposed to let models trained on different documents of the same collection be alike.\n",
    "There are a couple of technical questions though, such as:\n",
    "* how big should training subsamples be\n",
    "* how to estimate the distance between topic models/between topics of topic models\n",
    "\n",
    "Another way to introduce some noise in the training process would be to change the order of documents in the collection.\n",
    "However, the order of documents doesn't play any role in [BigARTM library](https://github.com/bigartm/bigartm)."
   ]
  },
  {
   "cell_type": "code",
   "execution_count": null,
   "metadata": {},
   "outputs": [],
   "source": [
    "# General imports\n",
    "\n",
    "import os\n",
    "import tempfile\n",
    "\n",
    "from matplotlib import pyplot as plt\n",
    "\n",
    "%matplotlib inline"
   ]
  },
  {
   "cell_type": "code",
   "execution_count": null,
   "metadata": {},
   "outputs": [],
   "source": [
    "# Making `topnum` module visible for Python\n",
    "\n",
    "import sys\n",
    "\n",
    "sys.path.insert(0, '..')"
   ]
  },
  {
   "cell_type": "code",
   "execution_count": null,
   "metadata": {},
   "outputs": [],
   "source": [
    "# Optimal number of topics\n",
    "\n",
    "from topicnet.dataset_manager import load_dataset\n",
    "\n",
    "from topnum.data.vowpal_wabbit_text_collection import VowpalWabbitTextCollection\n",
    "from topnum.search_methods import StabilitySearchMethod"
   ]
  },
  {
   "cell_type": "markdown",
   "metadata": {},
   "source": [
    "## Data\n",
    "\n",
    "Let's use PostNauka dataset available in [TopicNet library](https://github.com/machine-intelligence-laboratory/TopicNet)."
   ]
  },
  {
   "cell_type": "code",
   "execution_count": null,
   "metadata": {},
   "outputs": [],
   "source": [
    "DATASET_NAME = 'postnauka'"
   ]
  },
  {
   "cell_type": "code",
   "execution_count": null,
   "metadata": {},
   "outputs": [],
   "source": [
    "WORKING_FOLDER_PATH = tempfile.mkdtemp()\n",
    "\n",
    "DATASET_INTERNALS_FOLDER_PATH = os.path.join(\n",
    "    WORKING_FOLDER_PATH,\n",
    "    f'{DATASET_NAME}__internals',\n",
    ")"
   ]
  },
  {
   "cell_type": "code",
   "execution_count": null,
   "metadata": {},
   "outputs": [
    {
     "name": "stderr",
     "output_type": "stream",
     "text": [
      "100%|██████████| 5.55M/5.55M [00:00<00:00, 64.9MiB/s]\n"
     ]
    }
   ],
   "source": [
    "DATASET = load_dataset(\n",
    "    DATASET_NAME,\n",
    "    internals_folder_path=DATASET_INTERNALS_FOLDER_PATH,\n",
    ")"
   ]
  },
  {
   "cell_type": "code",
   "execution_count": null,
   "metadata": {},
   "outputs": [
    {
     "data": {
      "text/plain": [
       "'/data/topicnet/lib/python3.6/site-packages/topicnet/dataset_manager/postnauka.csv'"
      ]
     },
     "execution_count": null,
     "metadata": {},
     "output_type": "execute_result"
    }
   ],
   "source": [
    "DATASET._data_path"
   ]
  },
  {
   "cell_type": "markdown",
   "metadata": {},
   "source": [
    "Checking if all OK with data, what modalities does the collection have."
   ]
  },
  {
   "cell_type": "code",
   "execution_count": null,
   "metadata": {},
   "outputs": [
    {
     "data": {
      "text/html": [
       "<div>\n",
       "<style scoped>\n",
       "    .dataframe tbody tr th:only-of-type {\n",
       "        vertical-align: middle;\n",
       "    }\n",
       "\n",
       "    .dataframe tbody tr th {\n",
       "        vertical-align: top;\n",
       "    }\n",
       "\n",
       "    .dataframe thead th {\n",
       "        text-align: right;\n",
       "    }\n",
       "</style>\n",
       "<table border=\"1\" class=\"dataframe\">\n",
       "  <thead>\n",
       "    <tr style=\"text-align: right;\">\n",
       "      <th></th>\n",
       "      <th>id</th>\n",
       "      <th>vw_text</th>\n",
       "      <th>raw_text</th>\n",
       "    </tr>\n",
       "    <tr>\n",
       "      <th>id</th>\n",
       "      <th></th>\n",
       "      <th></th>\n",
       "      <th></th>\n",
       "    </tr>\n",
       "  </thead>\n",
       "  <tbody>\n",
       "    <tr>\n",
       "      <th>1.txt</th>\n",
       "      <td>1.txt</td>\n",
       "      <td>1.txt |@author fuchs preobrazhensky tabachniko...</td>\n",
       "      <td>@title Автограф # «Математический дивертисмент...</td>\n",
       "    </tr>\n",
       "    <tr>\n",
       "      <th>2.txt</th>\n",
       "      <td>2.txt</td>\n",
       "      <td>2.txt |@word книга:2 лекция:3 рассматриваться:...</td>\n",
       "      <td>@title Главы: Маскулинности в российском конте...</td>\n",
       "    </tr>\n",
       "    <tr>\n",
       "      <th>3.txt</th>\n",
       "      <td>3.txt</td>\n",
       "      <td>3.txt |@word развитие появляться пиджина:4 бел...</td>\n",
       "      <td>@title Пиджины и креольские языки | @snippet Л...</td>\n",
       "    </tr>\n",
       "    <tr>\n",
       "      <th>4.txt</th>\n",
       "      <td>4.txt</td>\n",
       "      <td>4.txt |@word стандартный задача:3 состоять:4 р...</td>\n",
       "      <td>@title FAQ: Физиология микроводорослей | @snip...</td>\n",
       "    </tr>\n",
       "    <tr>\n",
       "      <th>5.txt</th>\n",
       "      <td>5.txt</td>\n",
       "      <td>5.txt |@2gramm повседневный_практика государст...</td>\n",
       "      <td>@title Русская государственная идеология | @sn...</td>\n",
       "    </tr>\n",
       "  </tbody>\n",
       "</table>\n",
       "</div>"
      ],
      "text/plain": [
       "          id                                            vw_text  \\\n",
       "id                                                                \n",
       "1.txt  1.txt  1.txt |@author fuchs preobrazhensky tabachniko...   \n",
       "2.txt  2.txt  2.txt |@word книга:2 лекция:3 рассматриваться:...   \n",
       "3.txt  3.txt  3.txt |@word развитие появляться пиджина:4 бел...   \n",
       "4.txt  4.txt  4.txt |@word стандартный задача:3 состоять:4 р...   \n",
       "5.txt  5.txt  5.txt |@2gramm повседневный_практика государст...   \n",
       "\n",
       "                                                raw_text  \n",
       "id                                                        \n",
       "1.txt  @title Автограф # «Математический дивертисмент...  \n",
       "2.txt  @title Главы: Маскулинности в российском конте...  \n",
       "3.txt  @title Пиджины и креольские языки | @snippet Л...  \n",
       "4.txt  @title FAQ: Физиология микроводорослей | @snip...  \n",
       "5.txt  @title Русская государственная идеология | @sn...  "
      ]
     },
     "execution_count": null,
     "metadata": {},
     "output_type": "execute_result"
    }
   ],
   "source": [
    "DATASET._data.head()"
   ]
  },
  {
   "cell_type": "code",
   "execution_count": null,
   "metadata": {},
   "outputs": [
    {
     "data": {
      "text/plain": [
       "{'@2gramm', '@3gramm', '@author', '@post_tag', '@snippet', '@title', '@word'}"
      ]
     },
     "execution_count": null,
     "metadata": {},
     "output_type": "execute_result"
    }
   ],
   "source": [
    "DATASET._extract_possible_modalities()"
   ]
  },
  {
   "cell_type": "markdown",
   "metadata": {},
   "source": [
    "Creating batches"
   ]
  },
  {
   "cell_type": "code",
   "execution_count": null,
   "metadata": {},
   "outputs": [
    {
     "data": {
      "text/plain": [
       "artm.BatchVectorizer(data_path=\"/tmp/tmpgjkfz3gp/postnauka__internals/batches\", num_batches=4)"
      ]
     },
     "execution_count": null,
     "metadata": {},
     "output_type": "execute_result"
    }
   ],
   "source": [
    "DATASET.get_batch_vectorizer()"
   ]
  },
  {
   "cell_type": "code",
   "execution_count": null,
   "metadata": {},
   "outputs": [
    {
     "data": {
      "text/plain": [
       "['batches', 'vw.txt']"
      ]
     },
     "execution_count": null,
     "metadata": {},
     "output_type": "execute_result"
    }
   ],
   "source": [
    "os.listdir(DATASET_INTERNALS_FOLDER_PATH)"
   ]
  },
  {
   "cell_type": "markdown",
   "metadata": {},
   "source": [
    "Defining a text collection entity, which is to be passed to topic number search method later:"
   ]
  },
  {
   "cell_type": "code",
   "execution_count": null,
   "metadata": {},
   "outputs": [],
   "source": [
    "text_collection = VowpalWabbitTextCollection.from_dataset(\n",
    "    DATASET,\n",
    "    main_modality='@word',\n",
    "    modalities=['@word', '@title', '@snippet']\n",
    ")"
   ]
  },
  {
   "cell_type": "markdown",
   "metadata": {},
   "source": [
    "## Search"
   ]
  },
  {
   "cell_type": "markdown",
   "metadata": {},
   "source": [
    "The searching method itself"
   ]
  },
  {
   "cell_type": "code",
   "execution_count": null,
   "metadata": {},
   "outputs": [],
   "source": [
    "optimizer = StabilitySearchMethod(\n",
    "    min_num_topics       = 1,\n",
    "    max_num_topics       = 110,\n",
    "    num_topics_interval  = 10,\n",
    "    num_fit_iterations   = 20,    # 100 or 200 surely should be enough\n",
    "                                  # 20 -- for demonstration purposes\n",
    "    model_num_processors = 1,\n",
    "    max_num_top_words    = 1000,  # for quicker topic comparison\n",
    ")"
   ]
  },
  {
   "cell_type": "markdown",
   "metadata": {},
   "source": [
    "Fulfilling the search:"
   ]
  },
  {
   "cell_type": "code",
   "execution_count": null,
   "metadata": {},
   "outputs": [
    {
     "name": "stdout",
     "output_type": "stream",
     "text": [
      "Folder \"/tmp/stability_approach__z12famso\" has no sub-datasets for training! Subsampling data...\n",
      "100%|██████████| 5/5 [00:01<00:00,  3.71it/s]\n",
      "\n",
      "Training models for different numbers of topics...\n",
      "  0%|          | 0/11 [00:00<?, ?it/s]\n",
      "  0%|          | 0/5 [00:00<?, ?it/s]\u001b[A\n",
      " 20%|██        | 1/5 [00:30<02:01, 30.25s/it]\u001b[A\n",
      " 40%|████      | 2/5 [01:02<01:32, 30.90s/it]\u001b[A\n",
      " 60%|██████    | 3/5 [01:34<01:02, 31.19s/it]\u001b[A\n",
      " 80%|████████  | 4/5 [02:06<00:31, 31.38s/it]\u001b[A\n",
      "100%|██████████| 5/5 [02:38<00:00, 31.70s/it]\u001b[A\n",
      "  9%|▉         | 1/11 [02:38<26:25, 158.52s/it]\n",
      "  0%|          | 0/5 [00:00<?, ?it/s]\u001b[A\n",
      " 20%|██        | 1/5 [00:33<02:12, 33.11s/it]\u001b[A\n",
      " 40%|████      | 2/5 [01:06<01:39, 33.08s/it]\u001b[A\n",
      " 60%|██████    | 3/5 [01:39<01:06, 33.11s/it]\u001b[A\n",
      " 80%|████████  | 4/5 [02:11<00:32, 32.75s/it]\u001b[A\n",
      "100%|██████████| 5/5 [02:44<00:00, 32.97s/it]\u001b[A\n",
      " 18%|█▊        | 2/11 [05:23<24:03, 160.42s/it]\n",
      "  0%|          | 0/5 [00:00<?, ?it/s]\u001b[A\n",
      " 20%|██        | 1/5 [00:36<02:24, 36.10s/it]\u001b[A\n",
      " 40%|████      | 2/5 [01:12<01:48, 36.18s/it]\u001b[A\n",
      " 60%|██████    | 3/5 [01:48<01:12, 36.17s/it]\u001b[A\n",
      " 80%|████████  | 4/5 [02:23<00:35, 35.78s/it]\u001b[A\n",
      "100%|██████████| 5/5 [02:59<00:00, 35.98s/it]\u001b[A\n",
      " 27%|██▋       | 3/11 [08:23<22:10, 166.27s/it]\n",
      "  0%|          | 0/5 [00:00<?, ?it/s]\u001b[A\n",
      " 20%|██        | 1/5 [00:39<02:36, 39.12s/it]\u001b[A\n",
      " 40%|████      | 2/5 [01:20<01:59, 39.74s/it]\u001b[A\n",
      " 60%|██████    | 3/5 [02:02<01:21, 40.55s/it]\u001b[A\n",
      " 80%|████████  | 4/5 [02:43<00:40, 40.58s/it]\u001b[A\n",
      "100%|██████████| 5/5 [03:23<00:00, 40.64s/it]\u001b[A\n",
      " 36%|███▋      | 4/11 [11:46<20:41, 177.35s/it]\n",
      "  0%|          | 0/5 [00:00<?, ?it/s]\u001b[A\n",
      " 20%|██        | 1/5 [00:46<03:04, 46.16s/it]\u001b[A\n",
      " 40%|████      | 2/5 [01:35<02:21, 47.03s/it]\u001b[A\n",
      " 60%|██████    | 3/5 [02:22<01:33, 46.95s/it]\u001b[A\n",
      " 80%|████████  | 4/5 [03:08<00:46, 46.86s/it]\u001b[A\n",
      "100%|██████████| 5/5 [03:57<00:00, 47.51s/it]\u001b[A\n",
      " 45%|████▌     | 5/11 [15:44<19:32, 195.40s/it]\n",
      "  0%|          | 0/5 [00:00<?, ?it/s]\u001b[A\n",
      " 20%|██        | 1/5 [00:51<03:24, 51.21s/it]\u001b[A\n",
      " 40%|████      | 2/5 [01:41<02:32, 50.85s/it]\u001b[A\n",
      " 60%|██████    | 3/5 [02:32<01:41, 50.93s/it]\u001b[A\n",
      " 80%|████████  | 4/5 [03:21<00:50, 50.46s/it]\u001b[A\n",
      "100%|██████████| 5/5 [04:14<00:00, 50.84s/it]\u001b[A\n",
      " 55%|█████▍    | 6/11 [19:58<17:45, 213.04s/it]\n",
      "  0%|          | 0/5 [00:00<?, ?it/s]\u001b[A\n",
      " 20%|██        | 1/5 [00:53<03:34, 53.53s/it]\u001b[A\n",
      " 40%|████      | 2/5 [01:46<02:40, 53.47s/it]\u001b[A\n",
      " 60%|██████    | 3/5 [02:43<01:48, 54.32s/it]\u001b[A\n",
      " 80%|████████  | 4/5 [03:34<00:53, 53.57s/it]\u001b[A\n",
      "100%|██████████| 5/5 [04:27<00:00, 53.46s/it]\u001b[A\n",
      " 64%|██████▎   | 7/11 [24:25<15:17, 229.31s/it]\n",
      "  0%|          | 0/5 [00:00<?, ?it/s]\u001b[A\n",
      " 20%|██        | 1/5 [00:56<03:44, 56.24s/it]\u001b[A\n",
      " 40%|████      | 2/5 [01:54<02:50, 56.97s/it]\u001b[A\n",
      " 60%|██████    | 3/5 [02:51<01:53, 57.00s/it]\u001b[A\n",
      " 80%|████████  | 4/5 [03:46<00:56, 56.28s/it]\u001b[A\n",
      "100%|██████████| 5/5 [04:43<00:00, 56.61s/it]\u001b[A\n",
      " 73%|███████▎  | 8/11 [29:08<12:16, 245.43s/it]\n",
      "  0%|          | 0/5 [00:00<?, ?it/s]\u001b[A\n",
      " 20%|██        | 1/5 [00:59<03:56, 59.17s/it]\u001b[A\n",
      " 40%|████      | 2/5 [01:57<02:57, 59.05s/it]\u001b[A\n",
      " 60%|██████    | 3/5 [02:56<01:57, 58.97s/it]\u001b[A\n",
      " 80%|████████  | 4/5 [03:55<00:58, 58.98s/it]\u001b[A\n",
      "100%|██████████| 5/5 [04:53<00:00, 58.73s/it]\u001b[A\n",
      " 82%|████████▏ | 9/11 [34:02<08:39, 259.90s/it]\n",
      "  0%|          | 0/5 [00:00<?, ?it/s]\u001b[A\n",
      " 20%|██        | 1/5 [01:08<04:32, 68.03s/it]\u001b[A\n",
      " 40%|████      | 2/5 [02:14<03:22, 67.52s/it]\u001b[A\n",
      " 60%|██████    | 3/5 [03:20<02:14, 67.06s/it]\u001b[A\n",
      " 80%|████████  | 4/5 [04:24<01:06, 66.30s/it]\u001b[A\n",
      "100%|██████████| 5/5 [05:31<00:00, 66.37s/it]\u001b[A\n",
      " 91%|█████████ | 10/11 [39:34<04:41, 281.48s/it]\n",
      "  0%|          | 0/5 [00:00<?, ?it/s]\u001b[A\n",
      " 20%|██        | 1/5 [01:08<04:32, 68.10s/it]\u001b[A\n",
      " 40%|████      | 2/5 [02:18<03:26, 68.67s/it]\u001b[A\n",
      " 60%|██████    | 3/5 [03:22<02:14, 67.42s/it]\u001b[A\n",
      " 80%|████████  | 4/5 [04:28<01:06, 66.96s/it]\u001b[A\n",
      "100%|██████████| 5/5 [05:34<00:00, 66.91s/it]\u001b[A\n",
      "100%|██████████| 11/11 [45:08<00:00, 246.24s/it]\n",
      "\n",
      "Estimating stability for different numbers of topics...\n",
      "  0%|          | 0/11 [00:00<?, ?it/s]\n",
      "  0%|          | 0/10.0 [00:00<?, ?it/s]\u001b[A\n",
      " 20%|██        | 2/10.0 [00:00<00:00, 16.90it/s]\u001b[A\n",
      " 40%|████      | 4/10.0 [00:00<00:00, 16.84it/s]\u001b[A\n",
      " 60%|██████    | 6/10.0 [00:00<00:00, 17.05it/s]\u001b[A\n",
      " 80%|████████  | 8/10.0 [00:00<00:00, 17.06it/s]\u001b[A\n",
      "100%|██████████| 10/10.0 [00:00<00:00, 17.05it/s]\u001b[A\n",
      "  9%|▉         | 1/11 [00:00<00:05,  1.69it/s]\n",
      "  0%|          | 0/10.0 [00:00<?, ?it/s]\u001b[A\n",
      " 10%|█         | 1/10.0 [00:00<00:02,  3.55it/s]\u001b[A\n",
      " 20%|██        | 2/10.0 [00:00<00:02,  3.53it/s]\u001b[A\n",
      " 30%|███       | 3/10.0 [00:00<00:01,  3.56it/s]\u001b[A\n",
      " 40%|████      | 4/10.0 [00:01<00:01,  3.55it/s]\u001b[A\n",
      " 50%|█████     | 5/10.0 [00:01<00:01,  3.53it/s]\u001b[A\n",
      " 60%|██████    | 6/10.0 [00:01<00:01,  3.56it/s]\u001b[A\n",
      " 70%|███████   | 7/10.0 [00:01<00:00,  3.55it/s]\u001b[A\n",
      " 80%|████████  | 8/10.0 [00:02<00:00,  3.54it/s]\u001b[A\n",
      " 90%|█████████ | 9/10.0 [00:02<00:00,  3.57it/s]\u001b[A\n",
      "100%|██████████| 10/10.0 [00:02<00:00,  3.56it/s]\u001b[A\n",
      " 18%|█▊        | 2/11 [00:03<00:11,  1.26s/it]\n",
      "  0%|          | 0/10.0 [00:00<?, ?it/s]\u001b[A\n",
      " 10%|█         | 1/10.0 [00:00<00:05,  1.55it/s]\u001b[A\n",
      " 20%|██        | 2/10.0 [00:01<00:05,  1.55it/s]\u001b[A\n",
      " 30%|███       | 3/10.0 [00:01<00:04,  1.55it/s]\u001b[A\n",
      " 40%|████      | 4/10.0 [00:02<00:03,  1.55it/s]\u001b[A\n",
      " 50%|█████     | 5/10.0 [00:03<00:03,  1.55it/s]\u001b[A\n",
      " 60%|██████    | 6/10.0 [00:03<00:02,  1.55it/s]\u001b[A\n",
      " 70%|███████   | 7/10.0 [00:04<00:01,  1.55it/s]\u001b[A\n",
      " 80%|████████  | 8/10.0 [00:05<00:01,  1.55it/s]\u001b[A\n",
      " 90%|█████████ | 9/10.0 [00:05<00:00,  1.55it/s]\u001b[A\n",
      "100%|██████████| 10/10.0 [00:06<00:00,  1.55it/s]\u001b[A\n",
      " 27%|██▋       | 3/11 [00:09<00:22,  2.82s/it]\n",
      "  0%|          | 0/10.0 [00:00<?, ?it/s]\u001b[A\n",
      " 10%|█         | 1/10.0 [00:01<00:10,  1.17s/it]\u001b[A\n",
      " 20%|██        | 2/10.0 [00:02<00:09,  1.17s/it]\u001b[A\n",
      " 30%|███       | 3/10.0 [00:03<00:08,  1.17s/it]\u001b[A\n",
      " 40%|████      | 4/10.0 [00:04<00:07,  1.17s/it]\u001b[A\n",
      " 50%|█████     | 5/10.0 [00:05<00:05,  1.18s/it]\u001b[A\n",
      " 60%|██████    | 6/10.0 [00:07<00:04,  1.18s/it]\u001b[A\n",
      " 70%|███████   | 7/10.0 [00:08<00:03,  1.19s/it]\u001b[A\n",
      " 80%|████████  | 8/10.0 [00:09<00:02,  1.19s/it]\u001b[A\n",
      " 90%|█████████ | 9/10.0 [00:10<00:01,  1.19s/it]\u001b[A\n",
      "100%|██████████| 10/10.0 [00:11<00:00,  1.19s/it]\u001b[A\n",
      " 36%|███▋      | 4/11 [00:21<00:38,  5.54s/it]\n",
      "  0%|          | 0/10.0 [00:00<?, ?it/s]\u001b[A\n",
      " 10%|█         | 1/10.0 [00:01<00:17,  1.96s/it]\u001b[A\n",
      " 20%|██        | 2/10.0 [00:03<00:15,  1.95s/it]\u001b[A\n",
      " 30%|███       | 3/10.0 [00:05<00:13,  1.95s/it]\u001b[A\n",
      " 40%|████      | 4/10.0 [00:07<00:11,  1.94s/it]\u001b[A\n",
      " 50%|█████     | 5/10.0 [00:09<00:09,  1.94s/it]\u001b[A\n",
      " 60%|██████    | 6/10.0 [00:11<00:07,  1.93s/it]\u001b[A\n",
      " 70%|███████   | 7/10.0 [00:13<00:05,  1.92s/it]\u001b[A\n",
      " 80%|████████  | 8/10.0 [00:15<00:03,  1.92s/it]\u001b[A\n",
      " 90%|█████████ | 9/10.0 [00:17<00:01,  1.93s/it]\u001b[A\n",
      "100%|██████████| 10/10.0 [00:19<00:00,  1.93s/it]\u001b[A\n",
      " 45%|████▌     | 5/11 [00:41<00:57,  9.66s/it]\n",
      "  0%|          | 0/10.0 [00:00<?, ?it/s]\u001b[A\n",
      " 10%|█         | 1/10.0 [00:02<00:25,  2.82s/it]\u001b[A\n",
      " 20%|██        | 2/10.0 [00:05<00:22,  2.83s/it]\u001b[A\n",
      " 30%|███       | 3/10.0 [00:08<00:19,  2.83s/it]\u001b[A\n",
      " 40%|████      | 4/10.0 [00:11<00:17,  2.84s/it]\u001b[A\n",
      " 50%|█████     | 5/10.0 [00:14<00:14,  2.85s/it]\u001b[A\n",
      " 60%|██████    | 6/10.0 [00:17<00:11,  2.84s/it]\u001b[A\n",
      " 70%|███████   | 7/10.0 [00:19<00:08,  2.83s/it]\u001b[A\n",
      " 80%|████████  | 8/10.0 [00:22<00:05,  2.83s/it]\u001b[A\n",
      " 90%|█████████ | 9/10.0 [00:25<00:02,  2.83s/it]\u001b[A\n",
      "100%|██████████| 10/10.0 [00:28<00:00,  2.84s/it]\u001b[A\n",
      " 55%|█████▍    | 6/11 [01:09<01:16, 15.28s/it]\n",
      "  0%|          | 0/10.0 [00:00<?, ?it/s]\u001b[A\n",
      " 10%|█         | 1/10.0 [00:03<00:35,  3.96s/it]\u001b[A\n",
      " 20%|██        | 2/10.0 [00:07<00:31,  3.93s/it]\u001b[A\n",
      " 30%|███       | 3/10.0 [00:11<00:27,  3.92s/it]\u001b[A\n",
      " 40%|████      | 4/10.0 [00:15<00:23,  3.91s/it]\u001b[A\n",
      " 50%|█████     | 5/10.0 [00:19<00:19,  3.94s/it]\u001b[A\n",
      " 60%|██████    | 6/10.0 [00:23<00:15,  3.93s/it]\u001b[A\n",
      " 70%|███████   | 7/10.0 [00:27<00:11,  3.90s/it]\u001b[A\n",
      " 80%|████████  | 8/10.0 [00:31<00:07,  3.89s/it]\u001b[A\n",
      " 90%|█████████ | 9/10.0 [00:35<00:03,  3.90s/it]\u001b[A\n",
      "100%|██████████| 10/10.0 [00:39<00:00,  3.90s/it]\u001b[A\n",
      " 64%|██████▎   | 7/11 [01:48<01:29, 22.41s/it]\n",
      "  0%|          | 0/10.0 [00:00<?, ?it/s]\u001b[A\n",
      " 10%|█         | 1/10.0 [00:05<00:46,  5.21s/it]\u001b[A\n",
      " 20%|██        | 2/10.0 [00:10<00:41,  5.19s/it]\u001b[A\n",
      " 30%|███       | 3/10.0 [00:15<00:36,  5.18s/it]\u001b[A\n",
      " 40%|████      | 4/10.0 [00:20<00:31,  5.19s/it]\u001b[A\n",
      " 50%|█████     | 5/10.0 [00:25<00:25,  5.19s/it]\u001b[A\n",
      " 60%|██████    | 6/10.0 [00:31<00:20,  5.18s/it]\u001b[A\n",
      " 70%|███████   | 7/10.0 [00:36<00:15,  5.17s/it]\u001b[A\n",
      " 80%|████████  | 8/10.0 [00:41<00:10,  5.18s/it]\u001b[A\n",
      " 90%|█████████ | 9/10.0 [00:46<00:05,  5.19s/it]\u001b[A\n",
      "100%|██████████| 10/10.0 [00:52<00:00,  5.22s/it]\u001b[A\n",
      " 73%|███████▎  | 8/11 [02:40<01:34, 31.34s/it]\n",
      "  0%|          | 0/10.0 [00:00<?, ?it/s]\u001b[A\n",
      " 10%|█         | 1/10.0 [00:06<01:00,  6.68s/it]\u001b[A\n",
      " 20%|██        | 2/10.0 [00:13<00:53,  6.64s/it]\u001b[A\n",
      " 30%|███       | 3/10.0 [00:19<00:46,  6.64s/it]\u001b[A\n",
      " 40%|████      | 4/10.0 [00:26<00:39,  6.63s/it]\u001b[A\n",
      " 50%|█████     | 5/10.0 [00:33<00:33,  6.64s/it]\u001b[A\n",
      " 60%|██████    | 6/10.0 [00:39<00:26,  6.63s/it]\u001b[A\n",
      " 70%|███████   | 7/10.0 [00:46<00:19,  6.63s/it]\u001b[A\n",
      " 80%|████████  | 8/10.0 [00:53<00:13,  6.62s/it]\u001b[A\n",
      " 90%|█████████ | 9/10.0 [00:59<00:06,  6.63s/it]\u001b[A\n",
      "100%|██████████| 10/10.0 [01:06<00:00,  6.63s/it]\u001b[A\n",
      " 82%|████████▏ | 9/11 [03:46<01:23, 41.81s/it]\n",
      "  0%|          | 0/10.0 [00:00<?, ?it/s]\u001b[A\n",
      " 10%|█         | 1/10.0 [00:08<01:13,  8.13s/it]\u001b[A\n",
      " 20%|██        | 2/10.0 [00:16<01:05,  8.18s/it]\u001b[A\n",
      " 30%|███       | 3/10.0 [00:24<00:57,  8.21s/it]\u001b[A\n",
      " 40%|████      | 4/10.0 [00:32<00:49,  8.23s/it]\u001b[A\n",
      " 50%|█████     | 5/10.0 [00:41<00:41,  8.23s/it]\u001b[A\n",
      " 60%|██████    | 6/10.0 [00:49<00:32,  8.22s/it]\u001b[A\n",
      " 70%|███████   | 7/10.0 [00:57<00:24,  8.22s/it]\u001b[A\n",
      " 80%|████████  | 8/10.0 [01:05<00:16,  8.22s/it]\u001b[A\n",
      " 90%|█████████ | 9/10.0 [01:14<00:08,  8.26s/it]\u001b[A\n",
      "100%|██████████| 10/10.0 [01:22<00:00,  8.24s/it]\u001b[A\n",
      " 91%|█████████ | 10/11 [05:09<00:53, 53.98s/it]\n",
      "  0%|          | 0/10.0 [00:00<?, ?it/s]\u001b[A\n",
      " 10%|█         | 1/10.0 [00:10<01:30, 10.02s/it]\u001b[A\n",
      " 20%|██        | 2/10.0 [00:19<01:19, 10.00s/it]\u001b[A\n",
      " 30%|███       | 3/10.0 [00:29<01:09,  9.97s/it]\u001b[A\n",
      " 40%|████      | 4/10.0 [00:39<00:59,  9.97s/it]\u001b[A\n",
      " 50%|█████     | 5/10.0 [00:49<00:49,  9.90s/it]\u001b[A\n",
      " 60%|██████    | 6/10.0 [00:59<00:39,  9.95s/it]\u001b[A\n",
      " 70%|███████   | 7/10.0 [01:09<00:29,  9.92s/it]\u001b[A\n",
      " 80%|████████  | 8/10.0 [01:19<00:19,  9.97s/it]\u001b[A\n",
      " 90%|█████████ | 9/10.0 [01:29<00:09,  9.95s/it]\u001b[A\n",
      "100%|██████████| 10/10.0 [01:39<00:00,  9.95s/it]\u001b[A\n",
      "100%|██████████| 11/11 [06:48<00:00, 37.16s/it]\n",
      "CPU times: user 52min 27s, sys: 27.1 s, total: 52min 54s\n",
      "Wall time: 51min 58s\n"
     ]
    }
   ],
   "source": [
    "%%time\n",
    "\n",
    "optimizer.search_for_optimum(\n",
    "    text_collection,\n",
    "    num_dataset_subsamples = 5,\n",
    "    dataset_subsample_size = 0.5,\n",
    ")"
   ]
  },
  {
   "cell_type": "markdown",
   "metadata": {},
   "source": [
    "The search method's result may be accessed as `optimizer._result`.\n",
    "Let's see what is available here:"
   ]
  },
  {
   "cell_type": "code",
   "execution_count": null,
   "metadata": {},
   "outputs": [
    {
     "data": {
      "text/plain": [
       "['stability_metrics_for_num_topics']"
      ]
     },
     "execution_count": null,
     "metadata": {},
     "output_type": "execute_result"
    }
   ],
   "source": [
    "list(optimizer._result.keys())"
   ]
  },
  {
   "cell_type": "code",
   "execution_count": null,
   "metadata": {},
   "outputs": [
    {
     "data": {
      "text/plain": [
       "{'stability_metrics_for_num_topics': {1: {'std': 0.005155798268201555,\n",
       "   'var': 2.6582255782390152e-05,\n",
       "   'range': 0.01590726376794882,\n",
       "   'interquartile_range': 0.006782197429255898},\n",
       "  11: {'std': 0.17818067032136625,\n",
       "   'var': 0.031748351276171406,\n",
       "   'range': 0.5842870623628347,\n",
       "   'interquartile_range': 0.15480202744923677},\n",
       "  21: {'std': 0.24780425094957242,\n",
       "   'var': 0.06140694678867867,\n",
       "   'range': 0.7259058589366365,\n",
       "   'interquartile_range': 0.38879631687902894},\n",
       "  31: {'std': 0.30053310815845585,\n",
       "   'var': 0.09032014909938213,\n",
       "   'range': 1.1983873551797615,\n",
       "   'interquartile_range': 0.10624699947623739},\n",
       "  41: {'std': 0.3610415067685589,\n",
       "   'var': 0.13035096960971135,\n",
       "   'range': 1.0690906814473138,\n",
       "   'interquartile_range': 0.5697156488286303},\n",
       "  51: {'std': 0.49261286311222957,\n",
       "   'var': 0.24266743290362822,\n",
       "   'range': 1.2844582735160088,\n",
       "   'interquartile_range': 0.6929622313247918},\n",
       "  61: {'std': 0.5584869661154541,\n",
       "   'var': 0.31190769132084445,\n",
       "   'range': 1.787060548922824,\n",
       "   'interquartile_range': 0.7580692965712217},\n",
       "  71: {'std': 0.5011025608191632,\n",
       "   'var': 0.2511037764595231,\n",
       "   'range': 1.4375093458005779,\n",
       "   'interquartile_range': 0.6567018926453372},\n",
       "  81: {'std': 0.6466094100601969,\n",
       "   'var': 0.4181037291783959,\n",
       "   'range': 2.345579042113272,\n",
       "   'interquartile_range': 0.6893776791602519},\n",
       "  91: {'std': 0.6331997703080828,\n",
       "   'var': 0.4009419491182089,\n",
       "   'range': 2.098075070717414,\n",
       "   'interquartile_range': 0.7246184803369289},\n",
       "  101: {'std': 0.8276875502219341,\n",
       "   'var': 0.6850666807923866,\n",
       "   'range': 2.7220311177381262,\n",
       "   'interquartile_range': 0.7925339468118295}}}"
      ]
     },
     "execution_count": null,
     "metadata": {},
     "output_type": "execute_result"
    }
   ],
   "source": [
    "optimizer._result"
   ]
  },
  {
   "cell_type": "markdown",
   "metadata": {},
   "source": [
    "## A Bit of Analysis"
   ]
  },
  {
   "cell_type": "markdown",
   "metadata": {},
   "source": [
    "Let's plot computed topic model stability metrics for different number of topics"
   ]
  },
  {
   "cell_type": "code",
   "execution_count": null,
   "metadata": {},
   "outputs": [],
   "source": [
    "numbers_of_topics = list(list(optimizer._result.values())[0].keys())\n",
    "num_topics_metrics = list(list(optimizer._result.values())[0].values())"
   ]
  },
  {
   "cell_type": "code",
   "execution_count": null,
   "metadata": {},
   "outputs": [
    {
     "data": {
      "text/plain": [
       "{'std': 0.005155798268201555,\n",
       " 'var': 2.6582255782390152e-05,\n",
       " 'range': 0.01590726376794882,\n",
       " 'interquartile_range': 0.006782197429255898}"
      ]
     },
     "execution_count": null,
     "metadata": {},
     "output_type": "execute_result"
    }
   ],
   "source": [
    "num_topics_metrics[0]"
   ]
  },
  {
   "cell_type": "code",
   "execution_count": null,
   "metadata": {},
   "outputs": [
    {
     "data": {
      "image/png": "[encoded data removed]",
      "text/plain": [
       "<Figure size 1728x504 with 4 Axes>"
      ]
     },
     "metadata": {
      "needs_background": "light"
     },
     "output_type": "display_data"
    }
   ],
   "source": [
    "fig, axes = plt.subplots(\n",
    "    1, len(num_topics_metrics[0]),\n",
    "    figsize=(6 * len(num_topics_metrics[0]), 7)\n",
    ")\n",
    "\n",
    "\n",
    "for stability_metric, ax in zip(num_topics_metrics[0], axes):\n",
    "    ax.plot(\n",
    "        numbers_of_topics,\n",
    "        [v[stability_metric] for v in num_topics_metrics],\n",
    "        lw=5\n",
    "    )\n",
    "    \n",
    "    ax.grid(True)\n",
    "    ax.set_ylabel(stability_metric)\n",
    "    ax.set_xlabel('Number of topics')\n",
    "\n",
    "\n",
    "plt.show()"
   ]
  },
  {
   "cell_type": "markdown",
   "metadata": {},
   "source": [
    "IQR has a sharp minimum around $30$ topics.\n",
    "And all four metrics has a local minimum around 70 topics."
   ]
  },
  {
   "cell_type": "markdown",
   "metadata": {},
   "source": [
    "## Appendix. Some Developer Notes"
   ]
  },
  {
   "cell_type": "markdown",
   "metadata": {},
   "source": [
    "The main point is the following: setting `max_num_top_words` to some reasonable number (eg. `1000` or lower) helps to reduce the computation time significantly."
   ]
  },
  {
   "cell_type": "code",
   "execution_count": null,
   "metadata": {},
   "outputs": [],
   "source": [
    "import numpy as np\n",
    "import pandas as pd\n",
    "import tqdm\n",
    "\n",
    "from lapsolver import solve_dense"
   ]
  },
  {
   "cell_type": "code",
   "execution_count": null,
   "metadata": {},
   "outputs": [
    {
     "data": {
      "text/plain": [
       "'/tmp/tmp_8oo6ahe'"
      ]
     },
     "execution_count": null,
     "metadata": {},
     "output_type": "execute_result"
    }
   ],
   "source": [
    "optimizer._models_folder_path"
   ]
  },
  {
   "cell_type": "code",
   "execution_count": null,
   "metadata": {},
   "outputs": [
    {
     "name": "stdout",
     "output_type": "stream",
     "text": [
      "model_0  model_1  model_2  model_3  model_4\r\n"
     ]
    }
   ],
   "source": [
    "! ls '/tmp/tmp_8oo6ahe/num_topics_080'"
   ]
  },
  {
   "cell_type": "code",
   "execution_count": null,
   "metadata": {},
   "outputs": [],
   "source": [
    "phi_a = pd.read_csv(\n",
    "    '/tmp/tmp_8oo6ahe/num_topics_100/model_0/phi.csv',\n",
    "    index_col=0,\n",
    ")\n",
    "\n",
    "phi_b = pd.read_csv(\n",
    "    '/tmp/tmp_8oo6ahe/num_topics_100/model_1/phi.csv',\n",
    "    index_col=0,\n",
    ")"
   ]
  },
  {
   "cell_type": "markdown",
   "metadata": {},
   "source": [
    "We have ~$30\\,000$ words in each topic."
   ]
  },
  {
   "cell_type": "code",
   "execution_count": null,
   "metadata": {},
   "outputs": [
    {
     "data": {
      "text/plain": [
       "((31258, 100), (31455, 100))"
      ]
     },
     "execution_count": null,
     "metadata": {},
     "output_type": "execute_result"
    }
   ],
   "source": [
    "phi_a.shape, phi_b.shape"
   ]
  },
  {
   "cell_type": "markdown",
   "metadata": {},
   "source": [
    "Let's first try not to use `max_num_top_words` by setting it equal `None`."
   ]
  },
  {
   "cell_type": "code",
   "execution_count": null,
   "metadata": {},
   "outputs": [],
   "source": [
    "optimizer._max_num_top_words = None # 1000"
   ]
  },
  {
   "cell_type": "markdown",
   "metadata": {},
   "source": [
    "P.S.\n",
    "In the cell below is code copy-pasted from .py files.\n",
    "We collect topics from models to compare them further.\n",
    "And `max_num_top_words` is either reducing the number of words for each topic, or doing nothing."
   ]
  },
  {
   "cell_type": "code",
   "execution_count": null,
   "metadata": {},
   "outputs": [
    {
     "name": "stdout",
     "output_type": "stream",
     "text": [
      "Creating lists\n"
     ]
    }
   ],
   "source": [
    "assert phi_a.shape[1] == phi_b.shape[1]\n",
    "\n",
    "num_topics = phi_a.shape[1]\n",
    "topic_distances = np.zeros(shape=(num_topics, num_topics))\n",
    "topic_indices = list(range(num_topics))\n",
    "\n",
    "\n",
    "print('Creating lists')\n",
    "\n",
    "\n",
    "if optimizer._max_num_top_words is None:\n",
    "    topics_a = [\n",
    "        phi_a.iloc[:, phi_col] for phi_col in topic_indices\n",
    "    ]\n",
    "    topics_b = [\n",
    "        phi_b.iloc[:, phi_col] for phi_col in topic_indices\n",
    "    ]\n",
    "else:\n",
    "    topics_a = [\n",
    "        phi_a.iloc[:, phi_col].sort_values(ascending=False)[:optimizer._max_num_top_words]\n",
    "        for phi_col in topic_indices\n",
    "    ]\n",
    "    topics_b = [\n",
    "        phi_b.iloc[:, phi_col].sort_values(ascending=False)[:optimizer._max_num_top_words]\n",
    "        for phi_col in topic_indices\n",
    "    ]"
   ]
  },
  {
   "cell_type": "markdown",
   "metadata": {},
   "source": [
    "Checking if all topics collected"
   ]
  },
  {
   "cell_type": "code",
   "execution_count": null,
   "metadata": {},
   "outputs": [
    {
     "data": {
      "text/plain": [
       "100"
      ]
     },
     "execution_count": null,
     "metadata": {},
     "output_type": "execute_result"
    }
   ],
   "source": [
    "len(topics_b)"
   ]
  },
  {
   "cell_type": "code",
   "execution_count": null,
   "metadata": {},
   "outputs": [],
   "source": [
    "optimizer._max_num_top_words"
   ]
  },
  {
   "cell_type": "markdown",
   "metadata": {},
   "source": [
    "And here is the core part: computation of pairwise topic distances"
   ]
  },
  {
   "cell_type": "code",
   "execution_count": null,
   "metadata": {},
   "outputs": [
    {
     "name": "stderr",
     "output_type": "stream",
     "text": [
      "\r",
      "  0%|          | 0/100 [00:00<?, ?it/s]"
     ]
    },
    {
     "name": "stdout",
     "output_type": "stream",
     "text": [
      "Computing distance\n"
     ]
    },
    {
     "name": "stderr",
     "output_type": "stream",
     "text": [
      "100%|██████████| 100/100 [03:44<00:00,  2.24s/it]\n"
     ]
    }
   ],
   "source": [
    "print('Computing distance')\n",
    "\n",
    "for topic_index_a, topic_a in tqdm.tqdm(enumerate(topics_a), total=len(topics_a)):\n",
    "    for topic_index_b, topic_b in enumerate(topics_b):\n",
    "        topic_distance = optimizer._compute_topic_distance(\n",
    "            topic_a, topic_b\n",
    "        )\n",
    "        topic_distances[topic_index_a, topic_index_b] = topic_distance"
   ]
  },
  {
   "cell_type": "markdown",
   "metadata": {},
   "source": [
    "Too slow.\n",
    "\n",
    "And let's count the time needed for the computation of one distance"
   ]
  },
  {
   "cell_type": "code",
   "execution_count": null,
   "metadata": {},
   "outputs": [
    {
     "name": "stdout",
     "output_type": "stream",
     "text": [
      "23 ms ± 24.8 µs per loop (mean ± std. dev. of 7 runs, 10 loops each)\n"
     ]
    }
   ],
   "source": [
    "%%timeit\n",
    "optimizer._compute_topic_distance(\n",
    "    topic_a, topic_b\n",
    ")"
   ]
  },
  {
   "cell_type": "markdown",
   "metadata": {},
   "source": [
    "And what would be if we have set `max_num_top_words = 1000`:"
   ]
  },
  {
   "cell_type": "code",
   "execution_count": null,
   "metadata": {},
   "outputs": [
    {
     "name": "stdout",
     "output_type": "stream",
     "text": [
      "960 µs ± 1.96 µs per loop (mean ± std. dev. of 7 runs, 1000 loops each)\n"
     ]
    }
   ],
   "source": [
    "%%timeit\n",
    "\n",
    "optimizer._compute_topic_distance(\n",
    "    topic_a, topic_b\n",
    ")"
   ]
  },
  {
   "cell_type": "markdown",
   "metadata": {},
   "source": [
    "$960$ µs (None) vs $23\\,000$ µs ($1000$)!"
   ]
  },
  {
   "cell_type": "markdown",
   "metadata": {},
   "source": [
    "Let's look at some distances"
   ]
  },
  {
   "cell_type": "code",
   "execution_count": null,
   "metadata": {},
   "outputs": [
    {
     "data": {
      "text/plain": [
       "array([0.62114394, 0.90923059, 0.9087452 , 0.9123719 , 0.91654612,\n",
       "       0.90235641, 0.91053944, 0.91119898, 0.89946246, 0.92095889,\n",
       "       0.92320303, 0.89471967, 0.91476485, 0.93568774, 0.9209186 ,\n",
       "       0.93453273, 0.91282153, 0.9129249 , 0.90786277, 0.88436017,\n",
       "       0.91365809, 0.90866124, 0.8931335 , 0.91332144, 0.90382684,\n",
       "       0.88744653, 0.90952673, 0.92215811, 0.89026398, 0.90182428,\n",
       "       0.92402517, 0.91287951, 0.89235544, 0.90899086, 0.91628247,\n",
       "       0.89179321, 0.91119629, 0.88453934, 0.88741315, 0.90133225,\n",
       "       0.9030886 , 0.92540002, 0.9341681 , 0.89798052, 0.91682521,\n",
       "       0.90480055, 0.93206356, 0.91658295, 0.89240712, 0.89223456,\n",
       "       0.88348358, 0.92645066, 0.91902837, 0.91534864, 0.90509359,\n",
       "       0.89102454, 0.91031308, 0.90458832, 0.91796801, 0.91371667,\n",
       "       0.90714265, 0.91382986, 0.90292646, 0.89310802, 0.90597783,\n",
       "       0.86471209, 0.9087681 , 0.92076784, 0.90450044, 0.91778618,\n",
       "       0.92809178, 0.91388617, 0.91474045, 0.89104176, 0.90578819,\n",
       "       0.90830223, 0.91983451, 0.88936351, 0.88902619, 0.90553673,\n",
       "       0.88594721, 0.91167153, 0.91397026, 0.91960867, 0.91412563,\n",
       "       0.89990451, 0.89753232, 0.9005441 , 0.91801527, 0.9241577 ,\n",
       "       0.91306024, 0.93506067, 0.91145425, 0.92953831, 0.90514892,\n",
       "       0.89248207, 0.90893144, 0.88985196, 0.8799424 , 0.90028476])"
      ]
     },
     "execution_count": null,
     "metadata": {},
     "output_type": "execute_result"
    }
   ],
   "source": [
    "topic_distances[0]"
   ]
  },
  {
   "cell_type": "markdown",
   "metadata": {},
   "source": [
    "Realization of Hungarian method used here is actually very quick (no `%%timeit` is needed, really)"
   ]
  },
  {
   "cell_type": "code",
   "execution_count": null,
   "metadata": {},
   "outputs": [
    {
     "data": {
      "text/plain": [
       "75.0208838525727"
      ]
     },
     "execution_count": null,
     "metadata": {},
     "output_type": "execute_result"
    }
   ],
   "source": [
    "row_ids, column_ids = solve_dense(topic_distances)\n",
    "\n",
    "float(np.sum(\n",
    "    topic_distances[row_ids, column_ids]\n",
    "))"
   ]
  }
 ],
 "metadata": {
  "kernelspec": {
   "display_name": "Python 3",
   "language": "python",
   "name": "python3"
  },
  "language_info": {
   "codemirror_mode": {
    "name": "ipython",
    "version": 3
   },
   "file_extension": ".py",
   "mimetype": "text/x-python",
   "name": "python",
   "nbconvert_exporter": "python",
   "pygments_lexer": "ipython3",
   "version": "3.6.8"
  }
 },
 "nbformat": 4,
 "nbformat_minor": 2
}
