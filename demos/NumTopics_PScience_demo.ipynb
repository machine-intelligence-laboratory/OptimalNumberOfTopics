{
 "cells": [
  {
   "cell_type": "markdown",
   "metadata": {},
   "source": [
    "# NumTopics: PScience"
   ]
  },
  {
   "cell_type": "code",
   "execution_count": 1,
   "metadata": {},
   "outputs": [],
   "source": [
    "import time\n",
    "\n",
    "from topicnet.cooking_machine.models import TopicModel\n",
    "from topicnet.cooking_machine.model_constructor import init_simple_default_model\n",
    "from topicnet.cooking_machine.dataset import Dataset"
   ]
  },
  {
   "cell_type": "code",
   "execution_count": null,
   "metadata": {},
   "outputs": [],
   "source": [
    "import matplotlib.pyplot as plt\n",
    "%matplotlib inline"
   ]
  },
  {
   "cell_type": "code",
   "execution_count": null,
   "metadata": {},
   "outputs": [],
   "source": [
    "import sys\n",
    "\n",
    "sys.path.insert(0, '..')\n",
    "\n",
    "from run_search import (\n",
    "    _optimize_scores,\n",
    "    _build_renyi_entropy_score,\n",
    "    _build_perplexity_score\n",
    ")\n",
    "\n",
    "from topnum.data.vowpal_wabbit_text_collection import VowpalWabbitTextCollection\n",
    "from topnum.scores import (\n",
    "    PerplexityScore,\n",
    "    EntropyScore\n",
    ")\n",
    "from topnum.search_methods.optimize_scores_method import OptimizeScoresMethod\n",
    "from topnum.search_methods.optimize_scores_method import restore_failed_experiment"
   ]
  },
  {
   "cell_type": "markdown",
   "metadata": {},
   "source": [
    "## Data"
   ]
  },
  {
   "cell_type": "code",
   "execution_count": 2,
   "metadata": {},
   "outputs": [],
   "source": [
    "PATH = '/data/datasets/Post_Science/PScience.csv'\n",
    "BATCHES = './PScience_batches'\n",
    "\n",
    "dataset = Dataset(PATH, batch_vectorizer_path=BATCHES)"
   ]
  },
  {
   "cell_type": "code",
   "execution_count": 3,
   "metadata": {},
   "outputs": [],
   "source": [
    "modalities = {\n",
    "    \"@word\": 1.0,\n",
    "    \"@post_tag\": 3,\n",
    "    \"@3gramm\": 3,\n",
    "}"
   ]
  },
  {
   "cell_type": "code",
   "execution_count": 5,
   "metadata": {},
   "outputs": [],
   "source": [
    "vw_file_path = \"PScience_vw.txt\"\n",
    "\n",
    "dataset.write_vw(vw_file_path)"
   ]
  },
  {
   "cell_type": "code",
   "execution_count": 6,
   "metadata": {},
   "outputs": [],
   "source": [
    "# TODO: instead of modalities let's use predefined model families\n",
    "# TODO: output_file_path"
   ]
  },
  {
   "cell_type": "markdown",
   "metadata": {},
   "source": [
    "## Experiments"
   ]
  },
  {
   "cell_type": "code",
   "execution_count": 7,
   "metadata": {},
   "outputs": [],
   "source": [
    "main_modality_name, modalities = \"@word\", modalities\n",
    "\n",
    "modality_names = list(modalities.keys())\n",
    "\n",
    "# vw_file_path = args.vw_file_path\n",
    "\n",
    "output_file_path = \"output.json\"\n",
    "\n",
    "min_num_topics = 13\n",
    "max_num_topics = 25\n",
    "\n",
    "num_topics_interval = 1\n",
    "num_fit_iterations = 10\n",
    "num_restarts = 6"
   ]
  },
  {
   "cell_type": "code",
   "execution_count": 8,
   "metadata": {},
   "outputs": [],
   "source": [
    "threshold_factor = 1\n",
    "\n",
    "scores = [_build_renyi_entropy_score(threshold_factor, modality_names)]"
   ]
  },
  {
   "cell_type": "code",
   "execution_count": 59,
   "metadata": {},
   "outputs": [
    {
     "data": {
      "text/plain": [
       "'renyi_entropy_score'"
      ]
     },
     "execution_count": 59,
     "metadata": {},
     "output_type": "execute_result"
    }
   ],
   "source": [
    "scores[0].name"
   ]
  },
  {
   "cell_type": "code",
   "execution_count": 10,
   "metadata": {},
   "outputs": [],
   "source": [
    "text_collection = VowpalWabbitTextCollection(\n",
    "    vw_file_path,\n",
    "    main_modality=main_modality_name,\n",
    "    modalities=modalities\n",
    ")\n",
    "\n",
    "optimizer = OptimizeScoresMethod(\n",
    "    scores=scores,\n",
    "    min_num_topics=min_num_topics,\n",
    "    max_num_topics=max_num_topics,\n",
    "    num_topics_interval=num_topics_interval,\n",
    "    num_fit_iterations=num_fit_iterations,\n",
    "    num_restarts=num_restarts,\n",
    "    experiment_name=\"num_topics_search_10iters\"\n",
    ")"
   ]
  },
  {
   "cell_type": "code",
   "execution_count": null,
   "metadata": {},
   "outputs": [],
   "source": [
    "t_start = time.time()\n",
    "\n",
    "optimizer.search_for_optimum(text_collection)"
   ]
  },
  {
   "cell_type": "code",
   "execution_count": null,
   "metadata": {},
   "outputs": [],
   "source": [
    "result, detailed_resut = restore_failed_experiment('num_topics_search', 'num_topics_search_10iters', [\"renyi_entropy_score\"])"
   ]
  },
  {
   "cell_type": "code",
   "execution_count": 101,
   "metadata": {},
   "outputs": [
    {
     "data": {
      "text/html": [
       "<div>\n",
       "<style scoped>\n",
       "    .dataframe tbody tr th:only-of-type {\n",
       "        vertical-align: middle;\n",
       "    }\n",
       "\n",
       "    .dataframe tbody tr th {\n",
       "        vertical-align: top;\n",
       "    }\n",
       "\n",
       "    .dataframe thead th {\n",
       "        text-align: right;\n",
       "    }\n",
       "</style>\n",
       "<table border=\"1\" class=\"dataframe\">\n",
       "  <thead>\n",
       "    <tr style=\"text-align: right;\">\n",
       "      <th></th>\n",
       "      <th>13</th>\n",
       "      <th>14</th>\n",
       "      <th>15</th>\n",
       "      <th>16</th>\n",
       "      <th>17</th>\n",
       "      <th>18</th>\n",
       "      <th>19</th>\n",
       "      <th>20</th>\n",
       "      <th>21</th>\n",
       "      <th>22</th>\n",
       "      <th>23</th>\n",
       "      <th>24</th>\n",
       "      <th>25</th>\n",
       "    </tr>\n",
       "    <tr>\n",
       "      <th>restart_id</th>\n",
       "      <th></th>\n",
       "      <th></th>\n",
       "      <th></th>\n",
       "      <th></th>\n",
       "      <th></th>\n",
       "      <th></th>\n",
       "      <th></th>\n",
       "      <th></th>\n",
       "      <th></th>\n",
       "      <th></th>\n",
       "      <th></th>\n",
       "      <th></th>\n",
       "      <th></th>\n",
       "    </tr>\n",
       "  </thead>\n",
       "  <tbody>\n",
       "    <tr>\n",
       "      <th>seed=0</th>\n",
       "      <td>1.742720</td>\n",
       "      <td>1.746169</td>\n",
       "      <td>1.743445</td>\n",
       "      <td>1.737934</td>\n",
       "      <td>1.740811</td>\n",
       "      <td>1.741401</td>\n",
       "      <td>1.742094</td>\n",
       "      <td>1.743911</td>\n",
       "      <td>1.748436</td>\n",
       "      <td>1.752369</td>\n",
       "      <td>1.756215</td>\n",
       "      <td>1.755854</td>\n",
       "      <td>1.757148</td>\n",
       "    </tr>\n",
       "    <tr>\n",
       "      <th>seed=1</th>\n",
       "      <td>1.729368</td>\n",
       "      <td>1.733189</td>\n",
       "      <td>1.735929</td>\n",
       "      <td>1.739742</td>\n",
       "      <td>1.737735</td>\n",
       "      <td>1.738726</td>\n",
       "      <td>1.739136</td>\n",
       "      <td>1.744090</td>\n",
       "      <td>1.744311</td>\n",
       "      <td>1.747291</td>\n",
       "      <td>1.753374</td>\n",
       "      <td>1.755947</td>\n",
       "      <td>1.757525</td>\n",
       "    </tr>\n",
       "    <tr>\n",
       "      <th>seed=2</th>\n",
       "      <td>1.731936</td>\n",
       "      <td>1.732251</td>\n",
       "      <td>1.729011</td>\n",
       "      <td>1.727693</td>\n",
       "      <td>1.727476</td>\n",
       "      <td>1.735090</td>\n",
       "      <td>1.735419</td>\n",
       "      <td>1.738627</td>\n",
       "      <td>1.742005</td>\n",
       "      <td>1.745690</td>\n",
       "      <td>1.746900</td>\n",
       "      <td>1.751988</td>\n",
       "      <td>1.754505</td>\n",
       "    </tr>\n",
       "    <tr>\n",
       "      <th>seed=3</th>\n",
       "      <td>1.730542</td>\n",
       "      <td>1.728916</td>\n",
       "      <td>NaN</td>\n",
       "      <td>NaN</td>\n",
       "      <td>NaN</td>\n",
       "      <td>NaN</td>\n",
       "      <td>NaN</td>\n",
       "      <td>NaN</td>\n",
       "      <td>NaN</td>\n",
       "      <td>NaN</td>\n",
       "      <td>NaN</td>\n",
       "      <td>NaN</td>\n",
       "      <td>NaN</td>\n",
       "    </tr>\n",
       "    <tr>\n",
       "      <th>seed=-1</th>\n",
       "      <td>1.742720</td>\n",
       "      <td>1.746169</td>\n",
       "      <td>1.743445</td>\n",
       "      <td>1.737934</td>\n",
       "      <td>1.740811</td>\n",
       "      <td>1.741401</td>\n",
       "      <td>1.742094</td>\n",
       "      <td>1.743911</td>\n",
       "      <td>1.748436</td>\n",
       "      <td>1.752369</td>\n",
       "      <td>1.756215</td>\n",
       "      <td>1.755854</td>\n",
       "      <td>1.757148</td>\n",
       "    </tr>\n",
       "  </tbody>\n",
       "</table>\n",
       "</div>"
      ],
      "text/plain": [
       "                  13        14        15        16        17        18  \\\n",
       "restart_id                                                               \n",
       "seed=0      1.742720  1.746169  1.743445  1.737934  1.740811  1.741401   \n",
       "seed=1      1.729368  1.733189  1.735929  1.739742  1.737735  1.738726   \n",
       "seed=2      1.731936  1.732251  1.729011  1.727693  1.727476  1.735090   \n",
       "seed=3      1.730542  1.728916       NaN       NaN       NaN       NaN   \n",
       "seed=-1     1.742720  1.746169  1.743445  1.737934  1.740811  1.741401   \n",
       "\n",
       "                  19        20        21        22        23        24  \\\n",
       "restart_id                                                               \n",
       "seed=0      1.742094  1.743911  1.748436  1.752369  1.756215  1.755854   \n",
       "seed=1      1.739136  1.744090  1.744311  1.747291  1.753374  1.755947   \n",
       "seed=2      1.735419  1.738627  1.742005  1.745690  1.746900  1.751988   \n",
       "seed=3           NaN       NaN       NaN       NaN       NaN       NaN   \n",
       "seed=-1     1.742094  1.743911  1.748436  1.752369  1.756215  1.755854   \n",
       "\n",
       "                  25  \n",
       "restart_id            \n",
       "seed=0      1.757148  \n",
       "seed=1      1.757525  \n",
       "seed=2      1.754505  \n",
       "seed=3           NaN  \n",
       "seed=-1     1.757148  "
      ]
     },
     "execution_count": 101,
     "metadata": {},
     "output_type": "execute_result"
    }
   ],
   "source": [
    "detailed_resut['renyi_entropy_score']"
   ]
  },
  {
   "cell_type": "code",
   "execution_count": 102,
   "metadata": {},
   "outputs": [
    {
     "data": {
      "text/plain": [
       "{'optimum': 16.0,\n",
       " 'optimum_std': 1.6431676725154982,\n",
       " 'num_topics_values': [13, 14, 15, 16, 17, 18, 19, 20, 21, 22, 23, 24, 25],\n",
       " 'score_values': [1.7354574325305752,\n",
       "  1.7373386481894268,\n",
       "  1.7379571649737604,\n",
       "  1.7358259976978723,\n",
       "  1.7367085805293891,\n",
       "  1.739154704318309,\n",
       "  1.7396857541532964,\n",
       "  1.7426349337928837,\n",
       "  1.745797080592478,\n",
       "  1.749429804469732,\n",
       "  1.7531761629770546,\n",
       "  1.7549108509613665,\n",
       "  1.7565815260077826],\n",
       " 'score_values_std': [0.006691990321398389,\n",
       "  0.00821603728864417,\n",
       "  0.006937391277315459,\n",
       "  0.005488225301487853,\n",
       "  0.00632359343596722,\n",
       "  0.002988738429395719,\n",
       "  0.0031678907377335496,\n",
       "  0.0026730171541445107,\n",
       "  0.003189580008400131,\n",
       "  0.003456549694349441,\n",
       "  0.004393182645154352,\n",
       "  0.0019489083042670099,\n",
       "  0.0013959244734553526]}"
      ]
     },
     "execution_count": 102,
     "metadata": {},
     "output_type": "execute_result"
    }
   ],
   "source": [
    "result['score_results']['renyi_entropy_score']"
   ]
  },
  {
   "cell_type": "markdown",
   "metadata": {},
   "source": [
    "The minimum of entropy appears to be near 15-20 topics"
   ]
  },
  {
   "cell_type": "code",
   "execution_count": 100,
   "metadata": {},
   "outputs": [
    {
     "data": {
      "image/png": "[encoded data removed]",
      "text/plain": [
       "<Figure size 432x288 with 1 Axes>"
      ]
     },
     "metadata": {
      "needs_background": "light"
     },
     "output_type": "display_data"
    }
   ],
   "source": [
    "plt.plot(detailed_resut['renyi_entropy_score'].T)\n",
    "plt.show()"
   ]
  }
 ],
 "metadata": {
  "kernelspec": {
   "display_name": "Python 3",
   "language": "python",
   "name": "python3"
  },
  "language_info": {
   "codemirror_mode": {
    "name": "ipython",
    "version": 3
   },
   "file_extension": ".py",
   "mimetype": "text/x-python",
   "name": "python",
   "nbconvert_exporter": "python",
   "pygments_lexer": "ipython3",
   "version": "3.6.8"
  }
 },
 "nbformat": 4,
 "nbformat_minor": 2
}
