{
 "cells": [
  {
   "cell_type": "markdown",
   "metadata": {},
   "source": [
    "# TopicBank Demo\n",
    "\n",
    "The notebook contains a demonstration of the [TopicBank approach](https://github.com/machine-intelligence-laboratory/OptimalNumberOfTopics/tree/master/topnum/search_methods/topic_bank) for finding an appropriate number of topics.\n",
    "\n",
    "Dataset used for demonstration is [20 Newsgroups](http://qwone.com/~jason/20Newsgroups/), preprocessed in a way described in the notebook [Making-Decorrelation-and-Topic-Selection-Friends.ipynb](https://github.com/machine-intelligence-laboratory/TopicNet/blob/master/topicnet/demos/Making-Decorrelation-and-Topic-Selection-Friends.ipynb)."
   ]
  },
  {
   "cell_type": "code",
   "execution_count": null,
   "metadata": {},
   "outputs": [],
   "source": [
    "# General imports\n",
    "\n",
    "import numpy as np\n",
    "import os\n",
    "\n",
    "from scipy.stats import gaussian_kde\n",
    "from matplotlib import pyplot as plt\n",
    "\n",
    "%matplotlib inline"
   ]
  },
  {
   "cell_type": "code",
   "execution_count": null,
   "metadata": {},
   "outputs": [],
   "source": [
    "# Making `topnum` module visible for Python\n",
    "\n",
    "import sys\n",
    "\n",
    "sys.path.insert(0, '..')"
   ]
  },
  {
   "cell_type": "code",
   "execution_count": null,
   "metadata": {},
   "outputs": [],
   "source": [
    "# Optimal number of topics\n",
    "\n",
    "from topnum.data.vowpal_wabbit_text_collection import VowpalWabbitTextCollection\n",
    "from topnum.search_methods import TopicBankMethod"
   ]
  },
  {
   "cell_type": "markdown",
   "metadata": {},
   "source": [
    "## Data\n",
    "\n",
    "In the folder below must reside the necessary data file in Vowpal Wabbit format."
   ]
  },
  {
   "cell_type": "code",
   "execution_count": null,
   "metadata": {},
   "outputs": [],
   "source": [
    "DATA_FOLDER_PATH = 'data'"
   ]
  },
  {
   "cell_type": "code",
   "execution_count": null,
   "metadata": {},
   "outputs": [
    {
     "data": {
      "text/plain": [
       "['_dataset_lthzj9qc',\n",
       " '_dataset_ux1_6tj1',\n",
       " '_dataset_hvteto6c',\n",
       " '_dataset_1fzjutvk',\n",
       " '_dataset_0o0fiiqo',\n",
       " '_dataset_a00ok3up',\n",
       " '_dataset_lh9rv2te',\n",
       " '_dataset_0jpn3owo',\n",
       " '_dataset_m9qhqs6p',\n",
       " '_dataset_5qy6w9hv',\n",
       " 'twenty_newsgroups__vw__natural_order.txt']"
      ]
     },
     "execution_count": null,
     "metadata": {},
     "output_type": "execute_result"
    }
   ],
   "source": [
    "os.listdir(DATA_FOLDER_PATH)"
   ]
  },
  {
   "cell_type": "code",
   "execution_count": null,
   "metadata": {},
   "outputs": [],
   "source": [
    "vw_file_path = os.path.join(\n",
    "    DATA_FOLDER_PATH,\n",
    "    'twenty_newsgroups__vw__natural_order.txt'\n",
    ")"
   ]
  },
  {
   "cell_type": "markdown",
   "metadata": {},
   "source": [
    "Checking if all OK with data, what modalities does the collection have."
   ]
  },
  {
   "cell_type": "code",
   "execution_count": null,
   "metadata": {},
   "outputs": [
    {
     "name": "stdout",
     "output_type": "stream",
     "text": [
      "rec.autos_102994 |@text enlighten bricklin bumper funky\r\n",
      "comp.sys.mac.hardware_51861 |@text upgraded oscillator poll detailing attained sink summarizing poll\r\n",
      "comp.sys.mac.hardware_51879 |@text ghost sooo sooner picking powerbook dirt powerbook appearence macleak powerbook swing yea solicit subjective breifly hellcat premium willis ecn purdue purdue\r\n",
      "sci.space_60880 |@text std std baker suchlike introduce liftoff\r\n",
      "talk.politics.guns_54525 |@text rigidly allegedly presenting evidently\r\n",
      "sci.med_58080 |@text bouncing probs sean debra sharon accidentally delete\r\n",
      "comp.sys.ibm.pc.hardware_60249 |@text controler burst burst burst burst esdi sumex aim txt salesperson burst synchronous\r\n"
     ]
    }
   ],
   "source": [
    "! head -n 7 $vw_file_path"
   ]
  },
  {
   "cell_type": "markdown",
   "metadata": {},
   "source": [
    "Defining a text collection entity, which is to be passed to topic number search method later:"
   ]
  },
  {
   "cell_type": "code",
   "execution_count": null,
   "metadata": {},
   "outputs": [],
   "source": [
    "text_collection = VowpalWabbitTextCollection(\n",
    "    vw_file_path,\n",
    "    main_modality='@text'\n",
    ")"
   ]
  },
  {
   "cell_type": "markdown",
   "metadata": {},
   "source": [
    "Let's transform this collection to the TopicNet's Dataset (so as to look at it more easily)."
   ]
  },
  {
   "cell_type": "code",
   "execution_count": null,
   "metadata": {},
   "outputs": [],
   "source": [
    "dataset = text_collection._to_dataset()"
   ]
  },
  {
   "cell_type": "code",
   "execution_count": null,
   "metadata": {},
   "outputs": [
    {
     "data": {
      "text/plain": [
       "(12778, 2)"
      ]
     },
     "execution_count": null,
     "metadata": {},
     "output_type": "execute_result"
    }
   ],
   "source": [
    "dataset._data.shape"
   ]
  },
  {
   "cell_type": "code",
   "execution_count": null,
   "metadata": {},
   "outputs": [
    {
     "data": {
      "text/html": [
       "<div>\n",
       "<style scoped>\n",
       "    .dataframe tbody tr th:only-of-type {\n",
       "        vertical-align: middle;\n",
       "    }\n",
       "\n",
       "    .dataframe tbody tr th {\n",
       "        vertical-align: top;\n",
       "    }\n",
       "\n",
       "    .dataframe thead th {\n",
       "        text-align: right;\n",
       "    }\n",
       "</style>\n",
       "<table border=\"1\" class=\"dataframe\">\n",
       "  <thead>\n",
       "    <tr style=\"text-align: right;\">\n",
       "      <th></th>\n",
       "      <th>raw_text</th>\n",
       "      <th>vw_text</th>\n",
       "    </tr>\n",
       "    <tr>\n",
       "      <th>id</th>\n",
       "      <th></th>\n",
       "      <th></th>\n",
       "    </tr>\n",
       "  </thead>\n",
       "  <tbody>\n",
       "    <tr>\n",
       "      <th>102994</th>\n",
       "      <td>NaN</td>\n",
       "      <td>102994 |@text enlighten bricklin bumper funky</td>\n",
       "    </tr>\n",
       "    <tr>\n",
       "      <th>51861</th>\n",
       "      <td>NaN</td>\n",
       "      <td>51861 |@text upgraded oscillator poll detailin...</td>\n",
       "    </tr>\n",
       "    <tr>\n",
       "      <th>51879</th>\n",
       "      <td>NaN</td>\n",
       "      <td>51879 |@text ghost sooo sooner picking powerbo...</td>\n",
       "    </tr>\n",
       "    <tr>\n",
       "      <th>60880</th>\n",
       "      <td>NaN</td>\n",
       "      <td>60880 |@text std std baker suchlike introduce ...</td>\n",
       "    </tr>\n",
       "    <tr>\n",
       "      <th>54525</th>\n",
       "      <td>NaN</td>\n",
       "      <td>54525 |@text rigidly allegedly presenting evid...</td>\n",
       "    </tr>\n",
       "  </tbody>\n",
       "</table>\n",
       "</div>"
      ],
      "text/plain": [
       "        raw_text                                            vw_text\n",
       "id                                                                 \n",
       "102994       NaN      102994 |@text enlighten bricklin bumper funky\n",
       "51861        NaN  51861 |@text upgraded oscillator poll detailin...\n",
       "51879        NaN  51879 |@text ghost sooo sooner picking powerbo...\n",
       "60880        NaN  60880 |@text std std baker suchlike introduce ...\n",
       "54525        NaN  54525 |@text rigidly allegedly presenting evid..."
      ]
     },
     "execution_count": null,
     "metadata": {},
     "output_type": "execute_result"
    }
   ],
   "source": [
    "dataset._data.head()"
   ]
  },
  {
   "cell_type": "markdown",
   "metadata": {},
   "source": [
    "The searching method itself.\n",
    "It has several parameters: some are specific for the renormalization approach, some are common for all the search methods presented in `topnum` module."
   ]
  },
  {
   "cell_type": "code",
   "execution_count": null,
   "metadata": {},
   "outputs": [],
   "source": [
    "optimizer = TopicBankMethod(\n",
    "    data = dataset,              # `text_collection` also would be fine here\n",
    "    min_df_rate=0.001,           # excluding too rare words from text collection's vocabulary\n",
    "    max_num_models = 100,        # number of models for collecting topics\n",
    "    one_model_num_topics = 100,  # number of topics in one model\n",
    "    num_fit_iterations = 100,    # 100 or 200 surely might be enough\n",
    "    topic_score_threshold_percentile = 90  # 10% of the best model topics according to the score are going to be considered as good\n",
    ")"
   ]
  },
  {
   "cell_type": "markdown",
   "metadata": {},
   "source": [
    "Fulfilling the search:"
   ]
  },
  {
   "cell_type": "code",
   "execution_count": null,
   "metadata": {},
   "outputs": [
    {
     "name": "stdout",
     "output_type": "stream",
     "text": [
      "\n",
      "  0%|          | 0/100 [00:00<?, ?it/s]\u001b[A\n",
      "  1%|          | 1/100 [00:56<1:32:48, 56.25s/it]\u001b[A\n",
      "  2%|▏         | 2/100 [01:56<1:33:55, 57.51s/it]\u001b[A\n",
      "  3%|▎         | 3/100 [02:57<1:34:23, 58.38s/it]\u001b[A\n",
      "  4%|▍         | 4/100 [03:57<1:34:24, 59.01s/it]\u001b[A\n",
      "  5%|▌         | 5/100 [04:58<1:34:12, 59.50s/it]\u001b[A\n",
      "  6%|▌         | 6/100 [05:58<1:33:32, 59.70s/it]\u001b[A\n",
      "  7%|▋         | 7/100 [06:58<1:32:49, 59.89s/it]\u001b[A\n",
      "  8%|▊         | 8/100 [07:58<1:31:55, 59.96s/it]\u001b[A\n",
      "  9%|▉         | 9/100 [08:59<1:31:03, 60.04s/it]\u001b[A\n",
      " 10%|█         | 10/100 [09:58<1:29:55, 59.95s/it]\u001b[A\n",
      " 11%|█         | 11/100 [10:58<1:28:51, 59.90s/it]\u001b[A\n",
      " 12%|█▏        | 12/100 [11:58<1:28:00, 60.00s/it]\u001b[A\n",
      " 13%|█▎        | 13/100 [12:59<1:27:11, 60.13s/it]\u001b[A\n",
      " 14%|█▍        | 14/100 [13:59<1:26:05, 60.06s/it]\u001b[A\n",
      " 15%|█▌        | 15/100 [14:59<1:24:59, 59.99s/it]\u001b[A\n",
      " 16%|█▌        | 16/100 [15:58<1:23:53, 59.93s/it]\u001b[A\n",
      " 17%|█▋        | 17/100 [16:58<1:22:52, 59.91s/it]\u001b[A\n",
      " 18%|█▊        | 18/100 [17:58<1:21:54, 59.94s/it]\u001b[A\n",
      " 19%|█▉        | 19/100 [19:03<1:22:52, 61.39s/it]\u001b[A\n",
      " 20%|██        | 20/100 [20:12<1:25:06, 63.83s/it]\u001b[A\n",
      " 21%|██        | 21/100 [21:23<1:26:35, 65.76s/it]\u001b[A\n",
      " 24%|██▍       | 24/100 [24:53<1:26:44, 68.47s/it]\u001b[A\n",
      " 25%|██▌       | 25/100 [26:02<1:26:01, 68.81s/it]\u001b[A\n",
      " 26%|██▌       | 26/100 [27:13<1:25:21, 69.21s/it]\u001b[A\n",
      " 27%|██▋       | 27/100 [28:22<1:24:13, 69.23s/it]\u001b[A\n",
      " 28%|██▊       | 28/100 [29:25<1:20:53, 67.41s/it]\u001b[A\n",
      " 29%|██▉       | 29/100 [30:25<1:17:14, 65.27s/it]\u001b[A\n",
      " 30%|███       | 30/100 [31:25<1:14:21, 63.73s/it]\u001b[A\n",
      " 31%|███       | 31/100 [32:25<1:11:54, 62.52s/it]\u001b[A\n",
      " 32%|███▏      | 32/100 [33:25<1:10:01, 61.79s/it]\u001b[A\n",
      " 33%|███▎      | 33/100 [34:26<1:08:29, 61.34s/it]\u001b[A\n",
      " 34%|███▍      | 34/100 [35:25<1:06:52, 60.80s/it]\u001b[A\n",
      " 35%|███▌      | 35/100 [36:25<1:05:32, 60.51s/it]\u001b[A\n",
      " 36%|███▌      | 36/100 [37:25<1:04:20, 60.33s/it]\u001b[A\n",
      " 37%|███▋      | 37/100 [38:25<1:03:14, 60.24s/it]\u001b[A\n",
      " 38%|███▊      | 38/100 [39:25<1:02:05, 60.09s/it]\u001b[A\n",
      " 39%|███▉      | 39/100 [40:24<1:00:58, 59.98s/it]\u001b[A\n",
      " 40%|████      | 40/100 [41:24<59:54, 59.90s/it]  \u001b[A\n",
      " 41%|████      | 41/100 [42:24<59:00, 60.01s/it]\u001b[A\n",
      " 42%|████▏     | 42/100 [43:25<58:07, 60.13s/it]\u001b[A\n",
      " 43%|████▎     | 43/100 [44:25<57:15, 60.28s/it]\u001b[A\n",
      " 44%|████▍     | 44/100 [45:27<56:30, 60.55s/it]\u001b[A\n",
      " 45%|████▌     | 45/100 [46:27<55:24, 60.44s/it]\u001b[A\n",
      " 46%|████▌     | 46/100 [47:27<54:28, 60.53s/it]\u001b[A\n",
      " 47%|████▋     | 47/100 [48:28<53:29, 60.55s/it]\u001b[A\n",
      " 48%|████▊     | 48/100 [49:28<52:22, 60.43s/it]\u001b[A\n",
      " 49%|████▉     | 49/100 [50:28<51:19, 60.39s/it]\u001b[A\n",
      " 50%|█████     | 50/100 [51:29<50:17, 60.35s/it]\u001b[A\n",
      " 51%|█████     | 51/100 [52:29<49:21, 60.44s/it]\u001b[A\n",
      " 52%|█████▏    | 52/100 [53:29<48:16, 60.34s/it]\u001b[A\n",
      " 53%|█████▎    | 53/100 [54:30<47:14, 60.31s/it]\u001b[A\n",
      " 54%|█████▍    | 54/100 [55:30<46:17, 60.39s/it]\u001b[A\n",
      " 55%|█████▌    | 55/100 [56:30<45:12, 60.28s/it]\u001b[A\n",
      " 56%|█████▌    | 56/100 [57:31<44:11, 60.26s/it]\u001b[A\n",
      " 57%|█████▋    | 57/100 [58:31<43:12, 60.28s/it]\u001b[A\n",
      " 58%|█████▊    | 58/100 [59:31<42:09, 60.22s/it]\u001b[A\n",
      " 59%|█████▉    | 59/100 [1:00:31<41:07, 60.18s/it]\u001b[A\n",
      " 60%|██████    | 60/100 [1:01:32<40:11, 60.29s/it]\u001b[A\n",
      " 61%|██████    | 61/100 [1:02:32<39:13, 60.35s/it]\u001b[A\n",
      " 62%|██████▏   | 62/100 [1:03:32<38:08, 60.24s/it]\u001b[A\n",
      " 63%|██████▎   | 63/100 [1:04:33<37:14, 60.40s/it]\u001b[A\n",
      " 64%|██████▍   | 64/100 [1:05:33<36:13, 60.38s/it]\u001b[A\n",
      " 65%|██████▌   | 65/100 [1:06:34<35:19, 60.55s/it]\u001b[A\n",
      " 66%|██████▌   | 66/100 [1:07:34<34:16, 60.47s/it]\u001b[A\n",
      " 67%|██████▋   | 67/100 [1:08:35<33:12, 60.39s/it]\u001b[A\n",
      " 68%|██████▊   | 68/100 [1:09:35<32:08, 60.26s/it]\u001b[A\n",
      " 69%|██████▉   | 69/100 [1:10:35<31:11, 60.37s/it]\u001b[A\n",
      " 70%|███████   | 70/100 [1:11:36<30:15, 60.52s/it]\u001b[A\n",
      " 71%|███████   | 71/100 [1:12:36<29:14, 60.50s/it]\u001b[A\n",
      " 72%|███████▏  | 72/100 [1:13:37<28:13, 60.49s/it]\u001b[A\n",
      " 73%|███████▎  | 73/100 [1:14:38<27:14, 60.55s/it]\u001b[A\n",
      " 74%|███████▍  | 74/100 [1:15:38<26:14, 60.55s/it]\u001b[A\n",
      " 75%|███████▌  | 75/100 [1:16:39<25:13, 60.54s/it]\u001b[A\n",
      " 76%|███████▌  | 76/100 [1:17:39<24:11, 60.50s/it]\u001b[A\n",
      " 77%|███████▋  | 77/100 [1:18:40<23:11, 60.49s/it]\u001b[A\n",
      " 78%|███████▊  | 78/100 [1:19:41<22:14, 60.64s/it]\u001b[A\n",
      " 79%|███████▉  | 79/100 [1:20:41<21:14, 60.67s/it]\u001b[A\n",
      " 80%|████████  | 80/100 [1:21:42<20:15, 60.79s/it]\u001b[A\n",
      " 81%|████████  | 81/100 [1:22:43<19:14, 60.77s/it]\u001b[A\n",
      " 82%|████████▏ | 82/100 [1:23:44<18:14, 60.82s/it]\u001b[A\n",
      " 83%|████████▎ | 83/100 [1:24:44<17:11, 60.67s/it]\u001b[A\n",
      " 84%|████████▍ | 84/100 [1:25:45<16:11, 60.70s/it]\u001b[A\n",
      " 85%|████████▌ | 85/100 [1:26:46<15:11, 60.77s/it]\u001b[A\n",
      " 86%|████████▌ | 86/100 [1:27:47<14:11, 60.79s/it]\u001b[A\n",
      " 87%|████████▋ | 87/100 [1:28:47<13:07, 60.61s/it]\u001b[A\n",
      " 88%|████████▊ | 88/100 [1:29:48<12:07, 60.61s/it]\u001b[A\n",
      " 89%|████████▉ | 89/100 [1:30:49<11:08, 60.73s/it]\u001b[A\n",
      " 90%|█████████ | 90/100 [1:31:49<10:06, 60.67s/it]\u001b[A\n",
      " 91%|█████████ | 91/100 [1:32:50<09:06, 60.71s/it]\u001b[A\n",
      " 92%|█████████▏| 92/100 [1:33:51<08:06, 60.83s/it]\u001b[A\n",
      " 93%|█████████▎| 93/100 [1:34:52<07:06, 60.88s/it]\u001b[A\n",
      " 94%|█████████▍| 94/100 [1:35:52<06:04, 60.70s/it]\u001b[A\n",
      " 95%|█████████▌| 95/100 [1:36:53<05:03, 60.77s/it]\u001b[A\n",
      " 96%|█████████▌| 96/100 [1:37:54<04:03, 60.85s/it]\u001b[A\n",
      " 97%|█████████▋| 97/100 [1:38:55<03:02, 60.77s/it]\u001b[A\n",
      " 98%|█████████▊| 98/100 [1:39:56<02:01, 60.94s/it]\u001b[A\n",
      " 99%|█████████▉| 99/100 [1:40:58<01:01, 61.15s/it]\u001b[A\n",
      "100%|██████████| 100/100 [1:41:59<00:00, 61.20s/it]\u001b[A\n",
      "CPU times: user 5h 53min 24s, sys: 59min 53s, total: 6h 53min 18s\n",
      "Wall time: 1h 42min\n"
     ]
    }
   ],
   "source": [
    "%%time\n",
    "\n",
    "optimizer.search_for_optimum(text_collection)"
   ]
  },
  {
   "cell_type": "markdown",
   "metadata": {},
   "source": [
    "The search method's result may be accessed as `optimizer._result`.\n",
    "Let's see what is available here:"
   ]
  },
  {
   "cell_type": "code",
   "execution_count": null,
   "metadata": {},
   "outputs": [
    {
     "data": {
      "text/plain": [
       "['optimum',\n",
       " 'optimum_std',\n",
       " 'bank_scores',\n",
       " 'bank_topic_scores',\n",
       " 'model_scores',\n",
       " 'model_topic_scores',\n",
       " 'num_bank_topics',\n",
       " 'num_model_topics']"
      ]
     },
     "execution_count": null,
     "metadata": {},
     "output_type": "execute_result"
    }
   ],
   "source": [
    "list(optimizer._result.keys())"
   ]
  },
  {
   "cell_type": "markdown",
   "metadata": {},
   "source": [
    "Point estimate of the number of topics and standard deviation (std) over the restarts (`num_restarts`):"
   ]
  },
  {
   "cell_type": "code",
   "execution_count": null,
   "metadata": {},
   "outputs": [
    {
     "name": "stdout",
     "output_type": "stream",
     "text": [
      "Optimum: 20 topics. Std: 0.0\n"
     ]
    }
   ],
   "source": [
    "result_key_optimum = 'optimum'\n",
    "result_key_optimum_std = 'optimum_std'\n",
    "\n",
    "print(\n",
    "    f'Optimum: {optimizer._result[result_key_optimum]} topics.' +\n",
    "    f' Std: {optimizer._result[result_key_optimum_std]}'\n",
    ")"
   ]
  },
  {
   "cell_type": "markdown",
   "metadata": {},
   "source": [
    "The number of topics appeared to be $20$!\n",
    "So, the method worked pretty well for this particular dataset."
   ]
  },
  {
   "cell_type": "code",
   "execution_count": null,
   "metadata": {},
   "outputs": [],
   "source": [
    "result_key_bank_scores = 'bank_scores'\n",
    "result_key_bank_topic_scores = 'bank_topic_scores'\n",
    "result_key_model_scores = 'model_scores'\n",
    "result_key_model_topic_scores = 'model_topic_scores'"
   ]
  },
  {
   "cell_type": "code",
   "execution_count": null,
   "metadata": {},
   "outputs": [
    {
     "name": "stdout",
     "output_type": "stream",
     "text": [
      "Num iterations: 100\n",
      "...same as: 100\n",
      "...and: 100\n",
      "Final number of topics: 20\n"
     ]
    }
   ],
   "source": [
    "print(\n",
    "    'Num iterations:',\n",
    "    len(optimizer._result[result_key_bank_scores])\n",
    ")\n",
    "print(\n",
    "    '...same as:',\n",
    "    len(optimizer._result[result_key_model_scores])\n",
    ")\n",
    "print(\n",
    "    '...and:',\n",
    "    len(optimizer._result[result_key_model_topic_scores])\n",
    ")\n",
    "print(\n",
    "    'Final number of topics:',\n",
    "    len(optimizer._result[result_key_bank_topic_scores])\n",
    ")"
   ]
  },
  {
   "cell_type": "markdown",
   "metadata": {},
   "source": [
    "Let us look at the first elements in the result values:"
   ]
  },
  {
   "cell_type": "code",
   "execution_count": null,
   "metadata": {},
   "outputs": [
    {
     "data": {
      "text/plain": [
       "{'perplexity_score': 21.48740577697754,\n",
       " 'sparsity_phi_score': nan,\n",
       " 'sparsity_theta_score': 0.8343402743339539}"
      ]
     },
     "execution_count": null,
     "metadata": {},
     "output_type": "execute_result"
    }
   ],
   "source": [
    "# Scores for the bank as topic model\n",
    "\n",
    "list(optimizer._result[result_key_bank_scores])[0]"
   ]
  },
  {
   "cell_type": "code",
   "execution_count": null,
   "metadata": {},
   "outputs": [
    {
     "data": {
      "text/plain": [
       "{'kernel_size': 189,\n",
       " 'intratext_coherence_score': 0.05932667226131473,\n",
       " 'top_tokens_coherence_score': None,\n",
       " 'distance_to_nearest': 0.9975607519680663}"
      ]
     },
     "execution_count": null,
     "metadata": {},
     "output_type": "execute_result"
    }
   ],
   "source": [
    "# Averaged scores for bank topics for the particular iteration\n",
    "\n",
    "list(optimizer._result[result_key_bank_topic_scores])[0]"
   ]
  },
  {
   "cell_type": "code",
   "execution_count": null,
   "metadata": {},
   "outputs": [
    {
     "data": {
      "text/plain": [
       "{'perplexity_score': 274.0969543457031,\n",
       " 'sparsity_phi_score': nan,\n",
       " 'sparsity_theta_score': 0.8591673374176025,\n",
       " 'intratext_coherence_score': 0.02916695705304543,\n",
       " 'top_tokens_coherence_score': 0.06221736998880692}"
      ]
     },
     "execution_count": null,
     "metadata": {},
     "output_type": "execute_result"
    }
   ],
   "source": [
    "# Scores for the model trained during the iteration\n",
    "\n",
    "list(optimizer._result[result_key_model_scores])[0]"
   ]
  },
  {
   "cell_type": "code",
   "execution_count": null,
   "metadata": {},
   "outputs": [
    {
     "data": {
      "text/plain": [
       "[{'kernel_size': 115,\n",
       "  'intratext_coherence_score': 0.028208950844903786,\n",
       "  'top_tokens_coherence_score': None},\n",
       " {'kernel_size': 193,\n",
       "  'intratext_coherence_score': 0.016012161411345004,\n",
       "  'top_tokens_coherence_score': None},\n",
       " {'kernel_size': 85,\n",
       "  'intratext_coherence_score': 0.022762342045704525,\n",
       "  'top_tokens_coherence_score': None}]"
      ]
     },
     "execution_count": null,
     "metadata": {},
     "output_type": "execute_result"
    }
   ],
   "source": [
    "# Scores for each topic of the current model\n",
    "\n",
    "list(optimizer._result[result_key_model_topic_scores])[0][:3]"
   ]
  },
  {
   "cell_type": "markdown",
   "metadata": {},
   "source": [
    "Using the saved scores one may analyze the process.\n",
    "For example, how the perplexity changes for the bank during its creation:"
   ]
  },
  {
   "cell_type": "code",
   "execution_count": null,
   "metadata": {},
   "outputs": [
    {
     "data": {
      "image/png": "[encoded data removed]",
      "text/plain": [
       "<Figure size 864x576 with 1 Axes>"
      ]
     },
     "metadata": {
      "needs_background": "light"
     },
     "output_type": "display_data"
    }
   ],
   "source": [
    "fig, ax = plt.subplots(1, 1, figsize=(12, 8))\n",
    "\n",
    "x = range(len(list(optimizer._result[result_key_bank_scores])))\n",
    "y = [s['perplexity_score'] for s in optimizer._result[result_key_bank_scores]]\n",
    "\n",
    "ax.scatter(x, y, s=100)\n",
    "\n",
    "ax.set_xlabel('Iteration (number of models)')\n",
    "ax.set_ylabel('Perplexity')\n",
    "\n",
    "ax.grid(True)\n",
    "plt.show()"
   ]
  },
  {
   "cell_type": "markdown",
   "metadata": {},
   "source": [
    "And the perplexity for ordinary models:"
   ]
  },
  {
   "cell_type": "code",
   "execution_count": null,
   "metadata": {},
   "outputs": [
    {
     "data": {
      "image/png": "[encoded data removed]",
      "text/plain": [
       "<Figure size 864x576 with 1 Axes>"
      ]
     },
     "metadata": {
      "needs_background": "light"
     },
     "output_type": "display_data"
    }
   ],
   "source": [
    "fig, ax = plt.subplots(1, 1, figsize=(12, 8))\n",
    "\n",
    "x = range(len(list(optimizer._result[result_key_model_scores])))\n",
    "y = [s['perplexity_score'] for s in optimizer._result[result_key_model_scores]]\n",
    "\n",
    "ax.scatter(x, y, s=100)\n",
    "\n",
    "ax.set_xlabel('Iteration (number of models)')\n",
    "ax.set_ylabel('Perplexity of the model')\n",
    "\n",
    "ax.grid(True)\n",
    "plt.show()"
   ]
  },
  {
   "cell_type": "markdown",
   "metadata": {},
   "source": [
    "And another score worth looking at — topic coherence (for example, intratext), as a measure of topic interpretability:"
   ]
  },
  {
   "cell_type": "code",
   "execution_count": null,
   "metadata": {},
   "outputs": [
    {
     "data": {
      "image/png": "[encoded data removed]",
      "text/plain": [
       "<Figure size 864x576 with 1 Axes>"
      ]
     },
     "metadata": {
      "needs_background": "light"
     },
     "output_type": "display_data"
    }
   ],
   "source": [
    "fig, ax = plt.subplots(1, 1, figsize=(12, 8))\n",
    "\n",
    "score_name = 'intratext_coherence_score'\n",
    "\n",
    "x = range(len(list(optimizer._result[result_key_bank_topic_scores])))\n",
    "y_bank = [\n",
    "    s[score_name]\n",
    "    for s in optimizer._result[result_key_bank_topic_scores]\n",
    "]\n",
    "y_model = [\n",
    "    s[score_name]\n",
    "    for model_scores in optimizer._result[result_key_model_topic_scores]\n",
    "    for s in model_scores\n",
    "]\n",
    "y_model = [v if v is not None else 0.0 for v in y_model]\n",
    "\n",
    "gauss_for_bank = gaussian_kde(y_bank)\n",
    "gauss_for_models = gaussian_kde(y_model)\n",
    "\n",
    "x = np.arange(-0.01, 0.2, 0.001)\n",
    "\n",
    "ax.plot(x, gauss_for_bank(x), color='b', lw=5, label='topic bank')\n",
    "ax.plot(x, gauss_for_models(x), color='r', lw=5, label='ordinary model')\n",
    "\n",
    "ax.set_xlabel('Coherence value')\n",
    "ax.set_ylabel('KDE')\n",
    "ax.legend()\n",
    "\n",
    "ax.grid(True)\n",
    "plt.show()"
   ]
  },
  {
   "cell_type": "markdown",
   "metadata": {},
   "source": [
    "Distance of newly added topic to the nearest topic already in the bank:"
   ]
  },
  {
   "cell_type": "code",
   "execution_count": null,
   "metadata": {},
   "outputs": [
    {
     "data": {
      "image/png": "[encoded data removed]",
      "text/plain": [
       "<Figure size 864x576 with 1 Axes>"
      ]
     },
     "metadata": {
      "needs_background": "light"
     },
     "output_type": "display_data"
    }
   ],
   "source": [
    "fig, ax = plt.subplots(1, 1, figsize=(12, 8))\n",
    "\n",
    "x = range(len(list(optimizer._result[result_key_bank_topic_scores])))\n",
    "y = [s['distance_to_nearest'] for s in optimizer._result[result_key_bank_topic_scores]]\n",
    "\n",
    "ax.scatter(x, y, s=100)\n",
    "\n",
    "ax.set_xlabel('Iteration (number of models)')\n",
    "ax.set_ylabel('Perplexity of the model')\n",
    "\n",
    "ax.grid(True)\n",
    "plt.show()"
   ]
  },
  {
   "cell_type": "markdown",
   "metadata": {},
   "source": [
    "As the bank growths, this distance value shrinks."
   ]
  }
 ],
 "metadata": {
  "kernelspec": {
   "display_name": "Python 3",
   "language": "python",
   "name": "python3"
  },
  "language_info": {
   "codemirror_mode": {
    "name": "ipython",
    "version": 3
   },
   "file_extension": ".py",
   "mimetype": "text/x-python",
   "name": "python",
   "nbconvert_exporter": "python",
   "pygments_lexer": "ipython3",
   "version": "3.7.6"
  }
 },
 "nbformat": 4,
 "nbformat_minor": 2
}
