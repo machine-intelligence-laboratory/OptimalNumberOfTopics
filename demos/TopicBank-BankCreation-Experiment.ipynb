{
 "cells": [
  {
   "cell_type": "markdown",
   "metadata": {},
   "source": [
    "# TopicBank: Bank Creation Experiment\n",
    "\n",
    "Dataset: [PostNauka](https://postnauka.ru/) articles."
   ]
  },
  {
   "cell_type": "code",
   "execution_count": null,
   "metadata": {},
   "outputs": [],
   "source": [
    "# General imports\n",
    "\n",
    "import itertools\n",
    "import numpy as np\n",
    "import os\n",
    "import pandas as pd\n",
    "\n",
    "from scipy.stats import gaussian_kde\n",
    "from matplotlib import pyplot as plt\n",
    "\n",
    "%matplotlib inline"
   ]
  },
  {
   "cell_type": "code",
   "execution_count": null,
   "metadata": {},
   "outputs": [],
   "source": [
    "# Making `topnum` module visible for Python\n",
    "\n",
    "import sys\n",
    "\n",
    "sys.path.insert(0, '..')"
   ]
  },
  {
   "cell_type": "code",
   "execution_count": null,
   "metadata": {},
   "outputs": [],
   "source": [
    "# Optimal number of topics\n",
    "\n",
    "from topicnet.cooking_machine import Dataset\n",
    "\n",
    "from topnum.data.vowpal_wabbit_text_collection import VowpalWabbitTextCollection\n",
    "from topnum.scores import (\n",
    "    IntratextCoherenceScore,\n",
    "    SparsityPhiScore,\n",
    "    SparsityThetaScore,\n",
    "    SimpleTopTokensCoherenceScore,\n",
    "    SophisticatedTopTokensCoherenceScore,\n",
    ")\n",
    "from topnum.scores._base_coherence_score import (\n",
    "    SpecificityEstimationMethod,\n",
    "    TextType,\n",
    "    WordTopicRelatednessType\n",
    ")\n",
    "from topnum.scores.intratext_coherence_score import ComputationMethod\n",
    "from topnum.search_methods import TopicBankMethod\n",
    "from topnum.search_methods.topic_bank.one_model_train_funcs import (\n",
    "    default_train_func,\n",
    "    regularization_train_func,\n",
    "    specific_initial_phi_train_func,\n",
    "    background_topics_train_func,\n",
    ")\n"
   ]
  },
  {
   "cell_type": "markdown",
   "metadata": {},
   "source": [
    "## Data\n",
    "\n",
    "In the folder below must reside the necessary data file in .csv format."
   ]
  },
  {
   "cell_type": "code",
   "execution_count": null,
   "metadata": {},
   "outputs": [],
   "source": [
    "DATA_FOLDER_PATH = 'data'"
   ]
  },
  {
   "cell_type": "code",
   "execution_count": null,
   "metadata": {},
   "outputs": [
    {
     "data": {
      "text/plain": [
       "['bigartm.miptai.vasiliyalekseev.log.INFO.20200322-195518.20211',\n",
       " '_dataset_rxg0krms',\n",
       " 'bigartm.miptai.vasiliyalekseev.log.INFO.20200322-200334.22948',\n",
       " 'postnauka__dataset__natural_order_batches',\n",
       " 'postnauka__vw__natural_order.txt',\n",
       " 'bigartm.miptai.vasiliyalekseev.log.INFO.20200322-195026.19312',\n",
       " 'bigartm.miptai.vasiliyalekseev.log.INFO.20200322-195237.19407',\n",
       " 'bigartm.miptai.vasiliyalekseev.log.INFO.20200322-200237.21203',\n",
       " '_dataset_lthzj9qc',\n",
       " '_dataset_ux1_6tj1',\n",
       " '_dataset_hvteto6c',\n",
       " '_dataset_1fzjutvk',\n",
       " 'bigartm.miptai.vasiliyalekseev.log.INFO.20200322-195348.19573',\n",
       " '_dataset_0o0fiiqo',\n",
       " 'postnauka__vocab.txt',\n",
       " '_dataset_a00ok3up',\n",
       " '_dataset_lh9rv2te',\n",
       " '_dataset_0jpn3owo',\n",
       " 'cooc',\n",
       " '_dataset_m9qhqs6p',\n",
       " '_dataset_5qy6w9hv',\n",
       " 'bigartm.INFO',\n",
       " 'twenty_newsgroups__vw__natural_order.txt',\n",
       " 'postnauka__dataset__natural_order.csv']"
      ]
     },
     "execution_count": null,
     "metadata": {},
     "output_type": "execute_result"
    }
   ],
   "source": [
    "os.listdir(DATA_FOLDER_PATH)"
   ]
  },
  {
   "cell_type": "code",
   "execution_count": null,
   "metadata": {},
   "outputs": [],
   "source": [
    "dataset_file_name = 'postnauka__dataset__natural_order.csv'"
   ]
  },
  {
   "cell_type": "code",
   "execution_count": null,
   "metadata": {},
   "outputs": [],
   "source": [
    "dataset_file_path = os.path.join(\n",
    "    DATA_FOLDER_PATH,\n",
    "    dataset_file_name\n",
    ")"
   ]
  },
  {
   "cell_type": "markdown",
   "metadata": {},
   "source": [
    "Checking if all OK with data, what modalities does the collection have."
   ]
  },
  {
   "cell_type": "code",
   "execution_count": null,
   "metadata": {},
   "outputs": [
    {
     "name": "stdout",
     "output_type": "stream",
     "text": [
      "id,raw_text,vw_text\r\n",
      "29998.txt,материал отрицательный показатель преломление физик виктор веселаго распространение свет вещество фазовый групповой скорость метаматериалы различаться фазовый групповой скорость каков физика распространение свет вещество находить применение материал отрицательный показатель преломление рассказывать доктор физикоматематический наука виктор веселаго скорость распространяться энергия вещество обычно говорить излучение распространяться вещество со скорость n раз маленький n коэффициент преломление вещество коэффициент преломление n отношение скорость свет скорость распространение излучение вещество обычно уточняться распространяться распространение энергия распространение импульс происходить различный закон энергия распространяться со скорость называться групповой скорость много скорость свет эйнштейн сформулировать самый больший скорость излучение скорость свет кмс импульс распространяться фазовый скорость сколь угодно много скорость свет скорость входить соотношение emc фазовый групповой оказываться здесь величина заменять произведение фазовый скорость групповой post id отрицательный преломление свет притягивать объект излучатель внутри вещество возможный явление чемто новый впервые указывать статья оказываться материал обладать отрицательный преломление описываться отрицательный коэффициент преломление n отношение скорость свет пустота скорость свет вещество излучатель освещать приемник внутри вещество приемник притягиваться излучатель отрицательный скорость положительный скорость излучатель приемник наоборот отрицательный классический школьный опыт брать вода пускать луч свет преломляться внутри вода идти угол идти поверхность вместо вода использовать вещество отрицательный преломление отклоняться налево направо комбинировать вещество отрицательный положительный преломление организовывать прохождение луч свет через набор материальный среда определенный закон както повертываться извиваться обычно привязывать эффект шапкиневидимка иметься эксперимент иметься некий объект сделать невидимый свет проходить вокруг объект наблюдатель кажется объект хотя дело практический применение далеко кроме явление связывать отрицательный преломление наблюдаться область электромагнитный излучение акустика распространение разный род колебание,29998.txt |@text материал отрицательный показатель преломление физик виктор веселаго распространение свет вещество фазовый групповой скорость метаматериалы различаться фазовый групповой скорость каков физика распространение свет вещество находить применение материал отрицательный показатель преломление рассказывать доктор физикоматематический наука виктор веселаго скорость распространяться энергия вещество обычно говорить излучение распространяться вещество со скорость n раз маленький n коэффициент преломление вещество коэффициент преломление n отношение скорость свет скорость распространение излучение вещество обычно уточняться распространяться распространение энергия распространение импульс происходить различный закон энергия распространяться со скорость называться групповой скорость много скорость свет эйнштейн сформулировать самый больший скорость излучение скорость свет кмс импульс распространяться фазовый скорость сколь угодно много скорость свет скорость входить соотношение emc фазовый групповой оказываться здесь величина заменять произведение фазовый скорость групповой post id отрицательный преломление свет притягивать объект излучатель внутри вещество возможный явление чемто новый впервые указывать статья оказываться материал обладать отрицательный преломление описываться отрицательный коэффициент преломление n отношение скорость свет пустота скорость свет вещество излучатель освещать приемник внутри вещество приемник притягиваться излучатель отрицательный скорость положительный скорость излучатель приемник наоборот отрицательный классический школьный опыт брать вода пускать луч свет преломляться внутри вода идти угол идти поверхность вместо вода использовать вещество отрицательный преломление отклоняться налево направо комбинировать вещество отрицательный положительный преломление организовывать прохождение луч свет через набор материальный среда определенный закон както повертываться извиваться обычно привязывать эффект шапкиневидимка иметься эксперимент иметься некий объект сделать невидимый свет проходить вокруг объект наблюдатель кажется объект хотя дело практический применение далеко кроме явление связывать отрицательный преломление наблюдаться область электромагнитный излучение акустика распространение разный род колебание\r\n"
     ]
    }
   ],
   "source": [
    "! head -n 2 $dataset_file_path"
   ]
  },
  {
   "cell_type": "code",
   "execution_count": null,
   "metadata": {},
   "outputs": [],
   "source": [
    "dataset = Dataset(dataset_file_path)"
   ]
  },
  {
   "cell_type": "code",
   "execution_count": null,
   "metadata": {},
   "outputs": [
    {
     "data": {
      "text/plain": [
       "(3446, 2)"
      ]
     },
     "execution_count": null,
     "metadata": {},
     "output_type": "execute_result"
    }
   ],
   "source": [
    "dataset._data.shape"
   ]
  },
  {
   "cell_type": "code",
   "execution_count": null,
   "metadata": {},
   "outputs": [
    {
     "data": {
      "text/html": [
       "<div>\n",
       "<style scoped>\n",
       "    .dataframe tbody tr th:only-of-type {\n",
       "        vertical-align: middle;\n",
       "    }\n",
       "\n",
       "    .dataframe tbody tr th {\n",
       "        vertical-align: top;\n",
       "    }\n",
       "\n",
       "    .dataframe thead th {\n",
       "        text-align: right;\n",
       "    }\n",
       "</style>\n",
       "<table border=\"1\" class=\"dataframe\">\n",
       "  <thead>\n",
       "    <tr style=\"text-align: right;\">\n",
       "      <th></th>\n",
       "      <th>raw_text</th>\n",
       "      <th>vw_text</th>\n",
       "    </tr>\n",
       "    <tr>\n",
       "      <th>id</th>\n",
       "      <th></th>\n",
       "      <th></th>\n",
       "    </tr>\n",
       "  </thead>\n",
       "  <tbody>\n",
       "    <tr>\n",
       "      <th>29998.txt</th>\n",
       "      <td>материал отрицательный показатель преломление ...</td>\n",
       "      <td>29998.txt |@text материал отрицательный показа...</td>\n",
       "    </tr>\n",
       "    <tr>\n",
       "      <th>7770.txt</th>\n",
       "      <td>культурный код экономика экономист александр а...</td>\n",
       "      <td>7770.txt |@text культурный код экономика эконо...</td>\n",
       "    </tr>\n",
       "    <tr>\n",
       "      <th>32230.txt</th>\n",
       "      <td>faq наука третий класс факт эксперимент резуль...</td>\n",
       "      <td>32230.txt |@text faq наука третий класс факт э...</td>\n",
       "    </tr>\n",
       "    <tr>\n",
       "      <th>27293.txt</th>\n",
       "      <td>обрушение волна поверхность жидкость математик...</td>\n",
       "      <td>27293.txt |@text обрушение волна поверхность ж...</td>\n",
       "    </tr>\n",
       "    <tr>\n",
       "      <th>481.txt</th>\n",
       "      <td>существовать ли суперсимметрия мир элементарны...</td>\n",
       "      <td>481.txt |@text существовать ли суперсимметрия ...</td>\n",
       "    </tr>\n",
       "  </tbody>\n",
       "</table>\n",
       "</div>"
      ],
      "text/plain": [
       "                                                    raw_text  \\\n",
       "id                                                             \n",
       "29998.txt  материал отрицательный показатель преломление ...   \n",
       "7770.txt   культурный код экономика экономист александр а...   \n",
       "32230.txt  faq наука третий класс факт эксперимент резуль...   \n",
       "27293.txt  обрушение волна поверхность жидкость математик...   \n",
       "481.txt    существовать ли суперсимметрия мир элементарны...   \n",
       "\n",
       "                                                     vw_text  \n",
       "id                                                            \n",
       "29998.txt  29998.txt |@text материал отрицательный показа...  \n",
       "7770.txt   7770.txt |@text культурный код экономика эконо...  \n",
       "32230.txt  32230.txt |@text faq наука третий класс факт э...  \n",
       "27293.txt  27293.txt |@text обрушение волна поверхность ж...  \n",
       "481.txt    481.txt |@text существовать ли суперсимметрия ...  "
      ]
     },
     "execution_count": null,
     "metadata": {},
     "output_type": "execute_result"
    }
   ],
   "source": [
    "dataset._data.head()"
   ]
  },
  {
   "cell_type": "code",
   "execution_count": null,
   "metadata": {},
   "outputs": [
    {
     "data": {
      "text/plain": [
       "'29998.txt |@text материал отрицательный показатель преломление физик виктор веселаго распространение свет вещество фазовый групповой скорость метаматериалы различаться фазовый групповой скорость каков физика распространение свет вещество находить применение материал отрицательный показатель преломление рассказывать доктор физикоматематический наука виктор веселаго скорость распространяться энергия вещество обычно говорить излучение распространяться вещество со скорость n раз маленький n коэффициент преломление вещество коэффициент преломление n отношение скорость свет скорость распространение излучение вещество обычно уточняться распространяться распространение энергия распространение импульс происходить различный закон энергия распространяться со скорость называться групповой скорость много скорость свет эйнштейн сформулировать самый больший скорость излучение скорость свет кмс импульс распространяться фазовый скорость сколь угодно много скорость свет скорость входить соотношение emc фазовый групповой оказываться здесь величина заменять произведение фазовый скорость групповой post id отрицательный преломление свет притягивать объект излучатель внутри вещество возможный явление чемто новый впервые указывать статья оказываться материал обладать отрицательный преломление описываться отрицательный коэффициент преломление n отношение скорость свет пустота скорость свет вещество излучатель освещать приемник внутри вещество приемник притягиваться излучатель отрицательный скорость положительный скорость излучатель приемник наоборот отрицательный классический школьный опыт брать вода пускать луч свет преломляться внутри вода идти угол идти поверхность вместо вода использовать вещество отрицательный преломление отклоняться налево направо комбинировать вещество отрицательный положительный преломление организовывать прохождение луч свет через набор материальный среда определенный закон както повертываться извиваться обычно привязывать эффект шапкиневидимка иметься эксперимент иметься некий объект сделать невидимый свет проходить вокруг объект наблюдатель кажется объект хотя дело практический применение далеко кроме явление связывать отрицательный преломление наблюдаться область электромагнитный излучение акустика распространение разный род колебание'"
      ]
     },
     "execution_count": null,
     "metadata": {},
     "output_type": "execute_result"
    }
   ],
   "source": [
    "dataset.get_vw_document('29998.txt').loc['29998.txt', 'vw_text']"
   ]
  },
  {
   "cell_type": "markdown",
   "metadata": {},
   "source": [
    "## Coocs\n",
    "\n",
    "The notebook [Making-Decorrelation-and-Topic-Selection-Friends.ipynb](https://github.com/machine-intelligence-laboratory/TopicNet/blob/master/topicnet/demos/Making-Decorrelation-and-Topic-Selection-Friends.ipynb) contains a bit more explanation and references concerning cooccurrences computation in ARTM library."
   ]
  },
  {
   "cell_type": "code",
   "execution_count": null,
   "metadata": {},
   "outputs": [],
   "source": [
    "COOC_DATA_FOLDER_PATH = os.path.join(DATA_FOLDER_PATH, 'cooc')"
   ]
  },
  {
   "cell_type": "code",
   "execution_count": null,
   "metadata": {},
   "outputs": [
    {
     "name": "stdout",
     "output_type": "stream",
     "text": [
      "['cooc_tf_', 'cooc_values.pl', 'ppmi_df_', 'new_ppmi_tf_', 'ppmi_tf_', 'cooc_df_', 'cooc_values.json']\n"
     ]
    }
   ],
   "source": [
    "if os.path.isdir(COOC_DATA_FOLDER_PATH):\n",
    "    print(os.listdir(COOC_DATA_FOLDER_PATH))"
   ]
  },
  {
   "cell_type": "code",
   "execution_count": null,
   "metadata": {},
   "outputs": [],
   "source": [
    "cooc_values_file_path = os.path.join(\n",
    "    DATA_FOLDER_PATH,\n",
    "    'cooc',\n",
    "    'cooc_values.json'\n",
    ")"
   ]
  },
  {
   "cell_type": "code",
   "execution_count": null,
   "metadata": {},
   "outputs": [
    {
     "name": "stdout",
     "output_type": "stream",
     "text": [
      "[[['политический', 'специалист'], 0.0316201], [['специалист', 'политический'], 0.0316201], [['политический', 'реформа'], 1.32313], [['реформа', 'политический'], 1.32313], [['политический', 'развитый'], 0.021579], [['развитый', 'политический'], 0.021579], [['политический', 'разрешать'], 0.097536], [['разрешать', 'политический'], 0.097536], [['политический', 'попрежнему'], 0.442749], [['попрежнему', 'политический'], 0.442749], [['политический', 'попытаться'], 0.271374], [['попытаться', 'политический'], 0.271374], [['политический', 'гражданский'], 1.4379], [['гражданский', 'политический'], 1.4379], [['политический', 'группа'], 0.28741], [['группа', 'политический'], 0.28741], [['политический', 'чисто'], 0.764525], [['чисто', 'политический'], 0.764525], [['политический', 'представитель'], 0.685384], [['представитель', 'политический'], 0.685384]]\n"
     ]
    }
   ],
   "source": [
    "if os.path.isfile(cooc_values_file_path):\n",
    "    print(\n",
    "        json.loads(open(cooc_values_file_path, 'r').read())[:20]\n",
    "    )"
   ]
  },
  {
   "cell_type": "code",
   "execution_count": null,
   "metadata": {},
   "outputs": [],
   "source": [
    "if not os.path.isfile(cooc_values_file_path):\n",
    "    cooc_values = dict()\n",
    "else:\n",
    "    raw_cooc_values = json.loads(open(cooc_values_file_path, 'r').read())\n",
    "\n",
    "    cooc_values = {\n",
    "        tuple(d[0]): d[1] for d in saved_raw_cooc_values\n",
    "    }"
   ]
  },
  {
   "cell_type": "code",
   "execution_count": null,
   "metadata": {},
   "outputs": [
    {
     "data": {
      "text/plain": [
       "2152022"
      ]
     },
     "execution_count": null,
     "metadata": {},
     "output_type": "execute_result"
    }
   ],
   "source": [
    "len(list(cooc_values.items()))"
   ]
  },
  {
   "cell_type": "code",
   "execution_count": null,
   "metadata": {},
   "outputs": [
    {
     "name": "stdout",
     "output_type": "stream",
     "text": [
      "[(('политический', 'специалист'), 0.0316201), (('специалист', 'политический'), 0.0316201), (('политический', 'реформа'), 1.32313), (('реформа', 'политический'), 1.32313), (('политический', 'развитый'), 0.021579), (('развитый', 'политический'), 0.021579), (('политический', 'разрешать'), 0.097536), (('разрешать', 'политический'), 0.097536), (('политический', 'попрежнему'), 0.442749), (('попрежнему', 'политический'), 0.442749)]\n"
     ]
    }
   ],
   "source": [
    "print(list(cooc_values.items())[:10])"
   ]
  },
  {
   "cell_type": "markdown",
   "metadata": {},
   "source": [
    "## Scores (for Topics and Models)"
   ]
  },
  {
   "cell_type": "code",
   "execution_count": null,
   "metadata": {},
   "outputs": [],
   "source": [
    "WINDOW = 20\n",
    "NUM_TOP_WORDS = 20\n",
    "MAX_NUM_OUT_WORDS = 5"
   ]
  },
  {
   "cell_type": "code",
   "execution_count": null,
   "metadata": {},
   "outputs": [],
   "source": [
    "# Default scores in Topic Bank\n",
    "\n",
    "main_topic_score = IntratextCoherenceScore(\n",
    "    name='intratext_coherence_score__tt_vw__cm_seg_weight__wtrt_pwt__sem_none',\n",
    "    data=dataset,\n",
    "    text_type=TextType.VW_TEXT,\n",
    "    computation_method=ComputationMethod.SEGMENT_WEIGHT,\n",
    "    word_topic_relatedness=WordTopicRelatednessType.PWT,\n",
    "    specificity_estimation=SpecificityEstimationMethod.NONE,\n",
    "    max_num_out_of_topic_words=MAX_NUM_OUT_WORDS,\n",
    "    window=WINDOW\n",
    ")\n",
    "\n",
    "other_topic_scores = [\n",
    "    SophisticatedTopTokensCoherenceScore(\n",
    "        name='top_tokens_coherence_score__tt_vw__wtrt_pwt__sem_none',\n",
    "        data=dataset,\n",
    "        text_type=TextType.VW_TEXT,\n",
    "        word_topic_relatedness=WordTopicRelatednessType.PWT,\n",
    "        specificity_estimation=SpecificityEstimationMethod.NONE,\n",
    "        num_top_words=NUM_TOP_WORDS,\n",
    "        window=WINDOW\n",
    "    )\n",
    "]"
   ]
  },
  {
   "cell_type": "code",
   "execution_count": null,
   "metadata": {},
   "outputs": [],
   "source": [
    "# Other coherence scores variations\n",
    "\n",
    "text_type_ids = {\n",
    "    TextType.VW_TEXT: 'vw',\n",
    "}\n",
    "computation_method_ids = {\n",
    "    ComputationMethod.SEGMENT_WEIGHT: 'seg_weight',\n",
    "    ComputationMethod.SEGMENT_LENGTH: 'seg_length',\n",
    "    ComputationMethod.SUM_OVER_WINDOW: 'sow',\n",
    "}\n",
    "word_topic_relatedness_type_ids = {\n",
    "    WordTopicRelatednessType.PWT: 'pwt',\n",
    "    WordTopicRelatednessType.PTW: 'ptw',\n",
    "}\n",
    "specificity_estimation_method_ids = {\n",
    "    SpecificityEstimationMethod.NONE: 'none',\n",
    "    SpecificityEstimationMethod.AVERAGE: 'av',\n",
    "    SpecificityEstimationMethod.MAXIMUM: 'max',\n",
    "}\n",
    "\n",
    "\n",
    "param_combinations_intratext = list(\n",
    "    itertools.product(\n",
    "        text_type_ids,\n",
    "        computation_method_ids,\n",
    "        word_topic_relatedness_type_ids,\n",
    "        specificity_estimation_method_ids,\n",
    "    )\n",
    ")\n",
    "param_combinations_intratext.remove(\n",
    "    (\n",
    "        TextType.VW_TEXT,\n",
    "        ComputationMethod.SEGMENT_WEIGHT,\n",
    "        WordTopicRelatednessType.PWT,\n",
    "        SpecificityEstimationMethod.NONE\n",
    "    )\n",
    ")\n",
    "\n",
    "param_combinations_top_tokens = list(\n",
    "    itertools.product(\n",
    "        text_type_ids,\n",
    "        word_topic_relatedness_type_ids,\n",
    "        specificity_estimation_method_ids,\n",
    "    )\n",
    ")\n",
    "param_combinations_top_tokens.remove(\n",
    "    (\n",
    "        TextType.VW_TEXT,\n",
    "        WordTopicRelatednessType.PWT,\n",
    "        SpecificityEstimationMethod.NONE\n",
    "    )\n",
    ")\n",
    "\n",
    "\n",
    "for param_combination in param_combinations_intratext:\n",
    "    (text_type,\n",
    "     computation_method,\n",
    "     word_topic_relatedness,\n",
    "     specificity_estimation) = param_combination\n",
    "\n",
    "    name = (\n",
    "        f'intratext_coherence_score'\n",
    "        f'__tt_{text_type_ids[text_type]}'\n",
    "        f'__cm_{computation_method_ids[computation_method]}'\n",
    "        f'__wtrt_{word_topic_relatedness_type_ids[word_topic_relatedness]}'\n",
    "        f'__sem_{specificity_estimation_method_ids[specificity_estimation]}'\n",
    "    )\n",
    "\n",
    "    other_topic_scores.append(\n",
    "        IntratextCoherenceScore(\n",
    "            name=name,\n",
    "            data=dataset,\n",
    "            text_type=text_type,\n",
    "            computation_method=computation_method,\n",
    "            word_topic_relatedness=word_topic_relatedness,\n",
    "            specificity_estimation=specificity_estimation,\n",
    "            max_num_out_of_topic_words=MAX_NUM_OUT_WORDS,\n",
    "            window=WINDOW\n",
    "        )\n",
    "    )\n",
    "\n",
    "\n",
    "for param_combination in param_combinations_top_tokens:\n",
    "    (text_type,\n",
    "     word_topic_relatedness,\n",
    "     specificity_estimation) = param_combination\n",
    "\n",
    "    name = (\n",
    "        f'top_tokens_coherence_score'\n",
    "        f'__tt_{text_type_ids[text_type]}'\n",
    "        f'__wtrt_{word_topic_relatedness_type_ids[word_topic_relatedness]}'\n",
    "        f'__sem_{specificity_estimation_method_ids[specificity_estimation]}'\n",
    "    )\n",
    "\n",
    "    other_topic_scores.append(\n",
    "        SophisticatedTopTokensCoherenceScore(\n",
    "            name=name,\n",
    "            data=dataset,\n",
    "            text_type=text_type,\n",
    "            word_topic_relatedness=word_topic_relatedness,\n",
    "            specificity_estimation=specificity_estimation,\n",
    "            num_top_words=NUM_TOP_WORDS,\n",
    "            window=WINDOW\n",
    "        )\n",
    "    )"
   ]
  },
  {
   "cell_type": "code",
   "execution_count": null,
   "metadata": {},
   "outputs": [],
   "source": [
    "# Another implementation of top-tokens-based coherence\n",
    "\n",
    "param_combinations_other_top_tokens = list(\n",
    "    product([True, False], ['median', 'mean'], [None, 1e-7])\n",
    ")\n",
    "\n",
    "if len(cooc_values) > 0:  # with pre-computed coocs\n",
    "    for param_combination in param_combinations_other_top_tokens:\n",
    "        (kernel,\n",
    "         average,\n",
    "         active_topic_threshold) = param_combination\n",
    "\n",
    "        name = (\n",
    "            f'top_tokens_coherence_other_implementation_score'\n",
    "            f'__ker_{kernel}'\n",
    "            f'__av_{average}'\n",
    "            f'__att_{active_topic_threshold}'\n",
    "        )\n",
    "\n",
    "        other_topic_scores.append(\n",
    "            SimpleTopTokensCoherenceScore(\n",
    "                name=name,\n",
    "                data=dataset,\n",
    "                cooccurrence_values=cooc_values,\n",
    "                num_top_tokens=20,\n",
    "                kernel=kernel,\n",
    "                average=average,\n",
    "                active_topic_threshold=active_topic_threshold,\n",
    "            )\n",
    "        )"
   ]
  },
  {
   "cell_type": "code",
   "execution_count": null,
   "metadata": {},
   "outputs": [],
   "source": [
    "# Default scores in Topic Bank\n",
    "\n",
    "other_scores = [\n",
    "    SparsityPhiScore(\n",
    "        name='sparsity_phi_score'\n",
    "    ),\n",
    "    SparsityThetaScore(\n",
    "        name='sparsity_theta_score'\n",
    "    ),\n",
    "]"
   ]
  },
  {
   "cell_type": "markdown",
   "metadata": {},
   "source": [
    "## Bank Creation"
   ]
  },
  {
   "cell_type": "code",
   "execution_count": null,
   "metadata": {},
   "outputs": [],
   "source": [
    "# Default train func\n",
    "\n",
    "train_funcs = default_train_func"
   ]
  },
  {
   "cell_type": "code",
   "execution_count": null,
   "metadata": {},
   "outputs": [],
   "source": [
    "# TODO: use Holdout Perplexity as Stop score\n",
    "\n",
    "optimizer = TopicBankMethod(\n",
    "    data = dataset,\n",
    "    min_df_rate = 0.025,\n",
    "    max_df_rate = 0.8,\n",
    "    \n",
    "    main_topic_score = main_topic_score,\n",
    "    other_topic_scores = other_topic_scores,\n",
    "    other_scores = other_scores,\n",
    "    \n",
    "    max_num_models = 5,\n",
    "    one_model_num_topics = 5,\n",
    "    num_fit_iterations = 2,\n",
    "    topic_score_threshold_percentile = 90,\n",
    "    \n",
    "    train_funcs = train_funcs,\n",
    ")"
   ]
  },
  {
   "cell_type": "markdown",
   "metadata": {},
   "source": [
    "Fulfilling the search:"
   ]
  },
  {
   "cell_type": "code",
   "execution_count": null,
   "metadata": {},
   "outputs": [],
   "source": [
    "%%time\n",
    "\n",
    "optimizer.search_for_optimum(dataset)"
   ]
  },
  {
   "cell_type": "code",
   "execution_count": null,
   "metadata": {},
   "outputs": [],
   "source": [
    "! ls $optimizer._topic_bank._path"
   ]
  },
  {
   "cell_type": "markdown",
   "metadata": {},
   "source": [
    "## Appendix. Making vocab.txt for Computing Coocs"
   ]
  },
  {
   "cell_type": "code",
   "execution_count": null,
   "metadata": {},
   "outputs": [
    {
     "name": "stderr",
     "output_type": "stream",
     "text": [
      "/home/vasiliyalekseev/miniconda/lib/python3.7/site-packages/topicnet/cooking_machine/dataset.py:371: UserWarning: Attempted to use batches for different dataset.Overwriting batches in data/postnauka__dataset__natural_order_batches\n",
      "  warnings.warn(W_DIFF_BATCHES_1 + W_DIFF_BATCHES_2.format(batch_vectorizer_path))\n"
     ]
    }
   ],
   "source": [
    "dataset._cached_dict = None  # TODO: bug in TopicNet\n",
    "\n",
    "dictionary = dataset.get_dictionary()\n",
    "dictionary.filter(min_df_rate=0.025, max_df_rate=0.8)\n",
    "\n",
    "dictionary_file_path = os.path.join(\n",
    "    DATA_FOLDER_PATH,\n",
    "    'dict.dict',\n",
    ")\n",
    "\n",
    "dictionary.save_text(dictionary_file_path)"
   ]
  },
  {
   "cell_type": "code",
   "execution_count": null,
   "metadata": {},
   "outputs": [],
   "source": [
    "lines = open(dictionary_file_path, 'r').readlines()"
   ]
  },
  {
   "cell_type": "code",
   "execution_count": null,
   "metadata": {},
   "outputs": [
    {
     "data": {
      "text/plain": [
       "2516"
      ]
     },
     "execution_count": null,
     "metadata": {},
     "output_type": "execute_result"
    }
   ],
   "source": [
    "len(lines)"
   ]
  },
  {
   "cell_type": "code",
   "execution_count": null,
   "metadata": {},
   "outputs": [
    {
     "data": {
      "text/plain": [
       "['name: 1f56d8b1-1e68-42a4-b975-9713b1546b85 num_items: 3446\\n',\n",
       " 'token, class_id, token_value, token_tf, token_df\\n',\n",
       " 'политический, @text, 0.0012545293429866433, 2802.0, 649.0\\n']"
      ]
     },
     "execution_count": null,
     "metadata": {},
     "output_type": "execute_result"
    }
   ],
   "source": [
    "lines[:3]"
   ]
  },
  {
   "cell_type": "code",
   "execution_count": null,
   "metadata": {},
   "outputs": [
    {
     "data": {
      "text/plain": [
       "['построить, @text, 0.0003604197409003973, 805.0, 516.0\\n',\n",
       " 'ничто, @text, 0.0006035351543687284, 1348.0, 782.0\\n',\n",
       " 'различать, @text, 0.00010655888036126271, 238.0, 185.0\\n']"
      ]
     },
     "execution_count": null,
     "metadata": {},
     "output_type": "execute_result"
    }
   ],
   "source": [
    "lines[-3:]"
   ]
  },
  {
   "cell_type": "code",
   "execution_count": null,
   "metadata": {},
   "outputs": [],
   "source": [
    "vocab_text = ''\n",
    "\n",
    "for line in lines[2:]:\n",
    "    token, modality, _, _, _ = line.strip().split(', ')\n",
    "    vocab_text += f'{token} {modality}\\n'"
   ]
  },
  {
   "cell_type": "code",
   "execution_count": null,
   "metadata": {},
   "outputs": [],
   "source": [
    "vocab_file_path = os.path.join(\n",
    "    DATA_FOLDER_PATH,\n",
    "    'postnauka__vocab.txt',\n",
    ")"
   ]
  },
  {
   "cell_type": "code",
   "execution_count": null,
   "metadata": {},
   "outputs": [],
   "source": [
    "with open(vocab_file_path, 'w') as f:\n",
    "    f.write(vocab_text)"
   ]
  }
 ],
 "metadata": {
  "kernelspec": {
   "display_name": "Python 3",
   "language": "python",
   "name": "python3"
  },
  "language_info": {
   "codemirror_mode": {
    "name": "ipython",
    "version": 3
   },
   "file_extension": ".py",
   "mimetype": "text/x-python",
   "name": "python",
   "nbconvert_exporter": "python",
   "pygments_lexer": "ipython3",
   "version": "3.7.6"
  }
 },
 "nbformat": 4,
 "nbformat_minor": 2
}
